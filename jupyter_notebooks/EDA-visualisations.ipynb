{
  "cells": [
    {
      "cell_type": "markdown",
      "metadata": {
        "id": "0aStgWSO0E0E"
      },
      "source": [
        "# **Exploratory Data Analysis**"
      ]
    },
    {
      "cell_type": "markdown",
      "metadata": {
        "id": "1eLEkw5O0ECa"
      },
      "source": [
        "## Objectives\n",
        "\n",
        "* The primary objective of this analysis is to explore and visualise air pollution trends across regions and cities in the United States from 2000–2016. The cleaned dataset (analysis.csv) provides an opportunity to uncover insights that are both descriptive and diagnostic.\n",
        "\n",
        "## Inputs\n",
        "\n",
        "* Cleaned data - analysis.csv\n",
        "\n",
        "## Outputs\n",
        "\n",
        "- 1. Top 10 Most Polluted Cities\n",
        "- 2. Top 10 Cleanest Cities\n",
        "- 3. Top regions Treemap\n",
        "- 4. Number of Measurements per State (Top 10)\n",
        "- 5. Average NO2 AQI by State (Top 5)\n",
        "- 6. Highest Recorded O3 AQI\n",
        "- 7. Correlation Between Pollutant Means\n",
        "- 8. Average AQI by year for NO2, 03, SO2, CO\n",
        "- 9. NO2 AQI vs CO AQI for Top 5 States\n",
        "- 10. Median AQI for NO2, O3, SO2, and CO in Top 5 States\n",
        "- 11. City Distribution with Region Filter\n",
        "- 12. Minimum and Maximun Pollution by Region\n",
        "\n",
        "## Scope\n",
        "\n",
        "- This analysis focuses on comparisons between regions and cities rather than individual-level records.\n",
        "\n",
        "- Uses simple descriptive methods (averages, counts, ranges) supported by bar charts, boxplots, and heatmaps.\n",
        "\n",
        "- Where categories are too many to view clearly, filtering or grouping has been applied to make the results easier to interpret.\n",
        "\n",
        "- The analysis is exploratory in nature, providing direction for future work rather than final conclusions.. \n",
        "\n"
      ]
    },
    {
      "cell_type": "code",
      "execution_count": 1,
      "metadata": {
        "id": "wZfF_j-Bz3i4",
        "outputId": "66943449-1436-4c3d-85c7-b85f9f78349b"
      },
      "outputs": [
        {
          "data": {
            "text/plain": [
              "'c:\\\\Users\\\\slych\\\\air-quality-dashboard\\\\jupyter_notebooks'"
            ]
          },
          "execution_count": 1,
          "metadata": {},
          "output_type": "execute_result"
        }
      ],
      "source": [
        "# Change working directory current folder to parent folder\n",
        "\n",
        "import os\n",
        "current_dir = os.getcwd()\n",
        "current_dir"
      ]
    },
    {
      "cell_type": "code",
      "execution_count": 2,
      "metadata": {
        "id": "TwHsQRWjz3i9",
        "outputId": "86849db3-cd2f-4cc5-ebb8-2d0caafa1a2c"
      },
      "outputs": [
        {
          "name": "stdout",
          "output_type": "stream",
          "text": [
            "You set a new current directory\n"
          ]
        }
      ],
      "source": [
        "#Make parent of current directory the new current directory\n",
        "\n",
        "os.chdir(os.path.dirname(current_dir))\n",
        "print(\"You set a new current directory\")"
      ]
    },
    {
      "cell_type": "markdown",
      "metadata": {
        "id": "M_xPk_Ijz3i-"
      },
      "source": [
        "Confirm the new current directory"
      ]
    },
    {
      "cell_type": "code",
      "execution_count": 3,
      "metadata": {
        "id": "vz3S-_kjz3jA",
        "outputId": "00b79ae4-75d0-4a96-d193-ac9ef9847ea2"
      },
      "outputs": [
        {
          "data": {
            "text/plain": [
              "'c:\\\\Users\\\\slych\\\\air-quality-dashboard'"
            ]
          },
          "execution_count": 3,
          "metadata": {},
          "output_type": "execute_result"
        }
      ],
      "source": [
        "current_dir = os.getcwd()\n",
        "current_dir"
      ]
    },
    {
      "cell_type": "markdown",
      "metadata": {},
      "source": [
        "## Section 1: Setup & Data Loading"
      ]
    },
    {
      "cell_type": "code",
      "execution_count": 4,
      "metadata": {},
      "outputs": [
        {
          "name": "stderr",
          "output_type": "stream",
          "text": [
            "\n",
            "[notice] A new release of pip is available: 24.3.1 -> 25.2\n",
            "[notice] To update, run: python.exe -m pip install --upgrade pip\n"
          ]
        },
        {
          "name": "stdout",
          "output_type": "stream",
          "text": [
            "Requirement already satisfied: matplotlib in c:\\users\\slych\\air-quality-dashboard\\.venv\\lib\\site-packages (3.10.5)\n",
            "Requirement already satisfied: seaborn in c:\\users\\slych\\air-quality-dashboard\\.venv\\lib\\site-packages (0.13.2)\n",
            "Requirement already satisfied: plotly in c:\\users\\slych\\air-quality-dashboard\\.venv\\lib\\site-packages (5.17.0)\n",
            "Requirement already satisfied: contourpy>=1.0.1 in c:\\users\\slych\\air-quality-dashboard\\.venv\\lib\\site-packages (from matplotlib) (1.3.3)\n",
            "Requirement already satisfied: cycler>=0.10 in c:\\users\\slych\\air-quality-dashboard\\.venv\\lib\\site-packages (from matplotlib) (0.12.1)\n",
            "Requirement already satisfied: fonttools>=4.22.0 in c:\\users\\slych\\air-quality-dashboard\\.venv\\lib\\site-packages (from matplotlib) (4.59.1)\n",
            "Requirement already satisfied: kiwisolver>=1.3.1 in c:\\users\\slych\\air-quality-dashboard\\.venv\\lib\\site-packages (from matplotlib) (1.4.9)\n",
            "Requirement already satisfied: numpy>=1.23 in c:\\users\\slych\\air-quality-dashboard\\.venv\\lib\\site-packages (from matplotlib) (2.2.6)\n",
            "Requirement already satisfied: packaging>=20.0 in c:\\users\\slych\\air-quality-dashboard\\.venv\\lib\\site-packages (from matplotlib) (24.2)\n",
            "Requirement already satisfied: pillow>=8 in c:\\users\\slych\\air-quality-dashboard\\.venv\\lib\\site-packages (from matplotlib) (10.0.1)\n",
            "Requirement already satisfied: pyparsing>=2.3.1 in c:\\users\\slych\\air-quality-dashboard\\.venv\\lib\\site-packages (from matplotlib) (3.2.3)\n",
            "Requirement already satisfied: python-dateutil>=2.7 in c:\\users\\slych\\air-quality-dashboard\\.venv\\lib\\site-packages (from matplotlib) (2.9.0.post0)\n",
            "Requirement already satisfied: pandas>=1.2 in c:\\users\\slych\\air-quality-dashboard\\.venv\\lib\\site-packages (from seaborn) (2.3.1)\n",
            "Requirement already satisfied: tenacity>=6.2.0 in c:\\users\\slych\\air-quality-dashboard\\.venv\\lib\\site-packages (from plotly) (9.1.2)\n",
            "Requirement already satisfied: pytz>=2020.1 in c:\\users\\slych\\air-quality-dashboard\\.venv\\lib\\site-packages (from pandas>=1.2->seaborn) (2025.2)\n",
            "Requirement already satisfied: tzdata>=2022.7 in c:\\users\\slych\\air-quality-dashboard\\.venv\\lib\\site-packages (from pandas>=1.2->seaborn) (2025.2)\n",
            "Requirement already satisfied: six>=1.5 in c:\\users\\slych\\air-quality-dashboard\\.venv\\lib\\site-packages (from python-dateutil>=2.7->matplotlib) (1.17.0)\n",
            "Note: you may need to restart the kernel to use updated packages.\n"
          ]
        }
      ],
      "source": [
        "%pip install matplotlib seaborn plotly\n",
        "# Import necessary libraries\n",
        "\n",
        "import pandas as pd\n",
        "import matplotlib.pyplot as plt\n",
        "import seaborn as sns\n",
        "import plotly.express as px"
      ]
    },
    {
      "cell_type": "markdown",
      "metadata": {
        "id": "ZY3l0-AxO93d"
      },
      "source": [
        "---"
      ]
    },
    {
      "cell_type": "code",
      "execution_count": 5,
      "metadata": {},
      "outputs": [],
      "source": [
        "# load clean dataset for analysis\n",
        "\n",
        "csv_path = \"data/analysis.csv\"\n",
        "df = pd.read_csv(csv_path)\n"
      ]
    },
    {
      "cell_type": "code",
      "execution_count": 6,
      "metadata": {},
      "outputs": [],
      "source": [
        "# Standardize column names\n",
        "\n",
        "df.columns = df.columns.str.lower().str.strip()"
      ]
    },
    {
      "cell_type": "code",
      "execution_count": 7,
      "metadata": {},
      "outputs": [],
      "source": [
        "# Extract year & month from date column (if exists)\n",
        "\n",
        "if 'date_local' in df.columns:\n",
        "    df['date_local'] = pd.to_datetime(df['date_local'], errors='coerce')\n",
        "    df['year'] = df['date_local'].dt.year\n",
        "    df['month'] = df['date_local'].dt.month"
      ]
    },
    {
      "cell_type": "code",
      "execution_count": 8,
      "metadata": {},
      "outputs": [],
      "source": [
        "# Create region & city columns if missing\n",
        "\n",
        "if 'state' in df.columns and 'county' in df.columns:\n",
        "    df['region'] = df['state']\n",
        "if 'city' not in df.columns and 'county' in df.columns:\n",
        "    df['city'] = df['county']"
      ]
    },
    {
      "cell_type": "code",
      "execution_count": 9,
      "metadata": {},
      "outputs": [
        {
          "name": "stdout",
          "output_type": "stream",
          "text": [
            "Pollutants detected: ['state code', 'county code', 'no2 mean', 'no2 1st max value', 'no2 1st max hour', 'no2 aqi', 'o3 mean', 'o3 1st max value', 'o3 1st max hour', 'o3 aqi', 'so2 mean', 'so2 1st max value', 'so2 1st max hour', 'so2 aqi', 'co mean', 'co 1st max value', 'co 1st max hour', 'co aqi']\n"
          ]
        }
      ],
      "source": [
        "# Identify numeric pollution columns\n",
        "\n",
        "pollutants = [col for col in df.columns if any(x in col for x in ['pm', 'o3', 'no2', 'so2', 'co']) and df[col].dtype in ['float64', 'int64']]\n",
        "print(\"Pollutants detected:\", pollutants)"
      ]
    },
    {
      "cell_type": "markdown",
      "metadata": {
        "id": "uFQo3ycuO-v6"
      },
      "source": [
        "## Section 2: Graphical Insights"
      ]
    },
    {
      "cell_type": "markdown",
      "metadata": {},
      "source": [
        "#### 1. Top 10 Most Polluted Cities\n",
        "- A horizontal bar chart shows the top 10 cities with the highest recorded maximum pollutant values."
      ]
    },
    {
      "cell_type": "code",
      "execution_count": 10,
      "metadata": {},
      "outputs": [
        {
          "data": {
            "image/png": "[encoded data removed]",
            "text/plain": [
              "<Figure size 800x600 with 1 Axes>"
            ]
          },
          "metadata": {},
          "output_type": "display_data"
        }
      ],
      "source": [
        "top10_max = df.groupby('city')[pollutants[0]].max().sort_values(ascending=False).head(10)\n",
        "top10_max.plot(kind='barh', color='red', figsize=(8,6))\n",
        "plt.title(f\"Top 10 Most Polluted Cities by Max {pollutants[0].upper()}\")\n",
        "plt.xlabel(\"Max Value\")\n",
        "plt.gca().invert_yaxis()\n",
        "plt.tight_layout()\n",
        "plt.show()"
      ]
    },
    {
      "cell_type": "markdown",
      "metadata": {},
      "source": [
        "The horizontal bar chart above highlights the 10 cities with the highest recorded pollution levels, pointing to urban pollution hotspots."
      ]
    },
    {
      "cell_type": "markdown",
      "metadata": {},
      "source": [
        "#### 2. Top 10 Cleanest Cities\n",
        "- A horizontal bar chart of the top 10 cities with the lowest minimum pollutant levels."
      ]
    },
    {
      "cell_type": "code",
      "execution_count": 11,
      "metadata": {},
      "outputs": [
        {
          "data": {
            "image/png": "[encoded data removed]",
            "text/plain": [
              "<Figure size 800x600 with 1 Axes>"
            ]
          },
          "metadata": {},
          "output_type": "display_data"
        }
      ],
      "source": [
        "top10_min = df.groupby('city')[pollutants[0]].min().sort_values(ascending=True).head(10)\n",
        "top10_min.plot(kind='barh', color='green', figsize=(8,6))\n",
        "plt.title(f\"Top 10 Cleanest Cities by Min {pollutants[0].upper()}\")\n",
        "plt.xlabel(\"Min Value\")\n",
        "plt.gca().invert_yaxis()\n",
        "plt.tight_layout()\n",
        "plt.show()"
      ]
    },
    {
      "cell_type": "markdown",
      "metadata": {},
      "source": [
        "The horizontal bar chart above displays the 10 cleanest cities, providing contrast to highly polluted locations."
      ]
    },
    {
      "cell_type": "markdown",
      "metadata": {},
      "source": [
        "#### 3. Top regions Treemap\n",
        "- A treemap visualization of the top 15 regions based on the number of measurements."
      ]
    },
    {
      "cell_type": "code",
      "execution_count": 12,
      "metadata": {},
      "outputs": [
        {
          "name": "stdout",
          "output_type": "stream",
          "text": [
            "Requirement already satisfied: squarify in c:\\users\\slych\\air-quality-dashboard\\.venv\\lib\\site-packages (0.4.4)\n",
            "Note: you may need to restart the kernel to use updated packages.\n"
          ]
        },
        {
          "name": "stderr",
          "output_type": "stream",
          "text": [
            "\n",
            "[notice] A new release of pip is available: 24.3.1 -> 25.2\n",
            "[notice] To update, run: python.exe -m pip install --upgrade pip\n"
          ]
        }
      ],
      "source": [
        "%pip install squarify\n",
        "import squarify"
      ]
    },
    {
      "cell_type": "code",
      "execution_count": 13,
      "metadata": {},
      "outputs": [
        {
          "data": {
            "image/png": "[encoded data removed]",
            "text/plain": [
              "<Figure size 1200x800 with 1 Axes>"
            ]
          },
          "metadata": {},
          "output_type": "display_data"
        }
      ],
      "source": [
        "region_counts = df['region'].value_counts().head(15)\n",
        "\n",
        "plt.figure(figsize=(12, 8)) \n",
        "squarify.plot(\n",
        "    sizes=region_counts.values,\n",
        "    label=region_counts.index,\n",
        "    alpha=.8\n",
        ")\n",
        "plt.axis('off')\n",
        "plt.title(\"Top Regions Treemap\", fontsize=16)  \n",
        "plt.show()"
      ]
    },
    {
      "cell_type": "markdown",
      "metadata": {},
      "source": [
        "The treemap visualizes where measurements are most concentrated, showing monitoring intensity across regions"
      ]
    },
    {
      "cell_type": "markdown",
      "metadata": {},
      "source": [
        "#### 4. Number of Measurements per State (Top 10)\n",
        "- A bar chart of the top 10 states by total measurement counts."
      ]
    },
    {
      "cell_type": "code",
      "execution_count": 14,
      "metadata": {},
      "outputs": [
        {
          "data": {
            "image/png": "[encoded data removed]",
            "text/plain": [
              "<Figure size 1000x600 with 1 Axes>"
            ]
          },
          "metadata": {},
          "output_type": "display_data"
        }
      ],
      "source": [
        "# Count measurements by state\n",
        "count_state = df['state'].value_counts().head(10)\n",
        "\n",
        "# Plot\n",
        "plt.figure(figsize=(10, 6))\n",
        "count_state.plot(kind='bar', color='teal')\n",
        "plt.title('Top 10 States by Number of Measurements')\n",
        "plt.xlabel('State')\n",
        "plt.ylabel('Number of Measurements')\n",
        "plt.xticks(rotation=45)\n",
        "plt.tight_layout()\n",
        "plt.show()"
      ]
    },
    {
      "cell_type": "markdown",
      "metadata": {},
      "source": [
        "The bar chart above shows the top 10 states by the number of air quality measurements, indicating where data collection efforts have been most concentrated."
      ]
    },
    {
      "cell_type": "markdown",
      "metadata": {},
      "source": [
        "#### 5. Average NO2 AQI by State (Top 5)\n",
        "- A bar chart showing the top 5 states with the highest average NO2 AQI values."
      ]
    },
    {
      "cell_type": "code",
      "execution_count": 15,
      "metadata": {},
      "outputs": [
        {
          "data": {
            "image/png": "[encoded data removed]",
            "text/plain": [
              "<Figure size 800x500 with 1 Axes>"
            ]
          },
          "metadata": {},
          "output_type": "display_data"
        }
      ],
      "source": [
        "# Compute average NO2 AQI by state\n",
        "avg_no2 = df.groupby('state')['no2 aqi'].mean().sort_values(ascending=False).head(5)\n",
        "\n",
        "# Plot\n",
        "plt.figure(figsize=(8, 5))\n",
        "avg_no2.plot(kind='bar', color='skyblue')\n",
        "plt.title('Top 5 States by Average NO2 AQI')\n",
        "plt.xlabel('State')\n",
        "plt.ylabel('Average NO2 AQI')\n",
        "plt.xticks(rotation=45)\n",
        "plt.tight_layout()\n",
        "plt.show()"
      ]
    },
    {
      "cell_type": "markdown",
      "metadata": {},
      "source": [
        "The bar chart above displays the top 5 states with the highest average NO2 AQI levels, providing a clear visual comparison to identify regions with elevated nitrogen dioxide pollution"
      ]
    },
    {
      "cell_type": "markdown",
      "metadata": {},
      "source": [
        "#### 6. Highest Recorded O3 AQI\n",
        "- A single-bar chart highlighting the maximum O3 AQI recorded, along with the location and date"
      ]
    },
    {
      "cell_type": "code",
      "execution_count": 16,
      "metadata": {},
      "outputs": [],
      "source": [
        "# Find the highest O3 AQI\n",
        "max_o3 = df['o3 aqi'].max()\n",
        "max_o3_row = df[df['o3 aqi'] == max_o3].iloc[0]\n",
        "label = f\"{max_o3_row['city']}, {max_o3_row['state']} on {max_o3_row['date local']}\""
      ]
    },
    {
      "cell_type": "code",
      "execution_count": 17,
      "metadata": {},
      "outputs": [
        {
          "data": {
            "image/png": "[encoded data removed]",
            "text/plain": [
              "<Figure size 800x600 with 1 Axes>"
            ]
          },
          "metadata": {},
          "output_type": "display_data"
        }
      ],
      "source": [
        "# Plot\n",
        "plt.figure(figsize=(8, 6))\n",
        "plt.bar('Max O3 AQI', max_o3, color='orange')\n",
        "plt.title(f'Highest Recorded O3 AQI: {max_o3}')\n",
        "plt.ylabel('O3 AQI')\n",
        "plt.text(0, max_o3 + 5, label, ha='center')\n",
        "plt.tight_layout()\n",
        "plt.show()"
      ]
    },
    {
      "cell_type": "markdown",
      "metadata": {},
      "source": [
        "This single-bar chart above emphasises the maximum O3 AQI value recorded, serving as a visual marker for the peak ozone pollution event in the dataset."
      ]
    },
    {
      "cell_type": "markdown",
      "metadata": {},
      "source": [
        "#### 7. Correlation Between Pollutant Means\n",
        "- A heatmap displaying correlations between average pollutant values (NO2, O3, SO2, CO)"
      ]
    },
    {
      "cell_type": "code",
      "execution_count": 18,
      "metadata": {},
      "outputs": [
        {
          "data": {
            "image/png": "[encoded data removed]",
            "text/plain": [
              "<Figure size 700x500 with 2 Axes>"
            ]
          },
          "metadata": {},
          "output_type": "display_data"
        }
      ],
      "source": [
        "# Select relevant columns (use lowercase column names)\n",
        "pollutant_means = df[['no2 mean', 'o3 mean', 'so2 mean', 'co mean']]\n",
        "\n",
        "# Compute correlation matrix\n",
        "corr_matrix = pollutant_means.corr()\n",
        "\n",
        "# Plot heatmap\n",
        "plt.figure(figsize=(7, 5))\n",
        "sns.heatmap(corr_matrix, annot=True, cmap='coolwarm', vmin=-1, vmax=1)\n",
        "plt.title('Correlation Matrix of Pollutant Means')\n",
        "plt.tight_layout()\n",
        "plt.show()"
      ]
    },
    {
      "cell_type": "markdown",
      "metadata": {},
      "source": [
        "The heatmap above visualizes the correlations between average levels of NO2, O3, SO2, and CO, using color gradients to reveal positive and negative relationships among pollutants. Strong correlations (e.g., NO2 ↔ CO). Weaker correlations highlight pollutants with independent patterns."
      ]
    },
    {
      "cell_type": "markdown",
      "metadata": {},
      "source": [
        "#### 8. Average AQI by year for NO2, 03, SO2, CO\n",
        "- A multi-line chart tracking yearly average AQI levels for the four pollutants."
      ]
    },
    {
      "cell_type": "code",
      "execution_count": 27,
      "metadata": {},
      "outputs": [
        {
          "ename": "KeyError",
          "evalue": "'year'",
          "output_type": "error",
          "traceback": [
            "\u001b[31m---------------------------------------------------------------------------\u001b[39m",
            "\u001b[31mKeyError\u001b[39m                                  Traceback (most recent call last)",
            "\u001b[36mCell\u001b[39m\u001b[36m \u001b[39m\u001b[32mIn[27]\u001b[39m\u001b[32m, line 8\u001b[39m\n\u001b[32m      4\u001b[39m \tdf[\u001b[33m'\u001b[39m\u001b[33myear\u001b[39m\u001b[33m'\u001b[39m] = df[\u001b[33m'\u001b[39m\u001b[33mdate_local\u001b[39m\u001b[33m'\u001b[39m].dt.year\n\u001b[32m      6\u001b[39m \u001b[38;5;66;03m# Compute average AQI for each pollutant by year\u001b[39;00m\n\u001b[32m----> \u001b[39m\u001b[32m8\u001b[39m avg_no2 = \u001b[43mdf\u001b[49m\u001b[43m.\u001b[49m\u001b[43mgroupby\u001b[49m\u001b[43m(\u001b[49m\u001b[33;43m'\u001b[39;49m\u001b[33;43myear\u001b[39;49m\u001b[33;43m'\u001b[39;49m\u001b[43m)\u001b[49m[\u001b[33m'\u001b[39m\u001b[33mno2 aqi\u001b[39m\u001b[33m'\u001b[39m].mean().sort_index()\n\u001b[32m      9\u001b[39m avg_o3 = df.groupby(\u001b[33m'\u001b[39m\u001b[33myear\u001b[39m\u001b[33m'\u001b[39m)[\u001b[33m'\u001b[39m\u001b[33mo3 aqi\u001b[39m\u001b[33m'\u001b[39m].mean().sort_index()\n\u001b[32m     10\u001b[39m avg_so2 = df.groupby(\u001b[33m'\u001b[39m\u001b[33myear\u001b[39m\u001b[33m'\u001b[39m)[\u001b[33m'\u001b[39m\u001b[33mso2 aqi\u001b[39m\u001b[33m'\u001b[39m].mean().sort_index()\n",
            "\u001b[36mFile \u001b[39m\u001b[32mc:\\Users\\slych\\air-quality-dashboard\\.venv\\Lib\\site-packages\\pandas\\core\\frame.py:9190\u001b[39m, in \u001b[36mDataFrame.groupby\u001b[39m\u001b[34m(self, by, axis, level, as_index, sort, group_keys, observed, dropna)\u001b[39m\n\u001b[32m   9187\u001b[39m \u001b[38;5;28;01mif\u001b[39;00m level \u001b[38;5;129;01mis\u001b[39;00m \u001b[38;5;28;01mNone\u001b[39;00m \u001b[38;5;129;01mand\u001b[39;00m by \u001b[38;5;129;01mis\u001b[39;00m \u001b[38;5;28;01mNone\u001b[39;00m:\n\u001b[32m   9188\u001b[39m     \u001b[38;5;28;01mraise\u001b[39;00m \u001b[38;5;167;01mTypeError\u001b[39;00m(\u001b[33m\"\u001b[39m\u001b[33mYou have to supply one of \u001b[39m\u001b[33m'\u001b[39m\u001b[33mby\u001b[39m\u001b[33m'\u001b[39m\u001b[33m and \u001b[39m\u001b[33m'\u001b[39m\u001b[33mlevel\u001b[39m\u001b[33m'\u001b[39m\u001b[33m\"\u001b[39m)\n\u001b[32m-> \u001b[39m\u001b[32m9190\u001b[39m \u001b[38;5;28;01mreturn\u001b[39;00m \u001b[43mDataFrameGroupBy\u001b[49m\u001b[43m(\u001b[49m\n\u001b[32m   9191\u001b[39m \u001b[43m    \u001b[49m\u001b[43mobj\u001b[49m\u001b[43m=\u001b[49m\u001b[38;5;28;43mself\u001b[39;49m\u001b[43m,\u001b[49m\n\u001b[32m   9192\u001b[39m \u001b[43m    \u001b[49m\u001b[43mkeys\u001b[49m\u001b[43m=\u001b[49m\u001b[43mby\u001b[49m\u001b[43m,\u001b[49m\n\u001b[32m   9193\u001b[39m \u001b[43m    \u001b[49m\u001b[43maxis\u001b[49m\u001b[43m=\u001b[49m\u001b[43maxis\u001b[49m\u001b[43m,\u001b[49m\n\u001b[32m   9194\u001b[39m \u001b[43m    \u001b[49m\u001b[43mlevel\u001b[49m\u001b[43m=\u001b[49m\u001b[43mlevel\u001b[49m\u001b[43m,\u001b[49m\n\u001b[32m   9195\u001b[39m \u001b[43m    \u001b[49m\u001b[43mas_index\u001b[49m\u001b[43m=\u001b[49m\u001b[43mas_index\u001b[49m\u001b[43m,\u001b[49m\n\u001b[32m   9196\u001b[39m \u001b[43m    \u001b[49m\u001b[43msort\u001b[49m\u001b[43m=\u001b[49m\u001b[43msort\u001b[49m\u001b[43m,\u001b[49m\n\u001b[32m   9197\u001b[39m \u001b[43m    \u001b[49m\u001b[43mgroup_keys\u001b[49m\u001b[43m=\u001b[49m\u001b[43mgroup_keys\u001b[49m\u001b[43m,\u001b[49m\n\u001b[32m   9198\u001b[39m \u001b[43m    \u001b[49m\u001b[43mobserved\u001b[49m\u001b[43m=\u001b[49m\u001b[43mobserved\u001b[49m\u001b[43m,\u001b[49m\n\u001b[32m   9199\u001b[39m \u001b[43m    \u001b[49m\u001b[43mdropna\u001b[49m\u001b[43m=\u001b[49m\u001b[43mdropna\u001b[49m\u001b[43m,\u001b[49m\n\u001b[32m   9200\u001b[39m \u001b[43m\u001b[49m\u001b[43m)\u001b[49m\n",
            "\u001b[36mFile \u001b[39m\u001b[32mc:\\Users\\slych\\air-quality-dashboard\\.venv\\Lib\\site-packages\\pandas\\core\\groupby\\groupby.py:1330\u001b[39m, in \u001b[36mGroupBy.__init__\u001b[39m\u001b[34m(self, obj, keys, axis, level, grouper, exclusions, selection, as_index, sort, group_keys, observed, dropna)\u001b[39m\n\u001b[32m   1327\u001b[39m \u001b[38;5;28mself\u001b[39m.dropna = dropna\n\u001b[32m   1329\u001b[39m \u001b[38;5;28;01mif\u001b[39;00m grouper \u001b[38;5;129;01mis\u001b[39;00m \u001b[38;5;28;01mNone\u001b[39;00m:\n\u001b[32m-> \u001b[39m\u001b[32m1330\u001b[39m     grouper, exclusions, obj = \u001b[43mget_grouper\u001b[49m\u001b[43m(\u001b[49m\n\u001b[32m   1331\u001b[39m \u001b[43m        \u001b[49m\u001b[43mobj\u001b[49m\u001b[43m,\u001b[49m\n\u001b[32m   1332\u001b[39m \u001b[43m        \u001b[49m\u001b[43mkeys\u001b[49m\u001b[43m,\u001b[49m\n\u001b[32m   1333\u001b[39m \u001b[43m        \u001b[49m\u001b[43maxis\u001b[49m\u001b[43m=\u001b[49m\u001b[43maxis\u001b[49m\u001b[43m,\u001b[49m\n\u001b[32m   1334\u001b[39m \u001b[43m        \u001b[49m\u001b[43mlevel\u001b[49m\u001b[43m=\u001b[49m\u001b[43mlevel\u001b[49m\u001b[43m,\u001b[49m\n\u001b[32m   1335\u001b[39m \u001b[43m        \u001b[49m\u001b[43msort\u001b[49m\u001b[43m=\u001b[49m\u001b[43msort\u001b[49m\u001b[43m,\u001b[49m\n\u001b[32m   1336\u001b[39m \u001b[43m        \u001b[49m\u001b[43mobserved\u001b[49m\u001b[43m=\u001b[49m\u001b[38;5;28;43;01mFalse\u001b[39;49;00m\u001b[43m \u001b[49m\u001b[38;5;28;43;01mif\u001b[39;49;00m\u001b[43m \u001b[49m\u001b[43mobserved\u001b[49m\u001b[43m \u001b[49m\u001b[38;5;129;43;01mis\u001b[39;49;00m\u001b[43m \u001b[49m\u001b[43mlib\u001b[49m\u001b[43m.\u001b[49m\u001b[43mno_default\u001b[49m\u001b[43m \u001b[49m\u001b[38;5;28;43;01melse\u001b[39;49;00m\u001b[43m \u001b[49m\u001b[43mobserved\u001b[49m\u001b[43m,\u001b[49m\n\u001b[32m   1337\u001b[39m \u001b[43m        \u001b[49m\u001b[43mdropna\u001b[49m\u001b[43m=\u001b[49m\u001b[38;5;28;43mself\u001b[39;49m\u001b[43m.\u001b[49m\u001b[43mdropna\u001b[49m\u001b[43m,\u001b[49m\n\u001b[32m   1338\u001b[39m \u001b[43m    \u001b[49m\u001b[43m)\u001b[49m\n\u001b[32m   1340\u001b[39m \u001b[38;5;28;01mif\u001b[39;00m observed \u001b[38;5;129;01mis\u001b[39;00m lib.no_default:\n\u001b[32m   1341\u001b[39m     \u001b[38;5;28;01mif\u001b[39;00m \u001b[38;5;28many\u001b[39m(ping._passed_categorical \u001b[38;5;28;01mfor\u001b[39;00m ping \u001b[38;5;129;01min\u001b[39;00m grouper.groupings):\n",
            "\u001b[36mFile \u001b[39m\u001b[32mc:\\Users\\slych\\air-quality-dashboard\\.venv\\Lib\\site-packages\\pandas\\core\\groupby\\grouper.py:1043\u001b[39m, in \u001b[36mget_grouper\u001b[39m\u001b[34m(obj, key, axis, level, sort, observed, validate, dropna)\u001b[39m\n\u001b[32m   1041\u001b[39m         in_axis, level, gpr = \u001b[38;5;28;01mFalse\u001b[39;00m, gpr, \u001b[38;5;28;01mNone\u001b[39;00m\n\u001b[32m   1042\u001b[39m     \u001b[38;5;28;01melse\u001b[39;00m:\n\u001b[32m-> \u001b[39m\u001b[32m1043\u001b[39m         \u001b[38;5;28;01mraise\u001b[39;00m \u001b[38;5;167;01mKeyError\u001b[39;00m(gpr)\n\u001b[32m   1044\u001b[39m \u001b[38;5;28;01melif\u001b[39;00m \u001b[38;5;28misinstance\u001b[39m(gpr, Grouper) \u001b[38;5;129;01mand\u001b[39;00m gpr.key \u001b[38;5;129;01mis\u001b[39;00m \u001b[38;5;129;01mnot\u001b[39;00m \u001b[38;5;28;01mNone\u001b[39;00m:\n\u001b[32m   1045\u001b[39m     \u001b[38;5;66;03m# Add key to exclusions\u001b[39;00m\n\u001b[32m   1046\u001b[39m     exclusions.add(gpr.key)\n",
            "\u001b[31mKeyError\u001b[39m: 'year'"
          ]
        }
      ],
      "source": [
        "# Ensure 'year' column exists\n",
        "if 'year' not in df.columns and 'date_local' in df.columns:\n",
        "\tdf['date_local'] = pd.to_datetime(df['date_local'], errors='coerce')\n",
        "\tdf['year'] = df['date_local'].dt.year\n",
        "\n",
        "# Compute average AQI for each pollutant by year\n",
        "\n",
        "avg_no2 = df.groupby('year')['no2 aqi'].mean().sort_index()\n",
        "avg_o3 = df.groupby('year')['o3 aqi'].mean().sort_index()\n",
        "avg_so2 = df.groupby('year')['so2 aqi'].mean().sort_index()\n",
        "avg_co = df.groupby('year')['co aqi'].mean().sort_index()\n",
        "\n",
        "# Plot\n",
        "plt.figure(figsize=(10, 6))\n",
        "plt.plot(avg_no2.index, avg_no2, marker='o', color='blue', label='NO2 AQI')\n",
        "plt.plot(avg_o3.index, avg_o3, marker='s', color='orange', label='O3 AQI')\n",
        "plt.plot(avg_so2.index, avg_so2, marker='^', color='green', label='SO2 AQI')\n",
        "plt.plot(avg_co.index, avg_co, marker='d', color='purple', label='CO AQI')\n",
        "plt.title('Average AQI by Year for All Pollutants')\n",
        "plt.xlabel('Year')\n",
        "plt.ylabel('Average AQI')\n",
        "plt.legend()\n",
        "plt.grid(True)\n",
        "plt.tight_layout()\n",
        "plt.show()"
      ]
    },
    {
      "cell_type": "markdown",
      "metadata": {},
      "source": [
        "The line chart above illustrates the annual trends in average AQI levels for NO2, O3, SO2, and CO from 2000 to 2016, using distinct colors and markers for each pollutant to ensure clarity. It highlights temporal patterns, such as declines in SO2 and CO AQI, while NO2 and O3 show more variability, aiding in understanding air quality changes over time. SO2 and CO show steady declines, reflecting regulation success. NO2 and O3 fluctuate more, tied to urban and atmospheric processes."
      ]
    },
    {
      "cell_type": "markdown",
      "metadata": {},
      "source": [
        "#### 9. NO2 AQI vs CO AQI for Top 5 States\n",
        "- A scatter plot with trendlines comparing NO2 AQI and CO AQI for the top 5 states by measurement count."
      ]
    },
    {
      "cell_type": "code",
      "execution_count": 22,
      "metadata": {},
      "outputs": [
        {
          "name": "stderr",
          "output_type": "stream",
          "text": [
            "c:\\Users\\slych\\air-quality-dashboard\\.venv\\Lib\\site-packages\\plotly\\express\\_core.py:2065: FutureWarning:\n",
            "\n",
            "When grouping with a length-1 list-like, you will need to pass a length-1 tuple to get_group in a future version of pandas. Pass `(name,)` instead of `name` to silence this warning.\n",
            "\n"
          ]
        },
        {
          "data": {
            "application/vnd.plotly.v1+json": {
              "config": {
                "plotlyServerURL": "https://plot.ly"
              },
              "data": [
                {
                  "customdata": [
                    [
                      "New York",
                      "2001-07-11"
                    ],
                    [
                      "New York",
                      "2014-01-20"
                    ],
                    [
                      "New York",
                      "2009-07-04"
                    ],
                    [
                      "New York",
                      "2002-02-13"
                    ],
                    [
                      "New York",
                      "2013-11-21"
                    ],
                    [
                      "Holtsville",
                      "2002-08-27"
                    ],
                    [
                      "New York",
                      "2014-11-14"
                    ],
                    [
                      "Holtsville",
                      "2001-05-20"
                    ],
                    [
                      "Holtsville",
                      "2000-02-10"
                    ],
                    [
                      "Not in a city",
                      "2011-07-17"
                    ],
                    [
                      "New York",
                      "2001-09-06"
                    ],
                    [
                      "New York",
                      "2001-10-06"
                    ],
                    [
                      "Not in a city",
                      "2011-02-05"
                    ],
                    [
                      "New York",
                      "2004-03-18"
                    ],
                    [
                      "Holtsville",
                      "2010-09-11"
                    ],
                    [
                      "Not in a city",
                      "2010-06-03"
                    ],
                    [
                      "Holtsville",
                      "2008-05-10"
                    ],
                    [
                      "Not in a city",
                      "2011-04-13"
                    ],
                    [
                      "Rochester",
                      "2011-03-18"
                    ],
                    [
                      "Holtsville",
                      "2008-02-02"
                    ],
                    [
                      "Not in a city",
                      "2008-12-19"
                    ],
                    [
                      "New York",
                      "2010-04-18"
                    ],
                    [
                      "Holtsville",
                      "2005-05-27"
                    ],
                    [
                      "New York",
                      "2009-06-15"
                    ],
                    [
                      "Holtsville",
                      "2000-04-14"
                    ],
                    [
                      "New York",
                      "2006-02-24"
                    ],
                    [
                      "New York",
                      "2002-03-24"
                    ],
                    [
                      "New York",
                      "2014-04-24"
                    ],
                    [
                      "Holtsville",
                      "2006-04-06"
                    ],
                    [
                      "New York",
                      "2003-04-23"
                    ],
                    [
                      "Not in a city",
                      "2011-09-15"
                    ],
                    [
                      "Rochester",
                      "2011-02-11"
                    ],
                    [
                      "New York",
                      "2009-08-20"
                    ],
                    [
                      "New York",
                      "2012-03-04"
                    ],
                    [
                      "Holtsville",
                      "2009-02-15"
                    ],
                    [
                      "New York",
                      "2012-12-03"
                    ],
                    [
                      "New York",
                      "2012-11-18"
                    ],
                    [
                      "New York",
                      "2000-10-15"
                    ],
                    [
                      "New York",
                      "2003-05-31"
                    ],
                    [
                      "Holtsville",
                      "2009-10-24"
                    ],
                    [
                      "New York",
                      "2012-06-09"
                    ],
                    [
                      "New York",
                      "2002-06-27"
                    ],
                    [
                      "New York",
                      "2015-10-18"
                    ],
                    [
                      "New York",
                      "2005-09-20"
                    ],
                    [
                      "Not in a city",
                      "2010-07-26"
                    ],
                    [
                      "New York",
                      "2001-02-08"
                    ],
                    [
                      "New York",
                      "2007-10-07"
                    ],
                    [
                      "Not in a city",
                      "2009-06-10"
                    ],
                    [
                      "New York",
                      "2008-05-16"
                    ],
                    [
                      "New York",
                      "2008-12-12"
                    ],
                    [
                      "Holtsville",
                      "2000-08-03"
                    ],
                    [
                      "New York",
                      "2007-05-02"
                    ],
                    [
                      "New York",
                      "2008-03-24"
                    ],
                    [
                      "Not in a city",
                      "2010-06-01"
                    ],
                    [
                      "New York",
                      "2007-09-25"
                    ],
                    [
                      "New York",
                      "2012-11-23"
                    ],
                    [
                      "New York",
                      "2006-11-26"
                    ],
                    [
                      "Holtsville",
                      "2006-10-12"
                    ],
                    [
                      "New York",
                      "2003-08-31"
                    ],
                    [
                      "Holtsville",
                      "2004-12-16"
                    ],
                    [
                      "New York",
                      "2005-03-19"
                    ],
                    [
                      "New York",
                      "2016-03-11"
                    ],
                    [
                      "Holtsville",
                      "2006-09-11"
                    ],
                    [
                      "Holtsville",
                      "2008-05-13"
                    ],
                    [
                      "New York",
                      "2009-03-24"
                    ],
                    [
                      "Not in a city",
                      "2011-09-21"
                    ],
                    [
                      "Holtsville",
                      "2008-04-15"
                    ],
                    [
                      "New York",
                      "2008-02-12"
                    ],
                    [
                      "Holtsville",
                      "2008-10-14"
                    ],
                    [
                      "New York",
                      "2007-02-09"
                    ],
                    [
                      "Not in a city",
                      "2008-10-17"
                    ],
                    [
                      "Holtsville",
                      "2007-10-12"
                    ],
                    [
                      "Holtsville",
                      "2004-07-19"
                    ],
                    [
                      "Not in a city",
                      "2009-01-01"
                    ],
                    [
                      "Holtsville",
                      "2001-07-18"
                    ],
                    [
                      "New York",
                      "2007-03-18"
                    ],
                    [
                      "New York",
                      "2007-04-30"
                    ],
                    [
                      "New York",
                      "2008-05-08"
                    ],
                    [
                      "New York",
                      "2013-03-16"
                    ],
                    [
                      "New York",
                      "2012-10-04"
                    ],
                    [
                      "New York",
                      "2010-01-30"
                    ],
                    [
                      "Holtsville",
                      "2006-01-03"
                    ],
                    [
                      "New York",
                      "2000-08-03"
                    ],
                    [
                      "Holtsville",
                      "2009-02-11"
                    ],
                    [
                      "New York",
                      "2006-08-01"
                    ],
                    [
                      "Holtsville",
                      "2007-08-19"
                    ],
                    [
                      "New York",
                      "2015-01-31"
                    ],
                    [
                      "New York",
                      "2005-06-21"
                    ],
                    [
                      "Holtsville",
                      "2004-02-23"
                    ],
                    [
                      "New York",
                      "2014-10-24"
                    ],
                    [
                      "New York",
                      "2009-04-11"
                    ],
                    [
                      "New York",
                      "2009-06-07"
                    ],
                    [
                      "New York",
                      "2010-08-05"
                    ],
                    [
                      "New York",
                      "2006-03-28"
                    ],
                    [
                      "New York",
                      "2012-06-03"
                    ],
                    [
                      "Not in a city",
                      "2011-06-29"
                    ],
                    [
                      "Holtsville",
                      "2007-10-31"
                    ],
                    [
                      "Not in a city",
                      "2010-06-15"
                    ],
                    [
                      "New York",
                      "2005-05-03"
                    ],
                    [
                      "Holtsville",
                      "2006-06-29"
                    ],
                    [
                      "Holtsville",
                      "2009-07-14"
                    ],
                    [
                      "New York",
                      "2008-11-14"
                    ],
                    [
                      "New York",
                      "2005-12-02"
                    ],
                    [
                      "New York",
                      "2007-05-14"
                    ],
                    [
                      "New York",
                      "2005-10-15"
                    ],
                    [
                      "New York",
                      "2004-08-10"
                    ],
                    [
                      "New York",
                      "2013-09-23"
                    ],
                    [
                      "New York",
                      "2007-10-09"
                    ],
                    [
                      "New York",
                      "2003-10-09"
                    ],
                    [
                      "Holtsville",
                      "2008-04-27"
                    ]
                  ],
                  "hovertemplate": "state=New York<br>no2 aqi=%{x}<br>co aqi=%{y}<br>city=%{customdata[0]}<br>date local=%{customdata[1]}<extra></extra>",
                  "legendgroup": "New York",
                  "marker": {
                    "color": "rgb(102,194,165)",
                    "symbol": "circle"
                  },
                  "mode": "markers",
                  "name": "New York",
                  "showlegend": true,
                  "type": "scattergl",
                  "x": [
                    49,
                    29,
                    14,
                    40,
                    37,
                    49,
                    22,
                    16,
                    40,
                    2,
                    42,
                    27,
                    8,
                    44,
                    13,
                    0,
                    20,
                    3,
                    6,
                    23,
                    18,
                    22,
                    18,
                    28,
                    42,
                    41,
                    50,
                    17,
                    26,
                    20,
                    1,
                    42,
                    39,
                    25,
                    28,
                    43,
                    28,
                    69,
                    49,
                    6,
                    42,
                    45,
                    10,
                    43,
                    0,
                    42,
                    22,
                    4,
                    32,
                    31,
                    25,
                    43,
                    41,
                    0,
                    56,
                    47,
                    47,
                    27,
                    29,
                    36,
                    48,
                    28,
                    17,
                    15,
                    37,
                    3,
                    35,
                    54,
                    22,
                    34,
                    2,
                    11,
                    14,
                    1,
                    39,
                    25,
                    36,
                    36,
                    31,
                    41,
                    22,
                    8,
                    52,
                    35,
                    43,
                    12,
                    18,
                    63,
                    36,
                    30,
                    39,
                    35,
                    29,
                    52,
                    25,
                    0,
                    28,
                    3,
                    42,
                    14,
                    19,
                    37,
                    23,
                    42,
                    20,
                    48,
                    15,
                    36,
                    65,
                    7
                  ],
                  "xaxis": "x",
                  "y": [
                    6,
                    3,
                    5,
                    6,
                    5,
                    6,
                    3,
                    3,
                    11,
                    1,
                    9,
                    5,
                    3,
                    9,
                    1,
                    2,
                    1,
                    2,
                    2,
                    2,
                    2,
                    5,
                    1,
                    0,
                    10,
                    7,
                    9,
                    2,
                    1,
                    8,
                    2,
                    3,
                    0,
                    3,
                    2,
                    13,
                    5,
                    19,
                    15,
                    1,
                    9,
                    13,
                    2,
                    6,
                    2,
                    10,
                    9,
                    2,
                    9,
                    8,
                    2,
                    7,
                    6,
                    2,
                    7,
                    11,
                    15,
                    3,
                    7,
                    8,
                    5,
                    7,
                    1,
                    1,
                    5,
                    1,
                    2,
                    9,
                    1,
                    5,
                    1,
                    1,
                    1,
                    1,
                    3,
                    6,
                    8,
                    6,
                    3,
                    8,
                    8,
                    2,
                    11,
                    2,
                    6,
                    0,
                    5,
                    8,
                    10,
                    7,
                    7,
                    0,
                    2,
                    6,
                    3,
                    1,
                    7,
                    2,
                    6,
                    1,
                    1,
                    9,
                    8,
                    6,
                    5,
                    10,
                    1,
                    10,
                    19,
                    1
                  ],
                  "yaxis": "y"
                },
                {
                  "hovertemplate": "<b>OLS trendline</b><br>co aqi = 0.182215 * no2 aqi + -0.0278852<br>R<sup>2</sup>=0.531660<br><br>state=New York<br>no2 aqi=%{x}<br>co aqi=%{y} <b>(trend)</b><extra></extra>",
                  "legendgroup": "New York",
                  "marker": {
                    "color": "rgb(102,194,165)",
                    "symbol": "circle"
                  },
                  "mode": "lines",
                  "name": "New York",
                  "showlegend": false,
                  "type": "scattergl",
                  "x": [
                    0,
                    0,
                    0,
                    0,
                    1,
                    1,
                    2,
                    2,
                    3,
                    3,
                    3,
                    4,
                    6,
                    6,
                    7,
                    8,
                    8,
                    10,
                    11,
                    12,
                    13,
                    14,
                    14,
                    14,
                    15,
                    15,
                    16,
                    17,
                    17,
                    18,
                    18,
                    18,
                    19,
                    20,
                    20,
                    20,
                    22,
                    22,
                    22,
                    22,
                    22,
                    23,
                    23,
                    25,
                    25,
                    25,
                    25,
                    26,
                    27,
                    27,
                    28,
                    28,
                    28,
                    28,
                    28,
                    29,
                    29,
                    29,
                    30,
                    31,
                    31,
                    32,
                    34,
                    35,
                    35,
                    35,
                    36,
                    36,
                    36,
                    36,
                    36,
                    37,
                    37,
                    37,
                    39,
                    39,
                    39,
                    40,
                    40,
                    41,
                    41,
                    41,
                    42,
                    42,
                    42,
                    42,
                    42,
                    42,
                    42,
                    43,
                    43,
                    43,
                    43,
                    44,
                    45,
                    47,
                    47,
                    48,
                    48,
                    49,
                    49,
                    49,
                    50,
                    52,
                    52,
                    54,
                    56,
                    63,
                    65,
                    69
                  ],
                  "xaxis": "x",
                  "y": [
                    -0.027885245254728463,
                    -0.027885245254728463,
                    -0.027885245254728463,
                    -0.027885245254728463,
                    0.15433013693224124,
                    0.15433013693224124,
                    0.33654551911921093,
                    0.33654551911921093,
                    0.5187609013061807,
                    0.5187609013061807,
                    0.5187609013061807,
                    0.7009762834931503,
                    1.0654070478670898,
                    1.0654070478670898,
                    1.2476224300540595,
                    1.4298378122410291,
                    1.4298378122410291,
                    1.7942685766149684,
                    1.9764839588019383,
                    2.158699340988908,
                    2.3409147231758776,
                    2.5231301053628474,
                    2.5231301053628474,
                    2.5231301053628474,
                    2.705345487549817,
                    2.705345487549817,
                    2.8875608697367867,
                    3.0697762519237566,
                    3.0697762519237566,
                    3.251991634110726,
                    3.251991634110726,
                    3.251991634110726,
                    3.434207016297696,
                    3.6164223984846653,
                    3.6164223984846653,
                    3.6164223984846653,
                    3.980853162858605,
                    3.980853162858605,
                    3.980853162858605,
                    3.980853162858605,
                    3.980853162858605,
                    4.163068545045574,
                    4.163068545045574,
                    4.527499309419515,
                    4.527499309419515,
                    4.527499309419515,
                    4.527499309419515,
                    4.709714691606484,
                    4.8919300737934535,
                    4.8919300737934535,
                    5.074145455980423,
                    5.074145455980423,
                    5.074145455980423,
                    5.074145455980423,
                    5.074145455980423,
                    5.256360838167392,
                    5.256360838167392,
                    5.256360838167392,
                    5.438576220354362,
                    5.620791602541333,
                    5.620791602541333,
                    5.803006984728302,
                    6.167437749102241,
                    6.349653131289211,
                    6.349653131289211,
                    6.349653131289211,
                    6.53186851347618,
                    6.53186851347618,
                    6.53186851347618,
                    6.53186851347618,
                    6.53186851347618,
                    6.714083895663151,
                    6.714083895663151,
                    6.714083895663151,
                    7.07851466003709,
                    7.07851466003709,
                    7.07851466003709,
                    7.2607300422240595,
                    7.2607300422240595,
                    7.442945424411029,
                    7.442945424411029,
                    7.442945424411029,
                    7.625160806597998,
                    7.625160806597998,
                    7.625160806597998,
                    7.625160806597998,
                    7.625160806597998,
                    7.625160806597998,
                    7.625160806597998,
                    7.807376188784968,
                    7.807376188784968,
                    7.807376188784968,
                    7.807376188784968,
                    7.989591570971939,
                    8.171806953158908,
                    8.536237717532847,
                    8.536237717532847,
                    8.718453099719818,
                    8.718453099719818,
                    8.900668481906788,
                    8.900668481906788,
                    8.900668481906788,
                    9.082883864093757,
                    9.447314628467696,
                    9.447314628467696,
                    9.811745392841635,
                    10.176176157215576,
                    11.451683832524363,
                    11.816114596898302,
                    12.544976125646182
                  ],
                  "yaxis": "y"
                },
                {
                  "customdata": [
                    [
                      "Vandenberg Air Force Base",
                      "2002-01-27"
                    ],
                    [
                      "San Pablo",
                      "2009-01-05"
                    ],
                    [
                      "Fontana",
                      "2011-08-10"
                    ],
                    [
                      "Vallejo",
                      "2008-05-12"
                    ],
                    [
                      "Burbank",
                      "2004-05-26"
                    ],
                    [
                      "Vallejo",
                      "2004-05-05"
                    ],
                    [
                      "Vallejo",
                      "2015-04-28"
                    ],
                    [
                      "Not in a city",
                      "2003-12-12"
                    ],
                    [
                      "San Diego",
                      "2000-05-15"
                    ],
                    [
                      "San Diego",
                      "2010-12-12"
                    ],
                    [
                      "San Pablo",
                      "2011-03-26"
                    ],
                    [
                      "Goleta",
                      "2007-09-24"
                    ],
                    [
                      "Calexico",
                      "2009-01-20"
                    ],
                    [
                      "Goleta",
                      "2009-01-20"
                    ],
                    [
                      "Fontana",
                      "2011-02-12"
                    ],
                    [
                      "Chula Vista",
                      "2006-10-16"
                    ],
                    [
                      "Vallejo",
                      "2008-06-22"
                    ],
                    [
                      "Lompoc",
                      "2009-02-05"
                    ],
                    [
                      "San Diego",
                      "2000-03-06"
                    ],
                    [
                      "Victorville",
                      "2009-08-14"
                    ],
                    [
                      "Long Beach",
                      "2011-04-26"
                    ],
                    [
                      "Eureka",
                      "2011-02-21"
                    ],
                    [
                      "Davenport",
                      "2001-01-06"
                    ],
                    [
                      "West Los Angeles",
                      "2001-12-03"
                    ],
                    [
                      "Lompoc",
                      "2004-06-08"
                    ],
                    [
                      "San Pablo",
                      "2014-06-04"
                    ],
                    [
                      "Eureka",
                      "2013-06-27"
                    ],
                    [
                      "Fontana",
                      "2009-03-07"
                    ],
                    [
                      "Los Angeles",
                      "2000-11-27"
                    ],
                    [
                      "Capitan",
                      "2013-10-05"
                    ],
                    [
                      "Vandenberg Air Force Base",
                      "2006-12-23"
                    ],
                    [
                      "Vallejo",
                      "2015-02-28"
                    ],
                    [
                      "Davenport",
                      "2005-10-11"
                    ],
                    [
                      "Fresno",
                      "2003-04-24"
                    ],
                    [
                      "Concord",
                      "2002-03-30"
                    ],
                    [
                      "San Diego",
                      "2002-05-26"
                    ],
                    [
                      "Vandenberg Air Force Base",
                      "2004-08-13"
                    ],
                    [
                      "Capitan",
                      "2001-11-19"
                    ],
                    [
                      "Rubidoux",
                      "2015-06-09"
                    ],
                    [
                      "Davenport",
                      "2004-02-18"
                    ],
                    [
                      "Chula Vista",
                      "2000-07-21"
                    ],
                    [
                      "Not in a city",
                      "2001-08-20"
                    ],
                    [
                      "Vandenberg Air Force Base",
                      "2010-01-08"
                    ],
                    [
                      "Not in a city",
                      "2002-10-02"
                    ],
                    [
                      "Los Angeles",
                      "2000-11-24"
                    ],
                    [
                      "San Diego",
                      "2008-10-21"
                    ],
                    [
                      "Calexico",
                      "2014-03-06"
                    ],
                    [
                      "Vallejo",
                      "2011-04-27"
                    ],
                    [
                      "Capitan",
                      "2011-05-07"
                    ],
                    [
                      "Lompoc",
                      "2012-04-28"
                    ],
                    [
                      "Goleta",
                      "2000-05-23"
                    ],
                    [
                      "San Diego",
                      "2003-06-28"
                    ],
                    [
                      "Arden-Arcade",
                      "2009-01-22"
                    ],
                    [
                      "Goleta",
                      "2008-04-03"
                    ],
                    [
                      "Long Beach",
                      "2013-11-10"
                    ],
                    [
                      "Long Beach",
                      "2003-03-28"
                    ],
                    [
                      "Davenport",
                      "2007-01-22"
                    ],
                    [
                      "Vallejo",
                      "2004-07-16"
                    ],
                    [
                      "Rubidoux",
                      "2011-01-01"
                    ],
                    [
                      "San Pablo",
                      "2002-06-03"
                    ],
                    [
                      "Eureka",
                      "2011-10-06"
                    ],
                    [
                      "Not in a city",
                      "2000-09-22"
                    ],
                    [
                      "San Pablo",
                      "2015-12-25"
                    ],
                    [
                      "Lompoc",
                      "2013-09-07"
                    ],
                    [
                      "Oakland",
                      "2014-09-02"
                    ],
                    [
                      "Not in a city",
                      "2011-12-16"
                    ],
                    [
                      "Los Angeles",
                      "2015-01-08"
                    ],
                    [
                      "Cupertino",
                      "2011-06-02"
                    ],
                    [
                      "Costa Mesa",
                      "2009-09-20"
                    ],
                    [
                      "Capitan",
                      "2001-10-06"
                    ],
                    [
                      "Bethel Island",
                      "2011-12-31"
                    ],
                    [
                      "Not in a city",
                      "2012-04-29"
                    ],
                    [
                      "Capitan",
                      "2011-06-15"
                    ],
                    [
                      "San Diego",
                      "2007-01-29"
                    ],
                    [
                      "Bethel Island",
                      "2002-12-02"
                    ],
                    [
                      "Capitan",
                      "2003-09-01"
                    ],
                    [
                      "Not in a city",
                      "2000-08-29"
                    ],
                    [
                      "Los Angeles",
                      "2014-03-06"
                    ],
                    [
                      "Concord",
                      "2001-11-12"
                    ],
                    [
                      "Bethel Island",
                      "2005-07-25"
                    ],
                    [
                      "Hawthorne",
                      "2003-11-14"
                    ],
                    [
                      "San Diego",
                      "2005-08-26"
                    ],
                    [
                      "Bethel Island",
                      "2000-09-28"
                    ],
                    [
                      "Pittsburg",
                      "2003-11-26"
                    ],
                    [
                      "San Jose",
                      "2009-07-09"
                    ],
                    [
                      "Victorville",
                      "2006-08-21"
                    ],
                    [
                      "Costa Mesa",
                      "2002-01-25"
                    ],
                    [
                      "Long Beach",
                      "2008-01-31"
                    ],
                    [
                      "El Cajon",
                      "2012-11-12"
                    ],
                    [
                      "Berkeley",
                      "2009-01-29"
                    ],
                    [
                      "Vandenberg Air Force Base",
                      "2010-08-03"
                    ],
                    [
                      "Oakland",
                      "2015-01-06"
                    ],
                    [
                      "Long Beach",
                      "2013-05-18"
                    ],
                    [
                      "El Cajon",
                      "2014-08-14"
                    ],
                    [
                      "Berkeley",
                      "2010-02-16"
                    ],
                    [
                      "Calexico",
                      "2002-01-04"
                    ],
                    [
                      "Concord",
                      "2006-10-22"
                    ],
                    [
                      "El Cajon",
                      "2011-11-04"
                    ],
                    [
                      "Long Beach",
                      "2010-03-20"
                    ],
                    [
                      "Bethel Island",
                      "2012-09-07"
                    ],
                    [
                      "Not in a city",
                      "2004-04-08"
                    ],
                    [
                      "Capitan",
                      "2000-11-25"
                    ],
                    [
                      "Long Beach",
                      "2010-01-17"
                    ],
                    [
                      "Not in a city",
                      "2014-01-26"
                    ],
                    [
                      "Concord",
                      "2011-08-20"
                    ],
                    [
                      "Vallejo",
                      "2002-08-31"
                    ],
                    [
                      "Vallejo",
                      "2014-03-23"
                    ],
                    [
                      "Calexico",
                      "2008-07-09"
                    ],
                    [
                      "Arden-Arcade",
                      "2009-06-18"
                    ],
                    [
                      "Vallejo",
                      "2012-01-19"
                    ],
                    [
                      "Eureka",
                      "2009-02-15"
                    ],
                    [
                      "Concord",
                      "2011-10-23"
                    ],
                    [
                      "Rubidoux",
                      "2011-08-12"
                    ],
                    [
                      "San Francisco",
                      "2005-03-18"
                    ],
                    [
                      "Davenport",
                      "2001-07-06"
                    ],
                    [
                      "San Pablo",
                      "2006-11-17"
                    ],
                    [
                      "Goleta",
                      "2000-06-06"
                    ],
                    [
                      "Pittsburg",
                      "2002-02-05"
                    ],
                    [
                      "Fresno",
                      "2011-01-01"
                    ],
                    [
                      "Not in a city",
                      "2003-01-22"
                    ],
                    [
                      "Chula Vista",
                      "2001-12-14"
                    ],
                    [
                      "Los Angeles",
                      "2009-12-06"
                    ],
                    [
                      "Los Angeles",
                      "2008-10-15"
                    ],
                    [
                      "Burbank",
                      "2013-06-15"
                    ],
                    [
                      "Costa Mesa",
                      "2008-02-20"
                    ],
                    [
                      "Chula Vista",
                      "2004-07-12"
                    ],
                    [
                      "Not in a city",
                      "2012-09-02"
                    ],
                    [
                      "San Francisco",
                      "2006-09-20"
                    ],
                    [
                      "Rubidoux",
                      "2012-03-04"
                    ],
                    [
                      "San Pablo",
                      "2015-12-24"
                    ],
                    [
                      "Fontana",
                      "2008-12-03"
                    ],
                    [
                      "Long Beach",
                      "2012-03-29"
                    ],
                    [
                      "Rubidoux",
                      "2003-03-24"
                    ],
                    [
                      "Costa Mesa",
                      "2010-08-15"
                    ],
                    [
                      "Bethel Island",
                      "2000-02-09"
                    ],
                    [
                      "Oakland",
                      "2002-08-30"
                    ],
                    [
                      "Fresno",
                      "2013-11-01"
                    ],
                    [
                      "Calexico",
                      "2005-11-21"
                    ],
                    [
                      "Burbank",
                      "2006-02-05"
                    ],
                    [
                      "Los Angeles",
                      "2000-03-20"
                    ],
                    [
                      "Victorville",
                      "2004-01-09"
                    ],
                    [
                      "Benicia",
                      "2008-07-18"
                    ],
                    [
                      "Chula Vista",
                      "2005-02-14"
                    ],
                    [
                      "Lompoc",
                      "2012-01-15"
                    ],
                    [
                      "Davenport",
                      "2002-08-11"
                    ],
                    [
                      "Calexico",
                      "2012-06-01"
                    ],
                    [
                      "Costa Mesa",
                      "2001-06-11"
                    ],
                    [
                      "San Diego",
                      "2006-02-23"
                    ],
                    [
                      "Capitan",
                      "2003-04-24"
                    ],
                    [
                      "Capitan",
                      "2015-09-07"
                    ],
                    [
                      "San Diego",
                      "2003-10-21"
                    ],
                    [
                      "Arden-Arcade",
                      "2015-08-27"
                    ],
                    [
                      "Vandenberg Air Force Base",
                      "2011-11-15"
                    ],
                    [
                      "Rubidoux",
                      "2005-08-27"
                    ],
                    [
                      "Capitan",
                      "2001-04-18"
                    ],
                    [
                      "Vallejo",
                      "2013-12-08"
                    ],
                    [
                      "Eureka",
                      "2008-04-28"
                    ],
                    [
                      "Victorville",
                      "2015-03-01"
                    ],
                    [
                      "Rubidoux",
                      "2014-08-17"
                    ],
                    [
                      "Pittsburg",
                      "2008-12-11"
                    ],
                    [
                      "San Pablo",
                      "2012-09-14"
                    ],
                    [
                      "Los Angeles",
                      "2004-08-18"
                    ],
                    [
                      "San Pablo",
                      "2001-02-22"
                    ],
                    [
                      "Hawthorne",
                      "2002-06-18"
                    ],
                    [
                      "San Diego",
                      "2009-06-12"
                    ],
                    [
                      "Los Angeles",
                      "2013-09-26"
                    ],
                    [
                      "Cupertino",
                      "2011-02-01"
                    ],
                    [
                      "Concord",
                      "2007-01-22"
                    ],
                    [
                      "Vallejo",
                      "2000-06-02"
                    ],
                    [
                      "Not in a city",
                      "2004-03-09"
                    ],
                    [
                      "San Diego",
                      "2003-07-19"
                    ],
                    [
                      "Arden-Arcade",
                      "2007-04-28"
                    ],
                    [
                      "Long Beach",
                      "2004-10-10"
                    ],
                    [
                      "Lompoc",
                      "2002-06-27"
                    ],
                    [
                      "Lompoc",
                      "2002-04-19"
                    ],
                    [
                      "Bakersfield",
                      "2001-01-17"
                    ],
                    [
                      "San Francisco",
                      "2003-06-01"
                    ],
                    [
                      "Calexico",
                      "2012-08-31"
                    ],
                    [
                      "Arden-Arcade",
                      "2009-10-09"
                    ],
                    [
                      "Berkeley",
                      "2009-02-21"
                    ],
                    [
                      "Long Beach",
                      "2010-05-22"
                    ],
                    [
                      "Burbank",
                      "2002-02-24"
                    ],
                    [
                      "Concord",
                      "2008-04-28"
                    ],
                    [
                      "Goleta",
                      "2009-03-17"
                    ],
                    [
                      "Vallejo",
                      "2003-09-07"
                    ],
                    [
                      "Victorville",
                      "2004-10-04"
                    ],
                    [
                      "Burbank",
                      "2013-12-29"
                    ],
                    [
                      "Concord",
                      "2005-10-04"
                    ],
                    [
                      "Lompoc",
                      "2003-07-20"
                    ],
                    [
                      "Los Angeles",
                      "2000-07-29"
                    ],
                    [
                      "Long Beach",
                      "2000-04-13"
                    ],
                    [
                      "Vallejo",
                      "2000-03-15"
                    ],
                    [
                      "Capitan",
                      "2001-09-27"
                    ],
                    [
                      "Lompoc",
                      "2015-12-02"
                    ],
                    [
                      "Hawthorne",
                      "2002-08-18"
                    ],
                    [
                      "San Pablo",
                      "2006-02-26"
                    ],
                    [
                      "Los Angeles",
                      "2002-10-05"
                    ],
                    [
                      "Fresno",
                      "2010-09-20"
                    ],
                    [
                      "Davenport",
                      "2007-08-24"
                    ],
                    [
                      "Concord",
                      "2000-01-17"
                    ],
                    [
                      "San Pablo",
                      "2003-12-07"
                    ],
                    [
                      "Berkeley",
                      "2008-06-29"
                    ],
                    [
                      "Arden-Arcade",
                      "2006-05-02"
                    ],
                    [
                      "Burbank",
                      "2012-08-04"
                    ],
                    [
                      "Lompoc",
                      "2010-06-17"
                    ],
                    [
                      "Vandenberg Air Force Base",
                      "2001-05-16"
                    ],
                    [
                      "Calexico",
                      "2008-04-03"
                    ],
                    [
                      "Goleta",
                      "2001-05-26"
                    ],
                    [
                      "Los Angeles",
                      "2015-02-20"
                    ],
                    [
                      "San Diego",
                      "2000-08-02"
                    ],
                    [
                      "San Pablo",
                      "2012-11-25"
                    ],
                    [
                      "Victorville",
                      "2012-08-05"
                    ],
                    [
                      "Los Angeles",
                      "2010-10-22"
                    ],
                    [
                      "Costa Mesa",
                      "2006-01-26"
                    ],
                    [
                      "Lompoc",
                      "2005-05-07"
                    ],
                    [
                      "Not in a city",
                      "2005-10-05"
                    ],
                    [
                      "Costa Mesa",
                      "2005-05-16"
                    ],
                    [
                      "Chula Vista",
                      "2009-05-25"
                    ],
                    [
                      "Rubidoux",
                      "2009-07-19"
                    ],
                    [
                      "Rubidoux",
                      "2001-07-04"
                    ],
                    [
                      "Vandenberg Air Force Base",
                      "2011-01-27"
                    ],
                    [
                      "Pittsburg",
                      "2005-08-22"
                    ],
                    [
                      "Long Beach",
                      "2011-07-04"
                    ],
                    [
                      "San Francisco",
                      "2004-08-17"
                    ],
                    [
                      "San Diego",
                      "2004-03-22"
                    ],
                    [
                      "Burbank",
                      "2007-04-02"
                    ],
                    [
                      "Vallejo",
                      "2015-01-21"
                    ],
                    [
                      "Victorville",
                      "2010-03-29"
                    ],
                    [
                      "Los Angeles",
                      "2007-01-13"
                    ],
                    [
                      "Burbank",
                      "2007-06-29"
                    ],
                    [
                      "Victorville",
                      "2008-05-19"
                    ],
                    [
                      "Vandenberg Air Force Base",
                      "2009-09-13"
                    ],
                    [
                      "Goleta",
                      "2000-07-29"
                    ],
                    [
                      "Capitan",
                      "2008-04-12"
                    ],
                    [
                      "Long Beach",
                      "2014-09-17"
                    ],
                    [
                      "Bethel Island",
                      "2005-08-19"
                    ],
                    [
                      "Bethel Island",
                      "2007-02-26"
                    ],
                    [
                      "Rubidoux",
                      "2002-07-06"
                    ],
                    [
                      "Los Angeles",
                      "2015-03-26"
                    ],
                    [
                      "Not in a city",
                      "2003-04-04"
                    ],
                    [
                      "Calexico",
                      "2004-07-11"
                    ],
                    [
                      "Burbank",
                      "2010-10-03"
                    ],
                    [
                      "San Francisco",
                      "2003-11-30"
                    ],
                    [
                      "Los Angeles",
                      "2003-06-19"
                    ],
                    [
                      "Not in a city",
                      "2012-04-11"
                    ],
                    [
                      "Los Angeles",
                      "2009-09-07"
                    ],
                    [
                      "Calexico",
                      "2012-08-05"
                    ],
                    [
                      "Bethel Island",
                      "2007-11-25"
                    ],
                    [
                      "Not in a city",
                      "2001-09-27"
                    ],
                    [
                      "Calexico",
                      "2010-06-01"
                    ],
                    [
                      "Los Angeles",
                      "2005-08-06"
                    ],
                    [
                      "Vandenberg Air Force Base",
                      "2012-03-26"
                    ],
                    [
                      "Bethel Island",
                      "2014-05-18"
                    ],
                    [
                      "Calexico",
                      "2005-02-01"
                    ],
                    [
                      "Arden-Arcade",
                      "2011-05-23"
                    ],
                    [
                      "San Diego",
                      "2003-09-21"
                    ],
                    [
                      "Fontana",
                      "2015-05-13"
                    ],
                    [
                      "Fresno",
                      "2007-12-30"
                    ],
                    [
                      "San Diego",
                      "2006-01-17"
                    ],
                    [
                      "Hawthorne",
                      "2002-10-11"
                    ],
                    [
                      "Los Angeles",
                      "2010-04-22"
                    ],
                    [
                      "Goleta",
                      "2000-12-16"
                    ],
                    [
                      "San Diego",
                      "2001-12-19"
                    ],
                    [
                      "Burbank",
                      "2002-12-07"
                    ],
                    [
                      "San Diego",
                      "2003-02-23"
                    ],
                    [
                      "Not in a city",
                      "2005-08-14"
                    ],
                    [
                      "Arden-Arcade",
                      "2009-11-16"
                    ],
                    [
                      "Rubidoux",
                      "2011-03-09"
                    ],
                    [
                      "Bethel Island",
                      "2006-02-04"
                    ],
                    [
                      "Vandenberg Air Force Base",
                      "2009-07-16"
                    ],
                    [
                      "Fresno",
                      "2012-06-11"
                    ],
                    [
                      "Rubidoux",
                      "2007-09-22"
                    ],
                    [
                      "Chula Vista",
                      "2007-08-26"
                    ],
                    [
                      "Calexico",
                      "2009-08-06"
                    ],
                    [
                      "San Diego",
                      "2003-04-22"
                    ],
                    [
                      "Goleta",
                      "2000-10-23"
                    ],
                    [
                      "Vallejo",
                      "2015-03-04"
                    ],
                    [
                      "Victorville",
                      "2015-09-08"
                    ],
                    [
                      "Los Angeles",
                      "2004-10-08"
                    ],
                    [
                      "Los Angeles",
                      "2011-08-19"
                    ],
                    [
                      "Long Beach",
                      "2012-01-31"
                    ],
                    [
                      "Fresno",
                      "2009-08-15"
                    ],
                    [
                      "San Diego",
                      "2001-12-23"
                    ],
                    [
                      "Rubidoux",
                      "2014-03-28"
                    ],
                    [
                      "Burbank",
                      "2000-02-29"
                    ],
                    [
                      "Los Angeles",
                      "2004-06-24"
                    ],
                    [
                      "Hawthorne",
                      "2001-03-31"
                    ],
                    [
                      "Concord",
                      "2008-12-02"
                    ],
                    [
                      "San Francisco",
                      "2001-01-28"
                    ],
                    [
                      "Victorville",
                      "2000-04-16"
                    ],
                    [
                      "Rubidoux",
                      "2015-07-02"
                    ],
                    [
                      "San Diego",
                      "2008-02-11"
                    ],
                    [
                      "Calexico",
                      "2001-05-06"
                    ],
                    [
                      "San Francisco",
                      "2002-03-01"
                    ],
                    [
                      "Long Beach",
                      "2003-02-22"
                    ],
                    [
                      "Not in a city",
                      "2009-11-13"
                    ],
                    [
                      "Victorville",
                      "2001-07-20"
                    ],
                    [
                      "Pittsburg",
                      "2004-07-20"
                    ],
                    [
                      "Vallejo",
                      "2012-11-10"
                    ],
                    [
                      "Victorville",
                      "2012-02-22"
                    ],
                    [
                      "San Diego",
                      "2008-06-24"
                    ],
                    [
                      "Vandenberg Air Force Base",
                      "2001-03-09"
                    ],
                    [
                      "Lompoc",
                      "2011-07-03"
                    ],
                    [
                      "Lompoc",
                      "2004-04-22"
                    ],
                    [
                      "Long Beach",
                      "2000-08-29"
                    ],
                    [
                      "Calexico",
                      "2012-09-24"
                    ],
                    [
                      "San Pablo",
                      "2014-05-13"
                    ],
                    [
                      "Victorville",
                      "2012-04-17"
                    ],
                    [
                      "San Diego",
                      "2010-10-15"
                    ],
                    [
                      "San Diego",
                      "2002-02-28"
                    ],
                    [
                      "Rubidoux",
                      "2008-02-07"
                    ],
                    [
                      "San Francisco",
                      "2004-10-30"
                    ],
                    [
                      "Rubidoux",
                      "2015-01-03"
                    ],
                    [
                      "Davenport",
                      "2003-07-21"
                    ],
                    [
                      "San Francisco",
                      "2004-07-10"
                    ],
                    [
                      "Fontana",
                      "2008-12-07"
                    ],
                    [
                      "Goleta",
                      "2004-04-11"
                    ],
                    [
                      "Fontana",
                      "2009-03-23"
                    ],
                    [
                      "San Pablo",
                      "2003-03-01"
                    ],
                    [
                      "Goleta",
                      "2007-06-29"
                    ],
                    [
                      "Not in a city",
                      "2000-09-11"
                    ],
                    [
                      "Long Beach",
                      "2010-11-04"
                    ],
                    [
                      "Capitan",
                      "2005-12-01"
                    ],
                    [
                      "San Diego",
                      "2006-03-13"
                    ],
                    [
                      "Calexico",
                      "2002-01-18"
                    ],
                    [
                      "El Cajon",
                      "2012-03-05"
                    ],
                    [
                      "Fontana",
                      "2014-08-31"
                    ],
                    [
                      "Vallejo",
                      "2006-07-14"
                    ],
                    [
                      "Pittsburg",
                      "2000-04-02"
                    ],
                    [
                      "Vandenberg Air Force Base",
                      "2005-07-08"
                    ],
                    [
                      "San Diego",
                      "2008-04-21"
                    ],
                    [
                      "Bethel Island",
                      "2009-01-03"
                    ],
                    [
                      "Calexico",
                      "2015-09-15"
                    ],
                    [
                      "San Francisco",
                      "2008-04-02"
                    ],
                    [
                      "Los Angeles",
                      "2005-06-04"
                    ],
                    [
                      "Arden-Arcade",
                      "2005-04-08"
                    ],
                    [
                      "Concord",
                      "2003-05-02"
                    ],
                    [
                      "Rubidoux",
                      "2013-11-22"
                    ],
                    [
                      "San Francisco",
                      "2005-06-24"
                    ],
                    [
                      "Fresno",
                      "2008-06-02"
                    ],
                    [
                      "Bethel Island",
                      "2002-10-26"
                    ],
                    [
                      "Bethel Island",
                      "2002-12-22"
                    ],
                    [
                      "Fontana",
                      "2011-02-06"
                    ],
                    [
                      "Capitan",
                      "2003-12-08"
                    ],
                    [
                      "Bethel Island",
                      "2015-05-15"
                    ],
                    [
                      "Lompoc",
                      "2003-08-31"
                    ],
                    [
                      "Long Beach",
                      "2011-09-16"
                    ],
                    [
                      "Goleta",
                      "2000-03-29"
                    ],
                    [
                      "Lompoc",
                      "2007-07-01"
                    ],
                    [
                      "Victorville",
                      "2005-04-20"
                    ],
                    [
                      "Burbank",
                      "2007-10-24"
                    ],
                    [
                      "Lompoc",
                      "2004-10-24"
                    ],
                    [
                      "Vandenberg Air Force Base",
                      "2003-08-16"
                    ],
                    [
                      "Fresno",
                      "2014-03-08"
                    ],
                    [
                      "Long Beach",
                      "2001-10-18"
                    ],
                    [
                      "San Pablo",
                      "2011-06-10"
                    ],
                    [
                      "San Diego",
                      "2004-07-15"
                    ],
                    [
                      "Vandenberg Air Force Base",
                      "2014-01-26"
                    ],
                    [
                      "Capitan",
                      "2009-05-15"
                    ],
                    [
                      "Goleta",
                      "2002-03-08"
                    ],
                    [
                      "Vallejo",
                      "2015-09-28"
                    ],
                    [
                      "San Pablo",
                      "2004-02-04"
                    ],
                    [
                      "Concord",
                      "2011-07-09"
                    ],
                    [
                      "El Cajon",
                      "2013-01-30"
                    ],
                    [
                      "Vallejo",
                      "2002-01-05"
                    ],
                    [
                      "Chula Vista",
                      "2006-01-11"
                    ],
                    [
                      "El Cajon",
                      "2011-12-04"
                    ],
                    [
                      "San Francisco",
                      "2002-03-25"
                    ],
                    [
                      "Concord",
                      "2002-11-23"
                    ],
                    [
                      "Victorville",
                      "2004-03-04"
                    ],
                    [
                      "Los Angeles",
                      "2002-10-30"
                    ],
                    [
                      "Vallejo",
                      "2002-07-12"
                    ],
                    [
                      "San Diego",
                      "2004-07-11"
                    ],
                    [
                      "Chula Vista",
                      "2005-08-03"
                    ],
                    [
                      "Bethel Island",
                      "2007-05-27"
                    ],
                    [
                      "Long Beach",
                      "2011-07-26"
                    ],
                    [
                      "Goleta",
                      "2005-09-13"
                    ],
                    [
                      "Pittsburg",
                      "2004-12-25"
                    ],
                    [
                      "Burbank",
                      "2008-04-15"
                    ],
                    [
                      "Vandenberg Air Force Base",
                      "2013-06-14"
                    ],
                    [
                      "Davenport",
                      "2003-11-26"
                    ],
                    [
                      "Arden-Arcade",
                      "2014-05-29"
                    ],
                    [
                      "El Cajon",
                      "2012-02-20"
                    ],
                    [
                      "Lompoc",
                      "2015-07-28"
                    ],
                    [
                      "Arden-Arcade",
                      "2012-03-05"
                    ],
                    [
                      "Long Beach",
                      "2000-02-17"
                    ],
                    [
                      "Los Angeles",
                      "2005-07-04"
                    ],
                    [
                      "San Diego",
                      "2002-11-19"
                    ],
                    [
                      "San Jose",
                      "2012-07-12"
                    ],
                    [
                      "Davenport",
                      "2009-09-03"
                    ],
                    [
                      "San Diego",
                      "2010-09-16"
                    ],
                    [
                      "Hawthorne",
                      "2000-08-13"
                    ],
                    [
                      "El Cajon",
                      "2015-02-13"
                    ],
                    [
                      "Long Beach",
                      "2004-07-14"
                    ],
                    [
                      "San Diego",
                      "2005-01-12"
                    ],
                    [
                      "Victorville",
                      "2016-02-04"
                    ],
                    [
                      "Long Beach",
                      "2012-10-06"
                    ],
                    [
                      "San Diego",
                      "2004-01-31"
                    ],
                    [
                      "Arden-Arcade",
                      "2015-07-28"
                    ],
                    [
                      "Davenport",
                      "2009-09-06"
                    ],
                    [
                      "Pittsburg",
                      "2004-05-17"
                    ],
                    [
                      "Los Angeles",
                      "2003-12-16"
                    ],
                    [
                      "Costa Mesa",
                      "2006-03-30"
                    ],
                    [
                      "San Pablo",
                      "2008-09-02"
                    ],
                    [
                      "Fresno",
                      "2003-06-07"
                    ],
                    [
                      "Los Angeles",
                      "2014-07-29"
                    ],
                    [
                      "Long Beach",
                      "2007-07-25"
                    ],
                    [
                      "Bethel Island",
                      "2011-09-23"
                    ],
                    [
                      "Vallejo",
                      "2009-03-28"
                    ],
                    [
                      "San Pablo",
                      "2005-02-12"
                    ],
                    [
                      "Costa Mesa",
                      "2015-06-08"
                    ],
                    [
                      "El Cajon",
                      "2015-09-08"
                    ],
                    [
                      "Concord",
                      "2015-04-07"
                    ],
                    [
                      "El Cajon",
                      "2011-09-06"
                    ],
                    [
                      "Fresno",
                      "2014-12-30"
                    ],
                    [
                      "Los Angeles",
                      "2009-05-20"
                    ],
                    [
                      "Lompoc",
                      "2014-11-24"
                    ],
                    [
                      "Capitan",
                      "2008-04-19"
                    ],
                    [
                      "Los Angeles",
                      "2012-03-03"
                    ],
                    [
                      "Goleta",
                      "2000-10-10"
                    ],
                    [
                      "Fresno",
                      "2007-06-12"
                    ],
                    [
                      "Vallejo",
                      "2006-10-27"
                    ],
                    [
                      "Davenport",
                      "2003-10-17"
                    ],
                    [
                      "Victorville",
                      "2016-03-09"
                    ],
                    [
                      "Long Beach",
                      "2002-05-25"
                    ],
                    [
                      "Calexico",
                      "2012-09-25"
                    ],
                    [
                      "Costa Mesa",
                      "2003-10-11"
                    ],
                    [
                      "Long Beach",
                      "2001-02-26"
                    ],
                    [
                      "Calexico",
                      "2009-01-02"
                    ],
                    [
                      "Pittsburg",
                      "2001-10-02"
                    ],
                    [
                      "San Diego",
                      "2007-08-19"
                    ],
                    [
                      "Los Angeles",
                      "2013-06-21"
                    ],
                    [
                      "Lompoc",
                      "2003-01-30"
                    ],
                    [
                      "San Jose",
                      "2010-11-13"
                    ],
                    [
                      "Costa Mesa",
                      "2014-04-27"
                    ],
                    [
                      "Capitan",
                      "2010-01-12"
                    ],
                    [
                      "Chula Vista",
                      "2001-01-20"
                    ],
                    [
                      "Los Angeles",
                      "2010-04-27"
                    ],
                    [
                      "San Pablo",
                      "2015-08-03"
                    ],
                    [
                      "Capitan",
                      "2003-10-05"
                    ],
                    [
                      "Bethel Island",
                      "2015-01-13"
                    ],
                    [
                      "Vallejo",
                      "2003-02-10"
                    ],
                    [
                      "Cupertino",
                      "2011-08-25"
                    ],
                    [
                      "Vandenberg Air Force Base",
                      "2004-12-31"
                    ],
                    [
                      "Costa Mesa",
                      "2003-02-13"
                    ],
                    [
                      "Vandenberg Air Force Base",
                      "2002-03-17"
                    ],
                    [
                      "Rubidoux",
                      "2011-03-12"
                    ],
                    [
                      "Victorville",
                      "2014-01-19"
                    ],
                    [
                      "San Diego",
                      "2004-11-03"
                    ],
                    [
                      "Los Angeles",
                      "2005-05-14"
                    ],
                    [
                      "Lompoc",
                      "2013-09-18"
                    ],
                    [
                      "San Pablo",
                      "2014-07-26"
                    ],
                    [
                      "Costa Mesa",
                      "2000-03-03"
                    ],
                    [
                      "Vandenberg Air Force Base",
                      "2000-08-17"
                    ],
                    [
                      "Vandenberg Air Force Base",
                      "2007-12-25"
                    ],
                    [
                      "San Pablo",
                      "2015-11-08"
                    ],
                    [
                      "Arden-Arcade",
                      "2011-04-15"
                    ],
                    [
                      "Concord",
                      "2010-03-28"
                    ],
                    [
                      "Not in a city",
                      "2001-11-06"
                    ],
                    [
                      "Costa Mesa",
                      "2013-12-16"
                    ],
                    [
                      "Davenport",
                      "2004-06-19"
                    ],
                    [
                      "Chula Vista",
                      "2008-05-26"
                    ],
                    [
                      "West Los Angeles",
                      "2002-03-30"
                    ],
                    [
                      "Berkeley",
                      "2009-09-28"
                    ],
                    [
                      "Arden-Arcade",
                      "2006-05-12"
                    ],
                    [
                      "Vallejo",
                      "2013-02-05"
                    ],
                    [
                      "Vallejo",
                      "2011-07-22"
                    ],
                    [
                      "Oakland",
                      "2002-11-03"
                    ],
                    [
                      "Not in a city",
                      "2000-07-19"
                    ],
                    [
                      "Los Angeles",
                      "2001-12-23"
                    ],
                    [
                      "Rubidoux",
                      "2001-10-18"
                    ],
                    [
                      "Costa Mesa",
                      "2003-11-27"
                    ],
                    [
                      "San Pablo",
                      "2008-05-01"
                    ],
                    [
                      "Calexico",
                      "2006-09-23"
                    ],
                    [
                      "San Pablo",
                      "2001-08-29"
                    ],
                    [
                      "San Jose",
                      "2015-01-14"
                    ],
                    [
                      "Vallejo",
                      "2002-11-14"
                    ],
                    [
                      "Not in a city",
                      "2000-10-26"
                    ],
                    [
                      "Vandenberg Air Force Base",
                      "2008-10-13"
                    ],
                    [
                      "Costa Mesa",
                      "2004-03-12"
                    ],
                    [
                      "Pittsburg",
                      "2006-05-12"
                    ],
                    [
                      "Long Beach",
                      "2010-10-25"
                    ],
                    [
                      "Not in a city",
                      "2003-08-21"
                    ],
                    [
                      "Arden-Arcade",
                      "2009-01-17"
                    ],
                    [
                      "Victorville",
                      "2001-10-29"
                    ],
                    [
                      "San Diego",
                      "2003-09-06"
                    ],
                    [
                      "Pittsburg",
                      "2000-06-18"
                    ],
                    [
                      "Vandenberg Air Force Base",
                      "2011-11-17"
                    ],
                    [
                      "Not in a city",
                      "2003-12-04"
                    ],
                    [
                      "San Pablo",
                      "2008-12-22"
                    ],
                    [
                      "Rubidoux",
                      "2012-05-28"
                    ],
                    [
                      "Concord",
                      "2004-10-02"
                    ],
                    [
                      "San Pablo",
                      "2007-02-19"
                    ],
                    [
                      "Victorville",
                      "2011-06-01"
                    ],
                    [
                      "Not in a city",
                      "2003-02-26"
                    ],
                    [
                      "Vallejo",
                      "2011-01-08"
                    ],
                    [
                      "Vandenberg Air Force Base",
                      "2006-03-30"
                    ],
                    [
                      "Cupertino",
                      "2013-05-14"
                    ],
                    [
                      "Los Angeles",
                      "2014-06-20"
                    ],
                    [
                      "Oakland",
                      "2015-06-20"
                    ],
                    [
                      "Los Angeles",
                      "2006-03-30"
                    ],
                    [
                      "San Francisco",
                      "2005-03-09"
                    ],
                    [
                      "Arden-Arcade",
                      "2001-08-06"
                    ],
                    [
                      "Chula Vista",
                      "2003-01-10"
                    ],
                    [
                      "Capitan",
                      "2001-11-03"
                    ],
                    [
                      "Long Beach",
                      "2013-04-17"
                    ],
                    [
                      "Arden-Arcade",
                      "2004-10-15"
                    ],
                    [
                      "Fontana",
                      "2014-08-08"
                    ],
                    [
                      "Rubidoux",
                      "2011-04-27"
                    ],
                    [
                      "San Pablo",
                      "2006-09-17"
                    ],
                    [
                      "Burbank",
                      "2004-06-29"
                    ],
                    [
                      "Not in a city",
                      "2010-04-20"
                    ],
                    [
                      "Los Angeles",
                      "2007-12-11"
                    ],
                    [
                      "Arden-Arcade",
                      "2001-07-24"
                    ],
                    [
                      "Vallejo",
                      "2004-04-07"
                    ],
                    [
                      "Bethel Island",
                      "2000-01-09"
                    ],
                    [
                      "Long Beach",
                      "2011-06-23"
                    ],
                    [
                      "San Pablo",
                      "2013-11-18"
                    ],
                    [
                      "Los Angeles",
                      "2013-03-14"
                    ],
                    [
                      "Not in a city",
                      "2009-02-22"
                    ],
                    [
                      "Calexico",
                      "2014-11-24"
                    ],
                    [
                      "Costa Mesa",
                      "2011-01-26"
                    ],
                    [
                      "Victorville",
                      "2016-03-06"
                    ],
                    [
                      "Calexico",
                      "2013-03-13"
                    ],
                    [
                      "Vallejo",
                      "2008-11-07"
                    ],
                    [
                      "Lompoc",
                      "2012-08-16"
                    ],
                    [
                      "Fontana",
                      "2008-05-10"
                    ],
                    [
                      "Los Angeles",
                      "2001-01-04"
                    ],
                    [
                      "Capitan",
                      "2005-11-08"
                    ],
                    [
                      "Pittsburg",
                      "2001-10-29"
                    ],
                    [
                      "Fresno",
                      "2003-01-30"
                    ],
                    [
                      "Not in a city",
                      "2013-10-07"
                    ],
                    [
                      "Victorville",
                      "2007-02-26"
                    ],
                    [
                      "San Francisco",
                      "2000-08-03"
                    ],
                    [
                      "Capitan",
                      "2013-09-19"
                    ],
                    [
                      "Vandenberg Air Force Base",
                      "2014-11-24"
                    ],
                    [
                      "Long Beach",
                      "2000-03-04"
                    ],
                    [
                      "Rubidoux",
                      "2014-11-23"
                    ],
                    [
                      "Long Beach",
                      "2011-03-11"
                    ],
                    [
                      "Hawthorne",
                      "2001-11-27"
                    ],
                    [
                      "Not in a city",
                      "2003-02-23"
                    ],
                    [
                      "Capitan",
                      "2001-07-06"
                    ],
                    [
                      "San Diego",
                      "2008-02-27"
                    ],
                    [
                      "Eureka",
                      "2011-07-28"
                    ],
                    [
                      "Lompoc",
                      "2000-07-16"
                    ],
                    [
                      "Concord",
                      "2016-01-19"
                    ],
                    [
                      "Chula Vista",
                      "2009-06-29"
                    ],
                    [
                      "Pittsburg",
                      "2003-03-25"
                    ],
                    [
                      "San Diego",
                      "2000-06-01"
                    ],
                    [
                      "Lompoc",
                      "2013-01-08"
                    ],
                    [
                      "Capitan",
                      "2010-01-30"
                    ],
                    [
                      "Chula Vista",
                      "2002-04-20"
                    ],
                    [
                      "Crockett",
                      "2002-02-05"
                    ],
                    [
                      "Vallejo",
                      "2000-06-25"
                    ],
                    [
                      "Vandenberg Air Force Base",
                      "2001-08-21"
                    ],
                    [
                      "San Pablo",
                      "2000-11-05"
                    ],
                    [
                      "Vallejo",
                      "2012-03-04"
                    ],
                    [
                      "Eureka",
                      "2013-06-19"
                    ],
                    [
                      "Calexico",
                      "2012-01-07"
                    ],
                    [
                      "Concord",
                      "2012-06-20"
                    ],
                    [
                      "Arden-Arcade",
                      "2009-01-29"
                    ],
                    [
                      "Fresno",
                      "2015-08-13"
                    ],
                    [
                      "Vandenberg Air Force Base",
                      "2011-03-29"
                    ],
                    [
                      "Los Angeles",
                      "2014-04-27"
                    ],
                    [
                      "Davenport",
                      "2002-11-20"
                    ],
                    [
                      "Los Angeles",
                      "2015-06-23"
                    ],
                    [
                      "Vandenberg Air Force Base",
                      "2015-03-16"
                    ],
                    [
                      "Los Angeles",
                      "2000-06-23"
                    ],
                    [
                      "Arden-Arcade",
                      "2010-11-07"
                    ],
                    [
                      "Fresno",
                      "2016-02-24"
                    ],
                    [
                      "Arden-Arcade",
                      "2011-05-06"
                    ],
                    [
                      "Not in a city",
                      "2006-04-05"
                    ],
                    [
                      "Vallejo",
                      "2000-10-19"
                    ],
                    [
                      "Fresno",
                      "2007-06-22"
                    ],
                    [
                      "Victorville",
                      "2009-10-10"
                    ],
                    [
                      "San Pablo",
                      "2007-04-23"
                    ],
                    [
                      "Fontana",
                      "2013-04-16"
                    ],
                    [
                      "Fresno",
                      "2011-01-30"
                    ],
                    [
                      "Los Angeles",
                      "2001-11-14"
                    ],
                    [
                      "Vandenberg Air Force Base",
                      "2007-05-26"
                    ],
                    [
                      "Los Angeles",
                      "2013-10-27"
                    ],
                    [
                      "Goleta",
                      "2003-07-26"
                    ],
                    [
                      "Los Angeles",
                      "2005-11-05"
                    ],
                    [
                      "Los Angeles",
                      "2004-11-10"
                    ],
                    [
                      "Costa Mesa",
                      "2009-01-21"
                    ],
                    [
                      "Chula Vista",
                      "2003-12-27"
                    ],
                    [
                      "Chula Vista",
                      "2008-11-14"
                    ],
                    [
                      "Fresno",
                      "2009-01-24"
                    ],
                    [
                      "Vandenberg Air Force Base",
                      "2001-06-08"
                    ],
                    [
                      "Bethel Island",
                      "2001-12-31"
                    ],
                    [
                      "Calexico",
                      "2000-09-01"
                    ],
                    [
                      "Davenport",
                      "2001-07-26"
                    ],
                    [
                      "Victorville",
                      "2005-10-14"
                    ],
                    [
                      "Los Angeles",
                      "2010-03-24"
                    ],
                    [
                      "San Pablo",
                      "2007-03-24"
                    ],
                    [
                      "Arden-Arcade",
                      "2010-03-14"
                    ],
                    [
                      "Fresno",
                      "2010-04-23"
                    ],
                    [
                      "San Diego",
                      "2001-04-10"
                    ],
                    [
                      "Vandenberg Air Force Base",
                      "2000-03-15"
                    ],
                    [
                      "Los Angeles",
                      "2004-10-23"
                    ],
                    [
                      "Bethel Island",
                      "2007-02-02"
                    ],
                    [
                      "Calexico",
                      "2012-06-22"
                    ],
                    [
                      "Costa Mesa",
                      "2009-09-04"
                    ],
                    [
                      "Not in a city",
                      "2008-05-26"
                    ],
                    [
                      "Burbank",
                      "2005-01-23"
                    ],
                    [
                      "Vandenberg Air Force Base",
                      "2009-05-03"
                    ],
                    [
                      "Not in a city",
                      "2014-05-23"
                    ],
                    [
                      "Bethel Island",
                      "2011-02-05"
                    ],
                    [
                      "Vandenberg Air Force Base",
                      "2009-05-21"
                    ],
                    [
                      "San Diego",
                      "2001-03-29"
                    ],
                    [
                      "Bethel Island",
                      "2010-05-04"
                    ],
                    [
                      "Burbank",
                      "2008-06-13"
                    ],
                    [
                      "Burbank",
                      "2009-08-01"
                    ],
                    [
                      "Rubidoux",
                      "2001-12-31"
                    ],
                    [
                      "Vallejo",
                      "2008-05-09"
                    ],
                    [
                      "Vandenberg Air Force Base",
                      "2003-08-17"
                    ],
                    [
                      "Bethel Island",
                      "2009-08-20"
                    ],
                    [
                      "Long Beach",
                      "2005-02-20"
                    ],
                    [
                      "Not in a city",
                      "2001-01-16"
                    ],
                    [
                      "Vandenberg Air Force Base",
                      "2007-12-24"
                    ],
                    [
                      "Not in a city",
                      "2000-10-24"
                    ],
                    [
                      "Pittsburg",
                      "2001-03-13"
                    ],
                    [
                      "Long Beach",
                      "2001-02-03"
                    ],
                    [
                      "Rubidoux",
                      "2011-04-24"
                    ],
                    [
                      "Costa Mesa",
                      "2009-10-04"
                    ],
                    [
                      "Bethel Island",
                      "2004-01-14"
                    ],
                    [
                      "San Pablo",
                      "2000-03-09"
                    ],
                    [
                      "Victorville",
                      "2015-11-08"
                    ],
                    [
                      "Rubidoux",
                      "2011-05-24"
                    ],
                    [
                      "San Jose",
                      "2011-04-16"
                    ],
                    [
                      "Long Beach",
                      "2011-05-16"
                    ],
                    [
                      "Not in a city",
                      "2000-03-01"
                    ],
                    [
                      "Capitan",
                      "2007-11-17"
                    ],
                    [
                      "Fresno",
                      "2015-05-11"
                    ],
                    [
                      "Lompoc",
                      "2003-06-26"
                    ],
                    [
                      "Victorville",
                      "2006-06-25"
                    ],
                    [
                      "Long Beach",
                      "2002-12-18"
                    ],
                    [
                      "San Jose",
                      "2014-08-21"
                    ],
                    [
                      "Calexico",
                      "2011-08-22"
                    ],
                    [
                      "Rubidoux",
                      "2006-10-01"
                    ],
                    [
                      "Long Beach",
                      "2006-12-14"
                    ],
                    [
                      "Calexico",
                      "2005-11-17"
                    ],
                    [
                      "Goleta",
                      "2001-06-24"
                    ],
                    [
                      "Calexico",
                      "2015-06-29"
                    ],
                    [
                      "Concord",
                      "2004-10-01"
                    ],
                    [
                      "Fontana",
                      "2009-04-30"
                    ],
                    [
                      "Oakland",
                      "2016-03-04"
                    ],
                    [
                      "Arden-Arcade",
                      "2009-05-24"
                    ],
                    [
                      "Oakland",
                      "2011-03-01"
                    ],
                    [
                      "Not in a city",
                      "2005-04-28"
                    ],
                    [
                      "Not in a city",
                      "2002-01-11"
                    ],
                    [
                      "San Pablo",
                      "2001-08-07"
                    ],
                    [
                      "Vallejo",
                      "2011-12-11"
                    ],
                    [
                      "Oakland",
                      "2011-03-23"
                    ],
                    [
                      "San Diego",
                      "2006-05-23"
                    ],
                    [
                      "Capitan",
                      "2008-06-24"
                    ],
                    [
                      "Los Angeles",
                      "2010-02-13"
                    ],
                    [
                      "San Diego",
                      "2006-12-05"
                    ],
                    [
                      "Arden-Arcade",
                      "2005-03-14"
                    ],
                    [
                      "Goleta",
                      "2002-09-13"
                    ],
                    [
                      "San Jose",
                      "2014-01-14"
                    ],
                    [
                      "Rubidoux",
                      "2001-04-30"
                    ],
                    [
                      "Concord",
                      "2003-03-23"
                    ],
                    [
                      "Long Beach",
                      "2006-05-20"
                    ],
                    [
                      "Oakland",
                      "2014-12-08"
                    ],
                    [
                      "Rubidoux",
                      "2013-03-25"
                    ],
                    [
                      "Calexico",
                      "2008-10-26"
                    ],
                    [
                      "Arden-Arcade",
                      "2008-11-05"
                    ],
                    [
                      "Arden-Arcade",
                      "2013-05-26"
                    ],
                    [
                      "Long Beach",
                      "2012-11-10"
                    ],
                    [
                      "San Diego",
                      "2007-02-09"
                    ],
                    [
                      "Eureka",
                      "2016-02-20"
                    ],
                    [
                      "Arden-Arcade",
                      "2009-07-16"
                    ],
                    [
                      "Not in a city",
                      "2000-01-02"
                    ],
                    [
                      "Lompoc",
                      "2002-01-08"
                    ],
                    [
                      "San Pablo",
                      "2006-03-29"
                    ],
                    [
                      "San Pablo",
                      "2012-01-14"
                    ],
                    [
                      "Victorville",
                      "2008-05-23"
                    ],
                    [
                      "Vandenberg Air Force Base",
                      "2015-07-02"
                    ],
                    [
                      "Costa Mesa",
                      "2011-06-12"
                    ],
                    [
                      "Not in a city",
                      "2001-03-02"
                    ],
                    [
                      "Costa Mesa",
                      "2005-01-19"
                    ],
                    [
                      "Concord",
                      "2000-01-28"
                    ],
                    [
                      "San Pablo",
                      "2016-03-02"
                    ],
                    [
                      "San Pablo",
                      "2008-07-05"
                    ],
                    [
                      "Vandenberg Air Force Base",
                      "2004-12-08"
                    ],
                    [
                      "Goleta",
                      "2007-09-16"
                    ],
                    [
                      "Eureka",
                      "2009-07-31"
                    ],
                    [
                      "Fontana",
                      "2008-08-27"
                    ],
                    [
                      "Los Angeles",
                      "2009-02-19"
                    ],
                    [
                      "Vandenberg Air Force Base",
                      "2012-06-28"
                    ],
                    [
                      "Vallejo",
                      "2010-12-01"
                    ],
                    [
                      "Rubidoux",
                      "2015-09-12"
                    ],
                    [
                      "San Francisco",
                      "2005-01-09"
                    ],
                    [
                      "Capitan",
                      "2002-01-13"
                    ],
                    [
                      "Fresno",
                      "2003-04-08"
                    ],
                    [
                      "Vallejo",
                      "2015-05-30"
                    ],
                    [
                      "Calexico",
                      "2005-05-04"
                    ],
                    [
                      "San Jose",
                      "2013-06-21"
                    ],
                    [
                      "Vallejo",
                      "2008-04-04"
                    ],
                    [
                      "Calexico",
                      "2006-03-05"
                    ],
                    [
                      "Rubidoux",
                      "2012-11-10"
                    ],
                    [
                      "Vandenberg Air Force Base",
                      "2013-09-13"
                    ],
                    [
                      "Goleta",
                      "2001-07-05"
                    ],
                    [
                      "Bethel Island",
                      "2012-01-23"
                    ],
                    [
                      "Costa Mesa",
                      "2005-02-20"
                    ],
                    [
                      "Not in a city",
                      "2009-02-06"
                    ],
                    [
                      "Eureka",
                      "2015-02-02"
                    ],
                    [
                      "Bethel Island",
                      "2002-08-27"
                    ],
                    [
                      "Los Angeles",
                      "2000-03-08"
                    ],
                    [
                      "Los Angeles",
                      "2000-04-29"
                    ],
                    [
                      "Not in a city",
                      "2010-04-15"
                    ],
                    [
                      "Fresno",
                      "2016-02-17"
                    ],
                    [
                      "Davenport",
                      "2003-06-09"
                    ],
                    [
                      "Long Beach",
                      "2009-07-23"
                    ],
                    [
                      "Fontana",
                      "2009-03-13"
                    ],
                    [
                      "Bethel Island",
                      "2016-03-12"
                    ],
                    [
                      "Los Angeles",
                      "2006-10-21"
                    ],
                    [
                      "Los Angeles",
                      "2009-04-06"
                    ],
                    [
                      "Burbank",
                      "2000-09-13"
                    ],
                    [
                      "Lompoc",
                      "2010-01-14"
                    ],
                    [
                      "Vandenberg Air Force Base",
                      "2010-02-25"
                    ],
                    [
                      "Goleta",
                      "2004-04-14"
                    ],
                    [
                      "Long Beach",
                      "2004-10-31"
                    ],
                    [
                      "Arden-Arcade",
                      "2008-02-11"
                    ],
                    [
                      "Costa Mesa",
                      "2004-12-24"
                    ],
                    [
                      "Burbank",
                      "2013-10-31"
                    ],
                    [
                      "Bethel Island",
                      "2009-01-09"
                    ],
                    [
                      "Oakland",
                      "2013-02-23"
                    ],
                    [
                      "Capitan",
                      "2010-07-02"
                    ],
                    [
                      "San Diego",
                      "2010-02-21"
                    ],
                    [
                      "Long Beach",
                      "2010-06-20"
                    ],
                    [
                      "Bethel Island",
                      "2015-11-02"
                    ],
                    [
                      "Fresno",
                      "2014-10-11"
                    ],
                    [
                      "San Diego",
                      "2000-03-25"
                    ],
                    [
                      "Capitan",
                      "2008-08-21"
                    ],
                    [
                      "Burbank",
                      "2002-08-26"
                    ],
                    [
                      "Costa Mesa",
                      "2002-12-04"
                    ],
                    [
                      "Rubidoux",
                      "2000-10-20"
                    ],
                    [
                      "Fresno",
                      "2014-05-19"
                    ],
                    [
                      "Not in a city",
                      "2001-07-05"
                    ],
                    [
                      "Vallejo",
                      "2013-01-14"
                    ],
                    [
                      "San Diego",
                      "2004-04-04"
                    ],
                    [
                      "Vallejo",
                      "2007-05-13"
                    ],
                    [
                      "Long Beach",
                      "2010-11-16"
                    ],
                    [
                      "Bethel Island",
                      "2004-04-25"
                    ],
                    [
                      "Rubidoux",
                      "2015-11-18"
                    ],
                    [
                      "Bethel Island",
                      "2010-06-03"
                    ],
                    [
                      "Lompoc",
                      "2007-05-26"
                    ],
                    [
                      "Vandenberg Air Force Base",
                      "2015-08-26"
                    ],
                    [
                      "Bethel Island",
                      "2002-05-11"
                    ],
                    [
                      "Calexico",
                      "2000-06-16"
                    ],
                    [
                      "Rubidoux",
                      "2003-08-11"
                    ],
                    [
                      "Capitan",
                      "2003-04-27"
                    ],
                    [
                      "San Jose",
                      "2012-12-07"
                    ],
                    [
                      "Eureka",
                      "2016-02-03"
                    ],
                    [
                      "Vandenberg Air Force Base",
                      "2010-05-02"
                    ],
                    [
                      "Rubidoux",
                      "2012-03-10"
                    ],
                    [
                      "San Diego",
                      "2007-04-14"
                    ],
                    [
                      "Fontana",
                      "2012-08-07"
                    ],
                    [
                      "Concord",
                      "2008-06-30"
                    ],
                    [
                      "Fresno",
                      "2012-05-04"
                    ],
                    [
                      "Calexico",
                      "2014-06-16"
                    ],
                    [
                      "Costa Mesa",
                      "2005-05-11"
                    ],
                    [
                      "San Pablo",
                      "2013-11-05"
                    ],
                    [
                      "Calexico",
                      "2008-01-03"
                    ],
                    [
                      "Eureka",
                      "2015-01-14"
                    ],
                    [
                      "Davenport",
                      "2002-12-02"
                    ],
                    [
                      "Bethel Island",
                      "2014-01-30"
                    ],
                    [
                      "Fontana",
                      "2010-01-27"
                    ],
                    [
                      "Fresno",
                      "2015-07-25"
                    ],
                    [
                      "Bethel Island",
                      "2011-04-17"
                    ],
                    [
                      "Vandenberg Air Force Base",
                      "2007-05-03"
                    ],
                    [
                      "Lompoc",
                      "2013-04-05"
                    ],
                    [
                      "San Diego",
                      "2007-01-13"
                    ],
                    [
                      "Lompoc",
                      "2008-04-23"
                    ],
                    [
                      "El Cajon",
                      "2015-09-21"
                    ],
                    [
                      "Calexico",
                      "2008-12-27"
                    ],
                    [
                      "Los Angeles",
                      "2012-04-29"
                    ],
                    [
                      "Hawthorne",
                      "2004-01-14"
                    ],
                    [
                      "Bethel Island",
                      "2001-02-05"
                    ],
                    [
                      "Burbank",
                      "2003-08-23"
                    ],
                    [
                      "Arden-Arcade",
                      "2010-07-14"
                    ],
                    [
                      "Vallejo",
                      "2004-10-05"
                    ],
                    [
                      "Los Angeles",
                      "2005-07-08"
                    ],
                    [
                      "Los Angeles",
                      "2004-12-09"
                    ],
                    [
                      "Lompoc",
                      "2004-05-09"
                    ],
                    [
                      "Capitan",
                      "2004-04-27"
                    ],
                    [
                      "San Diego",
                      "2009-02-10"
                    ],
                    [
                      "Not in a city",
                      "2001-08-12"
                    ],
                    [
                      "Not in a city",
                      "2010-08-29"
                    ],
                    [
                      "Rubidoux",
                      "2015-10-01"
                    ],
                    [
                      "Costa Mesa",
                      "2007-07-26"
                    ],
                    [
                      "Los Angeles",
                      "2002-12-16"
                    ],
                    [
                      "Vandenberg Air Force Base",
                      "2012-09-07"
                    ],
                    [
                      "Capitan",
                      "2012-03-16"
                    ],
                    [
                      "Not in a city",
                      "2002-11-10"
                    ],
                    [
                      "San Diego",
                      "2004-09-24"
                    ],
                    [
                      "Vallejo",
                      "2000-10-02"
                    ],
                    [
                      "Los Angeles",
                      "2006-01-19"
                    ],
                    [
                      "Victorville",
                      "2015-11-27"
                    ],
                    [
                      "San Diego",
                      "2008-08-04"
                    ],
                    [
                      "Hawthorne",
                      "2003-07-26"
                    ],
                    [
                      "Concord",
                      "2013-04-22"
                    ],
                    [
                      "Not in a city",
                      "2000-09-27"
                    ]
                  ],
                  "hovertemplate": "state=California<br>no2 aqi=%{x}<br>co aqi=%{y}<br>city=%{customdata[0]}<br>date local=%{customdata[1]}<extra></extra>",
                  "legendgroup": "California",
                  "marker": {
                    "color": "rgb(252,141,98)",
                    "symbol": "circle"
                  },
                  "mode": "markers",
                  "name": "California",
                  "showlegend": true,
                  "type": "scattergl",
                  "x": [
                    1,
                    26,
                    23,
                    9,
                    35,
                    8,
                    9,
                    38,
                    18,
                    39,
                    23,
                    13,
                    39,
                    34,
                    42,
                    23,
                    7,
                    5,
                    49,
                    19,
                    39,
                    9,
                    12,
                    42,
                    5,
                    9,
                    4,
                    27,
                    107,
                    6,
                    3,
                    25,
                    14,
                    12,
                    34,
                    13,
                    1,
                    8,
                    41,
                    24,
                    21,
                    19,
                    6,
                    21,
                    76,
                    38,
                    28,
                    7,
                    3,
                    3,
                    15,
                    18,
                    24,
                    8,
                    37,
                    40,
                    9,
                    13,
                    30,
                    29,
                    7,
                    23,
                    25,
                    6,
                    9,
                    5,
                    54,
                    13,
                    12,
                    3,
                    13,
                    0,
                    4,
                    43,
                    36,
                    8,
                    12,
                    27,
                    28,
                    11,
                    41,
                    43,
                    15,
                    33,
                    15,
                    51,
                    61,
                    34,
                    42,
                    34,
                    0,
                    53,
                    21,
                    15,
                    33,
                    31,
                    26,
                    9,
                    41,
                    8,
                    33,
                    8,
                    29,
                    1,
                    6,
                    24,
                    8,
                    18,
                    12,
                    33,
                    1,
                    17,
                    13,
                    26,
                    9,
                    31,
                    17,
                    38,
                    14,
                    27,
                    29,
                    34,
                    61,
                    12,
                    23,
                    19,
                    1,
                    41,
                    33,
                    22,
                    62,
                    22,
                    26,
                    8,
                    22,
                    25,
                    48,
                    43,
                    55,
                    33,
                    33,
                    10,
                    34,
                    23,
                    11,
                    22,
                    9,
                    45,
                    3,
                    1,
                    90,
                    19,
                    2,
                    53,
                    8,
                    33,
                    8,
                    14,
                    23,
                    27,
                    9,
                    58,
                    23,
                    37,
                    20,
                    25,
                    16,
                    34,
                    10,
                    22,
                    30,
                    22,
                    35,
                    5,
                    23,
                    46,
                    30,
                    18,
                    26,
                    33,
                    22,
                    65,
                    14,
                    22,
                    6,
                    51,
                    44,
                    16,
                    4,
                    42,
                    40,
                    25,
                    13,
                    20,
                    26,
                    35,
                    69,
                    19,
                    2,
                    23,
                    21,
                    8,
                    19,
                    20,
                    5,
                    1,
                    34,
                    8,
                    18,
                    57,
                    21,
                    26,
                    4,
                    40,
                    8,
                    36,
                    8,
                    4,
                    22,
                    49,
                    2,
                    19,
                    29,
                    9,
                    39,
                    52,
                    25,
                    48,
                    27,
                    45,
                    64,
                    1,
                    10,
                    3,
                    34,
                    10,
                    8,
                    12,
                    62,
                    12,
                    20,
                    33,
                    26,
                    36,
                    0,
                    29,
                    24,
                    22,
                    19,
                    32,
                    33,
                    1,
                    2,
                    42,
                    4,
                    28,
                    15,
                    26,
                    51,
                    30,
                    25,
                    41,
                    102,
                    46,
                    27,
                    7,
                    34,
                    44,
                    16,
                    1,
                    25,
                    19,
                    11,
                    3,
                    25,
                    42,
                    31,
                    28,
                    112,
                    22,
                    43,
                    37,
                    25,
                    28,
                    44,
                    33,
                    37,
                    22,
                    40,
                    12,
                    21,
                    68,
                    38,
                    41,
                    33,
                    27,
                    49,
                    9,
                    29,
                    35,
                    16,
                    0,
                    4,
                    11,
                    30,
                    38,
                    27,
                    38,
                    16,
                    35,
                    58,
                    39,
                    41,
                    3,
                    8,
                    42,
                    17,
                    42,
                    23,
                    15,
                    28,
                    68,
                    8,
                    42,
                    40,
                    38,
                    39,
                    15,
                    32,
                    2,
                    37,
                    18,
                    14,
                    23,
                    34,
                    15,
                    26,
                    9,
                    15,
                    15,
                    24,
                    8,
                    40,
                    4,
                    4,
                    3,
                    16,
                    19,
                    0,
                    41,
                    60,
                    10,
                    1,
                    41,
                    97,
                    9,
                    56,
                    4,
                    6,
                    19,
                    9,
                    26,
                    5,
                    34,
                    17,
                    52,
                    35,
                    39,
                    23,
                    28,
                    51,
                    16,
                    20,
                    15,
                    6,
                    23,
                    11,
                    15,
                    37,
                    1,
                    15,
                    8,
                    25,
                    4,
                    24,
                    40,
                    30,
                    79,
                    18,
                    7,
                    16,
                    50,
                    45,
                    48,
                    39,
                    32,
                    28,
                    26,
                    29,
                    2,
                    6,
                    46,
                    25,
                    25,
                    9,
                    36,
                    29,
                    18,
                    24,
                    31,
                    11,
                    19,
                    8,
                    27,
                    24,
                    28,
                    25,
                    4,
                    50,
                    22,
                    32,
                    52,
                    11,
                    27,
                    19,
                    5,
                    32,
                    38,
                    49,
                    34,
                    38,
                    20,
                    24,
                    37,
                    6,
                    7,
                    45,
                    13,
                    8,
                    8,
                    20,
                    41,
                    11,
                    3,
                    31,
                    1,
                    25,
                    32,
                    78,
                    54,
                    9,
                    9,
                    42,
                    0,
                    1,
                    20,
                    25,
                    13,
                    37,
                    49,
                    4,
                    8,
                    32,
                    17,
                    16,
                    8,
                    6,
                    46,
                    26,
                    40,
                    78,
                    42,
                    23,
                    22,
                    12,
                    32,
                    38,
                    20,
                    11,
                    12,
                    14,
                    28,
                    24,
                    38,
                    49,
                    53,
                    8,
                    2,
                    25,
                    31,
                    25,
                    31,
                    6,
                    15,
                    14,
                    14,
                    6,
                    8,
                    14,
                    17,
                    28,
                    27,
                    21,
                    41,
                    8,
                    27,
                    64,
                    25,
                    47,
                    22,
                    32,
                    12,
                    41,
                    13,
                    24,
                    20,
                    24,
                    27,
                    89,
                    8,
                    28,
                    44,
                    4,
                    42,
                    27,
                    2,
                    36,
                    77,
                    10,
                    35,
                    21,
                    5,
                    18,
                    20,
                    7,
                    0,
                    42,
                    33,
                    32,
                    50,
                    23,
                    8,
                    60,
                    8,
                    4,
                    13,
                    17,
                    17,
                    24,
                    15,
                    1,
                    35,
                    28,
                    10,
                    0,
                    30,
                    31,
                    1,
                    52,
                    14,
                    30,
                    12,
                    1,
                    26,
                    12,
                    18,
                    1,
                    33,
                    9,
                    25,
                    10,
                    16,
                    28,
                    19,
                    39,
                    17,
                    26,
                    25,
                    51,
                    1,
                    36,
                    7,
                    49,
                    37,
                    42,
                    38,
                    63,
                    16,
                    1,
                    11,
                    8,
                    5,
                    50,
                    42,
                    10,
                    28,
                    32,
                    46,
                    1,
                    38,
                    21,
                    25,
                    20,
                    2,
                    53,
                    1,
                    1,
                    10,
                    1,
                    34,
                    6,
                    31,
                    18,
                    25,
                    15,
                    1,
                    6,
                    21,
                    7,
                    2,
                    28,
                    29,
                    72,
                    8,
                    4,
                    23,
                    32,
                    25,
                    14,
                    7,
                    25,
                    42,
                    4,
                    8,
                    24,
                    41,
                    46,
                    12,
                    33,
                    34,
                    72,
                    42,
                    9,
                    32,
                    25,
                    41,
                    21,
                    8,
                    35,
                    18,
                    30,
                    14,
                    27,
                    23,
                    37,
                    7,
                    43,
                    51,
                    25,
                    19,
                    42,
                    40,
                    18,
                    20,
                    26,
                    37,
                    50,
                    21,
                    1,
                    32,
                    42,
                    8,
                    15,
                    13,
                    13,
                    22,
                    39,
                    14,
                    2,
                    2,
                    20,
                    55,
                    28,
                    15,
                    8,
                    4,
                    12,
                    4,
                    41,
                    50,
                    0,
                    31,
                    25,
                    37,
                    7,
                    39,
                    5,
                    38,
                    21,
                    15,
                    37,
                    28,
                    0,
                    21,
                    18,
                    9,
                    23,
                    8,
                    20,
                    35,
                    62,
                    30,
                    27,
                    5,
                    18,
                    38,
                    3,
                    68,
                    44,
                    104,
                    22,
                    2,
                    16,
                    49,
                    34,
                    40,
                    51,
                    19,
                    14,
                    4,
                    16,
                    13,
                    7,
                    28,
                    23,
                    12,
                    83,
                    61,
                    78,
                    8,
                    17,
                    42,
                    18,
                    12,
                    29,
                    16,
                    43,
                    5,
                    4,
                    0,
                    10,
                    19,
                    56,
                    4,
                    34,
                    20,
                    1,
                    41,
                    44,
                    55,
                    8,
                    8,
                    49,
                    25,
                    36,
                    48,
                    19,
                    12,
                    7,
                    36,
                    5,
                    5,
                    2,
                    2,
                    38,
                    11,
                    25,
                    27,
                    14,
                    51,
                    29,
                    34,
                    8,
                    31,
                    40,
                    61,
                    2,
                    6,
                    33,
                    17,
                    9,
                    42,
                    12,
                    39,
                    0,
                    6,
                    16,
                    67,
                    11,
                    26,
                    27,
                    22,
                    11,
                    20,
                    33
                  ],
                  "xaxis": "x",
                  "y": [
                    2,
                    6,
                    3,
                    3,
                    5,
                    3,
                    3,
                    9,
                    9,
                    23,
                    5,
                    3,
                    10,
                    3,
                    8,
                    8,
                    5,
                    3,
                    15,
                    3,
                    3,
                    6,
                    5,
                    18,
                    3,
                    5,
                    5,
                    6,
                    62,
                    0,
                    1,
                    6,
                    3,
                    7,
                    7,
                    9,
                    2,
                    2,
                    5,
                    6,
                    6,
                    3,
                    5,
                    3,
                    32,
                    16,
                    11,
                    3,
                    3,
                    2,
                    6,
                    7,
                    11,
                    0,
                    9,
                    10,
                    5,
                    5,
                    9,
                    5,
                    2,
                    1,
                    9,
                    2,
                    7,
                    5,
                    17,
                    5,
                    1,
                    2,
                    3,
                    2,
                    2,
                    16,
                    14,
                    5,
                    2,
                    7,
                    6,
                    2,
                    30,
                    11,
                    5,
                    13,
                    2,
                    6,
                    33,
                    11,
                    8,
                    16,
                    0,
                    19,
                    5,
                    2,
                    7,
                    15,
                    7,
                    2,
                    5,
                    3,
                    6,
                    3,
                    9,
                    3,
                    3,
                    6,
                    3,
                    13,
                    3,
                    20,
                    2,
                    7,
                    3,
                    1,
                    3,
                    9,
                    5,
                    18,
                    3,
                    7,
                    26,
                    3,
                    14,
                    2,
                    3,
                    7,
                    5,
                    9,
                    5,
                    6,
                    13,
                    5,
                    6,
                    1,
                    9,
                    5,
                    13,
                    16,
                    17,
                    8,
                    11,
                    3,
                    11,
                    3,
                    6,
                    5,
                    3,
                    17,
                    3,
                    0,
                    32,
                    2,
                    2,
                    8,
                    2,
                    9,
                    5,
                    20,
                    6,
                    14,
                    5,
                    11,
                    9,
                    8,
                    7,
                    1,
                    8,
                    8,
                    5,
                    2,
                    16,
                    7,
                    6,
                    2,
                    8,
                    22,
                    8,
                    3,
                    5,
                    9,
                    2,
                    18,
                    5,
                    2,
                    1,
                    11,
                    17,
                    3,
                    3,
                    9,
                    8,
                    14,
                    2,
                    5,
                    8,
                    9,
                    26,
                    2,
                    3,
                    16,
                    7,
                    1,
                    6,
                    2,
                    0,
                    2,
                    8,
                    5,
                    5,
                    17,
                    7,
                    2,
                    2,
                    7,
                    3,
                    9,
                    1,
                    3,
                    5,
                    13,
                    0,
                    5,
                    5,
                    1,
                    13,
                    8,
                    13,
                    6,
                    2,
                    8,
                    5,
                    0,
                    3,
                    5,
                    8,
                    2,
                    3,
                    8,
                    10,
                    3,
                    8,
                    3,
                    7,
                    6,
                    3,
                    6,
                    3,
                    5,
                    7,
                    11,
                    8,
                    3,
                    3,
                    7,
                    1,
                    8,
                    0,
                    17,
                    19,
                    5,
                    5,
                    7,
                    36,
                    19,
                    10,
                    5,
                    20,
                    9,
                    5,
                    1,
                    5,
                    9,
                    7,
                    9,
                    9,
                    11,
                    10,
                    7,
                    34,
                    1,
                    9,
                    3,
                    23,
                    6,
                    30,
                    2,
                    8,
                    6,
                    17,
                    2,
                    3,
                    26,
                    16,
                    14,
                    20,
                    9,
                    3,
                    5,
                    10,
                    5,
                    3,
                    1,
                    5,
                    5,
                    8,
                    8,
                    6,
                    6,
                    5,
                    15,
                    15,
                    13,
                    14,
                    3,
                    1,
                    10,
                    5,
                    3,
                    7,
                    0,
                    5,
                    14,
                    3,
                    13,
                    40,
                    10,
                    5,
                    3,
                    15,
                    0,
                    8,
                    5,
                    5,
                    7,
                    5,
                    3,
                    6,
                    5,
                    3,
                    1,
                    6,
                    3,
                    9,
                    2,
                    5,
                    3,
                    1,
                    5,
                    2,
                    3,
                    23,
                    6,
                    1,
                    9,
                    15,
                    3,
                    19,
                    2,
                    5,
                    5,
                    3,
                    11,
                    3,
                    9,
                    7,
                    14,
                    9,
                    9,
                    10,
                    2,
                    13,
                    3,
                    11,
                    7,
                    2,
                    2,
                    5,
                    8,
                    3,
                    3,
                    5,
                    1,
                    5,
                    3,
                    7,
                    11,
                    3,
                    26,
                    3,
                    5,
                    7,
                    10,
                    7,
                    3,
                    18,
                    9,
                    8,
                    15,
                    3,
                    5,
                    3,
                    25,
                    3,
                    5,
                    10,
                    6,
                    2,
                    3,
                    7,
                    10,
                    2,
                    3,
                    2,
                    7,
                    11,
                    2,
                    3,
                    6,
                    10,
                    7,
                    0,
                    18,
                    5,
                    6,
                    1,
                    2,
                    6,
                    2,
                    26,
                    8,
                    11,
                    3,
                    10,
                    11,
                    2,
                    2,
                    20,
                    5,
                    5,
                    5,
                    5,
                    25,
                    5,
                    1,
                    8,
                    2,
                    6,
                    7,
                    23,
                    10,
                    2,
                    5,
                    9,
                    1,
                    3,
                    8,
                    5,
                    5,
                    18,
                    18,
                    5,
                    6,
                    6,
                    2,
                    5,
                    6,
                    3,
                    55,
                    7,
                    30,
                    23,
                    22,
                    3,
                    7,
                    3,
                    10,
                    23,
                    6,
                    6,
                    3,
                    5,
                    3,
                    5,
                    20,
                    9,
                    19,
                    5,
                    2,
                    10,
                    5,
                    6,
                    7,
                    3,
                    3,
                    3,
                    6,
                    1,
                    3,
                    9,
                    5,
                    9,
                    2,
                    2,
                    16,
                    5,
                    3,
                    26,
                    2,
                    8,
                    7,
                    5,
                    3,
                    8,
                    2,
                    5,
                    9,
                    2,
                    7,
                    14,
                    5,
                    5,
                    18,
                    3,
                    10,
                    15,
                    5,
                    6,
                    38,
                    6,
                    8,
                    11,
                    3,
                    2,
                    7,
                    0,
                    2,
                    7,
                    8,
                    5,
                    27,
                    6,
                    2,
                    18,
                    3,
                    3,
                    6,
                    7,
                    5,
                    8,
                    5,
                    3,
                    10,
                    0,
                    2,
                    2,
                    8,
                    14,
                    3,
                    48,
                    3,
                    15,
                    1,
                    2,
                    5,
                    5,
                    1,
                    5,
                    7,
                    2,
                    9,
                    3,
                    6,
                    7,
                    0,
                    3,
                    6,
                    3,
                    5,
                    33,
                    3,
                    14,
                    2,
                    13,
                    14,
                    9,
                    10,
                    16,
                    7,
                    2,
                    5,
                    2,
                    2,
                    10,
                    8,
                    3,
                    6,
                    6,
                    8,
                    2,
                    15,
                    5,
                    3,
                    2,
                    2,
                    39,
                    0,
                    2,
                    6,
                    0,
                    11,
                    3,
                    6,
                    3,
                    19,
                    5,
                    1,
                    2,
                    7,
                    10,
                    8,
                    6,
                    7,
                    27,
                    2,
                    1,
                    5,
                    9,
                    6,
                    5,
                    2,
                    5,
                    13,
                    2,
                    2,
                    7,
                    5,
                    22,
                    2,
                    6,
                    11,
                    30,
                    20,
                    3,
                    6,
                    7,
                    7,
                    7,
                    3,
                    6,
                    5,
                    5,
                    5,
                    20,
                    1,
                    10,
                    8,
                    18,
                    33,
                    7,
                    5,
                    16,
                    15,
                    3,
                    5,
                    14,
                    10,
                    42,
                    11,
                    1,
                    7,
                    15,
                    6,
                    5,
                    3,
                    7,
                    6,
                    9,
                    1,
                    2,
                    0,
                    5,
                    26,
                    18,
                    8,
                    2,
                    1,
                    0,
                    2,
                    7,
                    11,
                    2,
                    11,
                    7,
                    9,
                    3,
                    13,
                    5,
                    9,
                    3,
                    3,
                    20,
                    7,
                    2,
                    5,
                    5,
                    0,
                    5,
                    3,
                    5,
                    14,
                    16,
                    6,
                    8,
                    3,
                    3,
                    7,
                    6,
                    22,
                    14,
                    24,
                    2,
                    2,
                    3,
                    16,
                    20,
                    13,
                    10,
                    5,
                    6,
                    2,
                    5,
                    3,
                    5,
                    5,
                    11,
                    0,
                    18,
                    24,
                    25,
                    2,
                    3,
                    14,
                    10,
                    3,
                    6,
                    3,
                    9,
                    3,
                    3,
                    2,
                    2,
                    14,
                    15,
                    3,
                    13,
                    7,
                    1,
                    8,
                    15,
                    7,
                    5,
                    3,
                    6,
                    2,
                    7,
                    25,
                    7,
                    6,
                    2,
                    6,
                    2,
                    5,
                    1,
                    1,
                    17,
                    5,
                    5,
                    8,
                    3,
                    33,
                    11,
                    10,
                    2,
                    6,
                    5,
                    28,
                    3,
                    3,
                    13,
                    1,
                    6,
                    8,
                    1,
                    16,
                    2,
                    2,
                    5,
                    17,
                    5,
                    5,
                    5,
                    5,
                    2,
                    5,
                    11
                  ],
                  "yaxis": "y"
                },
                {
                  "hovertemplate": "<b>OLS trendline</b><br>co aqi = 0.296658 * no2 aqi + 0.360637<br>R<sup>2</sup>=0.525512<br><br>state=California<br>no2 aqi=%{x}<br>co aqi=%{y} <b>(trend)</b><extra></extra>",
                  "legendgroup": "California",
                  "marker": {
                    "color": "rgb(252,141,98)",
                    "symbol": "circle"
                  },
                  "mode": "lines",
                  "name": "California",
                  "showlegend": false,
                  "type": "scattergl",
                  "x": [
                    0,
                    0,
                    0,
                    0,
                    0,
                    0,
                    0,
                    0,
                    0,
                    0,
                    0,
                    0,
                    1,
                    1,
                    1,
                    1,
                    1,
                    1,
                    1,
                    1,
                    1,
                    1,
                    1,
                    1,
                    1,
                    1,
                    1,
                    1,
                    1,
                    1,
                    1,
                    1,
                    1,
                    1,
                    1,
                    1,
                    1,
                    1,
                    1,
                    2,
                    2,
                    2,
                    2,
                    2,
                    2,
                    2,
                    2,
                    2,
                    2,
                    2,
                    2,
                    2,
                    2,
                    2,
                    2,
                    3,
                    3,
                    3,
                    3,
                    3,
                    3,
                    3,
                    3,
                    3,
                    3,
                    3,
                    4,
                    4,
                    4,
                    4,
                    4,
                    4,
                    4,
                    4,
                    4,
                    4,
                    4,
                    4,
                    4,
                    4,
                    4,
                    4,
                    4,
                    4,
                    4,
                    4,
                    4,
                    4,
                    5,
                    5,
                    5,
                    5,
                    5,
                    5,
                    5,
                    5,
                    5,
                    5,
                    5,
                    5,
                    5,
                    5,
                    6,
                    6,
                    6,
                    6,
                    6,
                    6,
                    6,
                    6,
                    6,
                    6,
                    6,
                    6,
                    6,
                    6,
                    6,
                    6,
                    7,
                    7,
                    7,
                    7,
                    7,
                    7,
                    7,
                    7,
                    7,
                    7,
                    7,
                    7,
                    7,
                    7,
                    8,
                    8,
                    8,
                    8,
                    8,
                    8,
                    8,
                    8,
                    8,
                    8,
                    8,
                    8,
                    8,
                    8,
                    8,
                    8,
                    8,
                    8,
                    8,
                    8,
                    8,
                    8,
                    8,
                    8,
                    8,
                    8,
                    8,
                    8,
                    8,
                    8,
                    8,
                    8,
                    8,
                    8,
                    8,
                    8,
                    8,
                    8,
                    8,
                    8,
                    8,
                    9,
                    9,
                    9,
                    9,
                    9,
                    9,
                    9,
                    9,
                    9,
                    9,
                    9,
                    9,
                    9,
                    9,
                    9,
                    9,
                    9,
                    9,
                    9,
                    9,
                    9,
                    9,
                    10,
                    10,
                    10,
                    10,
                    10,
                    10,
                    10,
                    10,
                    10,
                    10,
                    10,
                    11,
                    11,
                    11,
                    11,
                    11,
                    11,
                    11,
                    11,
                    11,
                    11,
                    11,
                    11,
                    11,
                    12,
                    12,
                    12,
                    12,
                    12,
                    12,
                    12,
                    12,
                    12,
                    12,
                    12,
                    12,
                    12,
                    12,
                    12,
                    12,
                    12,
                    12,
                    12,
                    12,
                    13,
                    13,
                    13,
                    13,
                    13,
                    13,
                    13,
                    13,
                    13,
                    13,
                    13,
                    13,
                    13,
                    13,
                    14,
                    14,
                    14,
                    14,
                    14,
                    14,
                    14,
                    14,
                    14,
                    14,
                    14,
                    14,
                    14,
                    14,
                    14,
                    15,
                    15,
                    15,
                    15,
                    15,
                    15,
                    15,
                    15,
                    15,
                    15,
                    15,
                    15,
                    15,
                    15,
                    15,
                    15,
                    15,
                    15,
                    15,
                    16,
                    16,
                    16,
                    16,
                    16,
                    16,
                    16,
                    16,
                    16,
                    16,
                    16,
                    16,
                    16,
                    16,
                    16,
                    17,
                    17,
                    17,
                    17,
                    17,
                    17,
                    17,
                    17,
                    17,
                    17,
                    17,
                    18,
                    18,
                    18,
                    18,
                    18,
                    18,
                    18,
                    18,
                    18,
                    18,
                    18,
                    18,
                    18,
                    18,
                    18,
                    18,
                    19,
                    19,
                    19,
                    19,
                    19,
                    19,
                    19,
                    19,
                    19,
                    19,
                    19,
                    19,
                    19,
                    19,
                    19,
                    19,
                    19,
                    19,
                    20,
                    20,
                    20,
                    20,
                    20,
                    20,
                    20,
                    20,
                    20,
                    20,
                    20,
                    20,
                    20,
                    20,
                    20,
                    20,
                    20,
                    21,
                    21,
                    21,
                    21,
                    21,
                    21,
                    21,
                    21,
                    21,
                    21,
                    21,
                    21,
                    21,
                    21,
                    22,
                    22,
                    22,
                    22,
                    22,
                    22,
                    22,
                    22,
                    22,
                    22,
                    22,
                    22,
                    22,
                    22,
                    22,
                    22,
                    22,
                    22,
                    23,
                    23,
                    23,
                    23,
                    23,
                    23,
                    23,
                    23,
                    23,
                    23,
                    23,
                    23,
                    23,
                    23,
                    23,
                    23,
                    23,
                    23,
                    23,
                    23,
                    24,
                    24,
                    24,
                    24,
                    24,
                    24,
                    24,
                    24,
                    24,
                    24,
                    24,
                    24,
                    24,
                    24,
                    25,
                    25,
                    25,
                    25,
                    25,
                    25,
                    25,
                    25,
                    25,
                    25,
                    25,
                    25,
                    25,
                    25,
                    25,
                    25,
                    25,
                    25,
                    25,
                    25,
                    25,
                    25,
                    25,
                    25,
                    25,
                    25,
                    25,
                    25,
                    25,
                    25,
                    26,
                    26,
                    26,
                    26,
                    26,
                    26,
                    26,
                    26,
                    26,
                    26,
                    26,
                    26,
                    26,
                    26,
                    26,
                    26,
                    26,
                    27,
                    27,
                    27,
                    27,
                    27,
                    27,
                    27,
                    27,
                    27,
                    27,
                    27,
                    27,
                    27,
                    27,
                    27,
                    27,
                    27,
                    27,
                    28,
                    28,
                    28,
                    28,
                    28,
                    28,
                    28,
                    28,
                    28,
                    28,
                    28,
                    28,
                    28,
                    28,
                    28,
                    28,
                    28,
                    28,
                    28,
                    29,
                    29,
                    29,
                    29,
                    29,
                    29,
                    29,
                    29,
                    29,
                    29,
                    29,
                    30,
                    30,
                    30,
                    30,
                    30,
                    30,
                    30,
                    30,
                    30,
                    30,
                    31,
                    31,
                    31,
                    31,
                    31,
                    31,
                    31,
                    31,
                    31,
                    31,
                    31,
                    32,
                    32,
                    32,
                    32,
                    32,
                    32,
                    32,
                    32,
                    32,
                    32,
                    32,
                    32,
                    32,
                    32,
                    33,
                    33,
                    33,
                    33,
                    33,
                    33,
                    33,
                    33,
                    33,
                    33,
                    33,
                    33,
                    33,
                    33,
                    33,
                    33,
                    33,
                    33,
                    34,
                    34,
                    34,
                    34,
                    34,
                    34,
                    34,
                    34,
                    34,
                    34,
                    34,
                    34,
                    34,
                    34,
                    34,
                    34,
                    34,
                    34,
                    35,
                    35,
                    35,
                    35,
                    35,
                    35,
                    35,
                    35,
                    35,
                    35,
                    36,
                    36,
                    36,
                    36,
                    36,
                    36,
                    36,
                    36,
                    37,
                    37,
                    37,
                    37,
                    37,
                    37,
                    37,
                    37,
                    37,
                    37,
                    37,
                    37,
                    37,
                    38,
                    38,
                    38,
                    38,
                    38,
                    38,
                    38,
                    38,
                    38,
                    38,
                    38,
                    38,
                    38,
                    38,
                    38,
                    38,
                    39,
                    39,
                    39,
                    39,
                    39,
                    39,
                    39,
                    39,
                    39,
                    39,
                    39,
                    39,
                    40,
                    40,
                    40,
                    40,
                    40,
                    40,
                    40,
                    40,
                    40,
                    40,
                    40,
                    41,
                    41,
                    41,
                    41,
                    41,
                    41,
                    41,
                    41,
                    41,
                    41,
                    41,
                    41,
                    41,
                    41,
                    41,
                    41,
                    42,
                    42,
                    42,
                    42,
                    42,
                    42,
                    42,
                    42,
                    42,
                    42,
                    42,
                    42,
                    42,
                    42,
                    42,
                    42,
                    42,
                    42,
                    42,
                    42,
                    42,
                    43,
                    43,
                    43,
                    43,
                    43,
                    43,
                    44,
                    44,
                    44,
                    44,
                    44,
                    44,
                    45,
                    45,
                    45,
                    45,
                    46,
                    46,
                    46,
                    46,
                    46,
                    46,
                    47,
                    48,
                    48,
                    48,
                    48,
                    49,
                    49,
                    49,
                    49,
                    49,
                    49,
                    49,
                    49,
                    49,
                    50,
                    50,
                    50,
                    50,
                    50,
                    50,
                    51,
                    51,
                    51,
                    51,
                    51,
                    51,
                    51,
                    51,
                    52,
                    52,
                    52,
                    52,
                    53,
                    53,
                    53,
                    53,
                    54,
                    54,
                    55,
                    55,
                    55,
                    56,
                    56,
                    57,
                    58,
                    58,
                    60,
                    60,
                    61,
                    61,
                    61,
                    61,
                    62,
                    62,
                    62,
                    63,
                    64,
                    64,
                    65,
                    67,
                    68,
                    68,
                    68,
                    69,
                    72,
                    72,
                    76,
                    77,
                    78,
                    78,
                    78,
                    79,
                    83,
                    89,
                    90,
                    97,
                    102,
                    104,
                    107,
                    112
                  ],
                  "xaxis": "x",
                  "y": [
                    0.36063674605070306,
                    0.36063674605070306,
                    0.36063674605070306,
                    0.36063674605070306,
                    0.36063674605070306,
                    0.36063674605070306,
                    0.36063674605070306,
                    0.36063674605070306,
                    0.36063674605070306,
                    0.36063674605070306,
                    0.36063674605070306,
                    0.36063674605070306,
                    0.6572950770107704,
                    0.6572950770107704,
                    0.6572950770107704,
                    0.6572950770107704,
                    0.6572950770107704,
                    0.6572950770107704,
                    0.6572950770107704,
                    0.6572950770107704,
                    0.6572950770107704,
                    0.6572950770107704,
                    0.6572950770107704,
                    0.6572950770107704,
                    0.6572950770107704,
                    0.6572950770107704,
                    0.6572950770107704,
                    0.6572950770107704,
                    0.6572950770107704,
                    0.6572950770107704,
                    0.6572950770107704,
                    0.6572950770107704,
                    0.6572950770107704,
                    0.6572950770107704,
                    0.6572950770107704,
                    0.6572950770107704,
                    0.6572950770107704,
                    0.6572950770107704,
                    0.6572950770107704,
                    0.9539534079708376,
                    0.9539534079708376,
                    0.9539534079708376,
                    0.9539534079708376,
                    0.9539534079708376,
                    0.9539534079708376,
                    0.9539534079708376,
                    0.9539534079708376,
                    0.9539534079708376,
                    0.9539534079708376,
                    0.9539534079708376,
                    0.9539534079708376,
                    0.9539534079708376,
                    0.9539534079708376,
                    0.9539534079708376,
                    0.9539534079708376,
                    1.250611738930905,
                    1.250611738930905,
                    1.250611738930905,
                    1.250611738930905,
                    1.250611738930905,
                    1.250611738930905,
                    1.250611738930905,
                    1.250611738930905,
                    1.250611738930905,
                    1.250611738930905,
                    1.250611738930905,
                    1.5472700698909723,
                    1.5472700698909723,
                    1.5472700698909723,
                    1.5472700698909723,
                    1.5472700698909723,
                    1.5472700698909723,
                    1.5472700698909723,
                    1.5472700698909723,
                    1.5472700698909723,
                    1.5472700698909723,
                    1.5472700698909723,
                    1.5472700698909723,
                    1.5472700698909723,
                    1.5472700698909723,
                    1.5472700698909723,
                    1.5472700698909723,
                    1.5472700698909723,
                    1.5472700698909723,
                    1.5472700698909723,
                    1.5472700698909723,
                    1.5472700698909723,
                    1.5472700698909723,
                    1.8439284008510395,
                    1.8439284008510395,
                    1.8439284008510395,
                    1.8439284008510395,
                    1.8439284008510395,
                    1.8439284008510395,
                    1.8439284008510395,
                    1.8439284008510395,
                    1.8439284008510395,
                    1.8439284008510395,
                    1.8439284008510395,
                    1.8439284008510395,
                    1.8439284008510395,
                    1.8439284008510395,
                    2.1405867318111067,
                    2.1405867318111067,
                    2.1405867318111067,
                    2.1405867318111067,
                    2.1405867318111067,
                    2.1405867318111067,
                    2.1405867318111067,
                    2.1405867318111067,
                    2.1405867318111067,
                    2.1405867318111067,
                    2.1405867318111067,
                    2.1405867318111067,
                    2.1405867318111067,
                    2.1405867318111067,
                    2.1405867318111067,
                    2.1405867318111067,
                    2.437245062771174,
                    2.437245062771174,
                    2.437245062771174,
                    2.437245062771174,
                    2.437245062771174,
                    2.437245062771174,
                    2.437245062771174,
                    2.437245062771174,
                    2.437245062771174,
                    2.437245062771174,
                    2.437245062771174,
                    2.437245062771174,
                    2.437245062771174,
                    2.437245062771174,
                    2.733903393731241,
                    2.733903393731241,
                    2.733903393731241,
                    2.733903393731241,
                    2.733903393731241,
                    2.733903393731241,
                    2.733903393731241,
                    2.733903393731241,
                    2.733903393731241,
                    2.733903393731241,
                    2.733903393731241,
                    2.733903393731241,
                    2.733903393731241,
                    2.733903393731241,
                    2.733903393731241,
                    2.733903393731241,
                    2.733903393731241,
                    2.733903393731241,
                    2.733903393731241,
                    2.733903393731241,
                    2.733903393731241,
                    2.733903393731241,
                    2.733903393731241,
                    2.733903393731241,
                    2.733903393731241,
                    2.733903393731241,
                    2.733903393731241,
                    2.733903393731241,
                    2.733903393731241,
                    2.733903393731241,
                    2.733903393731241,
                    2.733903393731241,
                    2.733903393731241,
                    2.733903393731241,
                    2.733903393731241,
                    2.733903393731241,
                    2.733903393731241,
                    2.733903393731241,
                    2.733903393731241,
                    2.733903393731241,
                    2.733903393731241,
                    3.0305617246913084,
                    3.0305617246913084,
                    3.0305617246913084,
                    3.0305617246913084,
                    3.0305617246913084,
                    3.0305617246913084,
                    3.0305617246913084,
                    3.0305617246913084,
                    3.0305617246913084,
                    3.0305617246913084,
                    3.0305617246913084,
                    3.0305617246913084,
                    3.0305617246913084,
                    3.0305617246913084,
                    3.0305617246913084,
                    3.0305617246913084,
                    3.0305617246913084,
                    3.0305617246913084,
                    3.0305617246913084,
                    3.0305617246913084,
                    3.0305617246913084,
                    3.0305617246913084,
                    3.3272200556513756,
                    3.3272200556513756,
                    3.3272200556513756,
                    3.3272200556513756,
                    3.3272200556513756,
                    3.3272200556513756,
                    3.3272200556513756,
                    3.3272200556513756,
                    3.3272200556513756,
                    3.3272200556513756,
                    3.3272200556513756,
                    3.623878386611443,
                    3.623878386611443,
                    3.623878386611443,
                    3.623878386611443,
                    3.623878386611443,
                    3.623878386611443,
                    3.623878386611443,
                    3.623878386611443,
                    3.623878386611443,
                    3.623878386611443,
                    3.623878386611443,
                    3.623878386611443,
                    3.623878386611443,
                    3.9205367175715105,
                    3.9205367175715105,
                    3.9205367175715105,
                    3.9205367175715105,
                    3.9205367175715105,
                    3.9205367175715105,
                    3.9205367175715105,
                    3.9205367175715105,
                    3.9205367175715105,
                    3.9205367175715105,
                    3.9205367175715105,
                    3.9205367175715105,
                    3.9205367175715105,
                    3.9205367175715105,
                    3.9205367175715105,
                    3.9205367175715105,
                    3.9205367175715105,
                    3.9205367175715105,
                    3.9205367175715105,
                    3.9205367175715105,
                    4.217195048531578,
                    4.217195048531578,
                    4.217195048531578,
                    4.217195048531578,
                    4.217195048531578,
                    4.217195048531578,
                    4.217195048531578,
                    4.217195048531578,
                    4.217195048531578,
                    4.217195048531578,
                    4.217195048531578,
                    4.217195048531578,
                    4.217195048531578,
                    4.217195048531578,
                    4.513853379491645,
                    4.513853379491645,
                    4.513853379491645,
                    4.513853379491645,
                    4.513853379491645,
                    4.513853379491645,
                    4.513853379491645,
                    4.513853379491645,
                    4.513853379491645,
                    4.513853379491645,
                    4.513853379491645,
                    4.513853379491645,
                    4.513853379491645,
                    4.513853379491645,
                    4.513853379491645,
                    4.8105117104517126,
                    4.8105117104517126,
                    4.8105117104517126,
                    4.8105117104517126,
                    4.8105117104517126,
                    4.8105117104517126,
                    4.8105117104517126,
                    4.8105117104517126,
                    4.8105117104517126,
                    4.8105117104517126,
                    4.8105117104517126,
                    4.8105117104517126,
                    4.8105117104517126,
                    4.8105117104517126,
                    4.8105117104517126,
                    4.8105117104517126,
                    4.8105117104517126,
                    4.8105117104517126,
                    4.8105117104517126,
                    5.10717004141178,
                    5.10717004141178,
                    5.10717004141178,
                    5.10717004141178,
                    5.10717004141178,
                    5.10717004141178,
                    5.10717004141178,
                    5.10717004141178,
                    5.10717004141178,
                    5.10717004141178,
                    5.10717004141178,
                    5.10717004141178,
                    5.10717004141178,
                    5.10717004141178,
                    5.10717004141178,
                    5.403828372371847,
                    5.403828372371847,
                    5.403828372371847,
                    5.403828372371847,
                    5.403828372371847,
                    5.403828372371847,
                    5.403828372371847,
                    5.403828372371847,
                    5.403828372371847,
                    5.403828372371847,
                    5.403828372371847,
                    5.700486703331914,
                    5.700486703331914,
                    5.700486703331914,
                    5.700486703331914,
                    5.700486703331914,
                    5.700486703331914,
                    5.700486703331914,
                    5.700486703331914,
                    5.700486703331914,
                    5.700486703331914,
                    5.700486703331914,
                    5.700486703331914,
                    5.700486703331914,
                    5.700486703331914,
                    5.700486703331914,
                    5.700486703331914,
                    5.997145034291981,
                    5.997145034291981,
                    5.997145034291981,
                    5.997145034291981,
                    5.997145034291981,
                    5.997145034291981,
                    5.997145034291981,
                    5.997145034291981,
                    5.997145034291981,
                    5.997145034291981,
                    5.997145034291981,
                    5.997145034291981,
                    5.997145034291981,
                    5.997145034291981,
                    5.997145034291981,
                    5.997145034291981,
                    5.997145034291981,
                    5.997145034291981,
                    6.293803365252049,
                    6.293803365252049,
                    6.293803365252049,
                    6.293803365252049,
                    6.293803365252049,
                    6.293803365252049,
                    6.293803365252049,
                    6.293803365252049,
                    6.293803365252049,
                    6.293803365252049,
                    6.293803365252049,
                    6.293803365252049,
                    6.293803365252049,
                    6.293803365252049,
                    6.293803365252049,
                    6.293803365252049,
                    6.293803365252049,
                    6.590461696212116,
                    6.590461696212116,
                    6.590461696212116,
                    6.590461696212116,
                    6.590461696212116,
                    6.590461696212116,
                    6.590461696212116,
                    6.590461696212116,
                    6.590461696212116,
                    6.590461696212116,
                    6.590461696212116,
                    6.590461696212116,
                    6.590461696212116,
                    6.590461696212116,
                    6.887120027172183,
                    6.887120027172183,
                    6.887120027172183,
                    6.887120027172183,
                    6.887120027172183,
                    6.887120027172183,
                    6.887120027172183,
                    6.887120027172183,
                    6.887120027172183,
                    6.887120027172183,
                    6.887120027172183,
                    6.887120027172183,
                    6.887120027172183,
                    6.887120027172183,
                    6.887120027172183,
                    6.887120027172183,
                    6.887120027172183,
                    6.887120027172183,
                    7.18377835813225,
                    7.18377835813225,
                    7.18377835813225,
                    7.18377835813225,
                    7.18377835813225,
                    7.18377835813225,
                    7.18377835813225,
                    7.18377835813225,
                    7.18377835813225,
                    7.18377835813225,
                    7.18377835813225,
                    7.18377835813225,
                    7.18377835813225,
                    7.18377835813225,
                    7.18377835813225,
                    7.18377835813225,
                    7.18377835813225,
                    7.18377835813225,
                    7.18377835813225,
                    7.18377835813225,
                    7.480436689092318,
                    7.480436689092318,
                    7.480436689092318,
                    7.480436689092318,
                    7.480436689092318,
                    7.480436689092318,
                    7.480436689092318,
                    7.480436689092318,
                    7.480436689092318,
                    7.480436689092318,
                    7.480436689092318,
                    7.480436689092318,
                    7.480436689092318,
                    7.480436689092318,
                    7.777095020052386,
                    7.777095020052386,
                    7.777095020052386,
                    7.777095020052386,
                    7.777095020052386,
                    7.777095020052386,
                    7.777095020052386,
                    7.777095020052386,
                    7.777095020052386,
                    7.777095020052386,
                    7.777095020052386,
                    7.777095020052386,
                    7.777095020052386,
                    7.777095020052386,
                    7.777095020052386,
                    7.777095020052386,
                    7.777095020052386,
                    7.777095020052386,
                    7.777095020052386,
                    7.777095020052386,
                    7.777095020052386,
                    7.777095020052386,
                    7.777095020052386,
                    7.777095020052386,
                    7.777095020052386,
                    7.777095020052386,
                    7.777095020052386,
                    7.777095020052386,
                    7.777095020052386,
                    7.777095020052386,
                    8.073753351012453,
                    8.073753351012453,
                    8.073753351012453,
                    8.073753351012453,
                    8.073753351012453,
                    8.073753351012453,
                    8.073753351012453,
                    8.073753351012453,
                    8.073753351012453,
                    8.073753351012453,
                    8.073753351012453,
                    8.073753351012453,
                    8.073753351012453,
                    8.073753351012453,
                    8.073753351012453,
                    8.073753351012453,
                    8.073753351012453,
                    8.37041168197252,
                    8.37041168197252,
                    8.37041168197252,
                    8.37041168197252,
                    8.37041168197252,
                    8.37041168197252,
                    8.37041168197252,
                    8.37041168197252,
                    8.37041168197252,
                    8.37041168197252,
                    8.37041168197252,
                    8.37041168197252,
                    8.37041168197252,
                    8.37041168197252,
                    8.37041168197252,
                    8.37041168197252,
                    8.37041168197252,
                    8.37041168197252,
                    8.667070012932587,
                    8.667070012932587,
                    8.667070012932587,
                    8.667070012932587,
                    8.667070012932587,
                    8.667070012932587,
                    8.667070012932587,
                    8.667070012932587,
                    8.667070012932587,
                    8.667070012932587,
                    8.667070012932587,
                    8.667070012932587,
                    8.667070012932587,
                    8.667070012932587,
                    8.667070012932587,
                    8.667070012932587,
                    8.667070012932587,
                    8.667070012932587,
                    8.667070012932587,
                    8.963728343892654,
                    8.963728343892654,
                    8.963728343892654,
                    8.963728343892654,
                    8.963728343892654,
                    8.963728343892654,
                    8.963728343892654,
                    8.963728343892654,
                    8.963728343892654,
                    8.963728343892654,
                    8.963728343892654,
                    9.260386674852722,
                    9.260386674852722,
                    9.260386674852722,
                    9.260386674852722,
                    9.260386674852722,
                    9.260386674852722,
                    9.260386674852722,
                    9.260386674852722,
                    9.260386674852722,
                    9.260386674852722,
                    9.557045005812789,
                    9.557045005812789,
                    9.557045005812789,
                    9.557045005812789,
                    9.557045005812789,
                    9.557045005812789,
                    9.557045005812789,
                    9.557045005812789,
                    9.557045005812789,
                    9.557045005812789,
                    9.557045005812789,
                    9.853703336772856,
                    9.853703336772856,
                    9.853703336772856,
                    9.853703336772856,
                    9.853703336772856,
                    9.853703336772856,
                    9.853703336772856,
                    9.853703336772856,
                    9.853703336772856,
                    9.853703336772856,
                    9.853703336772856,
                    9.853703336772856,
                    9.853703336772856,
                    9.853703336772856,
                    10.150361667732923,
                    10.150361667732923,
                    10.150361667732923,
                    10.150361667732923,
                    10.150361667732923,
                    10.150361667732923,
                    10.150361667732923,
                    10.150361667732923,
                    10.150361667732923,
                    10.150361667732923,
                    10.150361667732923,
                    10.150361667732923,
                    10.150361667732923,
                    10.150361667732923,
                    10.150361667732923,
                    10.150361667732923,
                    10.150361667732923,
                    10.150361667732923,
                    10.44701999869299,
                    10.44701999869299,
                    10.44701999869299,
                    10.44701999869299,
                    10.44701999869299,
                    10.44701999869299,
                    10.44701999869299,
                    10.44701999869299,
                    10.44701999869299,
                    10.44701999869299,
                    10.44701999869299,
                    10.44701999869299,
                    10.44701999869299,
                    10.44701999869299,
                    10.44701999869299,
                    10.44701999869299,
                    10.44701999869299,
                    10.44701999869299,
                    10.743678329653058,
                    10.743678329653058,
                    10.743678329653058,
                    10.743678329653058,
                    10.743678329653058,
                    10.743678329653058,
                    10.743678329653058,
                    10.743678329653058,
                    10.743678329653058,
                    10.743678329653058,
                    11.040336660613125,
                    11.040336660613125,
                    11.040336660613125,
                    11.040336660613125,
                    11.040336660613125,
                    11.040336660613125,
                    11.040336660613125,
                    11.040336660613125,
                    11.336994991573192,
                    11.336994991573192,
                    11.336994991573192,
                    11.336994991573192,
                    11.336994991573192,
                    11.336994991573192,
                    11.336994991573192,
                    11.336994991573192,
                    11.336994991573192,
                    11.336994991573192,
                    11.336994991573192,
                    11.336994991573192,
                    11.336994991573192,
                    11.63365332253326,
                    11.63365332253326,
                    11.63365332253326,
                    11.63365332253326,
                    11.63365332253326,
                    11.63365332253326,
                    11.63365332253326,
                    11.63365332253326,
                    11.63365332253326,
                    11.63365332253326,
                    11.63365332253326,
                    11.63365332253326,
                    11.63365332253326,
                    11.63365332253326,
                    11.63365332253326,
                    11.63365332253326,
                    11.930311653493327,
                    11.930311653493327,
                    11.930311653493327,
                    11.930311653493327,
                    11.930311653493327,
                    11.930311653493327,
                    11.930311653493327,
                    11.930311653493327,
                    11.930311653493327,
                    11.930311653493327,
                    11.930311653493327,
                    11.930311653493327,
                    12.226969984453394,
                    12.226969984453394,
                    12.226969984453394,
                    12.226969984453394,
                    12.226969984453394,
                    12.226969984453394,
                    12.226969984453394,
                    12.226969984453394,
                    12.226969984453394,
                    12.226969984453394,
                    12.226969984453394,
                    12.523628315413461,
                    12.523628315413461,
                    12.523628315413461,
                    12.523628315413461,
                    12.523628315413461,
                    12.523628315413461,
                    12.523628315413461,
                    12.523628315413461,
                    12.523628315413461,
                    12.523628315413461,
                    12.523628315413461,
                    12.523628315413461,
                    12.523628315413461,
                    12.523628315413461,
                    12.523628315413461,
                    12.523628315413461,
                    12.820286646373528,
                    12.820286646373528,
                    12.820286646373528,
                    12.820286646373528,
                    12.820286646373528,
                    12.820286646373528,
                    12.820286646373528,
                    12.820286646373528,
                    12.820286646373528,
                    12.820286646373528,
                    12.820286646373528,
                    12.820286646373528,
                    12.820286646373528,
                    12.820286646373528,
                    12.820286646373528,
                    12.820286646373528,
                    12.820286646373528,
                    12.820286646373528,
                    12.820286646373528,
                    12.820286646373528,
                    12.820286646373528,
                    13.116944977333596,
                    13.116944977333596,
                    13.116944977333596,
                    13.116944977333596,
                    13.116944977333596,
                    13.116944977333596,
                    13.413603308293663,
                    13.413603308293663,
                    13.413603308293663,
                    13.413603308293663,
                    13.413603308293663,
                    13.413603308293663,
                    13.71026163925373,
                    13.71026163925373,
                    13.71026163925373,
                    13.71026163925373,
                    14.006919970213797,
                    14.006919970213797,
                    14.006919970213797,
                    14.006919970213797,
                    14.006919970213797,
                    14.006919970213797,
                    14.303578301173864,
                    14.600236632133933,
                    14.600236632133933,
                    14.600236632133933,
                    14.600236632133933,
                    14.896894963094,
                    14.896894963094,
                    14.896894963094,
                    14.896894963094,
                    14.896894963094,
                    14.896894963094,
                    14.896894963094,
                    14.896894963094,
                    14.896894963094,
                    15.193553294054068,
                    15.193553294054068,
                    15.193553294054068,
                    15.193553294054068,
                    15.193553294054068,
                    15.193553294054068,
                    15.490211625014135,
                    15.490211625014135,
                    15.490211625014135,
                    15.490211625014135,
                    15.490211625014135,
                    15.490211625014135,
                    15.490211625014135,
                    15.490211625014135,
                    15.786869955974202,
                    15.786869955974202,
                    15.786869955974202,
                    15.786869955974202,
                    16.083528286934268,
                    16.083528286934268,
                    16.083528286934268,
                    16.083528286934268,
                    16.380186617894335,
                    16.380186617894335,
                    16.676844948854402,
                    16.676844948854402,
                    16.676844948854402,
                    16.97350327981447,
                    16.97350327981447,
                    17.270161610774537,
                    17.566819941734604,
                    17.566819941734604,
                    18.16013660365474,
                    18.16013660365474,
                    18.456794934614805,
                    18.456794934614805,
                    18.456794934614805,
                    18.456794934614805,
                    18.753453265574873,
                    18.753453265574873,
                    18.753453265574873,
                    19.05011159653494,
                    19.346769927495007,
                    19.346769927495007,
                    19.643428258455074,
                    20.23674492037521,
                    20.533403251335276,
                    20.533403251335276,
                    20.533403251335276,
                    20.830061582295343,
                    21.720036575175545,
                    21.720036575175545,
                    22.906669899015814,
                    23.20332822997588,
                    23.499986560935948,
                    23.499986560935948,
                    23.499986560935948,
                    23.796644891896015,
                    24.983278215736284,
                    26.763228201496688,
                    27.059886532456755,
                    29.13649484917723,
                    30.619786503977565,
                    31.2131031658977,
                    32.103078158777905,
                    33.58636981357824
                  ],
                  "yaxis": "y"
                },
                {
                  "customdata": [
                    [
                      "Phoenix",
                      "2006-10-29"
                    ],
                    [
                      "Scottsdale",
                      "2010-02-05"
                    ],
                    [
                      "Tucson",
                      "2012-05-21"
                    ],
                    [
                      "Phoenix",
                      "2004-10-12"
                    ],
                    [
                      "Phoenix",
                      "2014-07-07"
                    ],
                    [
                      "Scottsdale",
                      "2009-01-28"
                    ],
                    [
                      "Tucson",
                      "2015-03-05"
                    ],
                    [
                      "Phoenix",
                      "2015-07-26"
                    ],
                    [
                      "Scottsdale",
                      "2006-01-13"
                    ],
                    [
                      "Tucson",
                      "2000-09-18"
                    ],
                    [
                      "Phoenix",
                      "2013-10-15"
                    ],
                    [
                      "Phoenix",
                      "2008-09-19"
                    ],
                    [
                      "Tucson",
                      "2001-12-24"
                    ],
                    [
                      "Phoenix",
                      "2005-03-17"
                    ],
                    [
                      "Phoenix",
                      "2009-11-01"
                    ],
                    [
                      "Tucson",
                      "2013-06-17"
                    ],
                    [
                      "Tucson",
                      "2010-11-18"
                    ],
                    [
                      "Phoenix",
                      "2015-09-07"
                    ],
                    [
                      "Tucson",
                      "2004-05-15"
                    ],
                    [
                      "Scottsdale",
                      "2009-02-01"
                    ],
                    [
                      "Phoenix",
                      "2007-11-03"
                    ],
                    [
                      "Scottsdale",
                      "2003-01-28"
                    ],
                    [
                      "Phoenix",
                      "2013-08-24"
                    ],
                    [
                      "Phoenix",
                      "2008-01-12"
                    ],
                    [
                      "Phoenix",
                      "2015-12-18"
                    ],
                    [
                      "Scottsdale",
                      "2010-02-06"
                    ],
                    [
                      "Scottsdale",
                      "2010-09-23"
                    ],
                    [
                      "Scottsdale",
                      "2005-09-22"
                    ],
                    [
                      "Scottsdale",
                      "2006-09-13"
                    ],
                    [
                      "Scottsdale",
                      "2003-11-13"
                    ],
                    [
                      "Phoenix",
                      "2014-06-05"
                    ],
                    [
                      "Phoenix",
                      "2006-05-12"
                    ],
                    [
                      "Phoenix",
                      "2015-01-29"
                    ],
                    [
                      "Tucson",
                      "2008-03-15"
                    ],
                    [
                      "Phoenix",
                      "2010-08-27"
                    ],
                    [
                      "Phoenix",
                      "2012-12-21"
                    ],
                    [
                      "Phoenix",
                      "2014-07-19"
                    ],
                    [
                      "Phoenix",
                      "2009-04-30"
                    ],
                    [
                      "Phoenix",
                      "2003-12-11"
                    ],
                    [
                      "Tucson",
                      "2005-11-26"
                    ],
                    [
                      "Phoenix",
                      "2015-09-23"
                    ],
                    [
                      "Phoenix",
                      "2009-12-06"
                    ],
                    [
                      "Phoenix",
                      "2015-04-27"
                    ],
                    [
                      "Phoenix",
                      "2015-09-12"
                    ],
                    [
                      "Tucson",
                      "2002-12-03"
                    ],
                    [
                      "Phoenix",
                      "2011-04-20"
                    ],
                    [
                      "Phoenix",
                      "2003-05-07"
                    ],
                    [
                      "Tucson",
                      "2007-10-14"
                    ],
                    [
                      "Phoenix",
                      "2009-06-16"
                    ],
                    [
                      "Phoenix",
                      "2009-05-19"
                    ],
                    [
                      "Phoenix",
                      "2012-03-20"
                    ],
                    [
                      "Tucson",
                      "2006-05-29"
                    ],
                    [
                      "Phoenix",
                      "2011-11-07"
                    ],
                    [
                      "Phoenix",
                      "2015-11-10"
                    ],
                    [
                      "Tucson",
                      "2015-05-09"
                    ],
                    [
                      "Tucson",
                      "2009-11-27"
                    ],
                    [
                      "Phoenix",
                      "2008-03-01"
                    ],
                    [
                      "Phoenix",
                      "2013-11-15"
                    ],
                    [
                      "Tucson",
                      "2016-02-17"
                    ],
                    [
                      "Phoenix",
                      "2004-09-15"
                    ],
                    [
                      "Phoenix",
                      "2010-08-25"
                    ],
                    [
                      "Scottsdale",
                      "2005-09-13"
                    ],
                    [
                      "Tucson",
                      "2013-10-24"
                    ],
                    [
                      "Tucson",
                      "2007-03-24"
                    ],
                    [
                      "Phoenix",
                      "2001-06-24"
                    ],
                    [
                      "Tucson",
                      "2015-03-24"
                    ],
                    [
                      "Tucson",
                      "2009-08-13"
                    ],
                    [
                      "Scottsdale",
                      "2008-03-12"
                    ],
                    [
                      "Phoenix",
                      "2001-01-29"
                    ],
                    [
                      "Scottsdale",
                      "2008-09-27"
                    ],
                    [
                      "Tucson",
                      "2006-11-17"
                    ],
                    [
                      "Scottsdale",
                      "2008-09-04"
                    ],
                    [
                      "Phoenix",
                      "2010-11-13"
                    ],
                    [
                      "Phoenix",
                      "2009-10-28"
                    ],
                    [
                      "Phoenix",
                      "2004-09-05"
                    ],
                    [
                      "Phoenix",
                      "2012-10-10"
                    ],
                    [
                      "Tucson",
                      "2013-12-17"
                    ],
                    [
                      "Tucson",
                      "2001-03-15"
                    ],
                    [
                      "Scottsdale",
                      "2004-02-19"
                    ],
                    [
                      "Tucson",
                      "2003-09-06"
                    ],
                    [
                      "Phoenix",
                      "2015-04-18"
                    ],
                    [
                      "Phoenix",
                      "2001-11-03"
                    ],
                    [
                      "Scottsdale",
                      "2007-01-14"
                    ],
                    [
                      "Tucson",
                      "2006-04-12"
                    ],
                    [
                      "Phoenix",
                      "2012-03-11"
                    ],
                    [
                      "Scottsdale",
                      "2004-11-03"
                    ],
                    [
                      "Tucson",
                      "2012-01-24"
                    ],
                    [
                      "Phoenix",
                      "2013-11-16"
                    ],
                    [
                      "Tucson",
                      "2002-06-04"
                    ],
                    [
                      "Tucson",
                      "2001-01-27"
                    ],
                    [
                      "Phoenix",
                      "2009-01-20"
                    ],
                    [
                      "Phoenix",
                      "2000-01-08"
                    ],
                    [
                      "Phoenix",
                      "2012-01-16"
                    ],
                    [
                      "Phoenix",
                      "2010-04-29"
                    ],
                    [
                      "Tucson",
                      "2005-04-13"
                    ],
                    [
                      "Tucson",
                      "2015-07-25"
                    ],
                    [
                      "Tucson",
                      "2002-06-05"
                    ],
                    [
                      "Phoenix",
                      "2013-10-16"
                    ],
                    [
                      "Scottsdale",
                      "2005-09-12"
                    ],
                    [
                      "Phoenix",
                      "2010-12-23"
                    ],
                    [
                      "Phoenix",
                      "2007-08-12"
                    ],
                    [
                      "Tucson",
                      "2000-02-08"
                    ],
                    [
                      "Tucson",
                      "2003-07-08"
                    ],
                    [
                      "Phoenix",
                      "2015-08-27"
                    ],
                    [
                      "Tucson",
                      "2014-10-01"
                    ],
                    [
                      "Phoenix",
                      "2013-02-04"
                    ],
                    [
                      "Scottsdale",
                      "2002-10-20"
                    ],
                    [
                      "Tucson",
                      "2008-01-25"
                    ],
                    [
                      "Phoenix",
                      "2015-03-15"
                    ],
                    [
                      "Phoenix",
                      "2007-06-27"
                    ],
                    [
                      "Phoenix",
                      "2006-06-16"
                    ],
                    [
                      "Tucson",
                      "2007-05-01"
                    ],
                    [
                      "Scottsdale",
                      "2007-02-21"
                    ],
                    [
                      "Phoenix",
                      "2012-02-27"
                    ],
                    [
                      "Phoenix",
                      "2010-10-21"
                    ],
                    [
                      "Phoenix",
                      "2009-07-21"
                    ]
                  ],
                  "hovertemplate": "state=Arizona<br>no2 aqi=%{x}<br>co aqi=%{y}<br>city=%{customdata[0]}<br>date local=%{customdata[1]}<extra></extra>",
                  "legendgroup": "Arizona",
                  "marker": {
                    "color": "rgb(141,160,203)",
                    "symbol": "circle"
                  },
                  "mode": "markers",
                  "name": "Arizona",
                  "showlegend": true,
                  "type": "scattergl",
                  "x": [
                    43,
                    38,
                    23,
                    48,
                    18,
                    38,
                    24,
                    17,
                    51,
                    35,
                    42,
                    42,
                    36,
                    58,
                    39,
                    23,
                    45,
                    23,
                    33,
                    40,
                    54,
                    58,
                    14,
                    41,
                    45,
                    28,
                    43,
                    32,
                    20,
                    37,
                    64,
                    53,
                    31,
                    31,
                    20,
                    46,
                    18,
                    55,
                    44,
                    25,
                    49,
                    39,
                    45,
                    23,
                    42,
                    38,
                    38,
                    42,
                    25,
                    39,
                    42,
                    17,
                    27,
                    36,
                    15,
                    34,
                    50,
                    30,
                    22,
                    48,
                    8,
                    39,
                    27,
                    18,
                    32,
                    15,
                    20,
                    44,
                    39,
                    20,
                    34,
                    50,
                    42,
                    32,
                    54,
                    27,
                    29,
                    41,
                    50,
                    23,
                    28,
                    57,
                    38,
                    40,
                    42,
                    46,
                    30,
                    28,
                    58,
                    38,
                    49,
                    39,
                    41,
                    25,
                    45,
                    15,
                    54,
                    39,
                    37,
                    34,
                    39,
                    43,
                    28,
                    23,
                    17,
                    45,
                    61,
                    38,
                    38,
                    33,
                    35,
                    22,
                    46,
                    33,
                    31,
                    25
                  ],
                  "xaxis": "x",
                  "y": [
                    20,
                    6,
                    3,
                    15,
                    5,
                    6,
                    5,
                    5,
                    20,
                    5,
                    7,
                    8,
                    9,
                    9,
                    19,
                    1,
                    7,
                    7,
                    7,
                    10,
                    31,
                    19,
                    3,
                    22,
                    20,
                    7,
                    5,
                    10,
                    0,
                    15,
                    8,
                    16,
                    9,
                    3,
                    5,
                    11,
                    3,
                    11,
                    27,
                    9,
                    6,
                    17,
                    5,
                    5,
                    7,
                    3,
                    5,
                    5,
                    7,
                    5,
                    6,
                    3,
                    7,
                    10,
                    2,
                    5,
                    13,
                    9,
                    3,
                    13,
                    2,
                    11,
                    3,
                    3,
                    6,
                    3,
                    2,
                    6,
                    30,
                    2,
                    9,
                    5,
                    14,
                    3,
                    14,
                    5,
                    6,
                    7,
                    20,
                    5,
                    5,
                    31,
                    11,
                    6,
                    6,
                    7,
                    5,
                    5,
                    8,
                    15,
                    15,
                    57,
                    7,
                    5,
                    6,
                    1,
                    9,
                    6,
                    9,
                    11,
                    6,
                    9,
                    6,
                    5,
                    2,
                    7,
                    16,
                    6,
                    7,
                    7,
                    7,
                    3,
                    13,
                    8,
                    5,
                    6
                  ],
                  "yaxis": "y"
                },
                {
                  "hovertemplate": "<b>OLS trendline</b><br>co aqi = 0.31823 * no2 aqi + -2.46411<br>R<sup>2</sup>=0.244902<br><br>state=Arizona<br>no2 aqi=%{x}<br>co aqi=%{y} <b>(trend)</b><extra></extra>",
                  "legendgroup": "Arizona",
                  "marker": {
                    "color": "rgb(141,160,203)",
                    "symbol": "circle"
                  },
                  "mode": "lines",
                  "name": "Arizona",
                  "showlegend": false,
                  "type": "scattergl",
                  "x": [
                    8,
                    14,
                    15,
                    15,
                    15,
                    17,
                    17,
                    17,
                    18,
                    18,
                    18,
                    20,
                    20,
                    20,
                    20,
                    22,
                    22,
                    23,
                    23,
                    23,
                    23,
                    23,
                    23,
                    24,
                    25,
                    25,
                    25,
                    25,
                    27,
                    27,
                    27,
                    28,
                    28,
                    28,
                    28,
                    29,
                    30,
                    30,
                    31,
                    31,
                    31,
                    32,
                    32,
                    32,
                    33,
                    33,
                    33,
                    34,
                    34,
                    34,
                    35,
                    35,
                    36,
                    36,
                    37,
                    37,
                    38,
                    38,
                    38,
                    38,
                    38,
                    38,
                    38,
                    38,
                    39,
                    39,
                    39,
                    39,
                    39,
                    39,
                    39,
                    39,
                    40,
                    40,
                    41,
                    41,
                    41,
                    42,
                    42,
                    42,
                    42,
                    42,
                    42,
                    42,
                    43,
                    43,
                    43,
                    44,
                    44,
                    45,
                    45,
                    45,
                    45,
                    45,
                    46,
                    46,
                    46,
                    48,
                    48,
                    49,
                    49,
                    50,
                    50,
                    50,
                    51,
                    53,
                    54,
                    54,
                    54,
                    55,
                    57,
                    58,
                    58,
                    58,
                    61,
                    64
                  ],
                  "xaxis": "x",
                  "y": [
                    0.0817319901803053,
                    1.9911114873444475,
                    2.309341403538471,
                    2.309341403538471,
                    2.309341403538471,
                    2.9458012359265178,
                    2.9458012359265178,
                    2.9458012359265178,
                    3.264031152120541,
                    3.264031152120541,
                    3.264031152120541,
                    3.900490984508589,
                    3.900490984508589,
                    3.900490984508589,
                    3.900490984508589,
                    4.536950816896637,
                    4.536950816896637,
                    4.85518073309066,
                    4.85518073309066,
                    4.85518073309066,
                    4.85518073309066,
                    4.85518073309066,
                    4.85518073309066,
                    5.173410649284683,
                    5.491640565478707,
                    5.491640565478707,
                    5.491640565478707,
                    5.491640565478707,
                    6.1281003978667545,
                    6.1281003978667545,
                    6.1281003978667545,
                    6.446330314060779,
                    6.446330314060779,
                    6.446330314060779,
                    6.446330314060779,
                    6.764560230254801,
                    7.082790146448826,
                    7.082790146448826,
                    7.401020062642848,
                    7.401020062642848,
                    7.401020062642848,
                    7.7192499788368725,
                    7.7192499788368725,
                    7.7192499788368725,
                    8.037479895030897,
                    8.037479895030897,
                    8.037479895030897,
                    8.35570981122492,
                    8.35570981122492,
                    8.35570981122492,
                    8.673939727418944,
                    8.673939727418944,
                    8.992169643612966,
                    8.992169643612966,
                    9.31039955980699,
                    9.31039955980699,
                    9.628629476001015,
                    9.628629476001015,
                    9.628629476001015,
                    9.628629476001015,
                    9.628629476001015,
                    9.628629476001015,
                    9.628629476001015,
                    9.628629476001015,
                    9.946859392195037,
                    9.946859392195037,
                    9.946859392195037,
                    9.946859392195037,
                    9.946859392195037,
                    9.946859392195037,
                    9.946859392195037,
                    9.946859392195037,
                    10.265089308389062,
                    10.265089308389062,
                    10.583319224583086,
                    10.583319224583086,
                    10.583319224583086,
                    10.901549140777108,
                    10.901549140777108,
                    10.901549140777108,
                    10.901549140777108,
                    10.901549140777108,
                    10.901549140777108,
                    10.901549140777108,
                    11.219779056971133,
                    11.219779056971133,
                    11.219779056971133,
                    11.538008973165157,
                    11.538008973165157,
                    11.85623888935918,
                    11.85623888935918,
                    11.85623888935918,
                    11.85623888935918,
                    11.85623888935918,
                    12.174468805553204,
                    12.174468805553204,
                    12.174468805553204,
                    12.81092863794125,
                    12.81092863794125,
                    13.129158554135275,
                    13.129158554135275,
                    13.447388470329297,
                    13.447388470329297,
                    13.447388470329297,
                    13.76561838652332,
                    14.402078218911369,
                    14.720308135105393,
                    14.720308135105393,
                    14.720308135105393,
                    15.038538051299417,
                    15.674997883687462,
                    15.993227799881486,
                    15.993227799881486,
                    15.993227799881486,
                    16.947917548463558,
                    17.902607297045627
                  ],
                  "yaxis": "y"
                },
                {
                  "customdata": [
                    [
                      "Bristol",
                      "2013-08-27"
                    ],
                    [
                      "Pittsburgh",
                      "2014-03-29"
                    ],
                    [
                      "New Castle",
                      "2004-07-04"
                    ],
                    [
                      "Erie",
                      "2013-11-22"
                    ],
                    [
                      "Reading",
                      "2005-05-08"
                    ],
                    [
                      "Pittsburgh",
                      "2010-05-15"
                    ],
                    [
                      "York",
                      "2011-04-03"
                    ],
                    [
                      "Philadelphia",
                      "2010-05-28"
                    ],
                    [
                      "New Castle",
                      "2000-06-24"
                    ],
                    [
                      "Not in a city",
                      "2016-01-06"
                    ],
                    [
                      "Norristown",
                      "2002-06-17"
                    ],
                    [
                      "Bristol",
                      "2004-07-05"
                    ],
                    [
                      "Pittsburgh",
                      "2001-08-31"
                    ],
                    [
                      "Pittsburgh",
                      "2014-05-27"
                    ],
                    [
                      "Philadelphia",
                      "2004-01-20"
                    ],
                    [
                      "Pittsburgh",
                      "2011-09-16"
                    ],
                    [
                      "Altoona",
                      "2008-04-01"
                    ],
                    [
                      "Erie",
                      "2011-05-10"
                    ],
                    [
                      "Charleroi",
                      "2002-06-18"
                    ],
                    [
                      "Charleroi",
                      "2013-05-25"
                    ],
                    [
                      "Altoona",
                      "2004-06-16"
                    ],
                    [
                      "Pittsburgh",
                      "2001-06-19"
                    ],
                    [
                      "Norristown",
                      "2004-04-03"
                    ],
                    [
                      "Greensburg",
                      "2007-10-04"
                    ],
                    [
                      "New Castle",
                      "2003-09-18"
                    ],
                    [
                      "York",
                      "2006-07-29"
                    ],
                    [
                      "York",
                      "2008-04-10"
                    ],
                    [
                      "Not in a city",
                      "2012-01-23"
                    ],
                    [
                      "Bristol",
                      "2008-09-12"
                    ],
                    [
                      "Pittsburgh",
                      "2010-07-19"
                    ],
                    [
                      "New Castle",
                      "2005-08-19"
                    ],
                    [
                      "Johnstown",
                      "2013-12-29"
                    ],
                    [
                      "Not in a city",
                      "2007-08-14"
                    ],
                    [
                      "Johnstown",
                      "2011-11-30"
                    ],
                    [
                      "Norristown",
                      "2000-09-29"
                    ],
                    [
                      "Lancaster",
                      "2005-09-18"
                    ],
                    [
                      "York",
                      "2003-06-16"
                    ],
                    [
                      "Erie",
                      "2006-10-01"
                    ],
                    [
                      "Not in a city",
                      "2014-01-29"
                    ],
                    [
                      "Johnstown",
                      "2012-12-04"
                    ],
                    [
                      "Norristown",
                      "2007-10-12"
                    ],
                    [
                      "Norristown",
                      "2006-07-20"
                    ],
                    [
                      "Greensburg",
                      "2000-05-12"
                    ],
                    [
                      "Philadelphia",
                      "2009-08-20"
                    ],
                    [
                      "Not in a city",
                      "2012-09-29"
                    ],
                    [
                      "Pittsburgh",
                      "2011-02-23"
                    ],
                    [
                      "York",
                      "2010-09-25"
                    ],
                    [
                      "York",
                      "2004-07-23"
                    ],
                    [
                      "Lancaster",
                      "2007-07-09"
                    ],
                    [
                      "Erie",
                      "2009-09-09"
                    ],
                    [
                      "Lancaster",
                      "2008-10-22"
                    ],
                    [
                      "Philadelphia",
                      "2002-01-08"
                    ],
                    [
                      "Johnstown",
                      "2004-10-30"
                    ],
                    [
                      "Pittsburgh",
                      "2013-02-12"
                    ],
                    [
                      "Philadelphia",
                      "2013-09-12"
                    ],
                    [
                      "Pittsburgh",
                      "2000-05-24"
                    ],
                    [
                      "Erie",
                      "2014-01-05"
                    ],
                    [
                      "Pittsburgh",
                      "2004-05-17"
                    ],
                    [
                      "Charleroi",
                      "2012-02-27"
                    ],
                    [
                      "Norristown",
                      "2002-09-30"
                    ],
                    [
                      "Bristol",
                      "2002-05-06"
                    ],
                    [
                      "Beaver Falls",
                      "2007-05-30"
                    ],
                    [
                      "Charleroi",
                      "2002-09-04"
                    ],
                    [
                      "Johnstown",
                      "2001-05-16"
                    ],
                    [
                      "Pittsburgh",
                      "2013-10-04"
                    ],
                    [
                      "York",
                      "2005-06-14"
                    ],
                    [
                      "New Castle",
                      "2003-04-02"
                    ],
                    [
                      "Pittsburgh",
                      "2002-07-04"
                    ],
                    [
                      "York",
                      "2009-04-19"
                    ],
                    [
                      "Johnstown",
                      "2010-04-07"
                    ],
                    [
                      "Not in a city",
                      "2007-07-29"
                    ],
                    [
                      "Erie",
                      "2008-07-10"
                    ],
                    [
                      "Bristol",
                      "2010-08-25"
                    ],
                    [
                      "Beaver Falls",
                      "2003-09-24"
                    ],
                    [
                      "Greensburg",
                      "2002-10-25"
                    ],
                    [
                      "Johnstown",
                      "2010-09-03"
                    ],
                    [
                      "York",
                      "2004-07-26"
                    ],
                    [
                      "Not in a city",
                      "2009-09-03"
                    ],
                    [
                      "Johnstown",
                      "2008-05-17"
                    ],
                    [
                      "Johnstown",
                      "2003-04-01"
                    ],
                    [
                      "Freemansburg",
                      "2006-04-20"
                    ],
                    [
                      "Altoona",
                      "2004-05-04"
                    ],
                    [
                      "Not in a city",
                      "2007-10-25"
                    ],
                    [
                      "Norristown",
                      "2006-06-26"
                    ],
                    [
                      "Beaver Falls",
                      "2003-07-09"
                    ],
                    [
                      "Lancaster",
                      "2006-09-26"
                    ],
                    [
                      "Bristol",
                      "2013-11-27"
                    ],
                    [
                      "Not in a city",
                      "2008-06-30"
                    ],
                    [
                      "Johnstown",
                      "2002-06-13"
                    ],
                    [
                      "Reading",
                      "2006-04-22"
                    ],
                    [
                      "York",
                      "2008-05-03"
                    ],
                    [
                      "York",
                      "2000-08-06"
                    ],
                    [
                      "York",
                      "2004-06-09"
                    ],
                    [
                      "Lancaster",
                      "2005-04-06"
                    ],
                    [
                      "Norristown",
                      "2002-09-27"
                    ],
                    [
                      "Philadelphia",
                      "2007-03-26"
                    ],
                    [
                      "Philadelphia",
                      "2011-04-03"
                    ],
                    [
                      "Johnstown",
                      "2010-07-03"
                    ],
                    [
                      "Reading",
                      "2001-09-26"
                    ],
                    [
                      "Norristown",
                      "2003-09-01"
                    ],
                    [
                      "New Castle",
                      "2006-09-21"
                    ],
                    [
                      "Erie",
                      "2013-05-05"
                    ],
                    [
                      "York",
                      "2011-10-11"
                    ],
                    [
                      "Norristown",
                      "2004-08-16"
                    ],
                    [
                      "Philadelphia",
                      "2001-12-19"
                    ],
                    [
                      "Philadelphia",
                      "2002-03-20"
                    ],
                    [
                      "Pittsburgh",
                      "2005-06-11"
                    ],
                    [
                      "Reading",
                      "2000-10-02"
                    ],
                    [
                      "Charleroi",
                      "2011-06-26"
                    ],
                    [
                      "Charleroi",
                      "2000-08-05"
                    ],
                    [
                      "Charleroi",
                      "2012-07-29"
                    ],
                    [
                      "York",
                      "2004-08-10"
                    ],
                    [
                      "Charleroi",
                      "2005-10-05"
                    ],
                    [
                      "Philadelphia",
                      "2003-05-13"
                    ],
                    [
                      "Johnstown",
                      "2011-06-07"
                    ],
                    [
                      "Philadelphia",
                      "2004-08-30"
                    ],
                    [
                      "Lancaster",
                      "2002-09-27"
                    ],
                    [
                      "Not in a city",
                      "2013-08-06"
                    ],
                    [
                      "Beaver Falls",
                      "2008-06-03"
                    ],
                    [
                      "Beaver Falls",
                      "2000-09-30"
                    ],
                    [
                      "Freemansburg",
                      "2005-07-28"
                    ],
                    [
                      "Johnstown",
                      "2015-03-29"
                    ],
                    [
                      "Pittsburgh",
                      "2014-03-09"
                    ],
                    [
                      "Not in a city",
                      "2011-06-11"
                    ],
                    [
                      "New Castle",
                      "2000-05-29"
                    ],
                    [
                      "Pittsburgh",
                      "2012-03-13"
                    ],
                    [
                      "Erie",
                      "2008-07-22"
                    ],
                    [
                      "Beaver Falls",
                      "2007-08-08"
                    ],
                    [
                      "Not in a city",
                      "2009-10-06"
                    ],
                    [
                      "Johnstown",
                      "2009-05-23"
                    ],
                    [
                      "Freemansburg",
                      "2004-07-27"
                    ],
                    [
                      "New Castle",
                      "2008-10-07"
                    ],
                    [
                      "Not in a city",
                      "2008-08-25"
                    ],
                    [
                      "York",
                      "2002-06-25"
                    ],
                    [
                      "Johnstown",
                      "2012-11-30"
                    ],
                    [
                      "Bristol",
                      "2006-07-13"
                    ],
                    [
                      "Scranton",
                      "2000-06-29"
                    ],
                    [
                      "Lancaster",
                      "2004-04-08"
                    ],
                    [
                      "New Castle",
                      "2001-10-20"
                    ],
                    [
                      "Reading",
                      "2000-10-26"
                    ],
                    [
                      "Johnstown",
                      "2015-11-13"
                    ],
                    [
                      "Philadelphia",
                      "2013-12-19"
                    ],
                    [
                      "Pittsburgh",
                      "2010-05-03"
                    ],
                    [
                      "Beaver Falls",
                      "2003-09-27"
                    ],
                    [
                      "Pittsburgh",
                      "2009-07-14"
                    ],
                    [
                      "Norristown",
                      "2001-05-25"
                    ],
                    [
                      "Reading",
                      "2005-06-24"
                    ],
                    [
                      "Pittsburgh",
                      "2010-07-08"
                    ],
                    [
                      "Bristol",
                      "2010-09-07"
                    ],
                    [
                      "Freemansburg",
                      "2002-08-19"
                    ],
                    [
                      "Greensburg",
                      "2002-04-11"
                    ],
                    [
                      "Philadelphia",
                      "2009-02-15"
                    ],
                    [
                      "Philadelphia",
                      "2010-11-24"
                    ],
                    [
                      "Charleroi",
                      "2008-07-30"
                    ],
                    [
                      "Wilkes-Barre",
                      "2008-07-20"
                    ],
                    [
                      "Pittsburgh",
                      "2014-03-26"
                    ],
                    [
                      "York",
                      "2009-07-31"
                    ],
                    [
                      "Not in a city",
                      "2014-06-19"
                    ],
                    [
                      "Philadelphia",
                      "2007-07-03"
                    ],
                    [
                      "York",
                      "2016-03-06"
                    ],
                    [
                      "Lancaster",
                      "2005-05-15"
                    ],
                    [
                      "Philadelphia",
                      "2000-06-09"
                    ],
                    [
                      "Bristol",
                      "2005-10-18"
                    ],
                    [
                      "Lancaster",
                      "2007-10-20"
                    ],
                    [
                      "Philadelphia",
                      "2000-09-03"
                    ],
                    [
                      "Beaver Falls",
                      "2003-05-11"
                    ],
                    [
                      "Pittsburgh",
                      "2008-06-27"
                    ],
                    [
                      "Altoona",
                      "2008-08-15"
                    ],
                    [
                      "Scranton",
                      "2006-09-21"
                    ],
                    [
                      "Philadelphia",
                      "2012-05-30"
                    ],
                    [
                      "Freemansburg",
                      "2004-07-02"
                    ],
                    [
                      "Johnstown",
                      "2001-07-05"
                    ],
                    [
                      "York",
                      "2000-09-06"
                    ],
                    [
                      "Pittsburgh",
                      "2014-07-29"
                    ],
                    [
                      "Pittsburgh",
                      "2012-04-11"
                    ],
                    [
                      "Beaver Falls",
                      "2001-10-16"
                    ],
                    [
                      "Not in a city",
                      "2007-10-05"
                    ],
                    [
                      "Johnstown",
                      "2013-10-13"
                    ],
                    [
                      "Pittsburgh",
                      "2000-05-13"
                    ],
                    [
                      "Philadelphia",
                      "2008-06-03"
                    ],
                    [
                      "Norristown",
                      "2001-10-04"
                    ],
                    [
                      "Philadelphia",
                      "2001-06-13"
                    ],
                    [
                      "Philadelphia",
                      "2013-05-26"
                    ],
                    [
                      "Philadelphia",
                      "2011-06-12"
                    ],
                    [
                      "Philadelphia",
                      "2008-07-02"
                    ],
                    [
                      "Pittsburgh",
                      "2010-07-31"
                    ],
                    [
                      "Philadelphia",
                      "2003-06-05"
                    ],
                    [
                      "Reading",
                      "2001-10-21"
                    ],
                    [
                      "Not in a city",
                      "2012-02-19"
                    ],
                    [
                      "Beaver Falls",
                      "2005-09-15"
                    ],
                    [
                      "Beaver Falls",
                      "2000-06-12"
                    ],
                    [
                      "Bristol",
                      "2003-05-15"
                    ],
                    [
                      "Philadelphia",
                      "2005-06-20"
                    ],
                    [
                      "Erie",
                      "2007-04-13"
                    ],
                    [
                      "Charleroi",
                      "2011-12-23"
                    ],
                    [
                      "Not in a city",
                      "2008-10-12"
                    ],
                    [
                      "Norristown",
                      "2008-06-13"
                    ],
                    [
                      "Bristol",
                      "2004-06-27"
                    ],
                    [
                      "Freemansburg",
                      "2003-05-28"
                    ],
                    [
                      "York",
                      "2009-08-09"
                    ],
                    [
                      "Pittsburgh",
                      "2003-08-27"
                    ],
                    [
                      "Not in a city",
                      "2006-04-12"
                    ],
                    [
                      "Freemansburg",
                      "2001-06-29"
                    ],
                    [
                      "Pittsburgh",
                      "2004-06-18"
                    ],
                    [
                      "Not in a city",
                      "2013-10-02"
                    ],
                    [
                      "Philadelphia",
                      "2013-03-12"
                    ],
                    [
                      "Freemansburg",
                      "2002-08-30"
                    ],
                    [
                      "Freemansburg",
                      "2000-06-06"
                    ],
                    [
                      "Freemansburg",
                      "2004-04-12"
                    ],
                    [
                      "Lancaster",
                      "2005-07-31"
                    ],
                    [
                      "Bristol",
                      "2012-06-06"
                    ],
                    [
                      "Altoona",
                      "2002-04-23"
                    ],
                    [
                      "Pittsburgh",
                      "2011-03-21"
                    ],
                    [
                      "Erie",
                      "2011-09-01"
                    ],
                    [
                      "Wilkes-Barre",
                      "2008-04-23"
                    ],
                    [
                      "Pittsburgh",
                      "2002-04-14"
                    ],
                    [
                      "Scranton",
                      "2000-05-13"
                    ],
                    [
                      "Philadelphia",
                      "2008-11-20"
                    ],
                    [
                      "Johnstown",
                      "2013-04-14"
                    ],
                    [
                      "Pittsburgh",
                      "2008-10-01"
                    ],
                    [
                      "Pittsburgh",
                      "2010-10-03"
                    ],
                    [
                      "Altoona",
                      "2006-08-12"
                    ],
                    [
                      "Bristol",
                      "2004-10-27"
                    ],
                    [
                      "Pittsburgh",
                      "2000-04-06"
                    ],
                    [
                      "Pittsburgh",
                      "2006-08-06"
                    ],
                    [
                      "Greensburg",
                      "2005-10-30"
                    ],
                    [
                      "Beaver Falls",
                      "2008-07-02"
                    ],
                    [
                      "York",
                      "2009-06-27"
                    ],
                    [
                      "Lancaster",
                      "2005-07-05"
                    ],
                    [
                      "York",
                      "2004-08-04"
                    ],
                    [
                      "Charleroi",
                      "2015-05-16"
                    ],
                    [
                      "Not in a city",
                      "2013-08-26"
                    ],
                    [
                      "York",
                      "2007-07-25"
                    ],
                    [
                      "Philadelphia",
                      "2008-08-19"
                    ],
                    [
                      "Scranton",
                      "2005-05-15"
                    ],
                    [
                      "York",
                      "2006-07-12"
                    ],
                    [
                      "York",
                      "2004-09-09"
                    ],
                    [
                      "Beaver Falls",
                      "2008-06-01"
                    ],
                    [
                      "Charleroi",
                      "2012-04-08"
                    ],
                    [
                      "New Castle",
                      "2008-09-23"
                    ],
                    [
                      "York",
                      "2015-08-15"
                    ],
                    [
                      "York",
                      "2011-03-03"
                    ],
                    [
                      "Reading",
                      "2001-09-17"
                    ],
                    [
                      "Pittsburgh",
                      "2000-07-12"
                    ],
                    [
                      "Freemansburg",
                      "2003-09-27"
                    ],
                    [
                      "Pittsburgh",
                      "2007-04-26"
                    ],
                    [
                      "Charleroi",
                      "2008-09-21"
                    ],
                    [
                      "Erie",
                      "2006-04-13"
                    ],
                    [
                      "Reading",
                      "2002-07-11"
                    ],
                    [
                      "Charleroi",
                      "2002-06-11"
                    ],
                    [
                      "Pittsburgh",
                      "2003-10-29"
                    ],
                    [
                      "Greensburg",
                      "2001-06-14"
                    ],
                    [
                      "New Castle",
                      "2008-04-20"
                    ],
                    [
                      "Not in a city",
                      "2007-10-12"
                    ],
                    [
                      "Pittsburgh",
                      "2013-03-04"
                    ],
                    [
                      "Wilkes-Barre",
                      "2007-06-03"
                    ],
                    [
                      "Johnstown",
                      "2014-02-19"
                    ],
                    [
                      "Norristown",
                      "2001-10-24"
                    ],
                    [
                      "York",
                      "2012-05-15"
                    ],
                    [
                      "New Castle",
                      "2007-09-06"
                    ],
                    [
                      "New Castle",
                      "2004-05-04"
                    ],
                    [
                      "Not in a city",
                      "2010-04-01"
                    ],
                    [
                      "Altoona",
                      "2008-09-04"
                    ],
                    [
                      "Charleroi",
                      "2014-03-09"
                    ],
                    [
                      "Beaver Falls",
                      "2007-06-26"
                    ],
                    [
                      "Greensburg",
                      "2003-09-08"
                    ],
                    [
                      "Johnstown",
                      "2004-05-17"
                    ],
                    [
                      "Bristol",
                      "2009-05-30"
                    ],
                    [
                      "Pittsburgh",
                      "2013-09-26"
                    ],
                    [
                      "Johnstown",
                      "2000-06-11"
                    ]
                  ],
                  "hovertemplate": "state=Pennsylvania<br>no2 aqi=%{x}<br>co aqi=%{y}<br>city=%{customdata[0]}<br>date local=%{customdata[1]}<extra></extra>",
                  "legendgroup": "Pennsylvania",
                  "marker": {
                    "color": "rgb(231,138,195)",
                    "symbol": "circle"
                  },
                  "mode": "markers",
                  "name": "Pennsylvania",
                  "showlegend": true,
                  "type": "scattergl",
                  "x": [
                    30,
                    17,
                    22,
                    18,
                    27,
                    24,
                    21,
                    17,
                    27,
                    9,
                    31,
                    11,
                    36,
                    25,
                    29,
                    24,
                    14,
                    9,
                    19,
                    11,
                    23,
                    68,
                    17,
                    27,
                    18,
                    17,
                    26,
                    33,
                    16,
                    30,
                    46,
                    25,
                    22,
                    8,
                    33,
                    23,
                    25,
                    20,
                    31,
                    11,
                    13,
                    37,
                    26,
                    24,
                    7,
                    38,
                    11,
                    17,
                    19,
                    17,
                    11,
                    36,
                    17,
                    26,
                    23,
                    38,
                    17,
                    34,
                    23,
                    31,
                    26,
                    30,
                    20,
                    22,
                    14,
                    18,
                    42,
                    42,
                    27,
                    25,
                    10,
                    22,
                    15,
                    33,
                    17,
                    15,
                    21,
                    21,
                    21,
                    43,
                    38,
                    34,
                    11,
                    18,
                    22,
                    30,
                    15,
                    13,
                    24,
                    19,
                    10,
                    29,
                    32,
                    34,
                    18,
                    38,
                    25,
                    12,
                    24,
                    11,
                    21,
                    15,
                    27,
                    24,
                    32,
                    39,
                    35,
                    34,
                    11,
                    25,
                    8,
                    35,
                    30,
                    27,
                    23,
                    17,
                    12,
                    12,
                    16,
                    27,
                    29,
                    37,
                    17,
                    7,
                    24,
                    39,
                    25,
                    22,
                    11,
                    21,
                    18,
                    24,
                    16,
                    41,
                    30,
                    39,
                    33,
                    31,
                    34,
                    57,
                    2,
                    45,
                    34,
                    20,
                    40,
                    21,
                    26,
                    46,
                    9,
                    13,
                    48,
                    32,
                    22,
                    20,
                    16,
                    22,
                    18,
                    9,
                    25,
                    25,
                    8,
                    48,
                    27,
                    27,
                    37,
                    25,
                    30,
                    19,
                    23,
                    39,
                    25,
                    16,
                    25,
                    16,
                    15,
                    29,
                    18,
                    4,
                    18,
                    32,
                    42,
                    27,
                    25,
                    15,
                    23,
                    27,
                    34,
                    26,
                    18,
                    29,
                    24,
                    26,
                    33,
                    42,
                    8,
                    27,
                    37,
                    35,
                    30,
                    11,
                    32,
                    39,
                    36,
                    21,
                    24,
                    21,
                    8,
                    18,
                    24,
                    12,
                    15,
                    27,
                    27,
                    12,
                    24,
                    26,
                    21,
                    30,
                    14,
                    21,
                    8,
                    16,
                    25,
                    35,
                    27,
                    27,
                    21,
                    17,
                    11,
                    25,
                    21,
                    15,
                    24,
                    29,
                    27,
                    16,
                    8,
                    18,
                    18,
                    17,
                    23,
                    27,
                    37,
                    31,
                    8,
                    25,
                    18,
                    49,
                    29,
                    22,
                    27,
                    31,
                    9,
                    25,
                    33,
                    9,
                    38,
                    41,
                    24,
                    44,
                    30,
                    27,
                    45,
                    27,
                    25,
                    28,
                    14,
                    29,
                    29,
                    14
                  ],
                  "xaxis": "x",
                  "y": [
                    2,
                    2,
                    6,
                    0,
                    6,
                    5,
                    2,
                    2,
                    8,
                    0,
                    1,
                    2,
                    9,
                    3,
                    7,
                    0,
                    2,
                    2,
                    5,
                    1,
                    5,
                    8,
                    2,
                    1,
                    5,
                    3,
                    6,
                    0,
                    0,
                    3,
                    1,
                    9,
                    1,
                    2,
                    7,
                    5,
                    5,
                    3,
                    0,
                    6,
                    0,
                    1,
                    3,
                    2,
                    0,
                    7,
                    0,
                    6,
                    6,
                    6,
                    6,
                    10,
                    6,
                    6,
                    3,
                    2,
                    2,
                    6,
                    10,
                    7,
                    0,
                    2,
                    0,
                    7,
                    5,
                    0,
                    13,
                    15,
                    6,
                    6,
                    2,
                    1,
                    3,
                    6,
                    3,
                    2,
                    5,
                    1,
                    0,
                    10,
                    2,
                    3,
                    0,
                    0,
                    3,
                    5,
                    1,
                    0,
                    7,
                    3,
                    3,
                    3,
                    7,
                    6,
                    6,
                    3,
                    5,
                    2,
                    6,
                    8,
                    6,
                    3,
                    10,
                    5,
                    9,
                    5,
                    5,
                    8,
                    8,
                    0,
                    3,
                    6,
                    0,
                    6,
                    6,
                    3,
                    5,
                    0,
                    5,
                    5,
                    0,
                    2,
                    3,
                    0,
                    5,
                    5,
                    2,
                    3,
                    1,
                    6,
                    3,
                    0,
                    0,
                    7,
                    10,
                    5,
                    9,
                    6,
                    9,
                    10,
                    0,
                    10,
                    8,
                    6,
                    5,
                    6,
                    5,
                    14,
                    2,
                    3,
                    6,
                    5,
                    2,
                    1,
                    1,
                    2,
                    3,
                    0,
                    2,
                    1,
                    3,
                    8,
                    3,
                    2,
                    7,
                    6,
                    3,
                    2,
                    5,
                    7,
                    3,
                    6,
                    5,
                    2,
                    2,
                    8,
                    0,
                    3,
                    1,
                    5,
                    6,
                    5,
                    1,
                    2,
                    2,
                    9,
                    8,
                    9,
                    2,
                    13,
                    0,
                    9,
                    3,
                    7,
                    2,
                    1,
                    3,
                    5,
                    0,
                    3,
                    5,
                    6,
                    6,
                    1,
                    0,
                    5,
                    3,
                    2,
                    7,
                    3,
                    2,
                    0,
                    3,
                    2,
                    2,
                    8,
                    5,
                    5,
                    0,
                    1,
                    3,
                    1,
                    13,
                    3,
                    11,
                    1,
                    2,
                    5,
                    3,
                    7,
                    6,
                    0,
                    1,
                    2,
                    0,
                    5,
                    3,
                    3,
                    6,
                    0,
                    1,
                    1,
                    9,
                    0,
                    1,
                    6,
                    6,
                    14,
                    5,
                    7,
                    2,
                    3,
                    5,
                    2,
                    5,
                    0,
                    9,
                    5,
                    3,
                    6,
                    8,
                    1,
                    3,
                    0,
                    3,
                    0,
                    5,
                    5,
                    6,
                    7
                  ],
                  "yaxis": "y"
                },
                {
                  "hovertemplate": "<b>OLS trendline</b><br>co aqi = 0.142672 * no2 aqi + 0.578575<br>R<sup>2</sup>=0.210569<br><br>state=Pennsylvania<br>no2 aqi=%{x}<br>co aqi=%{y} <b>(trend)</b><extra></extra>",
                  "legendgroup": "Pennsylvania",
                  "marker": {
                    "color": "rgb(231,138,195)",
                    "symbol": "circle"
                  },
                  "mode": "lines",
                  "name": "Pennsylvania",
                  "showlegend": false,
                  "type": "scattergl",
                  "x": [
                    2,
                    4,
                    7,
                    7,
                    8,
                    8,
                    8,
                    8,
                    8,
                    8,
                    8,
                    8,
                    9,
                    9,
                    9,
                    9,
                    9,
                    9,
                    10,
                    10,
                    11,
                    11,
                    11,
                    11,
                    11,
                    11,
                    11,
                    11,
                    11,
                    11,
                    11,
                    12,
                    12,
                    12,
                    12,
                    12,
                    13,
                    13,
                    13,
                    14,
                    14,
                    14,
                    14,
                    14,
                    15,
                    15,
                    15,
                    15,
                    15,
                    15,
                    15,
                    15,
                    16,
                    16,
                    16,
                    16,
                    16,
                    16,
                    16,
                    16,
                    17,
                    17,
                    17,
                    17,
                    17,
                    17,
                    17,
                    17,
                    17,
                    17,
                    17,
                    17,
                    17,
                    18,
                    18,
                    18,
                    18,
                    18,
                    18,
                    18,
                    18,
                    18,
                    18,
                    18,
                    18,
                    18,
                    18,
                    19,
                    19,
                    19,
                    19,
                    20,
                    20,
                    20,
                    20,
                    21,
                    21,
                    21,
                    21,
                    21,
                    21,
                    21,
                    21,
                    21,
                    21,
                    21,
                    21,
                    21,
                    22,
                    22,
                    22,
                    22,
                    22,
                    22,
                    22,
                    22,
                    22,
                    23,
                    23,
                    23,
                    23,
                    23,
                    23,
                    23,
                    23,
                    24,
                    24,
                    24,
                    24,
                    24,
                    24,
                    24,
                    24,
                    24,
                    24,
                    24,
                    24,
                    24,
                    24,
                    25,
                    25,
                    25,
                    25,
                    25,
                    25,
                    25,
                    25,
                    25,
                    25,
                    25,
                    25,
                    25,
                    25,
                    25,
                    25,
                    25,
                    25,
                    26,
                    26,
                    26,
                    26,
                    26,
                    26,
                    26,
                    26,
                    27,
                    27,
                    27,
                    27,
                    27,
                    27,
                    27,
                    27,
                    27,
                    27,
                    27,
                    27,
                    27,
                    27,
                    27,
                    27,
                    27,
                    27,
                    27,
                    27,
                    27,
                    28,
                    29,
                    29,
                    29,
                    29,
                    29,
                    29,
                    29,
                    29,
                    29,
                    30,
                    30,
                    30,
                    30,
                    30,
                    30,
                    30,
                    30,
                    30,
                    30,
                    31,
                    31,
                    31,
                    31,
                    31,
                    31,
                    32,
                    32,
                    32,
                    32,
                    32,
                    33,
                    33,
                    33,
                    33,
                    33,
                    33,
                    34,
                    34,
                    34,
                    34,
                    34,
                    34,
                    34,
                    35,
                    35,
                    35,
                    35,
                    36,
                    36,
                    36,
                    37,
                    37,
                    37,
                    37,
                    37,
                    38,
                    38,
                    38,
                    38,
                    38,
                    39,
                    39,
                    39,
                    39,
                    39,
                    40,
                    41,
                    41,
                    42,
                    42,
                    42,
                    42,
                    43,
                    44,
                    45,
                    45,
                    46,
                    46,
                    48,
                    48,
                    49,
                    57,
                    68
                  ],
                  "xaxis": "x",
                  "y": [
                    0.8639183171847005,
                    1.1492620800556528,
                    1.5772777243620812,
                    1.5772777243620812,
                    1.7199496057975574,
                    1.7199496057975574,
                    1.7199496057975574,
                    1.7199496057975574,
                    1.7199496057975574,
                    1.7199496057975574,
                    1.7199496057975574,
                    1.7199496057975574,
                    1.8626214872330336,
                    1.8626214872330336,
                    1.8626214872330336,
                    1.8626214872330336,
                    1.8626214872330336,
                    1.8626214872330336,
                    2.00529336866851,
                    2.00529336866851,
                    2.1479652501039856,
                    2.1479652501039856,
                    2.1479652501039856,
                    2.1479652501039856,
                    2.1479652501039856,
                    2.1479652501039856,
                    2.1479652501039856,
                    2.1479652501039856,
                    2.1479652501039856,
                    2.1479652501039856,
                    2.1479652501039856,
                    2.2906371315394622,
                    2.2906371315394622,
                    2.2906371315394622,
                    2.2906371315394622,
                    2.2906371315394622,
                    2.433309012974938,
                    2.433309012974938,
                    2.433309012974938,
                    2.5759808944104146,
                    2.5759808944104146,
                    2.5759808944104146,
                    2.5759808944104146,
                    2.5759808944104146,
                    2.7186527758458903,
                    2.7186527758458903,
                    2.7186527758458903,
                    2.7186527758458903,
                    2.7186527758458903,
                    2.7186527758458903,
                    2.7186527758458903,
                    2.7186527758458903,
                    2.861324657281367,
                    2.861324657281367,
                    2.861324657281367,
                    2.861324657281367,
                    2.861324657281367,
                    2.861324657281367,
                    2.861324657281367,
                    2.861324657281367,
                    3.0039965387168426,
                    3.0039965387168426,
                    3.0039965387168426,
                    3.0039965387168426,
                    3.0039965387168426,
                    3.0039965387168426,
                    3.0039965387168426,
                    3.0039965387168426,
                    3.0039965387168426,
                    3.0039965387168426,
                    3.0039965387168426,
                    3.0039965387168426,
                    3.0039965387168426,
                    3.146668420152319,
                    3.146668420152319,
                    3.146668420152319,
                    3.146668420152319,
                    3.146668420152319,
                    3.146668420152319,
                    3.146668420152319,
                    3.146668420152319,
                    3.146668420152319,
                    3.146668420152319,
                    3.146668420152319,
                    3.146668420152319,
                    3.146668420152319,
                    3.146668420152319,
                    3.289340301587795,
                    3.289340301587795,
                    3.289340301587795,
                    3.289340301587795,
                    3.4320121830232715,
                    3.4320121830232715,
                    3.4320121830232715,
                    3.4320121830232715,
                    3.574684064458747,
                    3.574684064458747,
                    3.574684064458747,
                    3.574684064458747,
                    3.574684064458747,
                    3.574684064458747,
                    3.574684064458747,
                    3.574684064458747,
                    3.574684064458747,
                    3.574684064458747,
                    3.574684064458747,
                    3.574684064458747,
                    3.574684064458747,
                    3.717355945894224,
                    3.717355945894224,
                    3.717355945894224,
                    3.717355945894224,
                    3.717355945894224,
                    3.717355945894224,
                    3.717355945894224,
                    3.717355945894224,
                    3.717355945894224,
                    3.8600278273296995,
                    3.8600278273296995,
                    3.8600278273296995,
                    3.8600278273296995,
                    3.8600278273296995,
                    3.8600278273296995,
                    3.8600278273296995,
                    3.8600278273296995,
                    4.002699708765176,
                    4.002699708765176,
                    4.002699708765176,
                    4.002699708765176,
                    4.002699708765176,
                    4.002699708765176,
                    4.002699708765176,
                    4.002699708765176,
                    4.002699708765176,
                    4.002699708765176,
                    4.002699708765176,
                    4.002699708765176,
                    4.002699708765176,
                    4.002699708765176,
                    4.145371590200652,
                    4.145371590200652,
                    4.145371590200652,
                    4.145371590200652,
                    4.145371590200652,
                    4.145371590200652,
                    4.145371590200652,
                    4.145371590200652,
                    4.145371590200652,
                    4.145371590200652,
                    4.145371590200652,
                    4.145371590200652,
                    4.145371590200652,
                    4.145371590200652,
                    4.145371590200652,
                    4.145371590200652,
                    4.145371590200652,
                    4.145371590200652,
                    4.288043471636128,
                    4.288043471636128,
                    4.288043471636128,
                    4.288043471636128,
                    4.288043471636128,
                    4.288043471636128,
                    4.288043471636128,
                    4.288043471636128,
                    4.430715353071604,
                    4.430715353071604,
                    4.430715353071604,
                    4.430715353071604,
                    4.430715353071604,
                    4.430715353071604,
                    4.430715353071604,
                    4.430715353071604,
                    4.430715353071604,
                    4.430715353071604,
                    4.430715353071604,
                    4.430715353071604,
                    4.430715353071604,
                    4.430715353071604,
                    4.430715353071604,
                    4.430715353071604,
                    4.430715353071604,
                    4.430715353071604,
                    4.430715353071604,
                    4.430715353071604,
                    4.430715353071604,
                    4.573387234507081,
                    4.7160591159425564,
                    4.7160591159425564,
                    4.7160591159425564,
                    4.7160591159425564,
                    4.7160591159425564,
                    4.7160591159425564,
                    4.7160591159425564,
                    4.7160591159425564,
                    4.7160591159425564,
                    4.858730997378033,
                    4.858730997378033,
                    4.858730997378033,
                    4.858730997378033,
                    4.858730997378033,
                    4.858730997378033,
                    4.858730997378033,
                    4.858730997378033,
                    4.858730997378033,
                    4.858730997378033,
                    5.00140287881351,
                    5.00140287881351,
                    5.00140287881351,
                    5.00140287881351,
                    5.00140287881351,
                    5.00140287881351,
                    5.144074760248985,
                    5.144074760248985,
                    5.144074760248985,
                    5.144074760248985,
                    5.144074760248985,
                    5.286746641684461,
                    5.286746641684461,
                    5.286746641684461,
                    5.286746641684461,
                    5.286746641684461,
                    5.286746641684461,
                    5.429418523119938,
                    5.429418523119938,
                    5.429418523119938,
                    5.429418523119938,
                    5.429418523119938,
                    5.429418523119938,
                    5.429418523119938,
                    5.572090404555414,
                    5.572090404555414,
                    5.572090404555414,
                    5.572090404555414,
                    5.71476228599089,
                    5.71476228599089,
                    5.71476228599089,
                    5.857434167426366,
                    5.857434167426366,
                    5.857434167426366,
                    5.857434167426366,
                    5.857434167426366,
                    6.000106048861842,
                    6.000106048861842,
                    6.000106048861842,
                    6.000106048861842,
                    6.000106048861842,
                    6.142777930297319,
                    6.142777930297319,
                    6.142777930297319,
                    6.142777930297319,
                    6.142777930297319,
                    6.285449811732795,
                    6.42812169316827,
                    6.42812169316827,
                    6.570793574603747,
                    6.570793574603747,
                    6.570793574603747,
                    6.570793574603747,
                    6.7134654560392235,
                    6.856137337474699,
                    6.998809218910175,
                    6.998809218910175,
                    7.1414811003456515,
                    7.1414811003456515,
                    7.426824863216604,
                    7.426824863216604,
                    7.56949674465208,
                    8.710871796135889,
                    10.280262491926127
                  ],
                  "yaxis": "y"
                },
                {
                  "customdata": [
                    [
                      "El Paso",
                      "2001-08-15"
                    ],
                    [
                      "El Paso",
                      "2013-04-23"
                    ],
                    [
                      "Houston",
                      "2006-04-10"
                    ],
                    [
                      "El Paso",
                      "2002-04-09"
                    ],
                    [
                      "El Paso",
                      "2005-06-27"
                    ],
                    [
                      "Dallas",
                      "2012-11-09"
                    ],
                    [
                      "Dallas",
                      "2002-01-27"
                    ],
                    [
                      "Houston",
                      "2010-09-12"
                    ],
                    [
                      "San Antonio",
                      "2009-07-25"
                    ],
                    [
                      "El Paso",
                      "2002-03-31"
                    ],
                    [
                      "Deer Park",
                      "2014-10-01"
                    ],
                    [
                      "El Paso",
                      "2011-12-22"
                    ],
                    [
                      "El Paso",
                      "2014-04-17"
                    ],
                    [
                      "El Paso",
                      "2003-02-25"
                    ],
                    [
                      "Dallas",
                      "2009-01-17"
                    ],
                    [
                      "El Paso",
                      "2005-03-21"
                    ],
                    [
                      "El Paso",
                      "2016-03-28"
                    ],
                    [
                      "Houston",
                      "2008-03-08"
                    ],
                    [
                      "Dallas",
                      "2001-07-21"
                    ],
                    [
                      "El Paso",
                      "2014-04-29"
                    ],
                    [
                      "Dallas",
                      "2002-03-14"
                    ],
                    [
                      "El Paso",
                      "2009-12-28"
                    ],
                    [
                      "El Paso",
                      "2011-05-30"
                    ],
                    [
                      "Deer Park",
                      "2011-04-22"
                    ],
                    [
                      "El Paso",
                      "2003-11-28"
                    ],
                    [
                      "Houston",
                      "2006-09-20"
                    ],
                    [
                      "El Paso",
                      "2011-12-16"
                    ],
                    [
                      "Deer Park",
                      "2013-11-10"
                    ],
                    [
                      "El Paso",
                      "2000-09-05"
                    ],
                    [
                      "San Antonio",
                      "2009-11-11"
                    ],
                    [
                      "Houston",
                      "2010-01-06"
                    ],
                    [
                      "Houston",
                      "2013-05-20"
                    ],
                    [
                      "Waco",
                      "2008-08-29"
                    ],
                    [
                      "Waco",
                      "2011-12-07"
                    ],
                    [
                      "Dallas",
                      "2010-11-03"
                    ],
                    [
                      "Houston",
                      "2007-05-30"
                    ],
                    [
                      "Houston",
                      "2004-11-19"
                    ],
                    [
                      "Austin",
                      "2013-08-23"
                    ],
                    [
                      "Dallas",
                      "2006-01-07"
                    ],
                    [
                      "Waco",
                      "2011-05-14"
                    ],
                    [
                      "Austin",
                      "2014-03-18"
                    ],
                    [
                      "Dallas",
                      "2010-09-23"
                    ],
                    [
                      "Dallas",
                      "2015-07-25"
                    ],
                    [
                      "El Paso",
                      "2004-05-18"
                    ],
                    [
                      "Dallas",
                      "2003-03-27"
                    ],
                    [
                      "Dallas",
                      "2005-01-17"
                    ],
                    [
                      "Houston",
                      "2014-08-19"
                    ],
                    [
                      "Dallas",
                      "2014-10-27"
                    ],
                    [
                      "Waco",
                      "2010-10-24"
                    ],
                    [
                      "Deer Park",
                      "2011-03-22"
                    ],
                    [
                      "El Paso",
                      "2014-06-06"
                    ],
                    [
                      "El Paso",
                      "2008-05-19"
                    ],
                    [
                      "El Paso",
                      "2013-05-29"
                    ],
                    [
                      "El Paso",
                      "2005-10-05"
                    ],
                    [
                      "El Paso",
                      "2012-06-05"
                    ],
                    [
                      "Dallas",
                      "2004-07-04"
                    ],
                    [
                      "Austin",
                      "2013-01-01"
                    ],
                    [
                      "El Paso",
                      "2011-03-01"
                    ],
                    [
                      "Dallas",
                      "2008-09-23"
                    ],
                    [
                      "San Antonio",
                      "2009-03-03"
                    ],
                    [
                      "Houston",
                      "2000-06-17"
                    ],
                    [
                      "Dallas",
                      "2001-02-25"
                    ],
                    [
                      "El Paso",
                      "2002-10-24"
                    ],
                    [
                      "Deer Park",
                      "2016-04-26"
                    ],
                    [
                      "Houston",
                      "2004-09-23"
                    ],
                    [
                      "Deer Park",
                      "2013-06-08"
                    ],
                    [
                      "El Paso",
                      "2011-02-06"
                    ],
                    [
                      "Houston",
                      "2006-10-17"
                    ],
                    [
                      "Dallas",
                      "2004-01-27"
                    ],
                    [
                      "El Paso",
                      "2013-01-24"
                    ],
                    [
                      "Waco",
                      "2013-10-03"
                    ],
                    [
                      "Not in a city",
                      "2008-05-11"
                    ],
                    [
                      "Houston",
                      "2015-11-18"
                    ],
                    [
                      "San Antonio",
                      "2009-11-07"
                    ],
                    [
                      "Houston",
                      "2007-04-09"
                    ],
                    [
                      "Dallas",
                      "2005-06-12"
                    ],
                    [
                      "El Paso",
                      "2003-01-20"
                    ],
                    [
                      "Houston",
                      "2008-10-28"
                    ],
                    [
                      "Houston",
                      "2010-04-27"
                    ],
                    [
                      "Waco",
                      "2012-03-02"
                    ],
                    [
                      "Houston",
                      "2014-05-14"
                    ],
                    [
                      "Waco",
                      "2009-06-10"
                    ],
                    [
                      "El Paso",
                      "2004-05-21"
                    ],
                    [
                      "Houston",
                      "2006-11-30"
                    ],
                    [
                      "El Paso",
                      "2012-04-29"
                    ],
                    [
                      "San Antonio",
                      "2009-03-21"
                    ],
                    [
                      "San Antonio",
                      "2009-07-28"
                    ],
                    [
                      "El Paso",
                      "2012-12-13"
                    ],
                    [
                      "El Paso",
                      "2003-06-17"
                    ],
                    [
                      "Houston",
                      "2013-05-01"
                    ],
                    [
                      "Deer Park",
                      "2015-09-18"
                    ],
                    [
                      "Houston",
                      "2005-03-07"
                    ],
                    [
                      "San Antonio",
                      "2009-03-27"
                    ],
                    [
                      "Waco",
                      "2009-01-07"
                    ],
                    [
                      "Houston",
                      "2013-04-18"
                    ],
                    [
                      "Houston",
                      "2011-12-20"
                    ],
                    [
                      "Dallas",
                      "2010-01-12"
                    ],
                    [
                      "Dallas",
                      "2011-11-11"
                    ],
                    [
                      "Dallas",
                      "2014-05-29"
                    ],
                    [
                      "Dallas",
                      "2010-08-19"
                    ],
                    [
                      "El Paso",
                      "2013-12-13"
                    ],
                    [
                      "Dallas",
                      "2011-07-06"
                    ],
                    [
                      "El Paso",
                      "2006-12-09"
                    ],
                    [
                      "Waco",
                      "2011-11-15"
                    ],
                    [
                      "El Paso",
                      "2000-10-10"
                    ],
                    [
                      "Houston",
                      "2008-06-08"
                    ],
                    [
                      "El Paso",
                      "2011-02-09"
                    ],
                    [
                      "El Paso",
                      "2014-10-03"
                    ],
                    [
                      "Houston",
                      "2014-12-09"
                    ],
                    [
                      "Houston",
                      "2011-01-16"
                    ],
                    [
                      "Houston",
                      "2013-12-05"
                    ],
                    [
                      "El Paso",
                      "2012-02-16"
                    ],
                    [
                      "Waco",
                      "2011-04-15"
                    ],
                    [
                      "El Paso",
                      "2011-01-17"
                    ],
                    [
                      "Dallas",
                      "2002-01-13"
                    ],
                    [
                      "El Paso",
                      "2004-03-02"
                    ],
                    [
                      "Waco",
                      "2009-12-06"
                    ],
                    [
                      "Houston",
                      "2006-07-06"
                    ],
                    [
                      "El Paso",
                      "2005-08-22"
                    ],
                    [
                      "El Paso",
                      "2014-12-05"
                    ],
                    [
                      "Houston",
                      "2001-09-19"
                    ],
                    [
                      "El Paso",
                      "2004-01-09"
                    ],
                    [
                      "Dallas",
                      "2000-03-02"
                    ],
                    [
                      "Austin",
                      "2013-10-14"
                    ],
                    [
                      "Waco",
                      "2012-11-06"
                    ],
                    [
                      "Dallas",
                      "2006-06-09"
                    ],
                    [
                      "Dallas",
                      "2014-09-05"
                    ],
                    [
                      "Dallas",
                      "2011-08-05"
                    ],
                    [
                      "Houston",
                      "2007-09-09"
                    ],
                    [
                      "Houston",
                      "2009-07-19"
                    ],
                    [
                      "Houston",
                      "2013-03-02"
                    ],
                    [
                      "El Paso",
                      "2008-06-26"
                    ],
                    [
                      "El Paso",
                      "2011-03-03"
                    ],
                    [
                      "Dallas",
                      "2008-11-11"
                    ],
                    [
                      "San Antonio",
                      "2010-01-17"
                    ],
                    [
                      "Houston",
                      "2011-01-26"
                    ],
                    [
                      "Dallas",
                      "2007-11-01"
                    ],
                    [
                      "Not in a city",
                      "2009-01-17"
                    ],
                    [
                      "Deer Park",
                      "2014-09-02"
                    ],
                    [
                      "San Antonio",
                      "2010-06-26"
                    ],
                    [
                      "Waco",
                      "2013-04-10"
                    ],
                    [
                      "Houston",
                      "2009-06-06"
                    ],
                    [
                      "Houston",
                      "2013-08-22"
                    ],
                    [
                      "Waco",
                      "2010-10-10"
                    ],
                    [
                      "El Paso",
                      "2012-08-07"
                    ],
                    [
                      "Houston",
                      "2013-11-14"
                    ],
                    [
                      "Waco",
                      "2014-08-08"
                    ],
                    [
                      "El Paso",
                      "2003-12-31"
                    ],
                    [
                      "El Paso",
                      "2007-07-14"
                    ],
                    [
                      "Dallas",
                      "2009-08-19"
                    ],
                    [
                      "Houston",
                      "2014-03-03"
                    ],
                    [
                      "Waco",
                      "2015-05-06"
                    ],
                    [
                      "San Antonio",
                      "2009-06-28"
                    ],
                    [
                      "El Paso",
                      "2007-09-16"
                    ],
                    [
                      "El Paso",
                      "2004-10-19"
                    ],
                    [
                      "Waco",
                      "2016-01-14"
                    ],
                    [
                      "Houston",
                      "2006-04-22"
                    ],
                    [
                      "Waco",
                      "2011-08-04"
                    ],
                    [
                      "El Paso",
                      "2006-04-27"
                    ],
                    [
                      "Dallas",
                      "2004-01-12"
                    ],
                    [
                      "El Paso",
                      "2006-10-04"
                    ],
                    [
                      "El Paso",
                      "2005-05-28"
                    ],
                    [
                      "El Paso",
                      "2005-06-16"
                    ],
                    [
                      "El Paso",
                      "2009-08-13"
                    ],
                    [
                      "Houston",
                      "2006-05-09"
                    ],
                    [
                      "El Paso",
                      "2005-03-16"
                    ],
                    [
                      "Dallas",
                      "2014-10-31"
                    ]
                  ],
                  "hovertemplate": "state=Texas<br>no2 aqi=%{x}<br>co aqi=%{y}<br>city=%{customdata[0]}<br>date local=%{customdata[1]}<extra></extra>",
                  "legendgroup": "Texas",
                  "marker": {
                    "color": "rgb(166,216,84)",
                    "symbol": "circle"
                  },
                  "mode": "markers",
                  "name": "Texas",
                  "showlegend": true,
                  "type": "scattergl",
                  "x": [
                    21,
                    19,
                    37,
                    36,
                    12,
                    12,
                    33,
                    17,
                    6,
                    31,
                    7,
                    20,
                    31,
                    52,
                    29,
                    11,
                    25,
                    41,
                    18,
                    21,
                    14,
                    35,
                    6,
                    1,
                    42,
                    45,
                    19,
                    16,
                    42,
                    31,
                    35,
                    9,
                    6,
                    10,
                    36,
                    25,
                    44,
                    11,
                    36,
                    8,
                    13,
                    11,
                    14,
                    43,
                    24,
                    25,
                    11,
                    8,
                    4,
                    4,
                    26,
                    55,
                    10,
                    33,
                    32,
                    10,
                    9,
                    44,
                    25,
                    39,
                    12,
                    30,
                    29,
                    3,
                    8,
                    16,
                    24,
                    27,
                    32,
                    25,
                    3,
                    6,
                    39,
                    25,
                    20,
                    13,
                    35,
                    47,
                    54,
                    11,
                    21,
                    0,
                    31,
                    16,
                    34,
                    8,
                    3,
                    40,
                    24,
                    30,
                    10,
                    34,
                    21,
                    31,
                    16,
                    35,
                    54,
                    34,
                    22,
                    26,
                    20,
                    29,
                    32,
                    6,
                    29,
                    8,
                    13,
                    43,
                    46,
                    18,
                    20,
                    34,
                    7,
                    26,
                    35,
                    35,
                    3,
                    12,
                    42,
                    33,
                    14,
                    43,
                    36,
                    8,
                    15,
                    45,
                    21,
                    21,
                    14,
                    18,
                    44,
                    25,
                    22,
                    26,
                    31,
                    40,
                    35,
                    28,
                    7,
                    5,
                    7,
                    33,
                    24,
                    5,
                    21,
                    34,
                    2,
                    49,
                    8,
                    10,
                    11,
                    2,
                    7,
                    16,
                    38,
                    7,
                    20,
                    6,
                    19,
                    41,
                    54,
                    30,
                    28,
                    22,
                    13,
                    30,
                    21
                  ],
                  "xaxis": "x",
                  "y": [
                    5,
                    1,
                    6,
                    6,
                    3,
                    2,
                    5,
                    0,
                    2,
                    5,
                    2,
                    1,
                    2,
                    11,
                    5,
                    2,
                    5,
                    9,
                    3,
                    2,
                    3,
                    11,
                    1,
                    1,
                    7,
                    15,
                    1,
                    2,
                    14,
                    1,
                    6,
                    2,
                    1,
                    1,
                    3,
                    0,
                    13,
                    1,
                    9,
                    1,
                    2,
                    3,
                    2,
                    8,
                    6,
                    6,
                    2,
                    2,
                    2,
                    1,
                    1,
                    5,
                    0,
                    10,
                    1,
                    3,
                    2,
                    10,
                    5,
                    3,
                    6,
                    6,
                    6,
                    2,
                    3,
                    2,
                    2,
                    2,
                    8,
                    8,
                    1,
                    5,
                    6,
                    10,
                    1,
                    8,
                    8,
                    5,
                    5,
                    2,
                    1,
                    1,
                    5,
                    1,
                    1,
                    1,
                    1,
                    17,
                    3,
                    3,
                    3,
                    1,
                    6,
                    3,
                    2,
                    3,
                    19,
                    8,
                    3,
                    5,
                    1,
                    6,
                    8,
                    1,
                    7,
                    0,
                    2,
                    6,
                    10,
                    3,
                    3,
                    8,
                    5,
                    2,
                    11,
                    10,
                    2,
                    0,
                    13,
                    7,
                    1,
                    18,
                    7,
                    1,
                    1,
                    5,
                    2,
                    3,
                    3,
                    3,
                    5,
                    1,
                    2,
                    5,
                    14,
                    9,
                    6,
                    5,
                    1,
                    0,
                    2,
                    5,
                    3,
                    1,
                    2,
                    5,
                    1,
                    20,
                    0,
                    3,
                    1,
                    1,
                    1,
                    6,
                    8,
                    2,
                    5,
                    1,
                    3,
                    6,
                    7,
                    9,
                    5,
                    1,
                    1,
                    3,
                    6
                  ],
                  "yaxis": "y"
                },
                {
                  "hovertemplate": "<b>OLS trendline</b><br>co aqi = 0.201123 * no2 aqi + -0.296796<br>R<sup>2</sup>=0.478855<br><br>state=Texas<br>no2 aqi=%{x}<br>co aqi=%{y} <b>(trend)</b><extra></extra>",
                  "legendgroup": "Texas",
                  "marker": {
                    "color": "rgb(166,216,84)",
                    "symbol": "circle"
                  },
                  "mode": "lines",
                  "name": "Texas",
                  "showlegend": false,
                  "type": "scattergl",
                  "x": [
                    0,
                    1,
                    2,
                    2,
                    3,
                    3,
                    3,
                    3,
                    4,
                    4,
                    5,
                    5,
                    6,
                    6,
                    6,
                    6,
                    6,
                    6,
                    7,
                    7,
                    7,
                    7,
                    7,
                    7,
                    8,
                    8,
                    8,
                    8,
                    8,
                    8,
                    8,
                    9,
                    9,
                    10,
                    10,
                    10,
                    10,
                    10,
                    11,
                    11,
                    11,
                    11,
                    11,
                    11,
                    12,
                    12,
                    12,
                    12,
                    13,
                    13,
                    13,
                    13,
                    14,
                    14,
                    14,
                    14,
                    15,
                    16,
                    16,
                    16,
                    16,
                    16,
                    17,
                    18,
                    18,
                    18,
                    19,
                    19,
                    19,
                    20,
                    20,
                    20,
                    20,
                    20,
                    21,
                    21,
                    21,
                    21,
                    21,
                    21,
                    21,
                    21,
                    22,
                    22,
                    22,
                    24,
                    24,
                    24,
                    24,
                    25,
                    25,
                    25,
                    25,
                    25,
                    25,
                    25,
                    26,
                    26,
                    26,
                    26,
                    27,
                    28,
                    28,
                    29,
                    29,
                    29,
                    29,
                    30,
                    30,
                    30,
                    30,
                    31,
                    31,
                    31,
                    31,
                    31,
                    31,
                    32,
                    32,
                    32,
                    33,
                    33,
                    33,
                    33,
                    34,
                    34,
                    34,
                    34,
                    34,
                    35,
                    35,
                    35,
                    35,
                    35,
                    35,
                    35,
                    36,
                    36,
                    36,
                    36,
                    37,
                    38,
                    39,
                    39,
                    40,
                    40,
                    41,
                    41,
                    42,
                    42,
                    42,
                    43,
                    43,
                    43,
                    44,
                    44,
                    44,
                    45,
                    45,
                    46,
                    47,
                    49,
                    52,
                    54,
                    54,
                    54,
                    55
                  ],
                  "xaxis": "x",
                  "y": [
                    -0.29679646152051953,
                    -0.09567319619012146,
                    0.1054500691402766,
                    0.1054500691402766,
                    0.3065733344706747,
                    0.3065733344706747,
                    0.3065733344706747,
                    0.3065733344706747,
                    0.5076965998010727,
                    0.5076965998010727,
                    0.7088198651314709,
                    0.7088198651314709,
                    0.9099431304618689,
                    0.9099431304618689,
                    0.9099431304618689,
                    0.9099431304618689,
                    0.9099431304618689,
                    0.9099431304618689,
                    1.111066395792267,
                    1.111066395792267,
                    1.111066395792267,
                    1.111066395792267,
                    1.111066395792267,
                    1.111066395792267,
                    1.312189661122665,
                    1.312189661122665,
                    1.312189661122665,
                    1.312189661122665,
                    1.312189661122665,
                    1.312189661122665,
                    1.312189661122665,
                    1.5133129264530631,
                    1.5133129264530631,
                    1.7144361917834612,
                    1.7144361917834612,
                    1.7144361917834612,
                    1.7144361917834612,
                    1.7144361917834612,
                    1.9155594571138592,
                    1.9155594571138592,
                    1.9155594571138592,
                    1.9155594571138592,
                    1.9155594571138592,
                    1.9155594571138592,
                    2.1166827224442573,
                    2.1166827224442573,
                    2.1166827224442573,
                    2.1166827224442573,
                    2.3178059877746553,
                    2.3178059877746553,
                    2.3178059877746553,
                    2.3178059877746553,
                    2.5189292531050533,
                    2.5189292531050533,
                    2.5189292531050533,
                    2.5189292531050533,
                    2.7200525184354514,
                    2.9211757837658494,
                    2.9211757837658494,
                    2.9211757837658494,
                    2.9211757837658494,
                    2.9211757837658494,
                    3.1222990490962474,
                    3.3234223144266455,
                    3.3234223144266455,
                    3.3234223144266455,
                    3.5245455797570435,
                    3.5245455797570435,
                    3.5245455797570435,
                    3.725668845087442,
                    3.725668845087442,
                    3.725668845087442,
                    3.725668845087442,
                    3.725668845087442,
                    3.9267921104178396,
                    3.9267921104178396,
                    3.9267921104178396,
                    3.9267921104178396,
                    3.9267921104178396,
                    3.9267921104178396,
                    3.9267921104178396,
                    3.9267921104178396,
                    4.1279153757482385,
                    4.1279153757482385,
                    4.1279153757482385,
                    4.530161906409035,
                    4.530161906409035,
                    4.530161906409035,
                    4.530161906409035,
                    4.731285171739432,
                    4.731285171739432,
                    4.731285171739432,
                    4.731285171739432,
                    4.731285171739432,
                    4.731285171739432,
                    4.731285171739432,
                    4.932408437069831,
                    4.932408437069831,
                    4.932408437069831,
                    4.932408437069831,
                    5.133531702400228,
                    5.334654967730627,
                    5.334654967730627,
                    5.535778233061024,
                    5.535778233061024,
                    5.535778233061024,
                    5.535778233061024,
                    5.736901498391423,
                    5.736901498391423,
                    5.736901498391423,
                    5.736901498391423,
                    5.93802476372182,
                    5.93802476372182,
                    5.93802476372182,
                    5.93802476372182,
                    5.93802476372182,
                    5.93802476372182,
                    6.139148029052219,
                    6.139148029052219,
                    6.139148029052219,
                    6.340271294382617,
                    6.340271294382617,
                    6.340271294382617,
                    6.340271294382617,
                    6.541394559713015,
                    6.541394559713015,
                    6.541394559713015,
                    6.541394559713015,
                    6.541394559713015,
                    6.7425178250434135,
                    6.7425178250434135,
                    6.7425178250434135,
                    6.7425178250434135,
                    6.7425178250434135,
                    6.7425178250434135,
                    6.7425178250434135,
                    6.943641090373811,
                    6.943641090373811,
                    6.943641090373811,
                    6.943641090373811,
                    7.1447643557042095,
                    7.345887621034607,
                    7.547010886365006,
                    7.547010886365006,
                    7.748134151695404,
                    7.748134151695404,
                    7.949257417025801,
                    7.949257417025801,
                    8.150380682356198,
                    8.150380682356198,
                    8.150380682356198,
                    8.351503947686597,
                    8.351503947686597,
                    8.351503947686597,
                    8.552627213016995,
                    8.552627213016995,
                    8.552627213016995,
                    8.753750478347392,
                    8.753750478347392,
                    8.95487374367779,
                    9.155997009008189,
                    9.558243539668986,
                    10.16161333566018,
                    10.563859866320975,
                    10.563859866320975,
                    10.563859866320975,
                    10.764983131651373
                  ],
                  "yaxis": "y"
                }
              ],
              "layout": {
                "height": 600,
                "legend": {
                  "title": {
                    "text": "State"
                  },
                  "tracegroupgap": 0
                },
                "template": {
                  "data": {
                    "bar": [
                      {
                        "error_x": {
                          "color": "#2a3f5f"
                        },
                        "error_y": {
                          "color": "#2a3f5f"
                        },
                        "marker": {
                          "line": {
                            "color": "#E5ECF6",
                            "width": 0.5
                          },
                          "pattern": {
                            "fillmode": "overlay",
                            "size": 10,
                            "solidity": 0.2
                          }
                        },
                        "type": "bar"
                      }
                    ],
                    "barpolar": [
                      {
                        "marker": {
                          "line": {
                            "color": "#E5ECF6",
                            "width": 0.5
                          },
                          "pattern": {
                            "fillmode": "overlay",
                            "size": 10,
                            "solidity": 0.2
                          }
                        },
                        "type": "barpolar"
                      }
                    ],
                    "carpet": [
                      {
                        "aaxis": {
                          "endlinecolor": "#2a3f5f",
                          "gridcolor": "white",
                          "linecolor": "white",
                          "minorgridcolor": "white",
                          "startlinecolor": "#2a3f5f"
                        },
                        "baxis": {
                          "endlinecolor": "#2a3f5f",
                          "gridcolor": "white",
                          "linecolor": "white",
                          "minorgridcolor": "white",
                          "startlinecolor": "#2a3f5f"
                        },
                        "type": "carpet"
                      }
                    ],
                    "choropleth": [
                      {
                        "colorbar": {
                          "outlinewidth": 0,
                          "ticks": ""
                        },
                        "type": "choropleth"
                      }
                    ],
                    "contour": [
                      {
                        "colorbar": {
                          "outlinewidth": 0,
                          "ticks": ""
                        },
                        "colorscale": [
                          [
                            0,
                            "#0d0887"
                          ],
                          [
                            0.1111111111111111,
                            "#46039f"
                          ],
                          [
                            0.2222222222222222,
                            "#7201a8"
                          ],
                          [
                            0.3333333333333333,
                            "#9c179e"
                          ],
                          [
                            0.4444444444444444,
                            "#bd3786"
                          ],
                          [
                            0.5555555555555556,
                            "#d8576b"
                          ],
                          [
                            0.6666666666666666,
                            "#ed7953"
                          ],
                          [
                            0.7777777777777778,
                            "#fb9f3a"
                          ],
                          [
                            0.8888888888888888,
                            "#fdca26"
                          ],
                          [
                            1,
                            "#f0f921"
                          ]
                        ],
                        "type": "contour"
                      }
                    ],
                    "contourcarpet": [
                      {
                        "colorbar": {
                          "outlinewidth": 0,
                          "ticks": ""
                        },
                        "type": "contourcarpet"
                      }
                    ],
                    "heatmap": [
                      {
                        "colorbar": {
                          "outlinewidth": 0,
                          "ticks": ""
                        },
                        "colorscale": [
                          [
                            0,
                            "#0d0887"
                          ],
                          [
                            0.1111111111111111,
                            "#46039f"
                          ],
                          [
                            0.2222222222222222,
                            "#7201a8"
                          ],
                          [
                            0.3333333333333333,
                            "#9c179e"
                          ],
                          [
                            0.4444444444444444,
                            "#bd3786"
                          ],
                          [
                            0.5555555555555556,
                            "#d8576b"
                          ],
                          [
                            0.6666666666666666,
                            "#ed7953"
                          ],
                          [
                            0.7777777777777778,
                            "#fb9f3a"
                          ],
                          [
                            0.8888888888888888,
                            "#fdca26"
                          ],
                          [
                            1,
                            "#f0f921"
                          ]
                        ],
                        "type": "heatmap"
                      }
                    ],
                    "heatmapgl": [
                      {
                        "colorbar": {
                          "outlinewidth": 0,
                          "ticks": ""
                        },
                        "colorscale": [
                          [
                            0,
                            "#0d0887"
                          ],
                          [
                            0.1111111111111111,
                            "#46039f"
                          ],
                          [
                            0.2222222222222222,
                            "#7201a8"
                          ],
                          [
                            0.3333333333333333,
                            "#9c179e"
                          ],
                          [
                            0.4444444444444444,
                            "#bd3786"
                          ],
                          [
                            0.5555555555555556,
                            "#d8576b"
                          ],
                          [
                            0.6666666666666666,
                            "#ed7953"
                          ],
                          [
                            0.7777777777777778,
                            "#fb9f3a"
                          ],
                          [
                            0.8888888888888888,
                            "#fdca26"
                          ],
                          [
                            1,
                            "#f0f921"
                          ]
                        ],
                        "type": "heatmapgl"
                      }
                    ],
                    "histogram": [
                      {
                        "marker": {
                          "pattern": {
                            "fillmode": "overlay",
                            "size": 10,
                            "solidity": 0.2
                          }
                        },
                        "type": "histogram"
                      }
                    ],
                    "histogram2d": [
                      {
                        "colorbar": {
                          "outlinewidth": 0,
                          "ticks": ""
                        },
                        "colorscale": [
                          [
                            0,
                            "#0d0887"
                          ],
                          [
                            0.1111111111111111,
                            "#46039f"
                          ],
                          [
                            0.2222222222222222,
                            "#7201a8"
                          ],
                          [
                            0.3333333333333333,
                            "#9c179e"
                          ],
                          [
                            0.4444444444444444,
                            "#bd3786"
                          ],
                          [
                            0.5555555555555556,
                            "#d8576b"
                          ],
                          [
                            0.6666666666666666,
                            "#ed7953"
                          ],
                          [
                            0.7777777777777778,
                            "#fb9f3a"
                          ],
                          [
                            0.8888888888888888,
                            "#fdca26"
                          ],
                          [
                            1,
                            "#f0f921"
                          ]
                        ],
                        "type": "histogram2d"
                      }
                    ],
                    "histogram2dcontour": [
                      {
                        "colorbar": {
                          "outlinewidth": 0,
                          "ticks": ""
                        },
                        "colorscale": [
                          [
                            0,
                            "#0d0887"
                          ],
                          [
                            0.1111111111111111,
                            "#46039f"
                          ],
                          [
                            0.2222222222222222,
                            "#7201a8"
                          ],
                          [
                            0.3333333333333333,
                            "#9c179e"
                          ],
                          [
                            0.4444444444444444,
                            "#bd3786"
                          ],
                          [
                            0.5555555555555556,
                            "#d8576b"
                          ],
                          [
                            0.6666666666666666,
                            "#ed7953"
                          ],
                          [
                            0.7777777777777778,
                            "#fb9f3a"
                          ],
                          [
                            0.8888888888888888,
                            "#fdca26"
                          ],
                          [
                            1,
                            "#f0f921"
                          ]
                        ],
                        "type": "histogram2dcontour"
                      }
                    ],
                    "mesh3d": [
                      {
                        "colorbar": {
                          "outlinewidth": 0,
                          "ticks": ""
                        },
                        "type": "mesh3d"
                      }
                    ],
                    "parcoords": [
                      {
                        "line": {
                          "colorbar": {
                            "outlinewidth": 0,
                            "ticks": ""
                          }
                        },
                        "type": "parcoords"
                      }
                    ],
                    "pie": [
                      {
                        "automargin": true,
                        "type": "pie"
                      }
                    ],
                    "scatter": [
                      {
                        "fillpattern": {
                          "fillmode": "overlay",
                          "size": 10,
                          "solidity": 0.2
                        },
                        "type": "scatter"
                      }
                    ],
                    "scatter3d": [
                      {
                        "line": {
                          "colorbar": {
                            "outlinewidth": 0,
                            "ticks": ""
                          }
                        },
                        "marker": {
                          "colorbar": {
                            "outlinewidth": 0,
                            "ticks": ""
                          }
                        },
                        "type": "scatter3d"
                      }
                    ],
                    "scattercarpet": [
                      {
                        "marker": {
                          "colorbar": {
                            "outlinewidth": 0,
                            "ticks": ""
                          }
                        },
                        "type": "scattercarpet"
                      }
                    ],
                    "scattergeo": [
                      {
                        "marker": {
                          "colorbar": {
                            "outlinewidth": 0,
                            "ticks": ""
                          }
                        },
                        "type": "scattergeo"
                      }
                    ],
                    "scattergl": [
                      {
                        "marker": {
                          "colorbar": {
                            "outlinewidth": 0,
                            "ticks": ""
                          }
                        },
                        "type": "scattergl"
                      }
                    ],
                    "scattermapbox": [
                      {
                        "marker": {
                          "colorbar": {
                            "outlinewidth": 0,
                            "ticks": ""
                          }
                        },
                        "type": "scattermapbox"
                      }
                    ],
                    "scatterpolar": [
                      {
                        "marker": {
                          "colorbar": {
                            "outlinewidth": 0,
                            "ticks": ""
                          }
                        },
                        "type": "scatterpolar"
                      }
                    ],
                    "scatterpolargl": [
                      {
                        "marker": {
                          "colorbar": {
                            "outlinewidth": 0,
                            "ticks": ""
                          }
                        },
                        "type": "scatterpolargl"
                      }
                    ],
                    "scatterternary": [
                      {
                        "marker": {
                          "colorbar": {
                            "outlinewidth": 0,
                            "ticks": ""
                          }
                        },
                        "type": "scatterternary"
                      }
                    ],
                    "surface": [
                      {
                        "colorbar": {
                          "outlinewidth": 0,
                          "ticks": ""
                        },
                        "colorscale": [
                          [
                            0,
                            "#0d0887"
                          ],
                          [
                            0.1111111111111111,
                            "#46039f"
                          ],
                          [
                            0.2222222222222222,
                            "#7201a8"
                          ],
                          [
                            0.3333333333333333,
                            "#9c179e"
                          ],
                          [
                            0.4444444444444444,
                            "#bd3786"
                          ],
                          [
                            0.5555555555555556,
                            "#d8576b"
                          ],
                          [
                            0.6666666666666666,
                            "#ed7953"
                          ],
                          [
                            0.7777777777777778,
                            "#fb9f3a"
                          ],
                          [
                            0.8888888888888888,
                            "#fdca26"
                          ],
                          [
                            1,
                            "#f0f921"
                          ]
                        ],
                        "type": "surface"
                      }
                    ],
                    "table": [
                      {
                        "cells": {
                          "fill": {
                            "color": "#EBF0F8"
                          },
                          "line": {
                            "color": "white"
                          }
                        },
                        "header": {
                          "fill": {
                            "color": "#C8D4E3"
                          },
                          "line": {
                            "color": "white"
                          }
                        },
                        "type": "table"
                      }
                    ]
                  },
                  "layout": {
                    "annotationdefaults": {
                      "arrowcolor": "#2a3f5f",
                      "arrowhead": 0,
                      "arrowwidth": 1
                    },
                    "autotypenumbers": "strict",
                    "coloraxis": {
                      "colorbar": {
                        "outlinewidth": 0,
                        "ticks": ""
                      }
                    },
                    "colorscale": {
                      "diverging": [
                        [
                          0,
                          "#8e0152"
                        ],
                        [
                          0.1,
                          "#c51b7d"
                        ],
                        [
                          0.2,
                          "#de77ae"
                        ],
                        [
                          0.3,
                          "#f1b6da"
                        ],
                        [
                          0.4,
                          "#fde0ef"
                        ],
                        [
                          0.5,
                          "#f7f7f7"
                        ],
                        [
                          0.6,
                          "#e6f5d0"
                        ],
                        [
                          0.7,
                          "#b8e186"
                        ],
                        [
                          0.8,
                          "#7fbc41"
                        ],
                        [
                          0.9,
                          "#4d9221"
                        ],
                        [
                          1,
                          "#276419"
                        ]
                      ],
                      "sequential": [
                        [
                          0,
                          "#0d0887"
                        ],
                        [
                          0.1111111111111111,
                          "#46039f"
                        ],
                        [
                          0.2222222222222222,
                          "#7201a8"
                        ],
                        [
                          0.3333333333333333,
                          "#9c179e"
                        ],
                        [
                          0.4444444444444444,
                          "#bd3786"
                        ],
                        [
                          0.5555555555555556,
                          "#d8576b"
                        ],
                        [
                          0.6666666666666666,
                          "#ed7953"
                        ],
                        [
                          0.7777777777777778,
                          "#fb9f3a"
                        ],
                        [
                          0.8888888888888888,
                          "#fdca26"
                        ],
                        [
                          1,
                          "#f0f921"
                        ]
                      ],
                      "sequentialminus": [
                        [
                          0,
                          "#0d0887"
                        ],
                        [
                          0.1111111111111111,
                          "#46039f"
                        ],
                        [
                          0.2222222222222222,
                          "#7201a8"
                        ],
                        [
                          0.3333333333333333,
                          "#9c179e"
                        ],
                        [
                          0.4444444444444444,
                          "#bd3786"
                        ],
                        [
                          0.5555555555555556,
                          "#d8576b"
                        ],
                        [
                          0.6666666666666666,
                          "#ed7953"
                        ],
                        [
                          0.7777777777777778,
                          "#fb9f3a"
                        ],
                        [
                          0.8888888888888888,
                          "#fdca26"
                        ],
                        [
                          1,
                          "#f0f921"
                        ]
                      ]
                    },
                    "colorway": [
                      "#636efa",
                      "#EF553B",
                      "#00cc96",
                      "#ab63fa",
                      "#FFA15A",
                      "#19d3f3",
                      "#FF6692",
                      "#B6E880",
                      "#FF97FF",
                      "#FECB52"
                    ],
                    "font": {
                      "color": "#2a3f5f"
                    },
                    "geo": {
                      "bgcolor": "white",
                      "lakecolor": "white",
                      "landcolor": "#E5ECF6",
                      "showlakes": true,
                      "showland": true,
                      "subunitcolor": "white"
                    },
                    "hoverlabel": {
                      "align": "left"
                    },
                    "hovermode": "closest",
                    "mapbox": {
                      "style": "light"
                    },
                    "paper_bgcolor": "white",
                    "plot_bgcolor": "#E5ECF6",
                    "polar": {
                      "angularaxis": {
                        "gridcolor": "white",
                        "linecolor": "white",
                        "ticks": ""
                      },
                      "bgcolor": "#E5ECF6",
                      "radialaxis": {
                        "gridcolor": "white",
                        "linecolor": "white",
                        "ticks": ""
                      }
                    },
                    "scene": {
                      "xaxis": {
                        "backgroundcolor": "#E5ECF6",
                        "gridcolor": "white",
                        "gridwidth": 2,
                        "linecolor": "white",
                        "showbackground": true,
                        "ticks": "",
                        "zerolinecolor": "white"
                      },
                      "yaxis": {
                        "backgroundcolor": "#E5ECF6",
                        "gridcolor": "white",
                        "gridwidth": 2,
                        "linecolor": "white",
                        "showbackground": true,
                        "ticks": "",
                        "zerolinecolor": "white"
                      },
                      "zaxis": {
                        "backgroundcolor": "#E5ECF6",
                        "gridcolor": "white",
                        "gridwidth": 2,
                        "linecolor": "white",
                        "showbackground": true,
                        "ticks": "",
                        "zerolinecolor": "white"
                      }
                    },
                    "shapedefaults": {
                      "line": {
                        "color": "#2a3f5f"
                      }
                    },
                    "ternary": {
                      "aaxis": {
                        "gridcolor": "white",
                        "linecolor": "white",
                        "ticks": ""
                      },
                      "baxis": {
                        "gridcolor": "white",
                        "linecolor": "white",
                        "ticks": ""
                      },
                      "bgcolor": "#E5ECF6",
                      "caxis": {
                        "gridcolor": "white",
                        "linecolor": "white",
                        "ticks": ""
                      }
                    },
                    "title": {
                      "x": 0.05
                    },
                    "xaxis": {
                      "automargin": true,
                      "gridcolor": "white",
                      "linecolor": "white",
                      "ticks": "",
                      "title": {
                        "standoff": 15
                      },
                      "zerolinecolor": "white",
                      "zerolinewidth": 2
                    },
                    "yaxis": {
                      "automargin": true,
                      "gridcolor": "white",
                      "linecolor": "white",
                      "ticks": "",
                      "title": {
                        "standoff": 15
                      },
                      "zerolinecolor": "white",
                      "zerolinewidth": 2
                    }
                  }
                },
                "title": {
                  "text": "NO2 AQI vs CO AQI for Top 5 States"
                },
                "width": 900,
                "xaxis": {
                  "anchor": "y",
                  "domain": [
                    0,
                    1
                  ],
                  "title": {
                    "text": "NO2 AQI"
                  }
                },
                "yaxis": {
                  "anchor": "x",
                  "domain": [
                    0,
                    1
                  ],
                  "title": {
                    "text": "CO AQI"
                  }
                }
              }
            }
          },
          "metadata": {},
          "output_type": "display_data"
        }
      ],
      "source": [
        "\n",
        "# Get top 5 states by measurement count\n",
        "top_states = df['state'].value_counts().head(5).index\n",
        "\n",
        "# Filter data for top 5 states\n",
        "filtered_df = df[df['state'].isin(top_states)]\n",
        "\n",
        "# Create scatter plot\n",
        "fig = px.scatter(\n",
        "    filtered_df,\n",
        "    x='no2 aqi',\n",
        "    y='co aqi',\n",
        "    color='state',\n",
        "    title='NO2 AQI vs CO AQI for Top 5 States',\n",
        "    color_discrete_sequence=px.colors.qualitative.Set2,\n",
        "    trendline='ols',  # Add ordinary least squares trend line\n",
        "    hover_data=['city', 'date local']\n",
        ")\n",
        "\n",
        "# Update layout for clarity\n",
        "fig.update_layout(\n",
        "    xaxis_title='NO2 AQI',\n",
        "    yaxis_title='CO AQI',\n",
        "    width=900,\n",
        "    height=600,\n",
        "    legend_title='State'\n",
        ")\n",
        "\n",
        "# Show plot\n",
        "fig.show()\n",
        "\n",
        "fig.write_html(\"data/outputs/NO2 AQI vs CO AQI for Top 5 States.html\")"
      ]
    },
    {
      "cell_type": "markdown",
      "metadata": {},
      "source": [
        "The scatter plot above shows the relationship between NO2 AQI and CO AQI, which have a strong positive correlation (0.75 from the earlier correlation matrix)."
      ]
    },
    {
      "cell_type": "markdown",
      "metadata": {},
      "source": [
        "#### 10. Median AQI for NO2, O3, SO2, and CO in Top 5 States\n",
        "- A grouped bar chart comparing median AQI values across pollutants for the top 5 states."
      ]
    },
    {
      "cell_type": "code",
      "execution_count": 21,
      "metadata": {},
      "outputs": [
        {
          "name": "stderr",
          "output_type": "stream",
          "text": [
            "c:\\Users\\slych\\air-quality-dashboard\\.venv\\Lib\\site-packages\\plotly\\express\\_core.py:2065: FutureWarning: When grouping with a length-1 list-like, you will need to pass a length-1 tuple to get_group in a future version of pandas. Pass `(name,)` instead of `name` to silence this warning.\n",
            "  sf: grouped.get_group(s if len(s) > 1 else s[0])\n"
          ]
        },
        {
          "data": {
            "application/vnd.plotly.v1+json": {
              "config": {
                "plotlyServerURL": "https://plot.ly"
              },
              "data": [
                {
                  "alignmentgroup": "True",
                  "hovertemplate": "Pollutant=no2 aqi<br>state=%{x}<br>Median AQI=%{y}<extra></extra>",
                  "legendgroup": "no2 aqi",
                  "marker": {
                    "color": "rgb(102,194,165)",
                    "pattern": {
                      "shape": ""
                    }
                  },
                  "name": "no2 aqi",
                  "offsetgroup": "no2 aqi",
                  "orientation": "v",
                  "showlegend": true,
                  "textposition": "auto",
                  "type": "bar",
                  "x": [
                    "Arizona",
                    "California",
                    "New York",
                    "Pennsylvania",
                    "Texas"
                  ],
                  "xaxis": "x",
                  "y": [
                    38,
                    23,
                    28.5,
                    24,
                    22
                  ],
                  "yaxis": "y"
                },
                {
                  "alignmentgroup": "True",
                  "hovertemplate": "Pollutant=o3 aqi<br>state=%{x}<br>Median AQI=%{y}<extra></extra>",
                  "legendgroup": "o3 aqi",
                  "marker": {
                    "color": "rgb(252,141,98)",
                    "pattern": {
                      "shape": ""
                    }
                  },
                  "name": "o3 aqi",
                  "offsetgroup": "o3 aqi",
                  "orientation": "v",
                  "showlegend": true,
                  "textposition": "auto",
                  "type": "bar",
                  "x": [
                    "Arizona",
                    "California",
                    "New York",
                    "Pennsylvania",
                    "Texas"
                  ],
                  "xaxis": "x",
                  "y": [
                    38,
                    32,
                    28,
                    36,
                    33
                  ],
                  "yaxis": "y"
                },
                {
                  "alignmentgroup": "True",
                  "hovertemplate": "Pollutant=so2 aqi<br>state=%{x}<br>Median AQI=%{y}<extra></extra>",
                  "legendgroup": "so2 aqi",
                  "marker": {
                    "color": "rgb(141,160,203)",
                    "pattern": {
                      "shape": ""
                    }
                  },
                  "name": "so2 aqi",
                  "offsetgroup": "so2 aqi",
                  "orientation": "v",
                  "showlegend": true,
                  "textposition": "auto",
                  "type": "bar",
                  "x": [
                    "Arizona",
                    "California",
                    "New York",
                    "Pennsylvania",
                    "Texas"
                  ],
                  "xaxis": "x",
                  "y": [
                    3,
                    1,
                    8,
                    13,
                    1
                  ],
                  "yaxis": "y"
                },
                {
                  "alignmentgroup": "True",
                  "hovertemplate": "Pollutant=co aqi<br>state=%{x}<br>Median AQI=%{y}<extra></extra>",
                  "legendgroup": "co aqi",
                  "marker": {
                    "color": "rgb(231,138,195)",
                    "pattern": {
                      "shape": ""
                    }
                  },
                  "name": "co aqi",
                  "offsetgroup": "co aqi",
                  "orientation": "v",
                  "showlegend": true,
                  "textposition": "auto",
                  "type": "bar",
                  "x": [
                    "Arizona",
                    "California",
                    "New York",
                    "Pennsylvania",
                    "Texas"
                  ],
                  "xaxis": "x",
                  "y": [
                    7,
                    6,
                    5,
                    3,
                    3
                  ],
                  "yaxis": "y"
                }
              ],
              "layout": {
                "barmode": "group",
                "height": 600,
                "legend": {
                  "title": {
                    "text": "Pollutant"
                  },
                  "tracegroupgap": 0
                },
                "template": {
                  "data": {
                    "bar": [
                      {
                        "error_x": {
                          "color": "#2a3f5f"
                        },
                        "error_y": {
                          "color": "#2a3f5f"
                        },
                        "marker": {
                          "line": {
                            "color": "#E5ECF6",
                            "width": 0.5
                          },
                          "pattern": {
                            "fillmode": "overlay",
                            "size": 10,
                            "solidity": 0.2
                          }
                        },
                        "type": "bar"
                      }
                    ],
                    "barpolar": [
                      {
                        "marker": {
                          "line": {
                            "color": "#E5ECF6",
                            "width": 0.5
                          },
                          "pattern": {
                            "fillmode": "overlay",
                            "size": 10,
                            "solidity": 0.2
                          }
                        },
                        "type": "barpolar"
                      }
                    ],
                    "carpet": [
                      {
                        "aaxis": {
                          "endlinecolor": "#2a3f5f",
                          "gridcolor": "white",
                          "linecolor": "white",
                          "minorgridcolor": "white",
                          "startlinecolor": "#2a3f5f"
                        },
                        "baxis": {
                          "endlinecolor": "#2a3f5f",
                          "gridcolor": "white",
                          "linecolor": "white",
                          "minorgridcolor": "white",
                          "startlinecolor": "#2a3f5f"
                        },
                        "type": "carpet"
                      }
                    ],
                    "choropleth": [
                      {
                        "colorbar": {
                          "outlinewidth": 0,
                          "ticks": ""
                        },
                        "type": "choropleth"
                      }
                    ],
                    "contour": [
                      {
                        "colorbar": {
                          "outlinewidth": 0,
                          "ticks": ""
                        },
                        "colorscale": [
                          [
                            0,
                            "#0d0887"
                          ],
                          [
                            0.1111111111111111,
                            "#46039f"
                          ],
                          [
                            0.2222222222222222,
                            "#7201a8"
                          ],
                          [
                            0.3333333333333333,
                            "#9c179e"
                          ],
                          [
                            0.4444444444444444,
                            "#bd3786"
                          ],
                          [
                            0.5555555555555556,
                            "#d8576b"
                          ],
                          [
                            0.6666666666666666,
                            "#ed7953"
                          ],
                          [
                            0.7777777777777778,
                            "#fb9f3a"
                          ],
                          [
                            0.8888888888888888,
                            "#fdca26"
                          ],
                          [
                            1,
                            "#f0f921"
                          ]
                        ],
                        "type": "contour"
                      }
                    ],
                    "contourcarpet": [
                      {
                        "colorbar": {
                          "outlinewidth": 0,
                          "ticks": ""
                        },
                        "type": "contourcarpet"
                      }
                    ],
                    "heatmap": [
                      {
                        "colorbar": {
                          "outlinewidth": 0,
                          "ticks": ""
                        },
                        "colorscale": [
                          [
                            0,
                            "#0d0887"
                          ],
                          [
                            0.1111111111111111,
                            "#46039f"
                          ],
                          [
                            0.2222222222222222,
                            "#7201a8"
                          ],
                          [
                            0.3333333333333333,
                            "#9c179e"
                          ],
                          [
                            0.4444444444444444,
                            "#bd3786"
                          ],
                          [
                            0.5555555555555556,
                            "#d8576b"
                          ],
                          [
                            0.6666666666666666,
                            "#ed7953"
                          ],
                          [
                            0.7777777777777778,
                            "#fb9f3a"
                          ],
                          [
                            0.8888888888888888,
                            "#fdca26"
                          ],
                          [
                            1,
                            "#f0f921"
                          ]
                        ],
                        "type": "heatmap"
                      }
                    ],
                    "heatmapgl": [
                      {
                        "colorbar": {
                          "outlinewidth": 0,
                          "ticks": ""
                        },
                        "colorscale": [
                          [
                            0,
                            "#0d0887"
                          ],
                          [
                            0.1111111111111111,
                            "#46039f"
                          ],
                          [
                            0.2222222222222222,
                            "#7201a8"
                          ],
                          [
                            0.3333333333333333,
                            "#9c179e"
                          ],
                          [
                            0.4444444444444444,
                            "#bd3786"
                          ],
                          [
                            0.5555555555555556,
                            "#d8576b"
                          ],
                          [
                            0.6666666666666666,
                            "#ed7953"
                          ],
                          [
                            0.7777777777777778,
                            "#fb9f3a"
                          ],
                          [
                            0.8888888888888888,
                            "#fdca26"
                          ],
                          [
                            1,
                            "#f0f921"
                          ]
                        ],
                        "type": "heatmapgl"
                      }
                    ],
                    "histogram": [
                      {
                        "marker": {
                          "pattern": {
                            "fillmode": "overlay",
                            "size": 10,
                            "solidity": 0.2
                          }
                        },
                        "type": "histogram"
                      }
                    ],
                    "histogram2d": [
                      {
                        "colorbar": {
                          "outlinewidth": 0,
                          "ticks": ""
                        },
                        "colorscale": [
                          [
                            0,
                            "#0d0887"
                          ],
                          [
                            0.1111111111111111,
                            "#46039f"
                          ],
                          [
                            0.2222222222222222,
                            "#7201a8"
                          ],
                          [
                            0.3333333333333333,
                            "#9c179e"
                          ],
                          [
                            0.4444444444444444,
                            "#bd3786"
                          ],
                          [
                            0.5555555555555556,
                            "#d8576b"
                          ],
                          [
                            0.6666666666666666,
                            "#ed7953"
                          ],
                          [
                            0.7777777777777778,
                            "#fb9f3a"
                          ],
                          [
                            0.8888888888888888,
                            "#fdca26"
                          ],
                          [
                            1,
                            "#f0f921"
                          ]
                        ],
                        "type": "histogram2d"
                      }
                    ],
                    "histogram2dcontour": [
                      {
                        "colorbar": {
                          "outlinewidth": 0,
                          "ticks": ""
                        },
                        "colorscale": [
                          [
                            0,
                            "#0d0887"
                          ],
                          [
                            0.1111111111111111,
                            "#46039f"
                          ],
                          [
                            0.2222222222222222,
                            "#7201a8"
                          ],
                          [
                            0.3333333333333333,
                            "#9c179e"
                          ],
                          [
                            0.4444444444444444,
                            "#bd3786"
                          ],
                          [
                            0.5555555555555556,
                            "#d8576b"
                          ],
                          [
                            0.6666666666666666,
                            "#ed7953"
                          ],
                          [
                            0.7777777777777778,
                            "#fb9f3a"
                          ],
                          [
                            0.8888888888888888,
                            "#fdca26"
                          ],
                          [
                            1,
                            "#f0f921"
                          ]
                        ],
                        "type": "histogram2dcontour"
                      }
                    ],
                    "mesh3d": [
                      {
                        "colorbar": {
                          "outlinewidth": 0,
                          "ticks": ""
                        },
                        "type": "mesh3d"
                      }
                    ],
                    "parcoords": [
                      {
                        "line": {
                          "colorbar": {
                            "outlinewidth": 0,
                            "ticks": ""
                          }
                        },
                        "type": "parcoords"
                      }
                    ],
                    "pie": [
                      {
                        "automargin": true,
                        "type": "pie"
                      }
                    ],
                    "scatter": [
                      {
                        "fillpattern": {
                          "fillmode": "overlay",
                          "size": 10,
                          "solidity": 0.2
                        },
                        "type": "scatter"
                      }
                    ],
                    "scatter3d": [
                      {
                        "line": {
                          "colorbar": {
                            "outlinewidth": 0,
                            "ticks": ""
                          }
                        },
                        "marker": {
                          "colorbar": {
                            "outlinewidth": 0,
                            "ticks": ""
                          }
                        },
                        "type": "scatter3d"
                      }
                    ],
                    "scattercarpet": [
                      {
                        "marker": {
                          "colorbar": {
                            "outlinewidth": 0,
                            "ticks": ""
                          }
                        },
                        "type": "scattercarpet"
                      }
                    ],
                    "scattergeo": [
                      {
                        "marker": {
                          "colorbar": {
                            "outlinewidth": 0,
                            "ticks": ""
                          }
                        },
                        "type": "scattergeo"
                      }
                    ],
                    "scattergl": [
                      {
                        "marker": {
                          "colorbar": {
                            "outlinewidth": 0,
                            "ticks": ""
                          }
                        },
                        "type": "scattergl"
                      }
                    ],
                    "scattermapbox": [
                      {
                        "marker": {
                          "colorbar": {
                            "outlinewidth": 0,
                            "ticks": ""
                          }
                        },
                        "type": "scattermapbox"
                      }
                    ],
                    "scatterpolar": [
                      {
                        "marker": {
                          "colorbar": {
                            "outlinewidth": 0,
                            "ticks": ""
                          }
                        },
                        "type": "scatterpolar"
                      }
                    ],
                    "scatterpolargl": [
                      {
                        "marker": {
                          "colorbar": {
                            "outlinewidth": 0,
                            "ticks": ""
                          }
                        },
                        "type": "scatterpolargl"
                      }
                    ],
                    "scatterternary": [
                      {
                        "marker": {
                          "colorbar": {
                            "outlinewidth": 0,
                            "ticks": ""
                          }
                        },
                        "type": "scatterternary"
                      }
                    ],
                    "surface": [
                      {
                        "colorbar": {
                          "outlinewidth": 0,
                          "ticks": ""
                        },
                        "colorscale": [
                          [
                            0,
                            "#0d0887"
                          ],
                          [
                            0.1111111111111111,
                            "#46039f"
                          ],
                          [
                            0.2222222222222222,
                            "#7201a8"
                          ],
                          [
                            0.3333333333333333,
                            "#9c179e"
                          ],
                          [
                            0.4444444444444444,
                            "#bd3786"
                          ],
                          [
                            0.5555555555555556,
                            "#d8576b"
                          ],
                          [
                            0.6666666666666666,
                            "#ed7953"
                          ],
                          [
                            0.7777777777777778,
                            "#fb9f3a"
                          ],
                          [
                            0.8888888888888888,
                            "#fdca26"
                          ],
                          [
                            1,
                            "#f0f921"
                          ]
                        ],
                        "type": "surface"
                      }
                    ],
                    "table": [
                      {
                        "cells": {
                          "fill": {
                            "color": "#EBF0F8"
                          },
                          "line": {
                            "color": "white"
                          }
                        },
                        "header": {
                          "fill": {
                            "color": "#C8D4E3"
                          },
                          "line": {
                            "color": "white"
                          }
                        },
                        "type": "table"
                      }
                    ]
                  },
                  "layout": {
                    "annotationdefaults": {
                      "arrowcolor": "#2a3f5f",
                      "arrowhead": 0,
                      "arrowwidth": 1
                    },
                    "autotypenumbers": "strict",
                    "coloraxis": {
                      "colorbar": {
                        "outlinewidth": 0,
                        "ticks": ""
                      }
                    },
                    "colorscale": {
                      "diverging": [
                        [
                          0,
                          "#8e0152"
                        ],
                        [
                          0.1,
                          "#c51b7d"
                        ],
                        [
                          0.2,
                          "#de77ae"
                        ],
                        [
                          0.3,
                          "#f1b6da"
                        ],
                        [
                          0.4,
                          "#fde0ef"
                        ],
                        [
                          0.5,
                          "#f7f7f7"
                        ],
                        [
                          0.6,
                          "#e6f5d0"
                        ],
                        [
                          0.7,
                          "#b8e186"
                        ],
                        [
                          0.8,
                          "#7fbc41"
                        ],
                        [
                          0.9,
                          "#4d9221"
                        ],
                        [
                          1,
                          "#276419"
                        ]
                      ],
                      "sequential": [
                        [
                          0,
                          "#0d0887"
                        ],
                        [
                          0.1111111111111111,
                          "#46039f"
                        ],
                        [
                          0.2222222222222222,
                          "#7201a8"
                        ],
                        [
                          0.3333333333333333,
                          "#9c179e"
                        ],
                        [
                          0.4444444444444444,
                          "#bd3786"
                        ],
                        [
                          0.5555555555555556,
                          "#d8576b"
                        ],
                        [
                          0.6666666666666666,
                          "#ed7953"
                        ],
                        [
                          0.7777777777777778,
                          "#fb9f3a"
                        ],
                        [
                          0.8888888888888888,
                          "#fdca26"
                        ],
                        [
                          1,
                          "#f0f921"
                        ]
                      ],
                      "sequentialminus": [
                        [
                          0,
                          "#0d0887"
                        ],
                        [
                          0.1111111111111111,
                          "#46039f"
                        ],
                        [
                          0.2222222222222222,
                          "#7201a8"
                        ],
                        [
                          0.3333333333333333,
                          "#9c179e"
                        ],
                        [
                          0.4444444444444444,
                          "#bd3786"
                        ],
                        [
                          0.5555555555555556,
                          "#d8576b"
                        ],
                        [
                          0.6666666666666666,
                          "#ed7953"
                        ],
                        [
                          0.7777777777777778,
                          "#fb9f3a"
                        ],
                        [
                          0.8888888888888888,
                          "#fdca26"
                        ],
                        [
                          1,
                          "#f0f921"
                        ]
                      ]
                    },
                    "colorway": [
                      "#636efa",
                      "#EF553B",
                      "#00cc96",
                      "#ab63fa",
                      "#FFA15A",
                      "#19d3f3",
                      "#FF6692",
                      "#B6E880",
                      "#FF97FF",
                      "#FECB52"
                    ],
                    "font": {
                      "color": "#2a3f5f"
                    },
                    "geo": {
                      "bgcolor": "white",
                      "lakecolor": "white",
                      "landcolor": "#E5ECF6",
                      "showlakes": true,
                      "showland": true,
                      "subunitcolor": "white"
                    },
                    "hoverlabel": {
                      "align": "left"
                    },
                    "hovermode": "closest",
                    "mapbox": {
                      "style": "light"
                    },
                    "paper_bgcolor": "white",
                    "plot_bgcolor": "#E5ECF6",
                    "polar": {
                      "angularaxis": {
                        "gridcolor": "white",
                        "linecolor": "white",
                        "ticks": ""
                      },
                      "bgcolor": "#E5ECF6",
                      "radialaxis": {
                        "gridcolor": "white",
                        "linecolor": "white",
                        "ticks": ""
                      }
                    },
                    "scene": {
                      "xaxis": {
                        "backgroundcolor": "#E5ECF6",
                        "gridcolor": "white",
                        "gridwidth": 2,
                        "linecolor": "white",
                        "showbackground": true,
                        "ticks": "",
                        "zerolinecolor": "white"
                      },
                      "yaxis": {
                        "backgroundcolor": "#E5ECF6",
                        "gridcolor": "white",
                        "gridwidth": 2,
                        "linecolor": "white",
                        "showbackground": true,
                        "ticks": "",
                        "zerolinecolor": "white"
                      },
                      "zaxis": {
                        "backgroundcolor": "#E5ECF6",
                        "gridcolor": "white",
                        "gridwidth": 2,
                        "linecolor": "white",
                        "showbackground": true,
                        "ticks": "",
                        "zerolinecolor": "white"
                      }
                    },
                    "shapedefaults": {
                      "line": {
                        "color": "#2a3f5f"
                      }
                    },
                    "ternary": {
                      "aaxis": {
                        "gridcolor": "white",
                        "linecolor": "white",
                        "ticks": ""
                      },
                      "baxis": {
                        "gridcolor": "white",
                        "linecolor": "white",
                        "ticks": ""
                      },
                      "bgcolor": "#E5ECF6",
                      "caxis": {
                        "gridcolor": "white",
                        "linecolor": "white",
                        "ticks": ""
                      }
                    },
                    "title": {
                      "x": 0.05
                    },
                    "xaxis": {
                      "automargin": true,
                      "gridcolor": "white",
                      "linecolor": "white",
                      "ticks": "",
                      "title": {
                        "standoff": 15
                      },
                      "zerolinecolor": "white",
                      "zerolinewidth": 2
                    },
                    "yaxis": {
                      "automargin": true,
                      "gridcolor": "white",
                      "linecolor": "white",
                      "ticks": "",
                      "title": {
                        "standoff": 15
                      },
                      "zerolinecolor": "white",
                      "zerolinewidth": 2
                    }
                  }
                },
                "title": {
                  "text": "Median AQI for NO2, O3, SO2, and CO in Top 5 States"
                },
                "width": 900,
                "xaxis": {
                  "anchor": "y",
                  "domain": [
                    0,
                    1
                  ],
                  "title": {
                    "text": "State"
                  }
                },
                "yaxis": {
                  "anchor": "x",
                  "domain": [
                    0,
                    1
                  ],
                  "title": {
                    "text": "Median AQI"
                  }
                }
              }
            }
          },
          "metadata": {},
          "output_type": "display_data"
        }
      ],
      "source": [
        "# Get top 5 states by measurement count\n",
        "top_states = df['state'].value_counts().head(5).index\n",
        "\n",
        "# Filter data for top 5 states\n",
        "filtered_df = df[df['state'].isin(top_states)]\n",
        "\n",
        "# Compute median AQI for each pollutant by state\n",
        "median_aqi = filtered_df.groupby('state')[['no2 aqi', 'o3 aqi', 'so2 aqi', 'co aqi']].median().reset_index()\n",
        "\n",
        "# Melt the dataframe for plotting\n",
        "melted_df = median_aqi.melt(\n",
        "    id_vars='state',\n",
        "    value_vars=['no2 aqi', 'o3 aqi', 'so2 aqi', 'co aqi'],\n",
        "    var_name='Pollutant',\n",
        "    value_name='Median AQI'\n",
        ")\n",
        "\n",
        "# Create grouped bar plot\n",
        "fig = px.bar(\n",
        "    melted_df,\n",
        "    x='state',\n",
        "    y='Median AQI',\n",
        "    color='Pollutant',\n",
        "    barmode='group',\n",
        "    title='Median AQI for NO2, O3, SO2, and CO in Top 5 States',\n",
        "    color_discrete_sequence=px.colors.qualitative.Set2\n",
        ")\n",
        "\n",
        "# Update layout for clarity\n",
        "fig.update_layout(\n",
        "    xaxis_title='State',\n",
        "    yaxis_title='Median AQI',\n",
        "    legend_title='Pollutant',\n",
        "    width=900,\n",
        "    height=600\n",
        ")\n",
        "\n",
        "# Show plot\n",
        "fig.show()\n",
        "\n",
        "fig.write_html(\"data/outputs/Median AQI for NO2, O3, SO2, and CO in Top 5 States.html\")"
      ]
    },
    {
      "cell_type": "markdown",
      "metadata": {},
      "source": [
        "The Bar plot above shows median AQI values for NO2, O3, SO2, and CO across the top 5 states with the most measurements, showing which pollutants dominate in each region. The grouped bar layout ensures clarity by separating pollutants within each state. The interactive nature allows users to hover for precise values, providing a straightforward yet relevant comparison of air quality without overwhelming detail. "
      ]
    },
    {
      "cell_type": "markdown",
      "metadata": {},
      "source": [
        "#### 11. City Distribution with Region Filter\n",
        "- An interactive bar chart showing city-level measurement counts, with a dropdown filter to view by region."
      ]
    },
    {
      "cell_type": "code",
      "execution_count": null,
      "metadata": {},
      "outputs": [
        {
          "data": {
            "application/vnd.plotly.v1+json": {
              "config": {
                "plotlyServerURL": "https://plot.ly"
              },
              "data": [
                {
                  "alignmentgroup": "True",
                  "hovertemplate": "City=%{x}<br>Count=%{y}<extra></extra>",
                  "legendgroup": "",
                  "marker": {
                    "color": "#636efa",
                    "pattern": {
                      "shape": ""
                    }
                  },
                  "name": "",
                  "offsetgroup": "",
                  "orientation": "v",
                  "showlegend": false,
                  "textposition": "auto",
                  "type": "bar",
                  "x": [
                    "Not in a city",
                    "New York",
                    "Phoenix",
                    "Los Angeles",
                    "North Little Rock",
                    "El Paso",
                    "San Diego",
                    "Washington",
                    "Vandenberg Air Force Base",
                    "Vallejo",
                    "Long Beach",
                    "Houston",
                    "Pittsburgh",
                    "Davenport",
                    "Charlotte",
                    "East Saint Louis",
                    "San Pablo",
                    "Bethel Island",
                    "Tucson",
                    "Calexico",
                    "Rubidoux",
                    "Baton Rouge",
                    "Winter Park",
                    "Portland",
                    "Dallas",
                    "Capitan",
                    "Lompoc",
                    "Arden-Arcade",
                    "Holtsville",
                    "Northbrook",
                    "Philadelphia",
                    "Boston",
                    "Victorville",
                    "York",
                    "Costa Mesa",
                    "Welby",
                    "Fresno",
                    "Kansas City",
                    "Concord",
                    "Johnstown",
                    "Goleta",
                    "Presque Isle",
                    "Camden",
                    "Burbank",
                    "Cicero",
                    "Scottsdale",
                    "St. Louis",
                    "Tulsa",
                    "Indianapolis (Remainder)",
                    "Waco",
                    "Newark",
                    "Cleveland",
                    "New Haven",
                    "Fontana",
                    "Des Moines",
                    "Chula Vista",
                    "San Francisco",
                    "Charleroi",
                    "Essex",
                    "Beaver Falls",
                    "Norristown",
                    "East Highland Park",
                    "Pittsburg",
                    "Bristol",
                    "East Hartford",
                    "Oklahoma City",
                    "Denver",
                    "New Castle",
                    "Albuquerque",
                    "Eureka",
                    "Reno",
                    "El Cajon",
                    "Lancaster",
                    "Erie",
                    "Freemansburg",
                    "Beltsville",
                    "San Antonio",
                    "Oakland",
                    "Sioux Falls",
                    "Detroit",
                    "Hawthorne",
                    "San Jose",
                    "Reading",
                    "Park Hill",
                    "Deer Park",
                    "Cincinnati",
                    "Alexandria",
                    "East Providence",
                    "Blaine",
                    "Greensburg",
                    "Altoona",
                    "Tijuana",
                    "Annandale",
                    "McLean",
                    "Miami",
                    "Salt Lake City",
                    "Manchester",
                    "Lexington-Fayette (corporate name for Lexington)",
                    "Cornwall",
                    "Grantsville",
                    "Berkeley",
                    "Wilmington",
                    "Ashland",
                    "Mexicali",
                    "Sunset Hills",
                    "Hampton",
                    "Scranton",
                    "Cupertino",
                    "Birmingham",
                    "Austin",
                    "Raleigh",
                    "Calumet City (PU RR name Calumet Park (sta.))",
                    "Cherry Tree",
                    "Grand Rapids",
                    "Louisville",
                    "Boulder City",
                    "Seattle",
                    "Ladue",
                    "Wilkes-Barre",
                    "Rosarito",
                    "Paducah",
                    "West Los Angeles",
                    "Ponca City",
                    "Riverton",
                    "Winston-Salem",
                    "Rochester",
                    "Athens",
                    "Breckenridge Hills",
                    "Ferguson",
                    "Valrico",
                    "Westport",
                    "Chicago",
                    "St. Ann",
                    "Crockett",
                    "Vinton",
                    "Bakersfield",
                    "Benicia",
                    "Seven Corners",
                    "Henderson"
                  ],
                  "xaxis": "x",
                  "y": [
                    223,
                    65,
                    61,
                    58,
                    57,
                    55,
                    50,
                    48,
                    43,
                    42,
                    42,
                    38,
                    38,
                    38,
                    37,
                    37,
                    37,
                    36,
                    35,
                    35,
                    35,
                    34,
                    34,
                    34,
                    32,
                    31,
                    30,
                    29,
                    29,
                    29,
                    28,
                    28,
                    28,
                    27,
                    27,
                    27,
                    26,
                    23,
                    23,
                    22,
                    22,
                    22,
                    22,
                    21,
                    21,
                    20,
                    19,
                    19,
                    19,
                    18,
                    18,
                    18,
                    17,
                    17,
                    17,
                    16,
                    15,
                    15,
                    15,
                    14,
                    14,
                    14,
                    14,
                    14,
                    13,
                    13,
                    13,
                    13,
                    12,
                    12,
                    12,
                    11,
                    11,
                    11,
                    11,
                    10,
                    10,
                    10,
                    10,
                    9,
                    9,
                    9,
                    9,
                    9,
                    8,
                    8,
                    8,
                    8,
                    7,
                    7,
                    7,
                    7,
                    6,
                    6,
                    6,
                    6,
                    6,
                    6,
                    6,
                    5,
                    5,
                    5,
                    5,
                    4,
                    4,
                    4,
                    4,
                    4,
                    4,
                    4,
                    4,
                    4,
                    4,
                    3,
                    3,
                    3,
                    3,
                    3,
                    3,
                    2,
                    2,
                    2,
                    2,
                    2,
                    2,
                    2,
                    2,
                    2,
                    2,
                    2,
                    1,
                    1,
                    1,
                    1,
                    1,
                    1,
                    1,
                    1,
                    1
                  ],
                  "yaxis": "y"
                }
              ],
              "layout": {
                "barmode": "relative",
                "legend": {
                  "tracegroupgap": 0
                },
                "template": {
                  "data": {
                    "bar": [
                      {
                        "error_x": {
                          "color": "#2a3f5f"
                        },
                        "error_y": {
                          "color": "#2a3f5f"
                        },
                        "marker": {
                          "line": {
                            "color": "#E5ECF6",
                            "width": 0.5
                          },
                          "pattern": {
                            "fillmode": "overlay",
                            "size": 10,
                            "solidity": 0.2
                          }
                        },
                        "type": "bar"
                      }
                    ],
                    "barpolar": [
                      {
                        "marker": {
                          "line": {
                            "color": "#E5ECF6",
                            "width": 0.5
                          },
                          "pattern": {
                            "fillmode": "overlay",
                            "size": 10,
                            "solidity": 0.2
                          }
                        },
                        "type": "barpolar"
                      }
                    ],
                    "carpet": [
                      {
                        "aaxis": {
                          "endlinecolor": "#2a3f5f",
                          "gridcolor": "white",
                          "linecolor": "white",
                          "minorgridcolor": "white",
                          "startlinecolor": "#2a3f5f"
                        },
                        "baxis": {
                          "endlinecolor": "#2a3f5f",
                          "gridcolor": "white",
                          "linecolor": "white",
                          "minorgridcolor": "white",
                          "startlinecolor": "#2a3f5f"
                        },
                        "type": "carpet"
                      }
                    ],
                    "choropleth": [
                      {
                        "colorbar": {
                          "outlinewidth": 0,
                          "ticks": ""
                        },
                        "type": "choropleth"
                      }
                    ],
                    "contour": [
                      {
                        "colorbar": {
                          "outlinewidth": 0,
                          "ticks": ""
                        },
                        "colorscale": [
                          [
                            0,
                            "#0d0887"
                          ],
                          [
                            0.1111111111111111,
                            "#46039f"
                          ],
                          [
                            0.2222222222222222,
                            "#7201a8"
                          ],
                          [
                            0.3333333333333333,
                            "#9c179e"
                          ],
                          [
                            0.4444444444444444,
                            "#bd3786"
                          ],
                          [
                            0.5555555555555556,
                            "#d8576b"
                          ],
                          [
                            0.6666666666666666,
                            "#ed7953"
                          ],
                          [
                            0.7777777777777778,
                            "#fb9f3a"
                          ],
                          [
                            0.8888888888888888,
                            "#fdca26"
                          ],
                          [
                            1,
                            "#f0f921"
                          ]
                        ],
                        "type": "contour"
                      }
                    ],
                    "contourcarpet": [
                      {
                        "colorbar": {
                          "outlinewidth": 0,
                          "ticks": ""
                        },
                        "type": "contourcarpet"
                      }
                    ],
                    "heatmap": [
                      {
                        "colorbar": {
                          "outlinewidth": 0,
                          "ticks": ""
                        },
                        "colorscale": [
                          [
                            0,
                            "#0d0887"
                          ],
                          [
                            0.1111111111111111,
                            "#46039f"
                          ],
                          [
                            0.2222222222222222,
                            "#7201a8"
                          ],
                          [
                            0.3333333333333333,
                            "#9c179e"
                          ],
                          [
                            0.4444444444444444,
                            "#bd3786"
                          ],
                          [
                            0.5555555555555556,
                            "#d8576b"
                          ],
                          [
                            0.6666666666666666,
                            "#ed7953"
                          ],
                          [
                            0.7777777777777778,
                            "#fb9f3a"
                          ],
                          [
                            0.8888888888888888,
                            "#fdca26"
                          ],
                          [
                            1,
                            "#f0f921"
                          ]
                        ],
                        "type": "heatmap"
                      }
                    ],
                    "heatmapgl": [
                      {
                        "colorbar": {
                          "outlinewidth": 0,
                          "ticks": ""
                        },
                        "colorscale": [
                          [
                            0,
                            "#0d0887"
                          ],
                          [
                            0.1111111111111111,
                            "#46039f"
                          ],
                          [
                            0.2222222222222222,
                            "#7201a8"
                          ],
                          [
                            0.3333333333333333,
                            "#9c179e"
                          ],
                          [
                            0.4444444444444444,
                            "#bd3786"
                          ],
                          [
                            0.5555555555555556,
                            "#d8576b"
                          ],
                          [
                            0.6666666666666666,
                            "#ed7953"
                          ],
                          [
                            0.7777777777777778,
                            "#fb9f3a"
                          ],
                          [
                            0.8888888888888888,
                            "#fdca26"
                          ],
                          [
                            1,
                            "#f0f921"
                          ]
                        ],
                        "type": "heatmapgl"
                      }
                    ],
                    "histogram": [
                      {
                        "marker": {
                          "pattern": {
                            "fillmode": "overlay",
                            "size": 10,
                            "solidity": 0.2
                          }
                        },
                        "type": "histogram"
                      }
                    ],
                    "histogram2d": [
                      {
                        "colorbar": {
                          "outlinewidth": 0,
                          "ticks": ""
                        },
                        "colorscale": [
                          [
                            0,
                            "#0d0887"
                          ],
                          [
                            0.1111111111111111,
                            "#46039f"
                          ],
                          [
                            0.2222222222222222,
                            "#7201a8"
                          ],
                          [
                            0.3333333333333333,
                            "#9c179e"
                          ],
                          [
                            0.4444444444444444,
                            "#bd3786"
                          ],
                          [
                            0.5555555555555556,
                            "#d8576b"
                          ],
                          [
                            0.6666666666666666,
                            "#ed7953"
                          ],
                          [
                            0.7777777777777778,
                            "#fb9f3a"
                          ],
                          [
                            0.8888888888888888,
                            "#fdca26"
                          ],
                          [
                            1,
                            "#f0f921"
                          ]
                        ],
                        "type": "histogram2d"
                      }
                    ],
                    "histogram2dcontour": [
                      {
                        "colorbar": {
                          "outlinewidth": 0,
                          "ticks": ""
                        },
                        "colorscale": [
                          [
                            0,
                            "#0d0887"
                          ],
                          [
                            0.1111111111111111,
                            "#46039f"
                          ],
                          [
                            0.2222222222222222,
                            "#7201a8"
                          ],
                          [
                            0.3333333333333333,
                            "#9c179e"
                          ],
                          [
                            0.4444444444444444,
                            "#bd3786"
                          ],
                          [
                            0.5555555555555556,
                            "#d8576b"
                          ],
                          [
                            0.6666666666666666,
                            "#ed7953"
                          ],
                          [
                            0.7777777777777778,
                            "#fb9f3a"
                          ],
                          [
                            0.8888888888888888,
                            "#fdca26"
                          ],
                          [
                            1,
                            "#f0f921"
                          ]
                        ],
                        "type": "histogram2dcontour"
                      }
                    ],
                    "mesh3d": [
                      {
                        "colorbar": {
                          "outlinewidth": 0,
                          "ticks": ""
                        },
                        "type": "mesh3d"
                      }
                    ],
                    "parcoords": [
                      {
                        "line": {
                          "colorbar": {
                            "outlinewidth": 0,
                            "ticks": ""
                          }
                        },
                        "type": "parcoords"
                      }
                    ],
                    "pie": [
                      {
                        "automargin": true,
                        "type": "pie"
                      }
                    ],
                    "scatter": [
                      {
                        "fillpattern": {
                          "fillmode": "overlay",
                          "size": 10,
                          "solidity": 0.2
                        },
                        "type": "scatter"
                      }
                    ],
                    "scatter3d": [
                      {
                        "line": {
                          "colorbar": {
                            "outlinewidth": 0,
                            "ticks": ""
                          }
                        },
                        "marker": {
                          "colorbar": {
                            "outlinewidth": 0,
                            "ticks": ""
                          }
                        },
                        "type": "scatter3d"
                      }
                    ],
                    "scattercarpet": [
                      {
                        "marker": {
                          "colorbar": {
                            "outlinewidth": 0,
                            "ticks": ""
                          }
                        },
                        "type": "scattercarpet"
                      }
                    ],
                    "scattergeo": [
                      {
                        "marker": {
                          "colorbar": {
                            "outlinewidth": 0,
                            "ticks": ""
                          }
                        },
                        "type": "scattergeo"
                      }
                    ],
                    "scattergl": [
                      {
                        "marker": {
                          "colorbar": {
                            "outlinewidth": 0,
                            "ticks": ""
                          }
                        },
                        "type": "scattergl"
                      }
                    ],
                    "scattermapbox": [
                      {
                        "marker": {
                          "colorbar": {
                            "outlinewidth": 0,
                            "ticks": ""
                          }
                        },
                        "type": "scattermapbox"
                      }
                    ],
                    "scatterpolar": [
                      {
                        "marker": {
                          "colorbar": {
                            "outlinewidth": 0,
                            "ticks": ""
                          }
                        },
                        "type": "scatterpolar"
                      }
                    ],
                    "scatterpolargl": [
                      {
                        "marker": {
                          "colorbar": {
                            "outlinewidth": 0,
                            "ticks": ""
                          }
                        },
                        "type": "scatterpolargl"
                      }
                    ],
                    "scatterternary": [
                      {
                        "marker": {
                          "colorbar": {
                            "outlinewidth": 0,
                            "ticks": ""
                          }
                        },
                        "type": "scatterternary"
                      }
                    ],
                    "surface": [
                      {
                        "colorbar": {
                          "outlinewidth": 0,
                          "ticks": ""
                        },
                        "colorscale": [
                          [
                            0,
                            "#0d0887"
                          ],
                          [
                            0.1111111111111111,
                            "#46039f"
                          ],
                          [
                            0.2222222222222222,
                            "#7201a8"
                          ],
                          [
                            0.3333333333333333,
                            "#9c179e"
                          ],
                          [
                            0.4444444444444444,
                            "#bd3786"
                          ],
                          [
                            0.5555555555555556,
                            "#d8576b"
                          ],
                          [
                            0.6666666666666666,
                            "#ed7953"
                          ],
                          [
                            0.7777777777777778,
                            "#fb9f3a"
                          ],
                          [
                            0.8888888888888888,
                            "#fdca26"
                          ],
                          [
                            1,
                            "#f0f921"
                          ]
                        ],
                        "type": "surface"
                      }
                    ],
                    "table": [
                      {
                        "cells": {
                          "fill": {
                            "color": "#EBF0F8"
                          },
                          "line": {
                            "color": "white"
                          }
                        },
                        "header": {
                          "fill": {
                            "color": "#C8D4E3"
                          },
                          "line": {
                            "color": "white"
                          }
                        },
                        "type": "table"
                      }
                    ]
                  },
                  "layout": {
                    "annotationdefaults": {
                      "arrowcolor": "#2a3f5f",
                      "arrowhead": 0,
                      "arrowwidth": 1
                    },
                    "autotypenumbers": "strict",
                    "coloraxis": {
                      "colorbar": {
                        "outlinewidth": 0,
                        "ticks": ""
                      }
                    },
                    "colorscale": {
                      "diverging": [
                        [
                          0,
                          "#8e0152"
                        ],
                        [
                          0.1,
                          "#c51b7d"
                        ],
                        [
                          0.2,
                          "#de77ae"
                        ],
                        [
                          0.3,
                          "#f1b6da"
                        ],
                        [
                          0.4,
                          "#fde0ef"
                        ],
                        [
                          0.5,
                          "#f7f7f7"
                        ],
                        [
                          0.6,
                          "#e6f5d0"
                        ],
                        [
                          0.7,
                          "#b8e186"
                        ],
                        [
                          0.8,
                          "#7fbc41"
                        ],
                        [
                          0.9,
                          "#4d9221"
                        ],
                        [
                          1,
                          "#276419"
                        ]
                      ],
                      "sequential": [
                        [
                          0,
                          "#0d0887"
                        ],
                        [
                          0.1111111111111111,
                          "#46039f"
                        ],
                        [
                          0.2222222222222222,
                          "#7201a8"
                        ],
                        [
                          0.3333333333333333,
                          "#9c179e"
                        ],
                        [
                          0.4444444444444444,
                          "#bd3786"
                        ],
                        [
                          0.5555555555555556,
                          "#d8576b"
                        ],
                        [
                          0.6666666666666666,
                          "#ed7953"
                        ],
                        [
                          0.7777777777777778,
                          "#fb9f3a"
                        ],
                        [
                          0.8888888888888888,
                          "#fdca26"
                        ],
                        [
                          1,
                          "#f0f921"
                        ]
                      ],
                      "sequentialminus": [
                        [
                          0,
                          "#0d0887"
                        ],
                        [
                          0.1111111111111111,
                          "#46039f"
                        ],
                        [
                          0.2222222222222222,
                          "#7201a8"
                        ],
                        [
                          0.3333333333333333,
                          "#9c179e"
                        ],
                        [
                          0.4444444444444444,
                          "#bd3786"
                        ],
                        [
                          0.5555555555555556,
                          "#d8576b"
                        ],
                        [
                          0.6666666666666666,
                          "#ed7953"
                        ],
                        [
                          0.7777777777777778,
                          "#fb9f3a"
                        ],
                        [
                          0.8888888888888888,
                          "#fdca26"
                        ],
                        [
                          1,
                          "#f0f921"
                        ]
                      ]
                    },
                    "colorway": [
                      "#636efa",
                      "#EF553B",
                      "#00cc96",
                      "#ab63fa",
                      "#FFA15A",
                      "#19d3f3",
                      "#FF6692",
                      "#B6E880",
                      "#FF97FF",
                      "#FECB52"
                    ],
                    "font": {
                      "color": "#2a3f5f"
                    },
                    "geo": {
                      "bgcolor": "white",
                      "lakecolor": "white",
                      "landcolor": "#E5ECF6",
                      "showlakes": true,
                      "showland": true,
                      "subunitcolor": "white"
                    },
                    "hoverlabel": {
                      "align": "left"
                    },
                    "hovermode": "closest",
                    "mapbox": {
                      "style": "light"
                    },
                    "paper_bgcolor": "white",
                    "plot_bgcolor": "#E5ECF6",
                    "polar": {
                      "angularaxis": {
                        "gridcolor": "white",
                        "linecolor": "white",
                        "ticks": ""
                      },
                      "bgcolor": "#E5ECF6",
                      "radialaxis": {
                        "gridcolor": "white",
                        "linecolor": "white",
                        "ticks": ""
                      }
                    },
                    "scene": {
                      "xaxis": {
                        "backgroundcolor": "#E5ECF6",
                        "gridcolor": "white",
                        "gridwidth": 2,
                        "linecolor": "white",
                        "showbackground": true,
                        "ticks": "",
                        "zerolinecolor": "white"
                      },
                      "yaxis": {
                        "backgroundcolor": "#E5ECF6",
                        "gridcolor": "white",
                        "gridwidth": 2,
                        "linecolor": "white",
                        "showbackground": true,
                        "ticks": "",
                        "zerolinecolor": "white"
                      },
                      "zaxis": {
                        "backgroundcolor": "#E5ECF6",
                        "gridcolor": "white",
                        "gridwidth": 2,
                        "linecolor": "white",
                        "showbackground": true,
                        "ticks": "",
                        "zerolinecolor": "white"
                      }
                    },
                    "shapedefaults": {
                      "line": {
                        "color": "#2a3f5f"
                      }
                    },
                    "ternary": {
                      "aaxis": {
                        "gridcolor": "white",
                        "linecolor": "white",
                        "ticks": ""
                      },
                      "baxis": {
                        "gridcolor": "white",
                        "linecolor": "white",
                        "ticks": ""
                      },
                      "bgcolor": "#E5ECF6",
                      "caxis": {
                        "gridcolor": "white",
                        "linecolor": "white",
                        "ticks": ""
                      }
                    },
                    "title": {
                      "x": 0.05
                    },
                    "xaxis": {
                      "automargin": true,
                      "gridcolor": "white",
                      "linecolor": "white",
                      "ticks": "",
                      "title": {
                        "standoff": 15
                      },
                      "zerolinecolor": "white",
                      "zerolinewidth": 2
                    },
                    "yaxis": {
                      "automargin": true,
                      "gridcolor": "white",
                      "linecolor": "white",
                      "ticks": "",
                      "title": {
                        "standoff": 15
                      },
                      "zerolinecolor": "white",
                      "zerolinewidth": 2
                    }
                  }
                },
                "title": {
                  "text": "City Distribution with Region Filter"
                },
                "updatemenus": [
                  {
                    "buttons": [
                      {
                        "args": [
                          {
                            "x": [
                              [
                                "Not in a city"
                              ]
                            ],
                            "y": [
                              [
                                16
                              ]
                            ]
                          },
                          {
                            "title": "City Distribution for South Carolina"
                          }
                        ],
                        "label": "South Carolina",
                        "method": "update"
                      },
                      {
                        "args": [
                          {
                            "x": [
                              [
                                "New York",
                                "Holtsville",
                                "Not in a city",
                                "Rochester"
                              ]
                            ],
                            "y": [
                              [
                                65,
                                29,
                                14,
                                2
                              ]
                            ]
                          },
                          {
                            "title": "City Distribution for New York"
                          }
                        ],
                        "label": "New York",
                        "method": "update"
                      },
                      {
                        "args": [
                          {
                            "x": [
                              [
                                "North Little Rock"
                              ]
                            ],
                            "y": [
                              [
                                57
                              ]
                            ]
                          },
                          {
                            "title": "City Distribution for Arkansas"
                          }
                        ],
                        "label": "Arkansas",
                        "method": "update"
                      },
                      {
                        "args": [
                          {
                            "x": [
                              [
                                "Los Angeles",
                                "San Diego",
                                "Not in a city",
                                "Vandenberg Air Force Base",
                                "Long Beach",
                                "Vallejo",
                                "San Pablo",
                                "Bethel Island",
                                "Rubidoux",
                                "Calexico",
                                "Capitan",
                                "Lompoc",
                                "Arden-Arcade",
                                "Victorville",
                                "Costa Mesa",
                                "Fresno",
                                "Concord",
                                "Goleta",
                                "Burbank",
                                "Davenport",
                                "Fontana",
                                "Chula Vista",
                                "San Francisco",
                                "Pittsburg",
                                "Eureka",
                                "El Cajon",
                                "Oakland",
                                "Hawthorne",
                                "San Jose",
                                "Berkeley",
                                "Cupertino",
                                "West Los Angeles",
                                "Benicia",
                                "Bakersfield",
                                "Crockett"
                              ]
                            ],
                            "y": [
                              [
                                58,
                                50,
                                46,
                                43,
                                42,
                                42,
                                37,
                                36,
                                35,
                                35,
                                31,
                                30,
                                29,
                                28,
                                27,
                                26,
                                23,
                                22,
                                21,
                                17,
                                17,
                                16,
                                15,
                                14,
                                12,
                                11,
                                10,
                                9,
                                9,
                                5,
                                4,
                                2,
                                1,
                                1,
                                1
                              ]
                            ]
                          },
                          {
                            "title": "City Distribution for California"
                          }
                        ],
                        "label": "California",
                        "method": "update"
                      },
                      {
                        "args": [
                          {
                            "x": [
                              [
                                "Cleveland",
                                "Cincinnati",
                                "Not in a city",
                                "Athens"
                              ]
                            ],
                            "y": [
                              [
                                18,
                                8,
                                2,
                                2
                              ]
                            ]
                          },
                          {
                            "title": "City Distribution for Ohio"
                          }
                        ],
                        "label": "Ohio",
                        "method": "update"
                      },
                      {
                        "args": [
                          {
                            "x": [
                              [
                                "Phoenix",
                                "Tucson",
                                "Scottsdale"
                              ]
                            ],
                            "y": [
                              [
                                61,
                                35,
                                20
                              ]
                            ]
                          },
                          {
                            "title": "City Distribution for Arizona"
                          }
                        ],
                        "label": "Arizona",
                        "method": "update"
                      },
                      {
                        "args": [
                          {
                            "x": [
                              [
                                "East Highland Park",
                                "Not in a city",
                                "Alexandria",
                                "McLean",
                                "Annandale",
                                "Hampton",
                                "Seven Corners",
                                "Vinton"
                              ]
                            ],
                            "y": [
                              [
                                14,
                                9,
                                8,
                                6,
                                6,
                                4,
                                1,
                                1
                              ]
                            ]
                          },
                          {
                            "title": "City Distribution for Virginia"
                          }
                        ],
                        "label": "Virginia",
                        "method": "update"
                      },
                      {
                        "args": [
                          {
                            "x": [
                              [
                                "East Providence"
                              ]
                            ],
                            "y": [
                              [
                                8
                              ]
                            ]
                          },
                          {
                            "title": "City Distribution for Rhode Island"
                          }
                        ],
                        "label": "Rhode Island",
                        "method": "update"
                      },
                      {
                        "args": [
                          {
                            "x": [
                              [
                                "Pittsburgh",
                                "Philadelphia",
                                "York",
                                "Not in a city",
                                "Johnstown",
                                "Charleroi",
                                "Bristol",
                                "Beaver Falls",
                                "Norristown",
                                "New Castle",
                                "Erie",
                                "Freemansburg",
                                "Lancaster",
                                "Reading",
                                "Altoona",
                                "Greensburg",
                                "Scranton",
                                "Wilkes-Barre"
                              ]
                            ],
                            "y": [
                              [
                                38,
                                28,
                                27,
                                22,
                                22,
                                15,
                                14,
                                14,
                                14,
                                13,
                                11,
                                11,
                                11,
                                9,
                                7,
                                7,
                                4,
                                3
                              ]
                            ]
                          },
                          {
                            "title": "City Distribution for Pennsylvania"
                          }
                        ],
                        "label": "Pennsylvania",
                        "method": "update"
                      },
                      {
                        "args": [
                          {
                            "x": [
                              [
                                "Not in a city"
                              ]
                            ],
                            "y": [
                              [
                                13
                              ]
                            ]
                          },
                          {
                            "title": "City Distribution for Georgia"
                          }
                        ],
                        "label": "Georgia",
                        "method": "update"
                      },
                      {
                        "args": [
                          {
                            "x": [
                              [
                                "New Haven",
                                "East Hartford",
                                "Cornwall",
                                "Westport"
                              ]
                            ],
                            "y": [
                              [
                                17,
                                13,
                                6,
                                1
                              ]
                            ]
                          },
                          {
                            "title": "City Distribution for Connecticut"
                          }
                        ],
                        "label": "Connecticut",
                        "method": "update"
                      },
                      {
                        "args": [
                          {
                            "x": [
                              [
                                "Winter Park",
                                "Valrico"
                              ]
                            ],
                            "y": [
                              [
                                34,
                                2
                              ]
                            ]
                          },
                          {
                            "title": "City Distribution for Florida"
                          }
                        ],
                        "label": "Florida",
                        "method": "update"
                      },
                      {
                        "args": [
                          {
                            "x": [
                              [
                                "Indianapolis (Remainder)"
                              ]
                            ],
                            "y": [
                              [
                                19
                              ]
                            ]
                          },
                          {
                            "title": "City Distribution for Indiana"
                          }
                        ],
                        "label": "Indiana",
                        "method": "update"
                      },
                      {
                        "args": [
                          {
                            "x": [
                              [
                                "East Saint Louis",
                                "Northbrook",
                                "Cicero",
                                "Calumet City (PU RR name Calumet Park (sta.))",
                                "Chicago"
                              ]
                            ],
                            "y": [
                              [
                                37,
                                29,
                                21,
                                4,
                                1
                              ]
                            ]
                          },
                          {
                            "title": "City Distribution for Illinois"
                          }
                        ],
                        "label": "Illinois",
                        "method": "update"
                      },
                      {
                        "args": [
                          {
                            "x": [
                              [
                                "Kansas City",
                                "Not in a city"
                              ]
                            ],
                            "y": [
                              [
                                23,
                                14
                              ]
                            ]
                          },
                          {
                            "title": "City Distribution for Kansas"
                          }
                        ],
                        "label": "Kansas",
                        "method": "update"
                      },
                      {
                        "args": [
                          {
                            "x": [
                              [
                                "El Paso",
                                "Houston",
                                "Dallas",
                                "Waco",
                                "San Antonio",
                                "Deer Park",
                                "Austin",
                                "Not in a city"
                              ]
                            ],
                            "y": [
                              [
                                55,
                                38,
                                32,
                                18,
                                10,
                                8,
                                4,
                                2
                              ]
                            ]
                          },
                          {
                            "title": "City Distribution for Texas"
                          }
                        ],
                        "label": "Texas",
                        "method": "update"
                      },
                      {
                        "args": [
                          {
                            "x": [
                              [
                                "Presque Isle",
                                "Portland"
                              ]
                            ],
                            "y": [
                              [
                                22,
                                16
                              ]
                            ]
                          },
                          {
                            "title": "City Distribution for Maine"
                          }
                        ],
                        "label": "Maine",
                        "method": "update"
                      },
                      {
                        "args": [
                          {
                            "x": [
                              [
                                "Not in a city",
                                "Riverton"
                              ]
                            ],
                            "y": [
                              [
                                19,
                                2
                              ]
                            ]
                          },
                          {
                            "title": "City Distribution for Wyoming"
                          }
                        ],
                        "label": "Wyoming",
                        "method": "update"
                      },
                      {
                        "args": [
                          {
                            "x": [
                              [
                                "Albuquerque"
                              ]
                            ],
                            "y": [
                              [
                                12
                              ]
                            ]
                          },
                          {
                            "title": "City Distribution for New Mexico"
                          }
                        ],
                        "label": "New Mexico",
                        "method": "update"
                      },
                      {
                        "args": [
                          {
                            "x": [
                              [
                                "Tulsa",
                                "Oklahoma City",
                                "Park Hill",
                                "Miami",
                                "Cherry Tree",
                                "Ponca City"
                              ]
                            ],
                            "y": [
                              [
                                19,
                                13,
                                9,
                                6,
                                4,
                                2
                              ]
                            ]
                          },
                          {
                            "title": "City Distribution for Oklahoma"
                          }
                        ],
                        "label": "Oklahoma",
                        "method": "update"
                      },
                      {
                        "args": [
                          {
                            "x": [
                              [
                                "Boston"
                              ]
                            ],
                            "y": [
                              [
                                28
                              ]
                            ]
                          },
                          {
                            "title": "City Distribution for Massachusetts"
                          }
                        ],
                        "label": "Massachusetts",
                        "method": "update"
                      },
                      {
                        "args": [
                          {
                            "x": [
                              [
                                "Davenport",
                                "Des Moines"
                              ]
                            ],
                            "y": [
                              [
                                21,
                                17
                              ]
                            ]
                          },
                          {
                            "title": "City Distribution for Iowa"
                          }
                        ],
                        "label": "Iowa",
                        "method": "update"
                      },
                      {
                        "args": [
                          {
                            "x": [
                              [
                                "Washington"
                              ]
                            ],
                            "y": [
                              [
                                48
                              ]
                            ]
                          },
                          {
                            "title": "City Distribution for District Of Columbia"
                          }
                        ],
                        "label": "District Of Columbia",
                        "method": "update"
                      },
                      {
                        "args": [
                          {
                            "x": [
                              [
                                "St. Louis",
                                "Sunset Hills",
                                "Ladue",
                                "Not in a city",
                                "Ferguson",
                                "Breckenridge Hills",
                                "St. Ann"
                              ]
                            ],
                            "y": [
                              [
                                19,
                                4,
                                3,
                                3,
                                2,
                                2,
                                1
                              ]
                            ]
                          },
                          {
                            "title": "City Distribution for Missouri"
                          }
                        ],
                        "label": "Missouri",
                        "method": "update"
                      },
                      {
                        "args": [
                          {
                            "x": [
                              [
                                "Charlotte",
                                "Raleigh",
                                "Winston-Salem"
                              ]
                            ],
                            "y": [
                              [
                                37,
                                4,
                                2
                              ]
                            ]
                          },
                          {
                            "title": "City Distribution for North Carolina"
                          }
                        ],
                        "label": "North Carolina",
                        "method": "update"
                      },
                      {
                        "args": [
                          {
                            "x": [
                              [
                                "Wilmington"
                              ]
                            ],
                            "y": [
                              [
                                5
                              ]
                            ]
                          },
                          {
                            "title": "City Distribution for Delaware"
                          }
                        ],
                        "label": "Delaware",
                        "method": "update"
                      },
                      {
                        "args": [
                          {
                            "x": [
                              [
                                "Not in a city"
                              ]
                            ],
                            "y": [
                              [
                                35
                              ]
                            ]
                          },
                          {
                            "title": "City Distribution for Hawaii"
                          }
                        ],
                        "label": "Hawaii",
                        "method": "update"
                      },
                      {
                        "args": [
                          {
                            "x": [
                              [
                                "Camden",
                                "Newark"
                              ]
                            ],
                            "y": [
                              [
                                22,
                                18
                              ]
                            ]
                          },
                          {
                            "title": "City Distribution for New Jersey"
                          }
                        ],
                        "label": "New Jersey",
                        "method": "update"
                      },
                      {
                        "args": [
                          {
                            "x": [
                              [
                                "Blaine"
                              ]
                            ],
                            "y": [
                              [
                                7
                              ]
                            ]
                          },
                          {
                            "title": "City Distribution for Minnesota"
                          }
                        ],
                        "label": "Minnesota",
                        "method": "update"
                      },
                      {
                        "args": [
                          {
                            "x": [
                              [
                                "Reno",
                                "Boulder City"
                              ]
                            ],
                            "y": [
                              [
                                12,
                                3
                              ]
                            ]
                          },
                          {
                            "title": "City Distribution for Nevada"
                          }
                        ],
                        "label": "Nevada",
                        "method": "update"
                      },
                      {
                        "args": [
                          {
                            "x": [
                              [
                                "Birmingham"
                              ]
                            ],
                            "y": [
                              [
                                4
                              ]
                            ]
                          },
                          {
                            "title": "City Distribution for Alabama"
                          }
                        ],
                        "label": "Alabama",
                        "method": "update"
                      },
                      {
                        "args": [
                          {
                            "x": [
                              [
                                "Essex",
                                "Beltsville",
                                "Grantsville"
                              ]
                            ],
                            "y": [
                              [
                                15,
                                10,
                                5
                              ]
                            ]
                          },
                          {
                            "title": "City Distribution for Maryland"
                          }
                        ],
                        "label": "Maryland",
                        "method": "update"
                      },
                      {
                        "args": [
                          {
                            "x": [
                              [
                                "Welby",
                                "Denver",
                                "Not in a city"
                              ]
                            ],
                            "y": [
                              [
                                27,
                                13,
                                5
                              ]
                            ]
                          },
                          {
                            "title": "City Distribution for Colorado"
                          }
                        ],
                        "label": "Colorado",
                        "method": "update"
                      },
                      {
                        "args": [
                          {
                            "x": [
                              [
                                "Baton Rouge"
                              ]
                            ],
                            "y": [
                              [
                                34
                              ]
                            ]
                          },
                          {
                            "title": "City Distribution for Louisiana"
                          }
                        ],
                        "label": "Louisiana",
                        "method": "update"
                      },
                      {
                        "args": [
                          {
                            "x": [
                              [
                                "Sioux Falls",
                                "Not in a city"
                              ]
                            ],
                            "y": [
                              [
                                10,
                                1
                              ]
                            ]
                          },
                          {
                            "title": "City Distribution for South Dakota"
                          }
                        ],
                        "label": "South Dakota",
                        "method": "update"
                      },
                      {
                        "args": [
                          {
                            "x": [
                              [
                                "Salt Lake City",
                                "Not in a city"
                              ]
                            ],
                            "y": [
                              [
                                6,
                                2
                              ]
                            ]
                          },
                          {
                            "title": "City Distribution for Utah"
                          }
                        ],
                        "label": "Utah",
                        "method": "update"
                      },
                      {
                        "args": [
                          {
                            "x": [
                              [
                                "Tijuana",
                                "Mexicali",
                                "Rosarito"
                              ]
                            ],
                            "y": [
                              [
                                7,
                                4,
                                2
                              ]
                            ]
                          },
                          {
                            "title": "City Distribution for Country Of Mexico"
                          }
                        ],
                        "label": "Country Of Mexico",
                        "method": "update"
                      },
                      {
                        "args": [
                          {
                            "x": [
                              [
                                "Not in a city"
                              ]
                            ],
                            "y": [
                              [
                                2
                              ]
                            ]
                          },
                          {
                            "title": "City Distribution for Tennessee"
                          }
                        ],
                        "label": "Tennessee",
                        "method": "update"
                      },
                      {
                        "args": [
                          {
                            "x": [
                              [
                                "Manchester",
                                "Not in a city"
                              ]
                            ],
                            "y": [
                              [
                                6,
                                4
                              ]
                            ]
                          },
                          {
                            "title": "City Distribution for New Hampshire"
                          }
                        ],
                        "label": "New Hampshire",
                        "method": "update"
                      },
                      {
                        "args": [
                          {
                            "x": [
                              [
                                "Portland"
                              ]
                            ],
                            "y": [
                              [
                                18
                              ]
                            ]
                          },
                          {
                            "title": "City Distribution for Oregon"
                          }
                        ],
                        "label": "Oregon",
                        "method": "update"
                      },
                      {
                        "args": [
                          {
                            "x": [
                              [
                                "Detroit",
                                "Grand Rapids"
                              ]
                            ],
                            "y": [
                              [
                                9,
                                3
                              ]
                            ]
                          },
                          {
                            "title": "City Distribution for Michigan"
                          }
                        ],
                        "label": "Michigan",
                        "method": "update"
                      },
                      {
                        "args": [
                          {
                            "x": [
                              [
                                "Lexington-Fayette (corporate name for Lexington)",
                                "Ashland",
                                "Louisville",
                                "Paducah",
                                "Not in a city",
                                "Henderson"
                              ]
                            ],
                            "y": [
                              [
                                6,
                                5,
                                3,
                                2,
                                2,
                                1
                              ]
                            ]
                          },
                          {
                            "title": "City Distribution for Kentucky"
                          }
                        ],
                        "label": "Kentucky",
                        "method": "update"
                      },
                      {
                        "args": [
                          {
                            "x": [
                              [
                                "Not in a city"
                              ]
                            ],
                            "y": [
                              [
                                4
                              ]
                            ]
                          },
                          {
                            "title": "City Distribution for Idaho"
                          }
                        ],
                        "label": "Idaho",
                        "method": "update"
                      },
                      {
                        "args": [
                          {
                            "x": [
                              [
                                "Not in a city"
                              ]
                            ],
                            "y": [
                              [
                                8
                              ]
                            ]
                          },
                          {
                            "title": "City Distribution for North Dakota"
                          }
                        ],
                        "label": "North Dakota",
                        "method": "update"
                      },
                      {
                        "args": [
                          {
                            "x": [
                              [
                                "Seattle"
                              ]
                            ],
                            "y": [
                              [
                                3
                              ]
                            ]
                          },
                          {
                            "title": "City Distribution for Washington"
                          }
                        ],
                        "label": "Washington",
                        "method": "update"
                      },
                      {
                        "args": [
                          {
                            "x": [
                              [
                                "Not in a city",
                                "New York",
                                "Phoenix",
                                "Los Angeles",
                                "North Little Rock",
                                "El Paso",
                                "San Diego",
                                "Washington",
                                "Vandenberg Air Force Base",
                                "Vallejo",
                                "Long Beach",
                                "Houston",
                                "Pittsburgh",
                                "Davenport",
                                "Charlotte",
                                "East Saint Louis",
                                "San Pablo",
                                "Bethel Island",
                                "Tucson",
                                "Calexico",
                                "Rubidoux",
                                "Baton Rouge",
                                "Winter Park",
                                "Portland",
                                "Dallas",
                                "Capitan",
                                "Lompoc",
                                "Arden-Arcade",
                                "Holtsville",
                                "Northbrook",
                                "Philadelphia",
                                "Boston",
                                "Victorville",
                                "York",
                                "Costa Mesa",
                                "Welby",
                                "Fresno",
                                "Kansas City",
                                "Concord",
                                "Johnstown",
                                "Goleta",
                                "Presque Isle",
                                "Camden",
                                "Burbank",
                                "Cicero",
                                "Scottsdale",
                                "St. Louis",
                                "Tulsa",
                                "Indianapolis (Remainder)",
                                "Waco",
                                "Newark",
                                "Cleveland",
                                "New Haven",
                                "Fontana",
                                "Des Moines",
                                "Chula Vista",
                                "San Francisco",
                                "Charleroi",
                                "Essex",
                                "Beaver Falls",
                                "Norristown",
                                "East Highland Park",
                                "Pittsburg",
                                "Bristol",
                                "East Hartford",
                                "Oklahoma City",
                                "Denver",
                                "New Castle",
                                "Albuquerque",
                                "Eureka",
                                "Reno",
                                "El Cajon",
                                "Lancaster",
                                "Erie",
                                "Freemansburg",
                                "Beltsville",
                                "San Antonio",
                                "Oakland",
                                "Sioux Falls",
                                "Detroit",
                                "Hawthorne",
                                "San Jose",
                                "Reading",
                                "Park Hill",
                                "Deer Park",
                                "Cincinnati",
                                "Alexandria",
                                "East Providence",
                                "Blaine",
                                "Greensburg",
                                "Altoona",
                                "Tijuana",
                                "Annandale",
                                "McLean",
                                "Miami",
                                "Salt Lake City",
                                "Manchester",
                                "Lexington-Fayette (corporate name for Lexington)",
                                "Cornwall",
                                "Grantsville",
                                "Berkeley",
                                "Wilmington",
                                "Ashland",
                                "Mexicali",
                                "Sunset Hills",
                                "Hampton",
                                "Scranton",
                                "Cupertino",
                                "Birmingham",
                                "Austin",
                                "Raleigh",
                                "Calumet City (PU RR name Calumet Park (sta.))",
                                "Cherry Tree",
                                "Grand Rapids",
                                "Louisville",
                                "Boulder City",
                                "Seattle",
                                "Ladue",
                                "Wilkes-Barre",
                                "Rosarito",
                                "Paducah",
                                "West Los Angeles",
                                "Ponca City",
                                "Riverton",
                                "Winston-Salem",
                                "Rochester",
                                "Athens",
                                "Breckenridge Hills",
                                "Ferguson",
                                "Valrico",
                                "Westport",
                                "Chicago",
                                "St. Ann",
                                "Crockett",
                                "Vinton",
                                "Bakersfield",
                                "Benicia",
                                "Seven Corners",
                                "Henderson"
                              ]
                            ],
                            "y": [
                              [
                                223,
                                65,
                                61,
                                58,
                                57,
                                55,
                                50,
                                48,
                                43,
                                42,
                                42,
                                38,
                                38,
                                38,
                                37,
                                37,
                                37,
                                36,
                                35,
                                35,
                                35,
                                34,
                                34,
                                34,
                                32,
                                31,
                                30,
                                29,
                                29,
                                29,
                                28,
                                28,
                                28,
                                27,
                                27,
                                27,
                                26,
                                23,
                                23,
                                22,
                                22,
                                22,
                                22,
                                21,
                                21,
                                20,
                                19,
                                19,
                                19,
                                18,
                                18,
                                18,
                                17,
                                17,
                                17,
                                16,
                                15,
                                15,
                                15,
                                14,
                                14,
                                14,
                                14,
                                14,
                                13,
                                13,
                                13,
                                13,
                                12,
                                12,
                                12,
                                11,
                                11,
                                11,
                                11,
                                10,
                                10,
                                10,
                                10,
                                9,
                                9,
                                9,
                                9,
                                9,
                                8,
                                8,
                                8,
                                8,
                                7,
                                7,
                                7,
                                7,
                                6,
                                6,
                                6,
                                6,
                                6,
                                6,
                                6,
                                5,
                                5,
                                5,
                                5,
                                4,
                                4,
                                4,
                                4,
                                4,
                                4,
                                4,
                                4,
                                4,
                                4,
                                3,
                                3,
                                3,
                                3,
                                3,
                                3,
                                2,
                                2,
                                2,
                                2,
                                2,
                                2,
                                2,
                                2,
                                2,
                                2,
                                2,
                                1,
                                1,
                                1,
                                1,
                                1,
                                1,
                                1,
                                1,
                                1
                              ]
                            ]
                          },
                          {
                            "title": "City Distribution for All Regions"
                          }
                        ],
                        "label": "All",
                        "method": "update"
                      }
                    ],
                    "direction": "down",
                    "showactive": true
                  }
                ],
                "xaxis": {
                  "anchor": "y",
                  "domain": [
                    0,
                    1
                  ],
                  "title": {
                    "text": "City"
                  }
                },
                "yaxis": {
                  "anchor": "x",
                  "domain": [
                    0,
                    1
                  ],
                  "title": {
                    "text": "Count"
                  }
                }
              }
            }
          },
          "metadata": {},
          "output_type": "display_data"
        }
      ],
      "source": [
        "fig = px.bar(\n",
        "    df['city'].value_counts().reset_index(name='count'),\n",
        "    x='city',\n",
        "    y='count',\n",
        "    title=\"City Distribution with Region Filter\",\n",
        "    labels={'city': 'City', 'count': 'Count'}\n",
        ")\n",
        "\n",
        "# Add dropdown filter by Region\n",
        "regions = df[\"region\"].unique()\n",
        "fig.update_layout(\n",
        "    updatemenus=[\n",
        "        {\n",
        "            \"buttons\": [\n",
        "                {\n",
        "                    \"label\": region,\n",
        "                    \"method\": \"update\",\n",
        "                    \"args\": [\n",
        "                        {\n",
        "                            \"x\": [df[df[\"region\"] == region][\"city\"].value_counts().index],\n",
        "                            \"y\": [df[df[\"region\"] == region][\"city\"].value_counts().values]\n",
        "                        },\n",
        "                        {\"title\": f\"City Distribution for {region}\"}\n",
        "                    ],\n",
        "                }\n",
        "                for region in regions\n",
        "            ] + [\n",
        "                {\n",
        "                    \"label\": \"All\",\n",
        "                    \"method\": \"update\",\n",
        "                    \"args\": [\n",
        "                        {\n",
        "                            \"x\": [df['city'].value_counts().index],\n",
        "                            \"y\": [df['city'].value_counts().values]\n",
        "                        },\n",
        "                        {\"title\": \"City Distribution for All Regions\"}\n",
        "                    ],\n",
        "                }\n",
        "            ],\n",
        "            \"direction\": \"down\",\n",
        "            \"showactive\": True,\n",
        "        }\n",
        "    ]\n",
        ")\n",
        "\n",
        "fig.show()"
      ]
    },
    {
      "cell_type": "markdown",
      "metadata": {},
      "source": [
        "The chart above displays the number of records associated with each city, grouped by region. The dropdown filter allows exploration of specific regions, making it easier to compare cities without overcrowding the visual. Taller bars indicate cities with higher counts, highlighting where activity is most concentrated within the dataset."
      ]
    },
    {
      "cell_type": "markdown",
      "metadata": {},
      "source": [
        "#### 12. Minimum and Maximun Pollution by Region\n",
        "- An interactive bar chart showing minimum and maximum NO2 AQI per region, with a dropdown toggle."
      ]
    },
    {
      "cell_type": "code",
      "execution_count": null,
      "metadata": {},
      "outputs": [
        {
          "data": {
            "application/vnd.plotly.v1+json": {
              "config": {
                "plotlyServerURL": "https://plot.ly"
              },
              "data": [
                {
                  "alignmentgroup": "True",
                  "hovertemplate": "Region=%{x}<br>Pollution Value=%{y}<extra></extra>",
                  "legendgroup": "",
                  "marker": {
                    "color": "#636efa",
                    "pattern": {
                      "shape": ""
                    }
                  },
                  "name": "",
                  "offsetgroup": "",
                  "orientation": "v",
                  "showlegend": false,
                  "textposition": "auto",
                  "type": "bar",
                  "x": [
                    "Alabama",
                    "Arizona",
                    "Arkansas",
                    "California",
                    "Colorado",
                    "Connecticut",
                    "Country Of Mexico",
                    "Delaware",
                    "District Of Columbia",
                    "Florida",
                    "Georgia",
                    "Hawaii",
                    "Idaho",
                    "Illinois",
                    "Indiana",
                    "Iowa",
                    "Kansas",
                    "Kentucky",
                    "Louisiana",
                    "Maine",
                    "Maryland",
                    "Massachusetts",
                    "Michigan",
                    "Minnesota",
                    "Missouri",
                    "Nevada",
                    "New Hampshire",
                    "New Jersey",
                    "New Mexico",
                    "New York",
                    "North Carolina",
                    "North Dakota",
                    "Ohio",
                    "Oklahoma",
                    "Oregon",
                    "Pennsylvania",
                    "Rhode Island",
                    "South Carolina",
                    "South Dakota",
                    "Tennessee",
                    "Texas",
                    "Utah",
                    "Virginia",
                    "Washington",
                    "Wyoming"
                  ],
                  "xaxis": "x",
                  "y": [
                    36,
                    64,
                    44,
                    112,
                    65,
                    43,
                    107,
                    39,
                    51,
                    28,
                    47,
                    40,
                    30,
                    70,
                    46,
                    41,
                    74,
                    42,
                    64,
                    40,
                    40,
                    48,
                    45,
                    34,
                    48,
                    48,
                    18,
                    66,
                    44,
                    69,
                    50,
                    16,
                    45,
                    33,
                    32,
                    68,
                    24,
                    7,
                    32,
                    11,
                    55,
                    66,
                    52,
                    33,
                    25
                  ],
                  "yaxis": "y"
                }
              ],
              "layout": {
                "barmode": "relative",
                "legend": {
                  "tracegroupgap": 0
                },
                "template": {
                  "data": {
                    "bar": [
                      {
                        "error_x": {
                          "color": "#2a3f5f"
                        },
                        "error_y": {
                          "color": "#2a3f5f"
                        },
                        "marker": {
                          "line": {
                            "color": "#E5ECF6",
                            "width": 0.5
                          },
                          "pattern": {
                            "fillmode": "overlay",
                            "size": 10,
                            "solidity": 0.2
                          }
                        },
                        "type": "bar"
                      }
                    ],
                    "barpolar": [
                      {
                        "marker": {
                          "line": {
                            "color": "#E5ECF6",
                            "width": 0.5
                          },
                          "pattern": {
                            "fillmode": "overlay",
                            "size": 10,
                            "solidity": 0.2
                          }
                        },
                        "type": "barpolar"
                      }
                    ],
                    "carpet": [
                      {
                        "aaxis": {
                          "endlinecolor": "#2a3f5f",
                          "gridcolor": "white",
                          "linecolor": "white",
                          "minorgridcolor": "white",
                          "startlinecolor": "#2a3f5f"
                        },
                        "baxis": {
                          "endlinecolor": "#2a3f5f",
                          "gridcolor": "white",
                          "linecolor": "white",
                          "minorgridcolor": "white",
                          "startlinecolor": "#2a3f5f"
                        },
                        "type": "carpet"
                      }
                    ],
                    "choropleth": [
                      {
                        "colorbar": {
                          "outlinewidth": 0,
                          "ticks": ""
                        },
                        "type": "choropleth"
                      }
                    ],
                    "contour": [
                      {
                        "colorbar": {
                          "outlinewidth": 0,
                          "ticks": ""
                        },
                        "colorscale": [
                          [
                            0,
                            "#0d0887"
                          ],
                          [
                            0.1111111111111111,
                            "#46039f"
                          ],
                          [
                            0.2222222222222222,
                            "#7201a8"
                          ],
                          [
                            0.3333333333333333,
                            "#9c179e"
                          ],
                          [
                            0.4444444444444444,
                            "#bd3786"
                          ],
                          [
                            0.5555555555555556,
                            "#d8576b"
                          ],
                          [
                            0.6666666666666666,
                            "#ed7953"
                          ],
                          [
                            0.7777777777777778,
                            "#fb9f3a"
                          ],
                          [
                            0.8888888888888888,
                            "#fdca26"
                          ],
                          [
                            1,
                            "#f0f921"
                          ]
                        ],
                        "type": "contour"
                      }
                    ],
                    "contourcarpet": [
                      {
                        "colorbar": {
                          "outlinewidth": 0,
                          "ticks": ""
                        },
                        "type": "contourcarpet"
                      }
                    ],
                    "heatmap": [
                      {
                        "colorbar": {
                          "outlinewidth": 0,
                          "ticks": ""
                        },
                        "colorscale": [
                          [
                            0,
                            "#0d0887"
                          ],
                          [
                            0.1111111111111111,
                            "#46039f"
                          ],
                          [
                            0.2222222222222222,
                            "#7201a8"
                          ],
                          [
                            0.3333333333333333,
                            "#9c179e"
                          ],
                          [
                            0.4444444444444444,
                            "#bd3786"
                          ],
                          [
                            0.5555555555555556,
                            "#d8576b"
                          ],
                          [
                            0.6666666666666666,
                            "#ed7953"
                          ],
                          [
                            0.7777777777777778,
                            "#fb9f3a"
                          ],
                          [
                            0.8888888888888888,
                            "#fdca26"
                          ],
                          [
                            1,
                            "#f0f921"
                          ]
                        ],
                        "type": "heatmap"
                      }
                    ],
                    "heatmapgl": [
                      {
                        "colorbar": {
                          "outlinewidth": 0,
                          "ticks": ""
                        },
                        "colorscale": [
                          [
                            0,
                            "#0d0887"
                          ],
                          [
                            0.1111111111111111,
                            "#46039f"
                          ],
                          [
                            0.2222222222222222,
                            "#7201a8"
                          ],
                          [
                            0.3333333333333333,
                            "#9c179e"
                          ],
                          [
                            0.4444444444444444,
                            "#bd3786"
                          ],
                          [
                            0.5555555555555556,
                            "#d8576b"
                          ],
                          [
                            0.6666666666666666,
                            "#ed7953"
                          ],
                          [
                            0.7777777777777778,
                            "#fb9f3a"
                          ],
                          [
                            0.8888888888888888,
                            "#fdca26"
                          ],
                          [
                            1,
                            "#f0f921"
                          ]
                        ],
                        "type": "heatmapgl"
                      }
                    ],
                    "histogram": [
                      {
                        "marker": {
                          "pattern": {
                            "fillmode": "overlay",
                            "size": 10,
                            "solidity": 0.2
                          }
                        },
                        "type": "histogram"
                      }
                    ],
                    "histogram2d": [
                      {
                        "colorbar": {
                          "outlinewidth": 0,
                          "ticks": ""
                        },
                        "colorscale": [
                          [
                            0,
                            "#0d0887"
                          ],
                          [
                            0.1111111111111111,
                            "#46039f"
                          ],
                          [
                            0.2222222222222222,
                            "#7201a8"
                          ],
                          [
                            0.3333333333333333,
                            "#9c179e"
                          ],
                          [
                            0.4444444444444444,
                            "#bd3786"
                          ],
                          [
                            0.5555555555555556,
                            "#d8576b"
                          ],
                          [
                            0.6666666666666666,
                            "#ed7953"
                          ],
                          [
                            0.7777777777777778,
                            "#fb9f3a"
                          ],
                          [
                            0.8888888888888888,
                            "#fdca26"
                          ],
                          [
                            1,
                            "#f0f921"
                          ]
                        ],
                        "type": "histogram2d"
                      }
                    ],
                    "histogram2dcontour": [
                      {
                        "colorbar": {
                          "outlinewidth": 0,
                          "ticks": ""
                        },
                        "colorscale": [
                          [
                            0,
                            "#0d0887"
                          ],
                          [
                            0.1111111111111111,
                            "#46039f"
                          ],
                          [
                            0.2222222222222222,
                            "#7201a8"
                          ],
                          [
                            0.3333333333333333,
                            "#9c179e"
                          ],
                          [
                            0.4444444444444444,
                            "#bd3786"
                          ],
                          [
                            0.5555555555555556,
                            "#d8576b"
                          ],
                          [
                            0.6666666666666666,
                            "#ed7953"
                          ],
                          [
                            0.7777777777777778,
                            "#fb9f3a"
                          ],
                          [
                            0.8888888888888888,
                            "#fdca26"
                          ],
                          [
                            1,
                            "#f0f921"
                          ]
                        ],
                        "type": "histogram2dcontour"
                      }
                    ],
                    "mesh3d": [
                      {
                        "colorbar": {
                          "outlinewidth": 0,
                          "ticks": ""
                        },
                        "type": "mesh3d"
                      }
                    ],
                    "parcoords": [
                      {
                        "line": {
                          "colorbar": {
                            "outlinewidth": 0,
                            "ticks": ""
                          }
                        },
                        "type": "parcoords"
                      }
                    ],
                    "pie": [
                      {
                        "automargin": true,
                        "type": "pie"
                      }
                    ],
                    "scatter": [
                      {
                        "fillpattern": {
                          "fillmode": "overlay",
                          "size": 10,
                          "solidity": 0.2
                        },
                        "type": "scatter"
                      }
                    ],
                    "scatter3d": [
                      {
                        "line": {
                          "colorbar": {
                            "outlinewidth": 0,
                            "ticks": ""
                          }
                        },
                        "marker": {
                          "colorbar": {
                            "outlinewidth": 0,
                            "ticks": ""
                          }
                        },
                        "type": "scatter3d"
                      }
                    ],
                    "scattercarpet": [
                      {
                        "marker": {
                          "colorbar": {
                            "outlinewidth": 0,
                            "ticks": ""
                          }
                        },
                        "type": "scattercarpet"
                      }
                    ],
                    "scattergeo": [
                      {
                        "marker": {
                          "colorbar": {
                            "outlinewidth": 0,
                            "ticks": ""
                          }
                        },
                        "type": "scattergeo"
                      }
                    ],
                    "scattergl": [
                      {
                        "marker": {
                          "colorbar": {
                            "outlinewidth": 0,
                            "ticks": ""
                          }
                        },
                        "type": "scattergl"
                      }
                    ],
                    "scattermapbox": [
                      {
                        "marker": {
                          "colorbar": {
                            "outlinewidth": 0,
                            "ticks": ""
                          }
                        },
                        "type": "scattermapbox"
                      }
                    ],
                    "scatterpolar": [
                      {
                        "marker": {
                          "colorbar": {
                            "outlinewidth": 0,
                            "ticks": ""
                          }
                        },
                        "type": "scatterpolar"
                      }
                    ],
                    "scatterpolargl": [
                      {
                        "marker": {
                          "colorbar": {
                            "outlinewidth": 0,
                            "ticks": ""
                          }
                        },
                        "type": "scatterpolargl"
                      }
                    ],
                    "scatterternary": [
                      {
                        "marker": {
                          "colorbar": {
                            "outlinewidth": 0,
                            "ticks": ""
                          }
                        },
                        "type": "scatterternary"
                      }
                    ],
                    "surface": [
                      {
                        "colorbar": {
                          "outlinewidth": 0,
                          "ticks": ""
                        },
                        "colorscale": [
                          [
                            0,
                            "#0d0887"
                          ],
                          [
                            0.1111111111111111,
                            "#46039f"
                          ],
                          [
                            0.2222222222222222,
                            "#7201a8"
                          ],
                          [
                            0.3333333333333333,
                            "#9c179e"
                          ],
                          [
                            0.4444444444444444,
                            "#bd3786"
                          ],
                          [
                            0.5555555555555556,
                            "#d8576b"
                          ],
                          [
                            0.6666666666666666,
                            "#ed7953"
                          ],
                          [
                            0.7777777777777778,
                            "#fb9f3a"
                          ],
                          [
                            0.8888888888888888,
                            "#fdca26"
                          ],
                          [
                            1,
                            "#f0f921"
                          ]
                        ],
                        "type": "surface"
                      }
                    ],
                    "table": [
                      {
                        "cells": {
                          "fill": {
                            "color": "#EBF0F8"
                          },
                          "line": {
                            "color": "white"
                          }
                        },
                        "header": {
                          "fill": {
                            "color": "#C8D4E3"
                          },
                          "line": {
                            "color": "white"
                          }
                        },
                        "type": "table"
                      }
                    ]
                  },
                  "layout": {
                    "annotationdefaults": {
                      "arrowcolor": "#2a3f5f",
                      "arrowhead": 0,
                      "arrowwidth": 1
                    },
                    "autotypenumbers": "strict",
                    "coloraxis": {
                      "colorbar": {
                        "outlinewidth": 0,
                        "ticks": ""
                      }
                    },
                    "colorscale": {
                      "diverging": [
                        [
                          0,
                          "#8e0152"
                        ],
                        [
                          0.1,
                          "#c51b7d"
                        ],
                        [
                          0.2,
                          "#de77ae"
                        ],
                        [
                          0.3,
                          "#f1b6da"
                        ],
                        [
                          0.4,
                          "#fde0ef"
                        ],
                        [
                          0.5,
                          "#f7f7f7"
                        ],
                        [
                          0.6,
                          "#e6f5d0"
                        ],
                        [
                          0.7,
                          "#b8e186"
                        ],
                        [
                          0.8,
                          "#7fbc41"
                        ],
                        [
                          0.9,
                          "#4d9221"
                        ],
                        [
                          1,
                          "#276419"
                        ]
                      ],
                      "sequential": [
                        [
                          0,
                          "#0d0887"
                        ],
                        [
                          0.1111111111111111,
                          "#46039f"
                        ],
                        [
                          0.2222222222222222,
                          "#7201a8"
                        ],
                        [
                          0.3333333333333333,
                          "#9c179e"
                        ],
                        [
                          0.4444444444444444,
                          "#bd3786"
                        ],
                        [
                          0.5555555555555556,
                          "#d8576b"
                        ],
                        [
                          0.6666666666666666,
                          "#ed7953"
                        ],
                        [
                          0.7777777777777778,
                          "#fb9f3a"
                        ],
                        [
                          0.8888888888888888,
                          "#fdca26"
                        ],
                        [
                          1,
                          "#f0f921"
                        ]
                      ],
                      "sequentialminus": [
                        [
                          0,
                          "#0d0887"
                        ],
                        [
                          0.1111111111111111,
                          "#46039f"
                        ],
                        [
                          0.2222222222222222,
                          "#7201a8"
                        ],
                        [
                          0.3333333333333333,
                          "#9c179e"
                        ],
                        [
                          0.4444444444444444,
                          "#bd3786"
                        ],
                        [
                          0.5555555555555556,
                          "#d8576b"
                        ],
                        [
                          0.6666666666666666,
                          "#ed7953"
                        ],
                        [
                          0.7777777777777778,
                          "#fb9f3a"
                        ],
                        [
                          0.8888888888888888,
                          "#fdca26"
                        ],
                        [
                          1,
                          "#f0f921"
                        ]
                      ]
                    },
                    "colorway": [
                      "#636efa",
                      "#EF553B",
                      "#00cc96",
                      "#ab63fa",
                      "#FFA15A",
                      "#19d3f3",
                      "#FF6692",
                      "#B6E880",
                      "#FF97FF",
                      "#FECB52"
                    ],
                    "font": {
                      "color": "#2a3f5f"
                    },
                    "geo": {
                      "bgcolor": "white",
                      "lakecolor": "white",
                      "landcolor": "#E5ECF6",
                      "showlakes": true,
                      "showland": true,
                      "subunitcolor": "white"
                    },
                    "hoverlabel": {
                      "align": "left"
                    },
                    "hovermode": "closest",
                    "mapbox": {
                      "style": "light"
                    },
                    "paper_bgcolor": "white",
                    "plot_bgcolor": "#E5ECF6",
                    "polar": {
                      "angularaxis": {
                        "gridcolor": "white",
                        "linecolor": "white",
                        "ticks": ""
                      },
                      "bgcolor": "#E5ECF6",
                      "radialaxis": {
                        "gridcolor": "white",
                        "linecolor": "white",
                        "ticks": ""
                      }
                    },
                    "scene": {
                      "xaxis": {
                        "backgroundcolor": "#E5ECF6",
                        "gridcolor": "white",
                        "gridwidth": 2,
                        "linecolor": "white",
                        "showbackground": true,
                        "ticks": "",
                        "zerolinecolor": "white"
                      },
                      "yaxis": {
                        "backgroundcolor": "#E5ECF6",
                        "gridcolor": "white",
                        "gridwidth": 2,
                        "linecolor": "white",
                        "showbackground": true,
                        "ticks": "",
                        "zerolinecolor": "white"
                      },
                      "zaxis": {
                        "backgroundcolor": "#E5ECF6",
                        "gridcolor": "white",
                        "gridwidth": 2,
                        "linecolor": "white",
                        "showbackground": true,
                        "ticks": "",
                        "zerolinecolor": "white"
                      }
                    },
                    "shapedefaults": {
                      "line": {
                        "color": "#2a3f5f"
                      }
                    },
                    "ternary": {
                      "aaxis": {
                        "gridcolor": "white",
                        "linecolor": "white",
                        "ticks": ""
                      },
                      "baxis": {
                        "gridcolor": "white",
                        "linecolor": "white",
                        "ticks": ""
                      },
                      "bgcolor": "#E5ECF6",
                      "caxis": {
                        "gridcolor": "white",
                        "linecolor": "white",
                        "ticks": ""
                      }
                    },
                    "title": {
                      "x": 0.05
                    },
                    "xaxis": {
                      "automargin": true,
                      "gridcolor": "white",
                      "linecolor": "white",
                      "ticks": "",
                      "title": {
                        "standoff": 15
                      },
                      "zerolinecolor": "white",
                      "zerolinewidth": 2
                    },
                    "yaxis": {
                      "automargin": true,
                      "gridcolor": "white",
                      "linecolor": "white",
                      "ticks": "",
                      "title": {
                        "standoff": 15
                      },
                      "zerolinecolor": "white",
                      "zerolinewidth": 2
                    }
                  }
                },
                "title": {
                  "text": "Maximum and Minimum Pollution by Region"
                },
                "updatemenus": [
                  {
                    "buttons": [
                      {
                        "args": [
                          {
                            "y": [
                              [
                                36,
                                64,
                                44,
                                112,
                                65,
                                43,
                                107,
                                39,
                                51,
                                28,
                                47,
                                40,
                                30,
                                70,
                                46,
                                41,
                                74,
                                42,
                                64,
                                40,
                                40,
                                48,
                                45,
                                34,
                                48,
                                48,
                                18,
                                66,
                                44,
                                69,
                                50,
                                16,
                                45,
                                33,
                                32,
                                68,
                                24,
                                7,
                                32,
                                11,
                                55,
                                66,
                                52,
                                33,
                                25
                              ]
                            ]
                          },
                          {
                            "title": "Maximum Pollution by Region"
                          }
                        ],
                        "label": "Maximum Pollution",
                        "method": "update"
                      },
                      {
                        "args": [
                          {
                            "y": [
                              [
                                4,
                                8,
                                6,
                                0,
                                0,
                                2,
                                17,
                                14,
                                6,
                                4,
                                6,
                                2,
                                6,
                                7,
                                7,
                                5,
                                3,
                                6,
                                12,
                                0,
                                2,
                                7,
                                11,
                                2,
                                14,
                                0,
                                2,
                                9,
                                10,
                                0,
                                6,
                                4,
                                2,
                                3,
                                6,
                                2,
                                8,
                                2,
                                3,
                                6,
                                0,
                                1,
                                5,
                                21,
                                1
                              ]
                            ]
                          },
                          {
                            "title": "Minimum Pollution by Region"
                          }
                        ],
                        "label": "Minimum Pollution",
                        "method": "update"
                      }
                    ],
                    "direction": "down",
                    "x": 0,
                    "xanchor": "left",
                    "y": 1.1,
                    "yanchor": "top"
                  }
                ],
                "xaxis": {
                  "anchor": "y",
                  "domain": [
                    0,
                    1
                  ],
                  "title": {
                    "text": "Region"
                  }
                },
                "yaxis": {
                  "anchor": "x",
                  "domain": [
                    0,
                    1
                  ],
                  "title": {
                    "text": "Pollution Value"
                  }
                }
              }
            }
          },
          "metadata": {},
          "output_type": "display_data"
        }
      ],
      "source": [
        "# Use the correct column names: 'region' and a valid pollutant column, e.g., 'no2 aqi'\n",
        "pollution_stats = df.groupby(\"region\")[\"no2 aqi\"].agg([\"min\", \"max\"]).reset_index()\n",
        "\n",
        "# Create initial figure with \"max\" as default\n",
        "fig = px.bar(\n",
        "    pollution_stats,\n",
        "    x=\"region\",\n",
        "    y=\"max\",\n",
        "    title=\"Maximum and Minimum Pollution by Region\",\n",
        "    labels={\"region\": \"Region\", \"max\": \"Pollution Value\", \"min\": \"Pollution Value\"},\n",
        ")\n",
        "\n",
        "# Add dropdown filter to toggle between min and max\n",
        "fig.update_layout(\n",
        "    updatemenus=[\n",
        "        dict(\n",
        "            buttons=list([\n",
        "                dict(label=\"Maximum Pollution\",\n",
        "                     method=\"update\",\n",
        "                     args=[{\"y\": [pollution_stats[\"max\"]]},\n",
        "                           {\"title\": \"Maximum Pollution by Region\"}]),\n",
        "                dict(label=\"Minimum Pollution\",\n",
        "                     method=\"update\",\n",
        "                     args=[{\"y\": [pollution_stats[\"min\"]]},\n",
        "                           {\"title\": \"Minimum Pollution by Region\"}]),\n",
        "            ]),\n",
        "            direction=\"down\",\n",
        "            x=0.0,\n",
        "            xanchor=\"left\",\n",
        "            y=1.1,\n",
        "            yanchor=\"top\"\n",
        "        )\n",
        "    ]\n",
        ")\n",
        "\n",
        "# Show interactive plot\n",
        "fig.show()"
      ]
    },
    {
      "cell_type": "markdown",
      "metadata": {},
      "source": [
        "The above chart highlights the variation in pollution levels across regions, allowing users to toggle between minimum and maximum values. By selecting Maximum Pollution, you can see which regions experience the most severe pollution episodes, while Minimum Pollution reveals the baseline or least polluted conditions. This comparison helps identify regions with consistently high pollution levels versus those with wider variability, supporting targeted policy and environmental health interventions."
      ]
    },
    {
      "cell_type": "markdown",
      "metadata": {},
      "source": [
        "## Limitations\n",
        "\n",
        "1. Large number of categories – With many regions and cities, some charts become difficult to read. Filtering to the top values or grouping smaller categories was used to reduce this, but some detail may be lost.\n",
        "\n",
        "2. Dataset constraints – The results depend entirely on the data provided. If some regions or cities are under-represented, the findings may not give a balanced picture.\n",
        "\n",
        "3. Descriptive focus – The analysis describes what the data shows but does not explain why differences exist. Any interpretation should be made with caution.\n",
        "\n",
        "4. Static presentation – While static plots give a useful overview, interactive visuals would allow for deeper exploration (e.g. selecting regions on demand).\n",
        "\n",
        "5. Scalability – The approach works well for this dataset, but larger datasets may require more efficient tools such as database queries or automated dashboards."
      ]
    },
    {
      "cell_type": "markdown",
      "metadata": {},
      "source": [
        "## Conclusion\n",
        "\n",
        "This analysis provided a clearer picture of the dataset by combining descriptive statistics, static plots, and interactive charts. Key patterns across regions and categories were identified, while interactive visuals allowed for deeper exploration. Although limited to the available data, the findings offer a strong starting point for further investigation and demonstrate how effective visualisation can turn raw data into actionable insights."
      ]
    }
  ],
  "metadata": {
    "accelerator": "GPU",
    "colab": {
      "name": "Data Practitioner Jupyter Notebook.ipynb",
      "provenance": [],
      "toc_visible": true
    },
    "kernelspec": {
      "display_name": ".venv (3.12.8)",
      "language": "python",
      "name": "python3"
    },
    "language_info": {
      "codemirror_mode": {
        "name": "ipython",
        "version": 3
      },
      "file_extension": ".py",
      "mimetype": "text/x-python",
      "name": "python",
      "nbconvert_exporter": "python",
      "pygments_lexer": "ipython3",
      "version": "3.12.8"
    },
    "orig_nbformat": 2
  },
  "nbformat": 4,
  "nbformat_minor": 2
}
