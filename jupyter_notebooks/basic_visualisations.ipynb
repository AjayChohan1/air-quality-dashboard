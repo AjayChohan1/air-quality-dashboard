{
 "cells": [
  {
   "cell_type": "markdown",
   "id": "9c1902ec",
   "metadata": {},
   "source": [
    "# **BASIC VISUALISATIONS**"
   ]
  },
  {
   "cell_type": "markdown",
   "id": "8706cc45",
   "metadata": {},
   "source": [
    "---\n",
    "---"
   ]
  },
  {
   "cell_type": "markdown",
   "id": "de468fdb",
   "metadata": {},
   "source": [
    "## Description\n",
    "\n",
    "This notebook contains basic visualisations from 3 of the main graph rendering libraries in Python- Matplotlib, Seaborn and Plotly. It goes to provide further insights on specific findings."
   ]
  },
  {
   "cell_type": "markdown",
   "metadata": {},
   "source": [
    "## Objectives\n",
    "\n",
    "* Generate basic visualisations for analysis.\n",
    "* Provide summaries for insights extrapolated from generated graphs.\n",
    "\n",
    "## Inputs\n",
    "\n",
    "* Cleaned CSV file.\n",
    "\n",
    "## Outputs\n",
    "\n",
    "* 6 visualisations.\n",
    "\n",
    "## Additional Comments\n",
    "\n",
    "* This dataset was sourced from this current project environment created. It is the cleaned version created for analysis purposes."
   ]
  },
  {
   "cell_type": "markdown",
   "metadata": {},
   "source": [
    "---"
   ]
  },
  {
   "cell_type": "markdown",
   "metadata": {},
   "source": [
    "## Change Working Directory\n",
    "\n",
    "We are assuming you will store the notebooks in a subfolder, therefore when running the notebook in the editor, you will need to change the working directory. When you restart the kernel (and clear outputs, if necessary) always be certain that these 3 cells run in order."
   ]
  },
  {
   "cell_type": "markdown",
   "metadata": {},
   "source": [
    "We need to change the working directory from its current folder to its parent folder:\n",
    "* We access the current directory with *os.getcwd()*.\n",
    "* We confirm the current directory with *current_dir* defined in the variable."
   ]
  },
  {
   "cell_type": "code",
   "execution_count": null,
   "id": "96a4923c",
   "metadata": {},
   "outputs": [],
   "source": [
    "import os\n",
    "current_dir = os.getcwd()\n",
    "current_dir"
   ]
  },
  {
   "cell_type": "markdown",
   "id": "32b2251c",
   "metadata": {},
   "source": [
    "We want to make the parent of the current directory the new current directory:\n",
    "* *os.path.dirname()* gets the parent directory.\n",
    "* *os.chir() defines* the new current directory."
   ]
  },
  {
   "cell_type": "code",
   "execution_count": null,
   "id": "c01c3b1a",
   "metadata": {},
   "outputs": [],
   "source": [
    "os.chdir(os.path.dirname(current_dir))\n",
    "print(\"You set a new current directory\")"
   ]
  },
  {
   "cell_type": "markdown",
   "id": "2177a059",
   "metadata": {},
   "source": [
    "Confirm the new current directory."
   ]
  },
  {
   "cell_type": "code",
   "execution_count": null,
   "id": "d1ea7dea",
   "metadata": {},
   "outputs": [],
   "source": [
    "current_dir = os.getcwd()\n",
    "current_dir"
   ]
  },
  {
   "cell_type": "markdown",
   "id": "a7701c35",
   "metadata": {},
   "source": [
    "---\n",
    "---"
   ]
  },
  {
   "cell_type": "markdown",
   "id": "4ca012c9",
   "metadata": {},
   "source": [
    "## Section 1\n",
    "\n",
    "Matplotlib visualisations."
   ]
  },
  {
   "cell_type": "code",
   "execution_count": null,
   "id": "c3739515",
   "metadata": {},
   "outputs": [],
   "source": [
    "# Import all necessary packages\n",
    "import pandas as pd\n",
    "import numpy as np\n",
    "import matplotlib as plt\n",
    "import seaborn as sns\n",
    "import plotly.express as px\n",
    "\n",
    "print(\"All packages imported successfully!\")\n",
    "print(f\"NumPy version: {np.__version__}\")\n",
    "print(f\"Pandas version: {pd.__version__}\")\n",
    "print(f\"Matplotlib version: {plt.__version__}\")\n",
    "print(f\"Seaborn version: {sns.__version__}\")\n",
    "print(f\"Plotly version: {pd.__version__}\")\n",
    "print(f\"Plotly express version: {px.__version__}\")"
   ]
  },
  {
   "cell_type": "code",
   "execution_count": null,
   "id": "1225c129",
   "metadata": {},
   "outputs": [],
   "source": []
  },
  {
   "cell_type": "code",
   "execution_count": null,
   "id": "9e5052cd",
   "metadata": {},
   "outputs": [],
   "source": [
    "df = pd.read_csv(\"outputs/pollution_us_2000_2016_cleaned.csv\")\n",
    "df.head()"
   ]
  },
  {
   "cell_type": "markdown",
   "id": "f44b402c",
   "metadata": {},
   "source": [
    "## Section 2\n",
    "\n",
    "Seaborn visualisations."
   ]
  },
  {
   "cell_type": "markdown",
   "id": "402fab99",
   "metadata": {},
   "source": [
    "## Section 3\n",
    "\n",
    "Plotly visualisations."
   ]
  },
  {
   "cell_type": "code",
   "execution_count": null,
   "metadata": {},
   "outputs": [],
   "source": []
  }
 ],
 "metadata": {
  "kernelspec": {
   "display_name": "Python 3",
   "language": "python",
   "name": "python3"
  },
  "language_info": {
   "codemirror_mode": {
    "name": "ipython",
    "version": 3
   },
   "file_extension": ".py",
   "mimetype": "text/x-python",
   "name": "python",
   "nbconvert_exporter": "python",
   "pygments_lexer": "ipython3",
   "version": "3.12.8"
  }
 },
 "nbformat": 4,
 "nbformat_minor": 5
}
