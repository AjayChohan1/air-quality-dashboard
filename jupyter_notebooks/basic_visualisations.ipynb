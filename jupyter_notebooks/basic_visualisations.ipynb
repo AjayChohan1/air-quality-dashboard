{
 "cells": [
  {
   "cell_type": "markdown",
   "id": "9c1902ec",
   "metadata": {},
   "source": [
    "# **BASIC VISUALISATIONS**"
   ]
  },
  {
   "cell_type": "markdown",
   "id": "8706cc45",
   "metadata": {},
   "source": [
    "---\n",
    "---"
   ]
  },
  {
   "cell_type": "markdown",
   "id": "de468fdb",
   "metadata": {},
   "source": [
    "## Description\n",
    "\n",
    "This notebook contains basic visualisations from 3 of the main graph rendering libraries in Python- Matplotlib, Seaborn and Plotly. It goes to provide further insights on specific findings."
   ]
  },
  {
   "cell_type": "markdown",
   "metadata": {},
   "source": [
    "## Objectives\n",
    "\n",
    "* Generate basic visualisations for analysis.\n",
    "* Provide summaries for insights extrapolated from generated graphs.\n",
    "\n",
    "## Inputs\n",
    "\n",
    "* Cleaned CSV file.\n",
    "\n",
    "## Outputs\n",
    "\n",
    "* 6 visualisations.\n",
    "\n",
    "## Additional Comments\n",
    "\n",
    "* This dataset was sourced from this current project environment created. It is the cleaned version created for analysis purposes."
   ]
  },
  {
   "cell_type": "markdown",
   "metadata": {},
   "source": [
    "---"
   ]
  },
  {
   "cell_type": "markdown",
   "metadata": {},
   "source": [
    "## Change Working Directory\n",
    "\n",
    "We are assuming you will store the notebooks in a subfolder, therefore when running the notebook in the editor, you will need to change the working directory. When you restart the kernel (and clear outputs, if necessary) always be certain that these 3 cells run in order."
   ]
  },
  {
   "cell_type": "markdown",
   "metadata": {},
   "source": [
    "We need to change the working directory from its current folder to its parent folder:\n",
    "* We access the current directory with *os.getcwd()*.\n",
    "* We confirm the current directory with *current_dir* defined in the variable."
   ]
  },
  {
   "cell_type": "code",
   "execution_count": 1,
   "id": "96a4923c",
   "metadata": {},
   "outputs": [
    {
     "data": {
      "text/plain": [
       "'c:\\\\Users\\\\F_bee\\\\Documents\\\\vs-code\\\\vs-code-projects\\\\github\\\\air-quality-dashboard\\\\jupyter_notebooks'"
      ]
     },
     "execution_count": 1,
     "metadata": {},
     "output_type": "execute_result"
    }
   ],
   "source": [
    "import os\n",
    "current_dir = os.getcwd()\n",
    "current_dir"
   ]
  },
  {
   "cell_type": "markdown",
   "id": "32b2251c",
   "metadata": {},
   "source": [
    "We want to make the parent of the current directory the new current directory:\n",
    "* *os.path.dirname()* gets the parent directory.\n",
    "* *os.chir() defines* the new current directory."
   ]
  },
  {
   "cell_type": "code",
   "execution_count": 2,
   "id": "c01c3b1a",
   "metadata": {},
   "outputs": [
    {
     "name": "stdout",
     "output_type": "stream",
     "text": [
      "You set a new current directory\n"
     ]
    }
   ],
   "source": [
    "os.chdir(os.path.dirname(current_dir))\n",
    "print(\"You set a new current directory\")"
   ]
  },
  {
   "cell_type": "markdown",
   "id": "2177a059",
   "metadata": {},
   "source": [
    "Confirm the new current directory."
   ]
  },
  {
   "cell_type": "code",
   "execution_count": 3,
   "id": "d1ea7dea",
   "metadata": {},
   "outputs": [
    {
     "data": {
      "text/plain": [
       "'c:\\\\Users\\\\F_bee\\\\Documents\\\\vs-code\\\\vs-code-projects\\\\github\\\\air-quality-dashboard'"
      ]
     },
     "execution_count": 3,
     "metadata": {},
     "output_type": "execute_result"
    }
   ],
   "source": [
    "current_dir = os.getcwd()\n",
    "current_dir"
   ]
  },
  {
   "cell_type": "markdown",
   "id": "a7701c35",
   "metadata": {},
   "source": [
    "---\n",
    "---"
   ]
  },
  {
   "cell_type": "markdown",
   "id": "bab6e3a3",
   "metadata": {},
   "source": [
    "## Key for DateFrame\n",
    "\n",
    "- **State Code**: Numeric code for the US state.\n",
    "- **County Code**: Numeric code for the county within the state.\n",
    "- **Site Number**: Identifier for the monitoring site.\n",
    "- **Address**: Physical address of the monitoring site.\n",
    "- **State**: Name of the US state.\n",
    "- **County**: Name of the county.\n",
    "- **City**: Name of the city.\n",
    "- **NO2 Units**: Measurement units for nitrogen dioxide (NO₂).\n",
    "- **NO2 Mean**: Mean value of NO₂ for the day.\n",
    "- **NO2 1st Max Value**: Highest NO₂ value recorded that day.\n",
    "- **NO2 1st Max Hour**: Hour when the highest NO₂ value was recorded.\n",
    "- **NO2 AQI**: Air Quality Index for NO₂.\n",
    "- **O3 Units**: Measurement units for ozone (O₃).\n",
    "- **O3 Mean**: Mean value of O₃ for the day.\n",
    "- **O3 1st Max Value**: Highest O₃ value recorded that day.\n",
    "- **O3 1st Max Hour**: Hour when the highest O₃ value was recorded.\n",
    "- **O3 AQI**: Air Quality Index for O₃.\n",
    "- **SO2 Units**: Measurement units for sulfur dioxide (SO₂).\n",
    "- **SO2 Mean**: Mean value of SO₂ for the day.\n",
    "- **SO2 1st Max Value**: Highest SO₂ value recorded that day.\n",
    "- **SO2 1st Max Hour**: Hour when the highest SO₂ value was recorded.\n",
    "- **SO2 AQI**: Air Quality Index for SO₂.\n",
    "- **CO Units**: Measurement units for carbon monoxide (CO).\n",
    "- **CO Mean**: Mean value of CO for the day.\n",
    "- **CO 1st Max Value**: Highest CO value recorded that day.\n",
    "- **CO 1st Max Hour**: Hour when the highest CO value was recorded.\n",
    "- **CO AQI**: Air Quality Index for CO.\n",
    "- **Date**: Date of measurement (YYYY-MM-DD).\n",
    "- **Year**: Year of measurement.\n",
    "- **Month**: Month of measurement."
   ]
  },
  {
   "cell_type": "markdown",
   "id": "553425a0",
   "metadata": {},
   "source": [
    "---"
   ]
  },
  {
   "cell_type": "code",
   "execution_count": 4,
   "id": "c3739515",
   "metadata": {},
   "outputs": [
    {
     "name": "stdout",
     "output_type": "stream",
     "text": [
      "All packages imported successfully!\n",
      "NumPy version: 2.3.0\n",
      "Pandas version: 2.3.0\n",
      "Matplotlib version: 3.10.3\n",
      "Seaborn version: 0.13.2\n",
      "Plotly version: 6.1.2\n"
     ]
    }
   ],
   "source": [
    "# Import all necessary packages\n",
    "import pandas as pd\n",
    "import numpy as np\n",
    "import matplotlib as mb\n",
    "import matplotlib.pyplot as plt\n",
    "import seaborn as sns\n",
    "import plotly as pt\n",
    "import plotly.express as px\n",
    "\n",
    "print(\"All packages imported successfully!\")\n",
    "print(f\"NumPy version: {np.__version__}\")\n",
    "print(f\"Pandas version: {pd.__version__}\")\n",
    "print(f\"Matplotlib version: {mb.__version__}\")\n",
    "print(f\"Seaborn version: {sns.__version__}\")\n",
    "print(f\"Plotly version: {pt.__version__}\")"
   ]
  },
  {
   "cell_type": "code",
   "execution_count": null,
   "id": "9e5052cd",
   "metadata": {},
   "outputs": [
    {
     "data": {
      "text/html": [
       "<div>\n",
       "<style scoped>\n",
       "    .dataframe tbody tr th:only-of-type {\n",
       "        vertical-align: middle;\n",
       "    }\n",
       "\n",
       "    .dataframe tbody tr th {\n",
       "        vertical-align: top;\n",
       "    }\n",
       "\n",
       "    .dataframe thead th {\n",
       "        text-align: right;\n",
       "    }\n",
       "</style>\n",
       "<table border=\"1\" class=\"dataframe\">\n",
       "  <thead>\n",
       "    <tr style=\"text-align: right;\">\n",
       "      <th></th>\n",
       "      <th>State Code</th>\n",
       "      <th>County Code</th>\n",
       "      <th>Site Number</th>\n",
       "      <th>Address</th>\n",
       "      <th>State</th>\n",
       "      <th>County</th>\n",
       "      <th>City</th>\n",
       "      <th>NO2 Units</th>\n",
       "      <th>NO2 Mean</th>\n",
       "      <th>NO2 1st Max Value</th>\n",
       "      <th>...</th>\n",
       "      <th>SO2 1st Max Hour</th>\n",
       "      <th>SO2 AQI</th>\n",
       "      <th>CO Units</th>\n",
       "      <th>CO Mean</th>\n",
       "      <th>CO 1st Max Value</th>\n",
       "      <th>CO 1st Max Hour</th>\n",
       "      <th>CO AQI</th>\n",
       "      <th>Date</th>\n",
       "      <th>Year</th>\n",
       "      <th>Month</th>\n",
       "    </tr>\n",
       "  </thead>\n",
       "  <tbody>\n",
       "    <tr>\n",
       "      <th>0</th>\n",
       "      <td>6</td>\n",
       "      <td>65</td>\n",
       "      <td>8001</td>\n",
       "      <td>5888 MISSION BLVD., RUBIDOUX</td>\n",
       "      <td>California</td>\n",
       "      <td>Riverside</td>\n",
       "      <td>Rubidoux</td>\n",
       "      <td>Parts per billion</td>\n",
       "      <td>25.160870</td>\n",
       "      <td>35.8</td>\n",
       "      <td>...</td>\n",
       "      <td>7</td>\n",
       "      <td>1.0</td>\n",
       "      <td>Parts per million</td>\n",
       "      <td>0.741667</td>\n",
       "      <td>1.0</td>\n",
       "      <td>7</td>\n",
       "      <td>11.0</td>\n",
       "      <td>2013-02-13</td>\n",
       "      <td>2013</td>\n",
       "      <td>2</td>\n",
       "    </tr>\n",
       "    <tr>\n",
       "      <th>1</th>\n",
       "      <td>40</td>\n",
       "      <td>21</td>\n",
       "      <td>9002</td>\n",
       "      <td>P.O. BOX 948   TAHLEQUAH, OK  74464</td>\n",
       "      <td>Oklahoma</td>\n",
       "      <td>Cherokee</td>\n",
       "      <td>Park Hill</td>\n",
       "      <td>Parts per billion</td>\n",
       "      <td>7.666667</td>\n",
       "      <td>20.0</td>\n",
       "      <td>...</td>\n",
       "      <td>10</td>\n",
       "      <td>3.0</td>\n",
       "      <td>Parts per million</td>\n",
       "      <td>0.062500</td>\n",
       "      <td>0.1</td>\n",
       "      <td>0</td>\n",
       "      <td>1.0</td>\n",
       "      <td>2002-09-03</td>\n",
       "      <td>2002</td>\n",
       "      <td>9</td>\n",
       "    </tr>\n",
       "    <tr>\n",
       "      <th>2</th>\n",
       "      <td>6</td>\n",
       "      <td>37</td>\n",
       "      <td>4006</td>\n",
       "      <td>2425 Webster St., Long Beach, CA</td>\n",
       "      <td>California</td>\n",
       "      <td>Los Angeles</td>\n",
       "      <td>Long Beach</td>\n",
       "      <td>Parts per billion</td>\n",
       "      <td>14.721739</td>\n",
       "      <td>24.2</td>\n",
       "      <td>...</td>\n",
       "      <td>13</td>\n",
       "      <td>4.0</td>\n",
       "      <td>Parts per million</td>\n",
       "      <td>0.341667</td>\n",
       "      <td>0.5</td>\n",
       "      <td>5</td>\n",
       "      <td>6.0</td>\n",
       "      <td>2015-09-06</td>\n",
       "      <td>2015</td>\n",
       "      <td>9</td>\n",
       "    </tr>\n",
       "    <tr>\n",
       "      <th>3</th>\n",
       "      <td>25</td>\n",
       "      <td>25</td>\n",
       "      <td>42</td>\n",
       "      <td>HARRISON AVE</td>\n",
       "      <td>Massachusetts</td>\n",
       "      <td>Suffolk</td>\n",
       "      <td>Boston</td>\n",
       "      <td>Parts per billion</td>\n",
       "      <td>15.458333</td>\n",
       "      <td>26.0</td>\n",
       "      <td>...</td>\n",
       "      <td>3</td>\n",
       "      <td>14.0</td>\n",
       "      <td>Parts per million</td>\n",
       "      <td>0.025000</td>\n",
       "      <td>0.1</td>\n",
       "      <td>8</td>\n",
       "      <td>1.0</td>\n",
       "      <td>2004-04-12</td>\n",
       "      <td>2004</td>\n",
       "      <td>4</td>\n",
       "    </tr>\n",
       "    <tr>\n",
       "      <th>4</th>\n",
       "      <td>6</td>\n",
       "      <td>83</td>\n",
       "      <td>2011</td>\n",
       "      <td>380 N FAIRVIEW AVENUE, GOLETA</td>\n",
       "      <td>California</td>\n",
       "      <td>Santa Barbara</td>\n",
       "      <td>Goleta</td>\n",
       "      <td>Parts per billion</td>\n",
       "      <td>3.478261</td>\n",
       "      <td>12.0</td>\n",
       "      <td>...</td>\n",
       "      <td>3</td>\n",
       "      <td>1.0</td>\n",
       "      <td>Parts per million</td>\n",
       "      <td>0.000000</td>\n",
       "      <td>0.0</td>\n",
       "      <td>0</td>\n",
       "      <td>0.0</td>\n",
       "      <td>2007-02-28</td>\n",
       "      <td>2007</td>\n",
       "      <td>2</td>\n",
       "    </tr>\n",
       "  </tbody>\n",
       "</table>\n",
       "<p>5 rows × 30 columns</p>\n",
       "</div>"
      ],
      "text/plain": [
       "   State Code  County Code  Site Number                              Address  \\\n",
       "0           6           65         8001         5888 MISSION BLVD., RUBIDOUX   \n",
       "1          40           21         9002  P.O. BOX 948   TAHLEQUAH, OK  74464   \n",
       "2           6           37         4006     2425 Webster St., Long Beach, CA   \n",
       "3          25           25           42                         HARRISON AVE   \n",
       "4           6           83         2011        380 N FAIRVIEW AVENUE, GOLETA   \n",
       "\n",
       "           State         County        City          NO2 Units   NO2 Mean  \\\n",
       "0     California      Riverside    Rubidoux  Parts per billion  25.160870   \n",
       "1       Oklahoma       Cherokee   Park Hill  Parts per billion   7.666667   \n",
       "2     California    Los Angeles  Long Beach  Parts per billion  14.721739   \n",
       "3  Massachusetts        Suffolk      Boston  Parts per billion  15.458333   \n",
       "4     California  Santa Barbara      Goleta  Parts per billion   3.478261   \n",
       "\n",
       "   NO2 1st Max Value  ...  SO2 1st Max Hour  SO2 AQI           CO Units  \\\n",
       "0               35.8  ...                 7      1.0  Parts per million   \n",
       "1               20.0  ...                10      3.0  Parts per million   \n",
       "2               24.2  ...                13      4.0  Parts per million   \n",
       "3               26.0  ...                 3     14.0  Parts per million   \n",
       "4               12.0  ...                 3      1.0  Parts per million   \n",
       "\n",
       "    CO Mean  CO 1st Max Value  CO 1st Max Hour  CO AQI        Date  Year  \\\n",
       "0  0.741667               1.0                7    11.0  2013-02-13  2013   \n",
       "1  0.062500               0.1                0     1.0  2002-09-03  2002   \n",
       "2  0.341667               0.5                5     6.0  2015-09-06  2015   \n",
       "3  0.025000               0.1                8     1.0  2004-04-12  2004   \n",
       "4  0.000000               0.0                0     0.0  2007-02-28  2007   \n",
       "\n",
       "   Month  \n",
       "0      2  \n",
       "1      9  \n",
       "2      9  \n",
       "3      4  \n",
       "4      2  \n",
       "\n",
       "[5 rows x 30 columns]"
      ]
     },
     "execution_count": 5,
     "metadata": {},
     "output_type": "execute_result"
    }
   ],
   "source": [
    "# Load the dataset\n",
    "df = pd.read_csv(\"outputs/pollution_us_2000_2016_cleaned.csv\")\n",
    "df.head()"
   ]
  },
  {
   "cell_type": "markdown",
   "id": "127dccba",
   "metadata": {},
   "source": [
    "## Section 1\n",
    "\n",
    "Matplotlib visualisations."
   ]
  },
  {
   "cell_type": "code",
   "execution_count": 6,
   "id": "f6d2ce06",
   "metadata": {},
   "outputs": [
    {
     "data": {
      "image/png": "[encoded data removed]",
      "text/plain": [
       "<Figure size 1600x1000 with 1 Axes>"
      ]
     },
     "metadata": {},
     "output_type": "display_data"
    },
    {
     "data": {
      "image/png": "[encoded data removed]",
      "text/plain": [
       "<Figure size 1600x1000 with 1 Axes>"
      ]
     },
     "metadata": {},
     "output_type": "display_data"
    }
   ],
   "source": [
    "# Find highest and lowest value for each mean pollutant column and plot as two graphs with address, city, county, state, and date on bars\n",
    "import textwrap\n",
    "mean_cols = [\"NO2 Mean\", \"O3 Mean\", \"SO2 Mean\", \"CO Mean\"]  # Removed AQI columns\n",
    "import matplotlib.pyplot as plt\n",
    "\n",
    "# Highest values and addresses\n",
    "high_vals = []\n",
    "high_labels = []\n",
    "high_bar_labels = []\n",
    "high_indices = []\n",
    "for col in mean_cols:\n",
    "    high_idx = df[col].idxmax()\n",
    "    high_indices.append(high_idx)\n",
    "    high_vals.append(df.loc[high_idx, col])\n",
    "    high_labels.append(col)\n",
    "    addr = df.loc[high_idx, \"Address\"]\n",
    "    city = df.loc[high_idx, \"City\"]\n",
    "    county = df.loc[high_idx, \"County\"]\n",
    "    state = df.loc[high_idx, \"State\"]\n",
    "    date = df.loc[high_idx, \"Date\"]\n",
    "    label = f\"{addr}, {city}, {county}, {state}, {date}\"\n",
    "    wrapped_label = '\\n'.join(textwrap.wrap(label, 25))\n",
    "    high_bar_labels.append(wrapped_label)\n",
    "\n",
    "plt.figure(figsize=(16,10))\n",
    "bars = plt.bar(high_labels, high_vals)\n",
    "plt.title(\"Highest Values For Each Pollutant Column\")\n",
    "plt.ylabel(\"Value\")\n",
    "plt.xticks(rotation=0)\n",
    "for bar, value, label in zip(bars, high_vals, high_bar_labels):\n",
    "    plt.text(bar.get_x() + bar.get_width()/2, bar.get_height(), f'{value:.2f}\\n{label}', ha='center', va='bottom', fontsize=8, wrap=True)\n",
    "plt.tight_layout()\n",
    "plt.show()\n",
    "\n",
    "# Lowest values for the same address but on a different day than the highest value for each pollutant\n",
    "low_vals = []\n",
    "low_labels = []\n",
    "low_bar_labels = []\n",
    "for col, high_idx in zip(mean_cols, high_indices):\n",
    "    addr = df.loc[high_idx, \"Address\"]\n",
    "    high_date = df.loc[high_idx, \"Date\"]\n",
    "    # Filter for same address but different date\n",
    "    mask = (df[\"Address\"] == addr) & (df[\"Date\"] != high_date)\n",
    "    # Find the lowest value for this pollutant at that address on a different day\n",
    "    if df.loc[mask, col].empty:\n",
    "        low_val = float('nan')\n",
    "        low_date = 'N/A'\n",
    "        city = df.loc[high_idx, \"City\"]\n",
    "        county = df.loc[high_idx, \"County\"]\n",
    "        state = df.loc[high_idx, \"State\"]\n",
    "    else:\n",
    "        low_idx = df.loc[mask, col].idxmin()\n",
    "        low_val = df.loc[low_idx, col]\n",
    "        low_date = df.loc[low_idx, \"Date\"]\n",
    "        city = df.loc[low_idx, \"City\"]\n",
    "        county = df.loc[low_idx, \"County\"]\n",
    "        state = df.loc[low_idx, \"State\"]\n",
    "    low_vals.append(low_val)\n",
    "    low_labels.append(col)\n",
    "    label = f\"{addr}, {city}, {county}, {state}, {low_date}\"\n",
    "    wrapped_label = '\\n'.join(textwrap.wrap(label, 25))\n",
    "    low_bar_labels.append(wrapped_label)\n",
    "\n",
    "plt.figure(figsize=(16,10))\n",
    "bars = plt.bar(low_labels, low_vals)\n",
    "plt.title(\"Lowest Values For Each Pollutant Column (Same Address, Different Day)\")\n",
    "plt.ylabel(\"Value\")\n",
    "plt.xticks(rotation=0)\n",
    "plt.ylim(bottom=0)  # Set y-axis to start at 0\n",
    "for bar, value, label in zip(bars, low_vals, low_bar_labels):\n",
    "    plt.text(bar.get_x() + bar.get_width()/2, bar.get_height(), f'{value:.2f}\\n{label}', ha='center', va='bottom', fontsize=8, wrap=True)\n",
    "plt.tight_layout()\n",
    "plt.show()"
   ]
  },
  {
   "cell_type": "markdown",
   "id": "b1531212",
   "metadata": {},
   "source": [
    "With the two bar graphs depicted using Matplotlib, we had looked to compare the highest mean rates of pollution of 4 different pollutants. These rates found themselves stretching across different dates and different addreses. We gauge the highest level of pollution of a particular pollutant and in which area that value was reflected. We then went to deduce the lowest levels of that particular pollutant in that area, ona different date. We can use these graphs to help us determine pollution shift over time within a particular location/at a particular site."
   ]
  },
  {
   "cell_type": "markdown",
   "id": "e26f08df",
   "metadata": {},
   "source": [
    "---"
   ]
  },
  {
   "cell_type": "markdown",
   "id": "f44b402c",
   "metadata": {},
   "source": [
    "## Section 2\n",
    "\n",
    "Seaborn visualisations."
   ]
  },
  {
   "cell_type": "code",
   "execution_count": 7,
   "id": "1e1462bf",
   "metadata": {},
   "outputs": [
    {
     "name": "stderr",
     "output_type": "stream",
     "text": [
      "C:\\Users\\F_bee\\AppData\\Local\\Temp\\ipykernel_21988\\4201450970.py:13: FutureWarning: \n",
      "\n",
      "Passing `palette` without assigning `hue` is deprecated and will be removed in v0.14.0. Assign the `x` variable to `hue` and set `legend=False` for the same effect.\n",
      "\n",
      "  sns.boxplot(x=\"Pollutant\", y=\"AQI\", data=aqi_data, palette=\"Set2\")\n"
     ]
    },
    {
     "data": {
      "image/png": "[encoded data removed]",
      "text/plain": [
       "<Figure size 800x600 with 1 Axes>"
      ]
     },
     "metadata": {},
     "output_type": "display_data"
    },
    {
     "name": "stderr",
     "output_type": "stream",
     "text": [
      "C:\\Users\\F_bee\\AppData\\Local\\Temp\\ipykernel_21988\\4201450970.py:22: FutureWarning: \n",
      "\n",
      "Passing `palette` without assigning `hue` is deprecated and will be removed in v0.14.0. Assign the `x` variable to `hue` and set `legend=False` for the same effect.\n",
      "\n",
      "  sns.violinplot(x=\"Pollutant\", y=\"AQI\", data=aqi_data, palette=\"Set3\")\n"
     ]
    },
    {
     "data": {
      "image/png": "[encoded data removed]",
      "text/plain": [
       "<Figure size 800x600 with 1 Axes>"
      ]
     },
     "metadata": {},
     "output_type": "display_data"
    }
   ],
   "source": [
    "# Seaborn boxplot and violinplot for AQI values (NO2 AQI and O3 AQI)\n",
    "import seaborn as sns\n",
    "import matplotlib.pyplot as plt\n",
    "import plotly.express as px\n",
    "\n",
    "aqi_cols = [\"NO2 AQI\", \"O3 AQI\"]\n",
    "\n",
    "# Prepare data for plotting\n",
    "aqi_data = df.melt(value_vars=aqi_cols, var_name=\"Pollutant\", value_name=\"AQI\")\n",
    "\n",
    "# Boxplot for AQI values\n",
    "plt.figure(figsize=(8,6))\n",
    "sns.boxplot(x=\"Pollutant\", y=\"AQI\", data=aqi_data, palette=\"Set2\")\n",
    "plt.title(\"Distribution of AQI Values (NO2 & O3) - Boxplot\")\n",
    "plt.ylabel(\"AQI Value\")\n",
    "plt.xlabel(\"Pollutant\")\n",
    "plt.tight_layout()\n",
    "plt.show()\n",
    "\n",
    "# Violinplot for AQI values\n",
    "plt.figure(figsize=(8,6))\n",
    "sns.violinplot(x=\"Pollutant\", y=\"AQI\", data=aqi_data, palette=\"Set3\")\n",
    "plt.title(\"Distribution of AQI Values (NO2 & O3) - Violinplot\")\n",
    "plt.ylabel(\"AQI Value\")\n",
    "plt.xlabel(\"Pollutant\")\n",
    "plt.tight_layout()\n",
    "plt.show()"
   ]
  },
  {
   "cell_type": "markdown",
   "id": "754fd156",
   "metadata": {},
   "source": [
    "The Seaborn boxplot and violinplot visualize the distribution of AQI values for NO2 and O3. The boxplot shows the median, quartiles, and outliers for each pollutant, making it easy to compare their central tendency and spread. The violinplot adds a view of the data’s density, highlighting where AQI values are most concentrated. Together, these plots help you quickly assess differences in air quality between NO2 and O3, spot outliers, and understand the overall distribution of AQI values for each pollutant."
   ]
  },
  {
   "cell_type": "markdown",
   "id": "b349caf1",
   "metadata": {},
   "source": [
    "---"
   ]
  },
  {
   "cell_type": "markdown",
   "id": "402fab99",
   "metadata": {},
   "source": [
    "## Section 3\n",
    "\n",
    "Plotly visualisations."
   ]
  },
  {
   "cell_type": "code",
   "execution_count": null,
   "id": "efadbbc1",
   "metadata": {},
   "outputs": [
    {
     "data": {
      "application/vnd.plotly.v1+json": {
       "config": {
        "plotlyServerURL": "https://plot.ly"
       },
       "data": [
        {
         "customdata": [
          [
           "5888 MISSION BLVD., RUBIDOUX",
           "Rubidoux",
           "Riverside",
           "2013-02-13"
          ],
          [
           "2425 Webster St., Long Beach, CA",
           "Long Beach",
           "Los Angeles",
           "2015-09-06"
          ],
          [
           "380 N FAIRVIEW AVENUE, GOLETA",
           "Goleta",
           "Santa Barbara",
           "2007-02-28"
          ],
          [
           "128 S 'H' ST, LOMPOC",
           "Lompoc",
           "Santa Barbara",
           "2007-01-28"
          ],
          [
           "717 SOUTH AVENUE",
           "Eureka",
           "Humboldt",
           "2013-01-19"
          ],
          [
           "1630 N MAIN ST, LOS ANGELES",
           "Los Angeles",
           "Los Angeles",
           "2002-11-02"
          ],
          [
           "STS POWER PLANT, VANDENBERG AFB",
           "Vandenberg Air Force Base",
           "Santa Barbara",
           "2004-06-23"
          ],
          [
           "1865 D RUMRILL BLVD, San Pablo",
           "San Pablo",
           "Contra Costa",
           "2011-03-26"
          ],
          [
           "14306 PARK AVE., VICTORVILLE, CA",
           "Victorville",
           "San Bernardino",
           "2015-02-20"
          ],
          [
           "2850 MESA VERDE DR EAST, COSTA MESA",
           "Costa Mesa",
           "Orange",
           "2007-10-03"
          ],
          [
           "10 ARKANSAS ST.",
           "San Francisco",
           "San Francisco",
           "2008-07-19"
          ],
          [
           "80 E. 'J' ST., CHULA VISTA",
           "Chula Vista",
           "San Diego",
           "2008-03-14"
          ],
          [
           "1100 21st Street",
           "Oakland",
           "Alameda",
           "2011-08-06"
          ],
          [
           "1340 Sixth Street",
           "Berkeley",
           "Alameda",
           "2010-09-30"
          ],
          [
           "DEL PASO-2701 AVALON DR, SACRAMENTO",
           "Arden-Arcade",
           "Sacramento",
           "2013-10-21"
          ],
          [
           "1865 D RUMRILL BLVD, San Pablo",
           "San Pablo",
           "Contra Costa",
           "2004-07-01"
          ],
          [
           "LFC #1-LAS FLORES CANYON",
           "Capitan",
           "Santa Barbara",
           "2001-03-29"
          ],
          [
           "717 SOUTH AVENUE",
           "Eureka",
           "Humboldt",
           "2010-03-16"
          ],
          [
           "1100 21st Street",
           "Oakland",
           "Alameda",
           "2015-08-24"
          ],
          [
           "128 S 'H' ST, LOMPOC",
           "Lompoc",
           "Santa Barbara",
           "2011-04-13"
          ],
          [
           "158B JACKSON ST",
           "San Jose",
           "Santa Clara",
           "2013-07-18"
          ],
          [
           "STS POWER PLANT, VANDENBERG AFB",
           "Vandenberg Air Force Base",
           "Santa Barbara",
           "2011-01-23"
          ],
          [
           "228 W. PALM AVE., BURBANK",
           "Burbank",
           "Los Angeles",
           "2003-02-03"
          ],
          [
           "583 W. 10TH ST., PITTSBURG",
           "Pittsburg",
           "Contra Costa",
           "2001-07-13"
          ],
          [
           "STS POWER PLANT, VANDENBERG AFB",
           "Vandenberg Air Force Base",
           "Santa Barbara",
           "2014-07-20"
          ],
          [
           "158B JACKSON ST",
           "San Jose",
           "Santa Clara",
           "2009-03-20"
          ],
          [
           "5888 MISSION BLVD., RUBIDOUX",
           "Rubidoux",
           "Riverside",
           "2012-08-08"
          ],
          [
           "3648 N. LONG BEACH BLVD., LONG BEACH",
           "Long Beach",
           "Los Angeles",
           "2003-09-13"
          ],
          [
           "128 S 'H' ST, LOMPOC",
           "Lompoc",
           "Santa Barbara",
           "2013-07-07"
          ],
          [
           "304 TUOLUMNE ST.",
           "Vallejo",
           "Solano",
           "2009-02-28"
          ],
          [
           "1029 ETHEL ST, CALEXICO HIGH SCHOOL",
           "Calexico",
           "Imperial",
           "2014-02-27"
          ],
          [
           "1630 N MAIN ST, LOS ANGELES",
           "Los Angeles",
           "Los Angeles",
           "2008-12-11"
          ],
          [
           "10 ARKANSAS ST.",
           "San Francisco",
           "San Francisco",
           "2005-07-24"
          ],
          [
           "158B JACKSON ST",
           "San Jose",
           "Santa Clara",
           "2014-05-13"
          ],
          [
           "STS POWER PLANT, VANDENBERG AFB",
           "Vandenberg Air Force Base",
           "Santa Barbara",
           "2009-06-29"
          ],
          [
           "STS POWER PLANT, VANDENBERG AFB",
           "Vandenberg Air Force Base",
           "Santa Barbara",
           "2006-01-23"
          ],
          [
           "583 W. 10TH ST., PITTSBURG",
           "Pittsburg",
           "Contra Costa",
           "2004-07-31"
          ],
          [
           "7201 W. WESTCHESTER PARKWAY",
           "Los Angeles",
           "Los Angeles",
           "2007-12-29"
          ],
          [
           "228 W. PALM AVE., BURBANK",
           "Burbank",
           "Los Angeles",
           "2007-04-05"
          ],
          [
           "22601 Voss Ave",
           "Cupertino",
           "Santa Clara",
           "2013-10-18"
          ],
          [
           "3425 N FIRST ST, FRESNO",
           "Fresno",
           "Fresno",
           "2011-02-12"
          ],
          [
           "1100 21st Street",
           "Oakland",
           "Alameda",
           "2015-08-02"
          ],
          [
           "1865 D RUMRILL BLVD, San Pablo",
           "San Pablo",
           "Contra Costa",
           "2008-10-04"
          ],
          [
           "80 E. 'J' ST., CHULA VISTA",
           "Chula Vista",
           "San Diego",
           "2005-07-31"
          ],
          [
           "5551 BETHEL ISLAND RD",
           "Bethel Island",
           "Contra Costa",
           "2002-07-11"
          ],
          [
           "1029 ETHEL ST, CALEXICO HIGH SCHOOL",
           "Calexico",
           "Imperial",
           "2014-11-05"
          ],
          [
           "14306 PARK AVE., VICTORVILLE, CA",
           "Victorville",
           "San Bernardino",
           "2005-09-06"
          ],
          [
           "DEL PASO-2701 AVALON DR, SACRAMENTO",
           "Arden-Arcade",
           "Sacramento",
           "2009-09-25"
          ],
          [
           "DEL PASO-2701 AVALON DR, SACRAMENTO",
           "Arden-Arcade",
           "Sacramento",
           "2009-11-18"
          ],
          [
           "14306 PARK AVE., VICTORVILLE, CA",
           "Victorville",
           "San Bernardino",
           "2011-02-15"
          ],
          [
           "LFC #1-LAS FLORES CANYON",
           "Capitan",
           "Santa Barbara",
           "2016-02-24"
          ],
          [
           "5551 BETHEL ISLAND RD",
           "Bethel Island",
           "Contra Costa",
           "2011-03-17"
          ],
          [
           "5888 MISSION BLVD., RUBIDOUX",
           "Rubidoux",
           "Riverside",
           "2013-07-03"
          ],
          [
           "5888 MISSION BLVD., RUBIDOUX",
           "Rubidoux",
           "Riverside",
           "2002-05-02"
          ],
          [
           "STS POWER PLANT, VANDENBERG AFB",
           "Vandenberg Air Force Base",
           "Santa Barbara",
           "2015-03-19"
          ],
          [
           "5888 MISSION BLVD., RUBIDOUX",
           "Rubidoux",
           "Riverside",
           "2004-11-10"
          ],
          [
           "LFC #1-LAS FLORES CANYON",
           "Capitan",
           "Santa Barbara",
           "2014-07-15"
          ],
          [
           "LFC #1-LAS FLORES CANYON",
           "Capitan",
           "Santa Barbara",
           "2000-12-19"
          ],
          [
           "583 W. 10TH ST., PITTSBURG",
           "Pittsburg",
           "Contra Costa",
           "2006-06-28"
          ],
          [
           "1029 ETHEL ST, CALEXICO HIGH SCHOOL",
           "Calexico",
           "Imperial",
           "2007-06-29"
          ],
          [
           "380 N FAIRVIEW AVENUE, GOLETA",
           "Goleta",
           "Santa Barbara",
           "2002-10-09"
          ],
          [
           "LFC #1-LAS FLORES CANYON",
           "Capitan",
           "Santa Barbara",
           "2009-11-15"
          ],
          [
           "DEL PASO-2701 AVALON DR, SACRAMENTO",
           "Arden-Arcade",
           "Sacramento",
           "2015-09-19"
          ],
          [
           "330A 12TH AVE., SAN DIEGO, CA. 92112",
           "San Diego",
           "San Diego",
           "2001-04-13"
          ],
          [
           "5888 MISSION BLVD., RUBIDOUX",
           "Rubidoux",
           "Riverside",
           "2005-03-05"
          ],
          [
           "14306 PARK AVE., VICTORVILLE, CA",
           "Victorville",
           "San Bernardino",
           "2006-07-17"
          ],
          [
           "304 TUOLUMNE ST.",
           "Vallejo",
           "Solano",
           "2007-05-02"
          ],
          [
           "1110 BEARDSLEY STREET, SAN DIEGO, CA 92112",
           "San Diego",
           "San Diego",
           "2010-10-21"
          ],
          [
           "LFC #1-LAS FLORES CANYON",
           "Capitan",
           "Santa Barbara",
           "2009-12-06"
          ],
          [
           "228 W. PALM AVE., BURBANK",
           "Burbank",
           "Los Angeles",
           "2001-11-06"
          ],
          [
           "717 SOUTH AVENUE",
           "Eureka",
           "Humboldt",
           "2008-04-25"
          ],
          [
           "3648 N. LONG BEACH BLVD., LONG BEACH",
           "Long Beach",
           "Los Angeles",
           "2006-01-09"
          ],
          [
           "380 N FAIRVIEW AVENUE, GOLETA",
           "Goleta",
           "Santa Barbara",
           "2005-02-23"
          ],
          [
           "228 W. PALM AVE., BURBANK",
           "Burbank",
           "Los Angeles",
           "2005-10-08"
          ],
          [
           "14306 PARK AVE., VICTORVILLE, CA",
           "Victorville",
           "San Bernardino",
           "2009-07-19"
          ],
          [
           "5234 W. 120TH ST., HAWTHORNE",
           "Hawthorne",
           "Los Angeles",
           "2001-03-12"
          ],
          [
           "1100 21st Street",
           "Oakland",
           "Alameda",
           "2014-09-25"
          ],
          [
           "158B JACKSON ST",
           "San Jose",
           "Santa Clara",
           "2014-11-26"
          ],
          [
           "128 S 'H' ST, LOMPOC",
           "Lompoc",
           "Santa Barbara",
           "2007-06-29"
          ],
          [
           "7201 W. WESTCHESTER PARKWAY",
           "Los Angeles",
           "Los Angeles",
           "2015-09-24"
          ],
          [
           "651 S. MOTT STREET (SB 25 TRAILER)",
           "Los Angeles",
           "Los Angeles",
           "2002-01-27"
          ],
          [
           "228 W. PALM AVE., BURBANK",
           "Burbank",
           "Los Angeles",
           "2001-02-17"
          ],
          [
           "128 S 'H' ST, LOMPOC",
           "Lompoc",
           "Santa Barbara",
           "2010-06-25"
          ],
          [
           "583 W. 10TH ST., PITTSBURG",
           "Pittsburg",
           "Contra Costa",
           "2007-09-18"
          ],
          [
           "2425 Webster St., Long Beach, CA",
           "Long Beach",
           "Los Angeles",
           "2015-08-25"
          ],
          [
           "304 TUOLUMNE ST.",
           "Vallejo",
           "Solano",
           "2009-12-22"
          ],
          [
           "22601 Voss Ave",
           "Cupertino",
           "Santa Clara",
           "2013-07-10"
          ],
          [
           "304 TUOLUMNE ST.",
           "Vallejo",
           "Solano",
           "2013-12-08"
          ],
          [
           "1865 D RUMRILL BLVD, San Pablo",
           "San Pablo",
           "Contra Costa",
           "2007-04-19"
          ],
          [
           "DEL PASO-2701 AVALON DR, SACRAMENTO",
           "Arden-Arcade",
           "Sacramento",
           "2014-04-25"
          ],
          [
           "80 E. 'J' ST., CHULA VISTA",
           "Chula Vista",
           "San Diego",
           "2001-01-07"
          ],
          [
           "717 SOUTH AVENUE",
           "Eureka",
           "Humboldt",
           "2010-07-21"
          ],
          [
           "14360 ARROW BLVD., FONTANA",
           "Fontana",
           "San Bernardino",
           "2014-10-12"
          ],
          [
           "228 W. PALM AVE., BURBANK",
           "Burbank",
           "Los Angeles",
           "2008-11-14"
          ],
          [
           "LFC #1-LAS FLORES CANYON",
           "Capitan",
           "Santa Barbara",
           "2002-07-12"
          ],
          [
           "14360 ARROW BLVD., FONTANA",
           "Fontana",
           "San Bernardino",
           "2011-05-31"
          ],
          [
           "80 E. 'J' ST., CHULA VISTA",
           "Chula Vista",
           "San Diego",
           "2004-12-19"
          ],
          [
           "3727 N FIRST ST, FRESNO",
           "Fresno",
           "Fresno",
           "2014-10-03"
          ],
          [
           "80 E. 'J' ST., CHULA VISTA",
           "Chula Vista",
           "San Diego",
           "2001-06-22"
          ],
          [
           "5888 MISSION BLVD., RUBIDOUX",
           "Rubidoux",
           "Riverside",
           "2011-12-16"
          ],
          [
           "DEL PASO-2701 AVALON DR, SACRAMENTO",
           "Arden-Arcade",
           "Sacramento",
           "2000-07-29"
          ],
          [
           " Center St",
           "Davenport",
           "Santa Cruz",
           "2001-02-05"
          ],
          [
           "583 W. 10TH ST., PITTSBURG",
           "Pittsburg",
           "Contra Costa",
           "2002-07-20"
          ],
          [
           "DEL PASO-2701 AVALON DR, SACRAMENTO",
           "Arden-Arcade",
           "Sacramento",
           "2009-05-02"
          ],
          [
           "2956-A TREAT BOULEVARD",
           "Concord",
           "Contra Costa",
           "2006-03-11"
          ],
          [
           "5551 BETHEL ISLAND RD",
           "Bethel Island",
           "Contra Costa",
           "2011-12-01"
          ],
          [
           "128 S 'H' ST, LOMPOC",
           "Lompoc",
           "Santa Barbara",
           "2007-07-05"
          ],
          [
           "3648 N. LONG BEACH BLVD., LONG BEACH",
           "Long Beach",
           "Los Angeles",
           "2007-03-21"
          ],
          [
           "158B JACKSON ST",
           "San Jose",
           "Santa Clara",
           "2015-11-29"
          ],
          [
           "1865 D RUMRILL BLVD, San Pablo",
           "San Pablo",
           "Contra Costa",
           "2004-02-07"
          ],
          [
           "80 E. 'J' ST., CHULA VISTA",
           "Chula Vista",
           "San Diego",
           "2004-04-11"
          ],
          [
           "2850 MESA VERDE DR EAST, COSTA MESA",
           "Costa Mesa",
           "Orange",
           "2003-08-30"
          ],
          [
           "380 N FAIRVIEW AVENUE, GOLETA",
           "Goleta",
           "Santa Barbara",
           "2004-04-18"
          ],
          [
           "1100 PASEO INTERNATIONAL, OTAY MESA, CA",
           "San Diego",
           "San Diego",
           "2000-02-29"
          ],
          [
           "5551 BETHEL ISLAND RD",
           "Bethel Island",
           "Contra Costa",
           "2008-08-27"
          ],
          [
           "14306 PARK AVE., VICTORVILLE, CA",
           "Victorville",
           "San Bernardino",
           "2015-10-29"
          ],
          [
           "14306 PARK AVE., VICTORVILLE, CA",
           "Victorville",
           "San Bernardino",
           "2012-10-08"
          ],
          [
           "LFC #1-LAS FLORES CANYON",
           "Capitan",
           "Santa Barbara",
           "2013-01-03"
          ],
          [
           "14306 PARK AVE., VICTORVILLE, CA",
           "Victorville",
           "San Bernardino",
           "2010-12-27"
          ],
          [
           "14306 PARK AVE., VICTORVILLE, CA",
           "Victorville",
           "San Bernardino",
           "2014-03-07"
          ],
          [
           "DEL PASO-2701 AVALON DR, SACRAMENTO",
           "Arden-Arcade",
           "Sacramento",
           "2007-11-25"
          ],
          [
           "22601 Voss Ave",
           "Cupertino",
           "Santa Clara",
           "2012-06-27"
          ],
          [
           "6701 INTERNATIONAL BLVD",
           "Oakland",
           "Alameda",
           "2001-12-16"
          ],
          [
           "128 S 'H' ST, LOMPOC",
           "Lompoc",
           "Santa Barbara",
           "2002-02-01"
          ],
          [
           "5888 MISSION BLVD., RUBIDOUX",
           "Rubidoux",
           "Riverside",
           "2011-04-14"
          ],
          [
           "14306 PARK AVE., VICTORVILLE, CA",
           "Victorville",
           "San Bernardino",
           "2012-07-18"
          ],
          [
           "3648 N. LONG BEACH BLVD., LONG BEACH",
           "Long Beach",
           "Los Angeles",
           "2005-06-09"
          ],
          [
           "LFC #1-LAS FLORES CANYON",
           "Capitan",
           "Santa Barbara",
           "2015-02-01"
          ],
          [
           "STS POWER PLANT, VANDENBERG AFB",
           "Vandenberg Air Force Base",
           "Santa Barbara",
           "2006-03-13"
          ],
          [
           "128 S 'H' ST, LOMPOC",
           "Lompoc",
           "Santa Barbara",
           "2009-01-08"
          ],
          [
           "158B JACKSON ST",
           "San Jose",
           "Santa Clara",
           "2010-05-07"
          ],
          [
           "DEL PASO-2701 AVALON DR, SACRAMENTO",
           "Arden-Arcade",
           "Sacramento",
           "2006-07-08"
          ],
          [
           "5888 MISSION BLVD., RUBIDOUX",
           "Rubidoux",
           "Riverside",
           "2011-09-23"
          ],
          [
           "583 W. 10TH ST., PITTSBURG",
           "Pittsburg",
           "Contra Costa",
           "2006-10-09"
          ],
          [
           "5551 BETHEL ISLAND RD",
           "Bethel Island",
           "Contra Costa",
           "2007-07-22"
          ],
          [
           "2850 MESA VERDE DR EAST, COSTA MESA",
           "Costa Mesa",
           "Orange",
           "2010-01-01"
          ],
          [
           "22601 Voss Ave",
           "Cupertino",
           "Santa Clara",
           "2012-04-04"
          ],
          [
           "10 ARKANSAS ST.",
           "San Francisco",
           "San Francisco",
           "2008-06-12"
          ],
          [
           "5551 BETHEL ISLAND RD",
           "Bethel Island",
           "Contra Costa",
           "2000-07-25"
          ],
          [
           "DEL PASO-2701 AVALON DR, SACRAMENTO",
           "Arden-Arcade",
           "Sacramento",
           "2003-05-01"
          ],
          [
           "1630 N MAIN ST, LOS ANGELES",
           "Los Angeles",
           "Los Angeles",
           "2005-04-03"
          ],
          [
           "DEL PASO-2701 AVALON DR, SACRAMENTO",
           "Arden-Arcade",
           "Sacramento",
           "2007-09-22"
          ],
          [
           "2850 MESA VERDE DR EAST, COSTA MESA",
           "Costa Mesa",
           "Orange",
           "2011-01-31"
          ],
          [
           "583 W. 10TH ST., PITTSBURG",
           "Pittsburg",
           "Contra Costa",
           "2002-11-13"
          ],
          [
           "5888 MISSION BLVD., RUBIDOUX",
           "Rubidoux",
           "Riverside",
           "2004-01-12"
          ],
          [
           "1029 ETHEL ST, CALEXICO HIGH SCHOOL",
           "Calexico",
           "Imperial",
           "2016-01-20"
          ],
          [
           "2956-A TREAT BOULEVARD",
           "Concord",
           "Contra Costa",
           "2000-03-31"
          ],
          [
           "304 TUOLUMNE ST.",
           "Vallejo",
           "Solano",
           "2014-05-26"
          ],
          [
           "228 W. PALM AVE., BURBANK",
           "Burbank",
           "Los Angeles",
           "2010-04-11"
          ],
          [
           "128 S 'H' ST, LOMPOC",
           "Lompoc",
           "Santa Barbara",
           "2007-10-19"
          ],
          [
           "DEL PASO-2701 AVALON DR, SACRAMENTO",
           "Arden-Arcade",
           "Sacramento",
           "2000-08-19"
          ],
          [
           "1029 ETHEL ST, CALEXICO HIGH SCHOOL",
           "Calexico",
           "Imperial",
           "2015-10-21"
          ],
          [
           "1110 BEARDSLEY STREET, SAN DIEGO, CA 92112",
           "San Diego",
           "San Diego",
           "2010-05-05"
          ],
          [
           "1029 ETHEL ST, CALEXICO HIGH SCHOOL",
           "Calexico",
           "Imperial",
           "2003-05-29"
          ],
          [
           "DEL PASO-2701 AVALON DR, SACRAMENTO",
           "Arden-Arcade",
           "Sacramento",
           "2013-10-25"
          ],
          [
           " Center St",
           "Davenport",
           "Santa Cruz",
           "2008-09-25"
          ],
          [
           "14306 PARK AVE., VICTORVILLE, CA",
           "Victorville",
           "San Bernardino",
           "2009-04-01"
          ],
          [
           "1100 PASEO INTERNATIONAL, OTAY MESA, CA",
           "San Diego",
           "San Diego",
           "2009-04-07"
          ],
          [
           "5888 MISSION BLVD., RUBIDOUX",
           "Rubidoux",
           "Riverside",
           "2013-03-13"
          ],
          [
           "158B JACKSON ST",
           "San Jose",
           "Santa Clara",
           "2010-08-06"
          ],
          [
           "10 ARKANSAS ST.",
           "San Francisco",
           "San Francisco",
           "2008-02-10"
          ],
          [
           "5888 MISSION BLVD., RUBIDOUX",
           "Rubidoux",
           "Riverside",
           "2003-10-27"
          ],
          [
           "14360 ARROW BLVD., FONTANA",
           "Fontana",
           "San Bernardino",
           "2010-03-14"
          ],
          [
           "100 WHITNEY YOUNG CIRCLE, SAN FRANCISCO",
           "San Francisco",
           "San Francisco",
           "2005-04-26"
          ],
          [
           "7201 W. WESTCHESTER PARKWAY",
           "Los Angeles",
           "Los Angeles",
           "2012-01-21"
          ],
          [
           "1029 ETHEL ST, CALEXICO HIGH SCHOOL",
           "Calexico",
           "Imperial",
           "2015-02-09"
          ],
          [
           "3648 N. LONG BEACH BLVD., LONG BEACH",
           "Long Beach",
           "Los Angeles",
           "2000-12-06"
          ],
          [
           "10 ARKANSAS ST.",
           "San Francisco",
           "San Francisco",
           "2008-04-04"
          ],
          [
           "5888 MISSION BLVD., RUBIDOUX",
           "Rubidoux",
           "Riverside",
           "2009-09-28"
          ],
          [
           "5551 BETHEL ISLAND RD",
           "Bethel Island",
           "Contra Costa",
           "2013-09-13"
          ],
          [
           "1630 N MAIN ST, LOS ANGELES",
           "Los Angeles",
           "Los Angeles",
           "2011-09-07"
          ],
          [
           "DEL PASO-2701 AVALON DR, SACRAMENTO",
           "Arden-Arcade",
           "Sacramento",
           "2015-07-18"
          ],
          [
           "3648 N. LONG BEACH BLVD., LONG BEACH",
           "Long Beach",
           "Los Angeles",
           "2007-10-25"
          ],
          [
           "14306 PARK AVE., VICTORVILLE, CA",
           "Victorville",
           "San Bernardino",
           "2015-06-26"
          ],
          [
           "2850 MESA VERDE DR EAST, COSTA MESA",
           "Costa Mesa",
           "Orange",
           "2002-05-01"
          ],
          [
           "STS POWER PLANT, VANDENBERG AFB",
           "Vandenberg Air Force Base",
           "Santa Barbara",
           "2000-01-01"
          ],
          [
           "7201 W. WESTCHESTER PARKWAY",
           "Los Angeles",
           "Los Angeles",
           "2013-07-09"
          ],
          [
           "LFC #1-LAS FLORES CANYON",
           "Capitan",
           "Santa Barbara",
           "2009-07-02"
          ],
          [
           "583 W. 10TH ST., PITTSBURG",
           "Pittsburg",
           "Contra Costa",
           "2005-09-23"
          ],
          [
           "158B JACKSON ST",
           "San Jose",
           "Santa Clara",
           "2009-07-13"
          ],
          [
           "UNIT 759 EL PORTAL SHOPPING CENTER, San Pablo",
           "San Pablo",
           "Contra Costa",
           "2002-06-20"
          ],
          [
           "5888 MISSION BLVD., RUBIDOUX",
           "Rubidoux",
           "Riverside",
           "2015-12-12"
          ],
          [
           "1029 ETHEL ST, CALEXICO HIGH SCHOOL",
           "Calexico",
           "Imperial",
           "2011-10-11"
          ],
          [
           "304 TUOLUMNE ST.",
           "Vallejo",
           "Solano",
           "2007-03-05"
          ],
          [
           "LFC #1-LAS FLORES CANYON",
           "Capitan",
           "Santa Barbara",
           "2002-10-24"
          ],
          [
           " Center St",
           "Davenport",
           "Santa Cruz",
           "2008-07-03"
          ],
          [
           "2850 MESA VERDE DR EAST, COSTA MESA",
           "Costa Mesa",
           "Orange",
           "2000-06-21"
          ],
          [
           "7201 W. WESTCHESTER PARKWAY",
           "Los Angeles",
           "Los Angeles",
           "2013-10-22"
          ],
          [
           "304 TUOLUMNE ST.",
           "Vallejo",
           "Solano",
           "2013-12-01"
          ],
          [
           "583 W. 10TH ST., PITTSBURG",
           "Pittsburg",
           "Contra Costa",
           "2007-06-01"
          ],
          [
           "5234 W. 120TH ST., HAWTHORNE",
           "Hawthorne",
           "Los Angeles",
           "2002-02-25"
          ],
          [
           "2956-A TREAT BOULEVARD",
           "Concord",
           "Contra Costa",
           "2005-03-17"
          ],
          [
           " Center St",
           "Davenport",
           "Santa Cruz",
           "2006-06-23"
          ],
          [
           "330A 12TH AVE., SAN DIEGO, CA. 92112",
           "San Diego",
           "San Diego",
           "2002-03-22"
          ],
          [
           "583 W. 10TH ST., PITTSBURG",
           "Pittsburg",
           "Contra Costa",
           "2001-09-10"
          ],
          [
           "2425 Webster St., Long Beach, CA",
           "Long Beach",
           "Los Angeles",
           "2013-12-23"
          ],
          [
           "228 W. PALM AVE., BURBANK",
           "Burbank",
           "Los Angeles",
           "2004-03-25"
          ],
          [
           "2956-A TREAT BOULEVARD",
           "Concord",
           "Contra Costa",
           "2015-10-05"
          ],
          [
           "5888 MISSION BLVD., RUBIDOUX",
           "Rubidoux",
           "Riverside",
           "2004-06-19"
          ],
          [
           "14306 PARK AVE., VICTORVILLE, CA",
           "Victorville",
           "San Bernardino",
           "2013-02-22"
          ],
          [
           "5558 California Ave., Bakersfield CA 93309",
           "Bakersfield",
           "Kern",
           "2001-03-25"
          ],
          [
           "14306 PARK AVE., VICTORVILLE, CA",
           "Victorville",
           "San Bernardino",
           "2001-12-06"
          ],
          [
           "LFC #1-LAS FLORES CANYON",
           "Capitan",
           "Santa Barbara",
           "2012-06-03"
          ],
          [
           "STS POWER PLANT, VANDENBERG AFB",
           "Vandenberg Air Force Base",
           "Santa Barbara",
           "2014-04-09"
          ],
          [
           "1029 ETHEL ST, CALEXICO HIGH SCHOOL",
           "Calexico",
           "Imperial",
           "2003-11-06"
          ],
          [
           "583 W. 10TH ST., PITTSBURG",
           "Pittsburg",
           "Contra Costa",
           "2006-01-26"
          ],
          [
           "1630 N MAIN ST, LOS ANGELES",
           "Los Angeles",
           "Los Angeles",
           "2004-07-01"
          ],
          [
           "1100 21st Street",
           "Oakland",
           "Alameda",
           "2015-09-22"
          ],
          [
           "1630 N MAIN ST, LOS ANGELES",
           "Los Angeles",
           "Los Angeles",
           "2008-04-17"
          ],
          [
           "DEL PASO-2701 AVALON DR, SACRAMENTO",
           "Arden-Arcade",
           "Sacramento",
           "2006-01-02"
          ],
          [
           "2425 Webster St., Long Beach, CA",
           "Long Beach",
           "Los Angeles",
           "2013-03-10"
          ],
          [
           "158B JACKSON ST",
           "San Jose",
           "Santa Clara",
           "2013-09-13"
          ],
          [
           "3648 N. LONG BEACH BLVD., LONG BEACH",
           "Long Beach",
           "Los Angeles",
           "2007-08-31"
          ],
          [
           "1630 N MAIN ST, LOS ANGELES",
           "Los Angeles",
           "Los Angeles",
           "2003-04-09"
          ],
          [
           " Center St",
           "Davenport",
           "Santa Cruz",
           "2007-08-16"
          ],
          [
           "LFC #1-LAS FLORES CANYON",
           "Capitan",
           "Santa Barbara",
           "2007-04-29"
          ],
          [
           "1110 BEARDSLEY STREET, SAN DIEGO, CA 92112",
           "San Diego",
           "San Diego",
           "2006-06-03"
          ],
          [
           "1630 N MAIN ST, LOS ANGELES",
           "Los Angeles",
           "Los Angeles",
           "2002-04-02"
          ],
          [
           "2850 MESA VERDE DR EAST, COSTA MESA",
           "Costa Mesa",
           "Orange",
           "2002-12-06"
          ],
          [
           " Center St",
           "Davenport",
           "Santa Cruz",
           "2008-07-10"
          ],
          [
           "380 N FAIRVIEW AVENUE, GOLETA",
           "Goleta",
           "Santa Barbara",
           "2000-07-24"
          ],
          [
           "3727 N FIRST ST, FRESNO",
           "Fresno",
           "Fresno",
           "2014-04-19"
          ],
          [
           "583 W. 10TH ST., PITTSBURG",
           "Pittsburg",
           "Contra Costa",
           "2000-03-11"
          ],
          [
           "1100 PASEO INTERNATIONAL, OTAY MESA, CA",
           "San Diego",
           "San Diego",
           "2005-12-08"
          ],
          [
           "1100 21st Street",
           "Oakland",
           "Alameda",
           "2014-04-14"
          ],
          [
           "STS POWER PLANT, VANDENBERG AFB",
           "Vandenberg Air Force Base",
           "Santa Barbara",
           "2001-06-19"
          ],
          [
           "2956-A TREAT BOULEVARD",
           "Concord",
           "Contra Costa",
           "2007-02-21"
          ],
          [
           "LFC #1-LAS FLORES CANYON",
           "Capitan",
           "Santa Barbara",
           "2003-12-01"
          ],
          [
           "380 N FAIRVIEW AVENUE, GOLETA",
           "Goleta",
           "Santa Barbara",
           "2003-07-14"
          ],
          [
           "228 W. PALM AVE., BURBANK",
           "Burbank",
           "Los Angeles",
           "2000-12-28"
          ],
          [
           "1155 REDWOOD AVE., EL CAJON",
           "El Cajon",
           "San Diego",
           "2012-12-28"
          ],
          [
           "1100 21st Street",
           "Oakland",
           "Alameda",
           "2015-04-15"
          ],
          [
           "2956-A TREAT BOULEVARD",
           "Concord",
           "Contra Costa",
           "2009-08-14"
          ],
          [
           "14306 PARK AVE., VICTORVILLE, CA",
           "Victorville",
           "San Bernardino",
           "2001-12-13"
          ],
          [
           "128 S 'H' ST, LOMPOC",
           "Lompoc",
           "Santa Barbara",
           "2007-10-14"
          ],
          [
           "14306 PARK AVE., VICTORVILLE, CA",
           "Victorville",
           "San Bernardino",
           "2004-04-16"
          ],
          [
           "1029 ETHEL ST, CALEXICO HIGH SCHOOL",
           "Calexico",
           "Imperial",
           "2014-08-21"
          ],
          [
           "380 N FAIRVIEW AVENUE, GOLETA",
           "Goleta",
           "Santa Barbara",
           "2002-01-27"
          ],
          [
           "STS POWER PLANT, VANDENBERG AFB",
           "Vandenberg Air Force Base",
           "Santa Barbara",
           "2010-01-18"
          ],
          [
           "2850 MESA VERDE DR EAST, COSTA MESA",
           "Costa Mesa",
           "Orange",
           "2001-08-03"
          ],
          [
           "LFC #1-LAS FLORES CANYON",
           "Capitan",
           "Santa Barbara",
           "2003-11-05"
          ],
          [
           "1630 N MAIN ST, LOS ANGELES",
           "Los Angeles",
           "Los Angeles",
           "2007-07-12"
          ],
          [
           "304 TUOLUMNE ST.",
           "Vallejo",
           "Solano",
           "2006-01-08"
          ],
          [
           "158B JACKSON ST",
           "San Jose",
           "Santa Clara",
           "2013-04-15"
          ],
          [
           "5234 W. 120TH ST., HAWTHORNE",
           "Hawthorne",
           "Los Angeles",
           "2001-01-29"
          ],
          [
           "1115 N. MAHAR AVENUE WILMINGTON, CA",
           "West Los Angeles",
           "Los Angeles",
           "2002-04-10"
          ],
          [
           "LFC #1-LAS FLORES CANYON",
           "Capitan",
           "Santa Barbara",
           "2009-03-29"
          ],
          [
           "583 W. 10TH ST., PITTSBURG",
           "Pittsburg",
           "Contra Costa",
           "2006-01-16"
          ],
          [
           "1029 ETHEL ST, CALEXICO HIGH SCHOOL",
           "Calexico",
           "Imperial",
           "2002-02-23"
          ],
          [
           "304 TUOLUMNE ST.",
           "Vallejo",
           "Solano",
           "2014-12-14"
          ],
          [
           "304 TUOLUMNE ST.",
           "Vallejo",
           "Solano",
           "2013-03-31"
          ],
          [
           "LFC #1-LAS FLORES CANYON",
           "Capitan",
           "Santa Barbara",
           "2006-09-13"
          ],
          [
           "1029 ETHEL ST, CALEXICO HIGH SCHOOL",
           "Calexico",
           "Imperial",
           "2014-08-06"
          ],
          [
           "80 E. 'J' ST., CHULA VISTA",
           "Chula Vista",
           "San Diego",
           "2006-11-02"
          ],
          [
           "583 W. 10TH ST., PITTSBURG",
           "Pittsburg",
           "Contra Costa",
           "2001-08-11"
          ],
          [
           "STS POWER PLANT, VANDENBERG AFB",
           "Vandenberg Air Force Base",
           "Santa Barbara",
           "2013-05-25"
          ],
          [
           "2850 MESA VERDE DR EAST, COSTA MESA",
           "Costa Mesa",
           "Orange",
           "2008-08-15"
          ],
          [
           "14306 PARK AVE., VICTORVILLE, CA",
           "Victorville",
           "San Bernardino",
           "2009-01-09"
          ],
          [
           "1100 21st Street",
           "Oakland",
           "Alameda",
           "2012-03-23"
          ],
          [
           "128 S 'H' ST, LOMPOC",
           "Lompoc",
           "Santa Barbara",
           "2005-01-29"
          ],
          [
           "717 SOUTH AVENUE",
           "Eureka",
           "Humboldt",
           "2014-04-30"
          ],
          [
           "DEL PASO-2701 AVALON DR, SACRAMENTO",
           "Arden-Arcade",
           "Sacramento",
           "2016-01-27"
          ],
          [
           "1029 ETHEL ST, CALEXICO HIGH SCHOOL",
           "Calexico",
           "Imperial",
           "2008-01-23"
          ],
          [
           "3648 N. LONG BEACH BLVD., LONG BEACH",
           "Long Beach",
           "Los Angeles",
           "2008-03-28"
          ],
          [
           " Center St",
           "Davenport",
           "Santa Cruz",
           "2004-02-14"
          ],
          [
           "128 S 'H' ST, LOMPOC",
           "Lompoc",
           "Santa Barbara",
           "2002-08-18"
          ],
          [
           "2425 Webster St., Long Beach, CA",
           "Long Beach",
           "Los Angeles",
           "2010-06-19"
          ],
          [
           "2956-A TREAT BOULEVARD",
           "Concord",
           "Contra Costa",
           "2010-04-08"
          ],
          [
           "1865 D RUMRILL BLVD, San Pablo",
           "San Pablo",
           "Contra Costa",
           "2004-10-25"
          ],
          [
           "5551 BETHEL ISLAND RD",
           "Bethel Island",
           "Contra Costa",
           "2001-10-13"
          ],
          [
           "DEL PASO-2701 AVALON DR, SACRAMENTO",
           "Arden-Arcade",
           "Sacramento",
           "2008-07-19"
          ],
          [
           "6701 INTERNATIONAL BLVD",
           "Oakland",
           "Alameda",
           "2002-01-29"
          ],
          [
           "14360 ARROW BLVD., FONTANA",
           "Fontana",
           "San Bernardino",
           "2014-08-05"
          ],
          [
           "5888 MISSION BLVD., RUBIDOUX",
           "Rubidoux",
           "Riverside",
           "2008-01-13"
          ],
          [
           "5551 BETHEL ISLAND RD",
           "Bethel Island",
           "Contra Costa",
           "2002-10-27"
          ],
          [
           "1630 N MAIN ST, LOS ANGELES",
           "Los Angeles",
           "Los Angeles",
           "2011-07-11"
          ],
          [
           "1110 BEARDSLEY STREET, SAN DIEGO, CA 92112",
           "San Diego",
           "San Diego",
           "2008-05-27"
          ],
          [
           "2956-A TREAT BOULEVARD",
           "Concord",
           "Contra Costa",
           "2012-11-25"
          ],
          [
           "7201 W. WESTCHESTER PARKWAY",
           "Los Angeles",
           "Los Angeles",
           "2009-03-28"
          ],
          [
           "3648 N. LONG BEACH BLVD., LONG BEACH",
           "Long Beach",
           "Los Angeles",
           "2000-08-22"
          ],
          [
           "1630 N MAIN ST, LOS ANGELES",
           "Los Angeles",
           "Los Angeles",
           "2002-05-30"
          ],
          [
           "LFC #1-LAS FLORES CANYON",
           "Capitan",
           "Santa Barbara",
           "2005-06-30"
          ],
          [
           "1029 ETHEL ST, CALEXICO HIGH SCHOOL",
           "Calexico",
           "Imperial",
           "2000-11-04"
          ],
          [
           "STS POWER PLANT, VANDENBERG AFB",
           "Vandenberg Air Force Base",
           "Santa Barbara",
           "2001-04-20"
          ],
          [
           "304 TUOLUMNE ST.",
           "Vallejo",
           "Solano",
           "2011-12-13"
          ],
          [
           "7201 W. WESTCHESTER PARKWAY",
           "Los Angeles",
           "Los Angeles",
           "2008-10-10"
          ],
          [
           "717 SOUTH AVENUE",
           "Eureka",
           "Humboldt",
           "2016-03-04"
          ],
          [
           "380 N FAIRVIEW AVENUE, GOLETA",
           "Goleta",
           "Santa Barbara",
           "2000-11-24"
          ],
          [
           "5551 BETHEL ISLAND RD",
           "Bethel Island",
           "Contra Costa",
           "2000-07-21"
          ],
          [
           "717 SOUTH AVENUE",
           "Eureka",
           "Humboldt",
           "2013-09-09"
          ],
          [
           "DEL PASO-2701 AVALON DR, SACRAMENTO",
           "Arden-Arcade",
           "Sacramento",
           "2010-08-26"
          ],
          [
           " Center St",
           "Davenport",
           "Santa Cruz",
           "2003-05-19"
          ],
          [
           "158B JACKSON ST",
           "San Jose",
           "Santa Clara",
           "2014-02-10"
          ],
          [
           "80 E. 'J' ST., CHULA VISTA",
           "Chula Vista",
           "San Diego",
           "2000-05-18"
          ],
          [
           "LFC #1-LAS FLORES CANYON",
           "Capitan",
           "Santa Barbara",
           "2007-02-04"
          ],
          [
           "330A 12TH AVE., SAN DIEGO, CA. 92112",
           "San Diego",
           "San Diego",
           "2002-03-06"
          ],
          [
           "UNIT 759 EL PORTAL SHOPPING CENTER, San Pablo",
           "San Pablo",
           "Contra Costa",
           "2001-06-17"
          ],
          [
           "2956-A TREAT BOULEVARD",
           "Concord",
           "Contra Costa",
           "2014-12-14"
          ],
          [
           "1630 N MAIN ST, LOS ANGELES",
           "Los Angeles",
           "Los Angeles",
           "2001-11-20"
          ],
          [
           "STS POWER PLANT, VANDENBERG AFB",
           "Vandenberg Air Force Base",
           "Santa Barbara",
           "2000-01-17"
          ],
          [
           "5551 BETHEL ISLAND RD",
           "Bethel Island",
           "Contra Costa",
           "2008-06-03"
          ],
          [
           "304 TUOLUMNE ST.",
           "Vallejo",
           "Solano",
           "2008-05-01"
          ],
          [
           "2956-A TREAT BOULEVARD",
           "Concord",
           "Contra Costa",
           "2014-10-28"
          ],
          [
           "1630 N MAIN ST, LOS ANGELES",
           "Los Angeles",
           "Los Angeles",
           "2010-02-18"
          ],
          [
           "LFC #1-LAS FLORES CANYON",
           "Capitan",
           "Santa Barbara",
           "2015-01-11"
          ],
          [
           "LFC #1-LAS FLORES CANYON",
           "Capitan",
           "Santa Barbara",
           "2005-09-23"
          ],
          [
           "2850 MESA VERDE DR EAST, COSTA MESA",
           "Costa Mesa",
           "Orange",
           "2004-02-18"
          ],
          [
           "5551 BETHEL ISLAND RD",
           "Bethel Island",
           "Contra Costa",
           "2004-07-27"
          ],
          [
           "100 WHITNEY YOUNG CIRCLE, SAN FRANCISCO",
           "San Francisco",
           "San Francisco",
           "2005-03-24"
          ],
          [
           "3727 N FIRST ST, FRESNO",
           "Fresno",
           "Fresno",
           "2015-05-30"
          ],
          [
           "717 SOUTH AVENUE",
           "Eureka",
           "Humboldt",
           "2011-05-14"
          ],
          [
           "128 S 'H' ST, LOMPOC",
           "Lompoc",
           "Santa Barbara",
           "2005-10-04"
          ],
          [
           "1100 PASEO INTERNATIONAL, OTAY MESA, CA",
           "San Diego",
           "San Diego",
           "2008-09-28"
          ],
          [
           "2956-A TREAT BOULEVARD",
           "Concord",
           "Contra Costa",
           "2012-02-02"
          ],
          [
           "5888 MISSION BLVD., RUBIDOUX",
           "Rubidoux",
           "Riverside",
           "2011-11-11"
          ],
          [
           "1155 REDWOOD AVE., EL CAJON",
           "El Cajon",
           "San Diego",
           "2011-06-14"
          ],
          [
           "1029 ETHEL ST, CALEXICO HIGH SCHOOL",
           "Calexico",
           "Imperial",
           "2000-06-10"
          ],
          [
           "UNIT 759 EL PORTAL SHOPPING CENTER, San Pablo",
           "San Pablo",
           "Contra Costa",
           "2000-11-14"
          ],
          [
           "14360 ARROW BLVD., FONTANA",
           "Fontana",
           "San Bernardino",
           "2014-09-25"
          ],
          [
           "228 W. PALM AVE., BURBANK",
           "Burbank",
           "Los Angeles",
           "2004-12-01"
          ],
          [
           "2956-A TREAT BOULEVARD",
           "Concord",
           "Contra Costa",
           "2010-09-05"
          ],
          [
           "1865 D RUMRILL BLVD, San Pablo",
           "San Pablo",
           "Contra Costa",
           "2003-06-11"
          ],
          [
           "14360 ARROW BLVD., FONTANA",
           "Fontana",
           "San Bernardino",
           "2015-06-20"
          ],
          [
           "2956-A TREAT BOULEVARD",
           "Concord",
           "Contra Costa",
           "2006-04-29"
          ],
          [
           "STS POWER PLANT, VANDENBERG AFB",
           "Vandenberg Air Force Base",
           "Santa Barbara",
           "2000-04-13"
          ],
          [
           "1110 BEARDSLEY STREET, SAN DIEGO, CA 92112",
           "San Diego",
           "San Diego",
           "2008-06-29"
          ],
          [
           "5234 W. 120TH ST., HAWTHORNE",
           "Hawthorne",
           "Los Angeles",
           "2000-04-29"
          ],
          [
           "3648 N. LONG BEACH BLVD., LONG BEACH",
           "Long Beach",
           "Los Angeles",
           "2003-07-24"
          ],
          [
           "1630 N MAIN ST, LOS ANGELES",
           "Los Angeles",
           "Los Angeles",
           "2001-08-14"
          ],
          [
           "LFC #1-LAS FLORES CANYON",
           "Capitan",
           "Santa Barbara",
           "2004-09-10"
          ],
          [
           "STS POWER PLANT, VANDENBERG AFB",
           "Vandenberg Air Force Base",
           "Santa Barbara",
           "2011-02-17"
          ],
          [
           "2850 MESA VERDE DR EAST, COSTA MESA",
           "Costa Mesa",
           "Orange",
           "2001-09-23"
          ],
          [
           "1029 ETHEL ST, CALEXICO HIGH SCHOOL",
           "Calexico",
           "Imperial",
           "2000-06-16"
          ],
          [
           "304 TUOLUMNE ST.",
           "Vallejo",
           "Solano",
           "2006-04-01"
          ],
          [
           "5551 BETHEL ISLAND RD",
           "Bethel Island",
           "Contra Costa",
           "2001-07-13"
          ],
          [
           "717 SOUTH AVENUE",
           "Eureka",
           "Humboldt",
           "2008-06-25"
          ],
          [
           "5234 W. 120TH ST., HAWTHORNE",
           "Hawthorne",
           "Los Angeles",
           "2000-07-04"
          ],
          [
           "5888 MISSION BLVD., RUBIDOUX",
           "Rubidoux",
           "Riverside",
           "2015-10-03"
          ],
          [
           "1630 N MAIN ST, LOS ANGELES",
           "Los Angeles",
           "Los Angeles",
           "2015-01-10"
          ],
          [
           "304 TUOLUMNE ST.",
           "Vallejo",
           "Solano",
           "2006-12-18"
          ],
          [
           "380 N FAIRVIEW AVENUE, GOLETA",
           "Goleta",
           "Santa Barbara",
           "2008-10-08"
          ],
          [
           "LFC #1-LAS FLORES CANYON",
           "Capitan",
           "Santa Barbara",
           "2015-10-21"
          ],
          [
           "STS POWER PLANT, VANDENBERG AFB",
           "Vandenberg Air Force Base",
           "Santa Barbara",
           "2012-11-20"
          ],
          [
           "14306 PARK AVE., VICTORVILLE, CA",
           "Victorville",
           "San Bernardino",
           "2005-04-18"
          ],
          [
           "80 E. 'J' ST., CHULA VISTA",
           "Chula Vista",
           "San Diego",
           "2002-04-17"
          ],
          [
           "7201 W. WESTCHESTER PARKWAY",
           "Los Angeles",
           "Los Angeles",
           "2006-08-02"
          ],
          [
           "717 SOUTH AVENUE",
           "Eureka",
           "Humboldt",
           "2014-11-09"
          ],
          [
           "5888 MISSION BLVD., RUBIDOUX",
           "Rubidoux",
           "Riverside",
           "2010-10-26"
          ],
          [
           "304 TUOLUMNE ST.",
           "Vallejo",
           "Solano",
           "2004-07-16"
          ],
          [
           "128 S 'H' ST, LOMPOC",
           "Lompoc",
           "Santa Barbara",
           "2010-04-04"
          ],
          [
           "2850 MESA VERDE DR EAST, COSTA MESA",
           "Costa Mesa",
           "Orange",
           "2000-02-23"
          ],
          [
           "10537 FLOYD SMITH DRIVE",
           "El Cajon",
           "San Diego",
           "2014-07-27"
          ],
          [
           "5551 BETHEL ISLAND RD",
           "Bethel Island",
           "Contra Costa",
           "2005-01-25"
          ],
          [
           "14306 PARK AVE., VICTORVILLE, CA",
           "Victorville",
           "San Bernardino",
           "2015-12-06"
          ],
          [
           "7201 W. WESTCHESTER PARKWAY",
           "Los Angeles",
           "Los Angeles",
           "2015-12-04"
          ],
          [
           "1630 N MAIN ST, LOS ANGELES",
           "Los Angeles",
           "Los Angeles",
           "2001-01-29"
          ],
          [
           "10537 FLOYD SMITH DRIVE",
           "El Cajon",
           "San Diego",
           "2015-07-09"
          ],
          [
           "2850 MESA VERDE DR EAST, COSTA MESA",
           "Costa Mesa",
           "Orange",
           "2006-02-07"
          ],
          [
           "5551 BETHEL ISLAND RD",
           "Bethel Island",
           "Contra Costa",
           "2010-09-12"
          ],
          [
           "158B JACKSON ST",
           "San Jose",
           "Santa Clara",
           "2010-08-17"
          ],
          [
           "5551 BETHEL ISLAND RD",
           "Bethel Island",
           "Contra Costa",
           "2010-06-06"
          ],
          [
           "2956-A TREAT BOULEVARD",
           "Concord",
           "Contra Costa",
           "2004-01-06"
          ],
          [
           "80 E. 'J' ST., CHULA VISTA",
           "Chula Vista",
           "San Diego",
           "2007-03-08"
          ],
          [
           "1865 D RUMRILL BLVD, San Pablo",
           "San Pablo",
           "Contra Costa",
           "2014-02-24"
          ],
          [
           "5234 W. 120TH ST., HAWTHORNE",
           "Hawthorne",
           "Los Angeles",
           "2001-07-04"
          ],
          [
           "14306 PARK AVE., VICTORVILLE, CA",
           "Victorville",
           "San Bernardino",
           "2006-09-03"
          ],
          [
           " Center St",
           "Davenport",
           "Santa Cruz",
           "2005-12-14"
          ],
          [
           "380 N FAIRVIEW AVENUE, GOLETA",
           "Goleta",
           "Santa Barbara",
           "2006-05-31"
          ],
          [
           "7201 W. WESTCHESTER PARKWAY",
           "Los Angeles",
           "Los Angeles",
           "2009-03-14"
          ],
          [
           "3648 N. LONG BEACH BLVD., LONG BEACH",
           "Long Beach",
           "Los Angeles",
           "2005-10-12"
          ],
          [
           "1110 BEARDSLEY STREET, SAN DIEGO, CA 92112",
           "San Diego",
           "San Diego",
           "2008-04-30"
          ],
          [
           "228 W. PALM AVE., BURBANK",
           "Burbank",
           "Los Angeles",
           "2011-12-12"
          ],
          [
           "1029 ETHEL ST, CALEXICO HIGH SCHOOL",
           "Calexico",
           "Imperial",
           "2009-10-08"
          ],
          [
           "DEL PASO-2701 AVALON DR, SACRAMENTO",
           "Arden-Arcade",
           "Sacramento",
           "2011-06-23"
          ],
          [
           "LFC #1-LAS FLORES CANYON",
           "Capitan",
           "Santa Barbara",
           "2006-06-21"
          ],
          [
           "1100 PASEO INTERNATIONAL, OTAY MESA, CA",
           "San Diego",
           "San Diego",
           "2006-05-06"
          ],
          [
           " Center St",
           "Davenport",
           "Santa Cruz",
           "2002-01-11"
          ],
          [
           "1630 N MAIN ST, LOS ANGELES",
           "Los Angeles",
           "Los Angeles",
           "2008-12-17"
          ],
          [
           "228 W. PALM AVE., BURBANK",
           "Burbank",
           "Los Angeles",
           "2013-05-28"
          ],
          [
           "128 S 'H' ST, LOMPOC",
           "Lompoc",
           "Santa Barbara",
           "2013-03-03"
          ],
          [
           "583 W. 10TH ST., PITTSBURG",
           "Pittsburg",
           "Contra Costa",
           "2002-12-25"
          ],
          [
           "2956-A TREAT BOULEVARD",
           "Concord",
           "Contra Costa",
           "2009-07-15"
          ],
          [
           "5551 BETHEL ISLAND RD",
           "Bethel Island",
           "Contra Costa",
           "2001-03-22"
          ],
          [
           "1630 N MAIN ST, LOS ANGELES",
           "Los Angeles",
           "Los Angeles",
           "2010-09-06"
          ],
          [
           " Center St",
           "Davenport",
           "Santa Cruz",
           "2006-10-10"
          ],
          [
           "128 S 'H' ST, LOMPOC",
           "Lompoc",
           "Santa Barbara",
           "2000-10-25"
          ],
          [
           "STS POWER PLANT, VANDENBERG AFB",
           "Vandenberg Air Force Base",
           "Santa Barbara",
           "2012-09-08"
          ],
          [
           "128 S 'H' ST, LOMPOC",
           "Lompoc",
           "Santa Barbara",
           "2003-04-11"
          ],
          [
           "14360 ARROW BLVD., FONTANA",
           "Fontana",
           "San Bernardino",
           "2012-05-29"
          ],
          [
           "128 S 'H' ST, LOMPOC",
           "Lompoc",
           "Santa Barbara",
           "2013-09-03"
          ],
          [
           "304 TUOLUMNE ST.",
           "Vallejo",
           "Solano",
           "2011-05-29"
          ],
          [
           "1865 D RUMRILL BLVD, San Pablo",
           "San Pablo",
           "Contra Costa",
           "2008-09-04"
          ],
          [
           "1029 ETHEL ST, CALEXICO HIGH SCHOOL",
           "Calexico",
           "Imperial",
           "2006-08-15"
          ],
          [
           "1155 REDWOOD AVE., EL CAJON",
           "El Cajon",
           "San Diego",
           "2012-11-19"
          ],
          [
           "3727 N FIRST ST, FRESNO",
           "Fresno",
           "Fresno",
           "2012-02-19"
          ],
          [
           "2956-A TREAT BOULEVARD",
           "Concord",
           "Contra Costa",
           "2009-02-19"
          ],
          [
           "1865 D RUMRILL BLVD, San Pablo",
           "San Pablo",
           "Contra Costa",
           "2003-06-27"
          ],
          [
           "100 WHITNEY YOUNG CIRCLE, SAN FRANCISCO",
           "San Francisco",
           "San Francisco",
           "2004-08-24"
          ],
          [
           "1630 N MAIN ST, LOS ANGELES",
           "Los Angeles",
           "Los Angeles",
           "2008-07-10"
          ],
          [
           "LFC #1-LAS FLORES CANYON",
           "Capitan",
           "Santa Barbara",
           "2006-04-14"
          ],
          [
           "5551 BETHEL ISLAND RD",
           "Bethel Island",
           "Contra Costa",
           "2008-02-16"
          ],
          [
           "100 WHITNEY YOUNG CIRCLE, SAN FRANCISCO",
           "San Francisco",
           "San Francisco",
           "2004-10-27"
          ],
          [
           "2850 MESA VERDE DR EAST, COSTA MESA",
           "Costa Mesa",
           "Orange",
           "2001-01-21"
          ],
          [
           "5551 BETHEL ISLAND RD",
           "Bethel Island",
           "Contra Costa",
           "2011-11-30"
          ],
          [
           "14306 PARK AVE., VICTORVILLE, CA",
           "Victorville",
           "San Bernardino",
           "2002-07-04"
          ],
          [
           "5551 BETHEL ISLAND RD",
           "Bethel Island",
           "Contra Costa",
           "2011-10-04"
          ],
          [
           "3648 N. LONG BEACH BLVD., LONG BEACH",
           "Long Beach",
           "Los Angeles",
           "2003-02-28"
          ],
          [
           "2850 MESA VERDE DR EAST, COSTA MESA",
           "Costa Mesa",
           "Orange",
           "2006-03-28"
          ],
          [
           "STS POWER PLANT, VANDENBERG AFB",
           "Vandenberg Air Force Base",
           "Santa Barbara",
           "2010-01-16"
          ],
          [
           "14360 ARROW BLVD., FONTANA",
           "Fontana",
           "San Bernardino",
           "2015-05-01"
          ],
          [
           "1029 ETHEL ST, CALEXICO HIGH SCHOOL",
           "Calexico",
           "Imperial",
           "2007-07-25"
          ],
          [
           "DEL PASO-2701 AVALON DR, SACRAMENTO",
           "Arden-Arcade",
           "Sacramento",
           "2014-03-11"
          ],
          [
           "5888 MISSION BLVD., RUBIDOUX",
           "Rubidoux",
           "Riverside",
           "2010-07-21"
          ],
          [
           "14360 ARROW BLVD., FONTANA",
           "Fontana",
           "San Bernardino",
           "2010-11-18"
          ],
          [
           "5888 MISSION BLVD., RUBIDOUX",
           "Rubidoux",
           "Riverside",
           "2009-03-24"
          ],
          [
           "DEL PASO-2701 AVALON DR, SACRAMENTO",
           "Arden-Arcade",
           "Sacramento",
           "2010-03-06"
          ],
          [
           "330A 12TH AVE., SAN DIEGO, CA. 92112",
           "San Diego",
           "San Diego",
           "2002-01-29"
          ],
          [
           "5888 MISSION BLVD., RUBIDOUX",
           "Rubidoux",
           "Riverside",
           "2015-05-03"
          ],
          [
           "3727 N FIRST ST, FRESNO",
           "Fresno",
           "Fresno",
           "2013-09-01"
          ],
          [
           "304 TUOLUMNE ST.",
           "Vallejo",
           "Solano",
           "2002-04-15"
          ],
          [
           "3727 N FIRST ST, FRESNO",
           "Fresno",
           "Fresno",
           "2013-04-28"
          ],
          [
           "7201 W. WESTCHESTER PARKWAY",
           "Los Angeles",
           "Los Angeles",
           "2010-02-20"
          ],
          [
           "DEL PASO-2701 AVALON DR, SACRAMENTO",
           "Arden-Arcade",
           "Sacramento",
           "2007-12-19"
          ],
          [
           "14306 PARK AVE., VICTORVILLE, CA",
           "Victorville",
           "San Bernardino",
           "2014-03-26"
          ],
          [
           "5551 BETHEL ISLAND RD",
           "Bethel Island",
           "Contra Costa",
           "2001-08-16"
          ],
          [
           "128 S 'H' ST, LOMPOC",
           "Lompoc",
           "Santa Barbara",
           "2007-11-10"
          ],
          [
           "1865 D RUMRILL BLVD, San Pablo",
           "San Pablo",
           "Contra Costa",
           "2010-07-24"
          ],
          [
           "STS POWER PLANT, VANDENBERG AFB",
           "Vandenberg Air Force Base",
           "Santa Barbara",
           "2010-05-05"
          ],
          [
           "2956-A TREAT BOULEVARD",
           "Concord",
           "Contra Costa",
           "2002-03-08"
          ],
          [
           "2956-A TREAT BOULEVARD",
           "Concord",
           "Contra Costa",
           "2013-06-01"
          ],
          [
           "6701 INTERNATIONAL BLVD",
           "Oakland",
           "Alameda",
           "2002-01-21"
          ],
          [
           "14306 PARK AVE., VICTORVILLE, CA",
           "Victorville",
           "San Bernardino",
           "2014-12-14"
          ],
          [
           "LFC #1-LAS FLORES CANYON",
           "Capitan",
           "Santa Barbara",
           "2012-07-11"
          ],
          [
           "3727 N FIRST ST, FRESNO",
           "Fresno",
           "Fresno",
           "2012-10-18"
          ],
          [
           "5888 MISSION BLVD., RUBIDOUX",
           "Rubidoux",
           "Riverside",
           "2011-05-06"
          ],
          [
           "3648 N. LONG BEACH BLVD., LONG BEACH",
           "Long Beach",
           "Los Angeles",
           "2008-05-30"
          ],
          [
           "5551 BETHEL ISLAND RD",
           "Bethel Island",
           "Contra Costa",
           "2002-02-01"
          ],
          [
           "5558 California Ave., Bakersfield CA 93309",
           "Bakersfield",
           "Kern",
           "2000-11-12"
          ],
          [
           "158B JACKSON ST",
           "San Jose",
           "Santa Clara",
           "2013-09-25"
          ],
          [
           " Center St",
           "Davenport",
           "Santa Cruz",
           "2007-04-22"
          ],
          [
           "5551 BETHEL ISLAND RD",
           "Bethel Island",
           "Contra Costa",
           "2004-07-01"
          ],
          [
           "2956-A TREAT BOULEVARD",
           "Concord",
           "Contra Costa",
           "2005-09-06"
          ],
          [
           "LFC #1-LAS FLORES CANYON",
           "Capitan",
           "Santa Barbara",
           "2004-01-19"
          ],
          [
           "1865 D RUMRILL BLVD, San Pablo",
           "San Pablo",
           "Contra Costa",
           "2006-02-26"
          ],
          [
           "10 ARKANSAS ST.",
           "San Francisco",
           "San Francisco",
           "2004-11-03"
          ],
          [
           "717 SOUTH AVENUE",
           "Eureka",
           "Humboldt",
           "2008-11-01"
          ],
          [
           "5888 MISSION BLVD., RUBIDOUX",
           "Rubidoux",
           "Riverside",
           "2015-10-04"
          ],
          [
           "1005 W. WELDON AVENUE",
           "Fresno",
           "Fresno",
           "2003-05-31"
          ],
          [
           "3648 N. LONG BEACH BLVD., LONG BEACH",
           "Long Beach",
           "Los Angeles",
           "2009-11-01"
          ],
          [
           "1865 D RUMRILL BLVD, San Pablo",
           "San Pablo",
           "Contra Costa",
           "2012-01-28"
          ],
          [
           "3648 N. LONG BEACH BLVD., LONG BEACH",
           "Long Beach",
           "Los Angeles",
           "2002-05-25"
          ],
          [
           "717 SOUTH AVENUE",
           "Eureka",
           "Humboldt",
           "2012-10-22"
          ],
          [
           "5888 MISSION BLVD., RUBIDOUX",
           "Rubidoux",
           "Riverside",
           "2011-02-16"
          ],
          [
           "LFC #1-LAS FLORES CANYON",
           "Capitan",
           "Santa Barbara",
           "2002-01-31"
          ],
          [
           "1100 PASEO INTERNATIONAL, OTAY MESA, CA",
           "San Diego",
           "San Diego",
           "2000-06-21"
          ],
          [
           "10537 FLOYD SMITH DRIVE",
           "El Cajon",
           "San Diego",
           "2014-11-18"
          ],
          [
           "2956-A TREAT BOULEVARD",
           "Concord",
           "Contra Costa",
           "2016-03-29"
          ],
          [
           "80 E. 'J' ST., CHULA VISTA",
           "Chula Vista",
           "San Diego",
           "2003-02-28"
          ],
          [
           "304 TUOLUMNE ST.",
           "Vallejo",
           "Solano",
           "2000-12-19"
          ],
          [
           "1865 D RUMRILL BLVD, San Pablo",
           "San Pablo",
           "Contra Costa",
           "2013-03-18"
          ],
          [
           "5551 BETHEL ISLAND RD",
           "Bethel Island",
           "Contra Costa",
           "2008-05-09"
          ],
          [
           "STS POWER PLANT, VANDENBERG AFB",
           "Vandenberg Air Force Base",
           "Santa Barbara",
           "2009-06-15"
          ],
          [
           "583 W. 10TH ST., PITTSBURG",
           "Pittsburg",
           "Contra Costa",
           "2005-10-06"
          ],
          [
           "128 S 'H' ST, LOMPOC",
           "Lompoc",
           "Santa Barbara",
           "2009-08-16"
          ],
          [
           "2956-A TREAT BOULEVARD",
           "Concord",
           "Contra Costa",
           "2011-02-20"
          ],
          [
           "10 ARKANSAS ST.",
           "San Francisco",
           "San Francisco",
           "2004-04-08"
          ],
          [
           "5551 BETHEL ISLAND RD",
           "Bethel Island",
           "Contra Costa",
           "2012-09-21"
          ],
          [
           "1630 N MAIN ST, LOS ANGELES",
           "Los Angeles",
           "Los Angeles",
           "2001-03-12"
          ],
          [
           "1865 D RUMRILL BLVD, San Pablo",
           "San Pablo",
           "Contra Costa",
           "2015-02-28"
          ],
          [
           "10 ARKANSAS ST.",
           "San Francisco",
           "San Francisco",
           "2000-04-01"
          ],
          [
           "14360 ARROW BLVD., FONTANA",
           "Fontana",
           "San Bernardino",
           "2015-03-24"
          ],
          [
           "1865 D RUMRILL BLVD, San Pablo",
           "San Pablo",
           "Contra Costa",
           "2012-07-21"
          ],
          [
           "2850 MESA VERDE DR EAST, COSTA MESA",
           "Costa Mesa",
           "Orange",
           "2013-06-17"
          ],
          [
           "5551 BETHEL ISLAND RD",
           "Bethel Island",
           "Contra Costa",
           "2010-11-10"
          ],
          [
           "1029 ETHEL ST, CALEXICO HIGH SCHOOL",
           "Calexico",
           "Imperial",
           "2011-12-17"
          ],
          [
           "158B JACKSON ST",
           "San Jose",
           "Santa Clara",
           "2011-06-21"
          ],
          [
           "10 ARKANSAS ST.",
           "San Francisco",
           "San Francisco",
           "2006-10-09"
          ],
          [
           " Center St",
           "Davenport",
           "Santa Cruz",
           "2007-08-28"
          ],
          [
           "2850 MESA VERDE DR EAST, COSTA MESA",
           "Costa Mesa",
           "Orange",
           "2005-12-18"
          ],
          [
           "5888 MISSION BLVD., RUBIDOUX",
           "Rubidoux",
           "Riverside",
           "2004-09-19"
          ],
          [
           "5551 BETHEL ISLAND RD",
           "Bethel Island",
           "Contra Costa",
           "2009-06-09"
          ],
          [
           "128 S 'H' ST, LOMPOC",
           "Lompoc",
           "Santa Barbara",
           "2013-12-04"
          ],
          [
           "5551 BETHEL ISLAND RD",
           "Bethel Island",
           "Contra Costa",
           "2012-02-29"
          ],
          [
           "STS POWER PLANT, VANDENBERG AFB",
           "Vandenberg Air Force Base",
           "Santa Barbara",
           "2001-07-29"
          ],
          [
           "3648 N. LONG BEACH BLVD., LONG BEACH",
           "Long Beach",
           "Los Angeles",
           "2001-01-12"
          ],
          [
           "1029 ETHEL ST, CALEXICO HIGH SCHOOL",
           "Calexico",
           "Imperial",
           "2000-02-19"
          ],
          [
           "1630 N MAIN ST, LOS ANGELES",
           "Los Angeles",
           "Los Angeles",
           "2007-05-12"
          ],
          [
           "380 N FAIRVIEW AVENUE, GOLETA",
           "Goleta",
           "Santa Barbara",
           "2001-02-13"
          ],
          [
           "158B JACKSON ST",
           "San Jose",
           "Santa Clara",
           "2016-04-20"
          ],
          [
           " Center St",
           "Davenport",
           "Santa Cruz",
           "2005-06-26"
          ],
          [
           "330A 12TH AVE., SAN DIEGO, CA. 92112",
           "San Diego",
           "San Diego",
           "2004-10-12"
          ],
          [
           "128 S 'H' ST, LOMPOC",
           "Lompoc",
           "Santa Barbara",
           "2011-09-07"
          ],
          [
           "304 TUOLUMNE ST.",
           "Vallejo",
           "Solano",
           "2001-11-13"
          ],
          [
           "14306 PARK AVE., VICTORVILLE, CA",
           "Victorville",
           "San Bernardino",
           "2002-07-02"
          ],
          [
           "100 WHITNEY YOUNG CIRCLE, SAN FRANCISCO",
           "San Francisco",
           "San Francisco",
           "2005-05-19"
          ],
          [
           "583 W. 10TH ST., PITTSBURG",
           "Pittsburg",
           "Contra Costa",
           "2008-12-18"
          ],
          [
           "583 W. 10TH ST., PITTSBURG",
           "Pittsburg",
           "Contra Costa",
           "2002-06-15"
          ],
          [
           "583 W. 10TH ST., PITTSBURG",
           "Pittsburg",
           "Contra Costa",
           "2005-11-09"
          ],
          [
           "STS POWER PLANT, VANDENBERG AFB",
           "Vandenberg Air Force Base",
           "Santa Barbara",
           "2015-01-23"
          ],
          [
           "128 S 'H' ST, LOMPOC",
           "Lompoc",
           "Santa Barbara",
           "2015-05-27"
          ],
          [
           "304 TUOLUMNE ST.",
           "Vallejo",
           "Solano",
           "2004-10-17"
          ],
          [
           "LFC #1-LAS FLORES CANYON",
           "Capitan",
           "Santa Barbara",
           "2008-07-11"
          ],
          [
           "3425 N FIRST ST, FRESNO",
           "Fresno",
           "Fresno",
           "2009-09-11"
          ],
          [
           "2956-A TREAT BOULEVARD",
           "Concord",
           "Contra Costa",
           "2004-06-21"
          ],
          [
           "2956-A TREAT BOULEVARD",
           "Concord",
           "Contra Costa",
           "2014-12-13"
          ],
          [
           "3648 N. LONG BEACH BLVD., LONG BEACH",
           "Long Beach",
           "Los Angeles",
           "2013-04-16"
          ],
          [
           "1630 N MAIN ST, LOS ANGELES",
           "Los Angeles",
           "Los Angeles",
           "2005-08-29"
          ],
          [
           "14306 PARK AVE., VICTORVILLE, CA",
           "Victorville",
           "San Bernardino",
           "2002-01-06"
          ],
          [
           "228 W. PALM AVE., BURBANK",
           "Burbank",
           "Los Angeles",
           "2012-01-27"
          ],
          [
           "LFC #1-LAS FLORES CANYON",
           "Capitan",
           "Santa Barbara",
           "2007-02-18"
          ],
          [
           "1110 BEARDSLEY STREET, SAN DIEGO, CA 92112",
           "San Diego",
           "San Diego",
           "2010-12-22"
          ],
          [
           "LFC #1-LAS FLORES CANYON",
           "Capitan",
           "Santa Barbara",
           "2014-05-27"
          ],
          [
           "2956-A TREAT BOULEVARD",
           "Concord",
           "Contra Costa",
           "2001-10-18"
          ],
          [
           "158B JACKSON ST",
           "San Jose",
           "Santa Clara",
           "2011-03-21"
          ],
          [
           "10 ARKANSAS ST.",
           "San Francisco",
           "San Francisco",
           "2005-08-15"
          ],
          [
           "158B JACKSON ST",
           "San Jose",
           "Santa Clara",
           "2013-06-15"
          ],
          [
           "7201 W. WESTCHESTER PARKWAY",
           "Los Angeles",
           "Los Angeles",
           "2007-03-22"
          ],
          [
           "583 W. 10TH ST., PITTSBURG",
           "Pittsburg",
           "Contra Costa",
           "2006-08-23"
          ],
          [
           "5551 BETHEL ISLAND RD",
           "Bethel Island",
           "Contra Costa",
           "2011-11-06"
          ],
          [
           "LFC #1-LAS FLORES CANYON",
           "Capitan",
           "Santa Barbara",
           "2004-09-14"
          ],
          [
           "2850 MESA VERDE DR EAST, COSTA MESA",
           "Costa Mesa",
           "Orange",
           "2001-02-22"
          ],
          [
           "STS POWER PLANT, VANDENBERG AFB",
           "Vandenberg Air Force Base",
           "Santa Barbara",
           "2010-12-10"
          ],
          [
           " Center St",
           "Davenport",
           "Santa Cruz",
           "2009-02-14"
          ],
          [
           "1100 21st Street",
           "Oakland",
           "Alameda",
           "2014-08-31"
          ],
          [
           "1029 ETHEL ST, CALEXICO HIGH SCHOOL",
           "Calexico",
           "Imperial",
           "2008-08-04"
          ],
          [
           "14306 PARK AVE., VICTORVILLE, CA",
           "Victorville",
           "San Bernardino",
           "2005-12-02"
          ],
          [
           "2850 MESA VERDE DR EAST, COSTA MESA",
           "Costa Mesa",
           "Orange",
           "2009-07-25"
          ],
          [
           "STS POWER PLANT, VANDENBERG AFB",
           "Vandenberg Air Force Base",
           "Santa Barbara",
           "2004-05-26"
          ],
          [
           "5888 MISSION BLVD., RUBIDOUX",
           "Rubidoux",
           "Riverside",
           "2014-10-19"
          ],
          [
           "3648 N. LONG BEACH BLVD., LONG BEACH",
           "Long Beach",
           "Los Angeles",
           "2006-11-21"
          ],
          [
           "5888 MISSION BLVD., RUBIDOUX",
           "Rubidoux",
           "Riverside",
           "2014-02-21"
          ],
          [
           "E SECOND ST, BENICIA",
           "Benicia",
           "Solano",
           "2008-02-20"
          ],
          [
           "2850 MESA VERDE DR EAST, COSTA MESA",
           "Costa Mesa",
           "Orange",
           "2005-05-15"
          ],
          [
           "304 TUOLUMNE ST.",
           "Vallejo",
           "Solano",
           "2015-10-14"
          ],
          [
           "E SECOND ST, BENICIA",
           "Benicia",
           "Solano",
           "2008-06-15"
          ],
          [
           "3648 N. LONG BEACH BLVD., LONG BEACH",
           "Long Beach",
           "Los Angeles",
           "2000-06-22"
          ],
          [
           "1100 21st Street",
           "Oakland",
           "Alameda",
           "2015-06-26"
          ],
          [
           "80 E. 'J' ST., CHULA VISTA",
           "Chula Vista",
           "San Diego",
           "2000-06-05"
          ],
          [
           "2850 MESA VERDE DR EAST, COSTA MESA",
           "Costa Mesa",
           "Orange",
           "2000-11-15"
          ],
          [
           "5551 BETHEL ISLAND RD",
           "Bethel Island",
           "Contra Costa",
           "2005-09-08"
          ],
          [
           "5551 BETHEL ISLAND RD",
           "Bethel Island",
           "Contra Costa",
           "2006-11-10"
          ],
          [
           "380 N FAIRVIEW AVENUE, GOLETA",
           "Goleta",
           "Santa Barbara",
           "2000-10-30"
          ],
          [
           "1029 ETHEL ST, CALEXICO HIGH SCHOOL",
           "Calexico",
           "Imperial",
           "2006-11-05"
          ],
          [
           "14360 ARROW BLVD., FONTANA",
           "Fontana",
           "San Bernardino",
           "2009-06-14"
          ],
          [
           "583 W. 10TH ST., PITTSBURG",
           "Pittsburg",
           "Contra Costa",
           "2001-09-23"
          ],
          [
           "1865 D RUMRILL BLVD, San Pablo",
           "San Pablo",
           "Contra Costa",
           "2012-02-19"
          ],
          [
           "LFC #1-LAS FLORES CANYON",
           "Capitan",
           "Santa Barbara",
           "2001-03-02"
          ],
          [
           "2850 MESA VERDE DR EAST, COSTA MESA",
           "Costa Mesa",
           "Orange",
           "2007-09-09"
          ],
          [
           "5551 BETHEL ISLAND RD",
           "Bethel Island",
           "Contra Costa",
           "2000-11-06"
          ],
          [
           "DEL PASO-2701 AVALON DR, SACRAMENTO",
           "Arden-Arcade",
           "Sacramento",
           "2011-12-03"
          ],
          [
           "380 N FAIRVIEW AVENUE, GOLETA",
           "Goleta",
           "Santa Barbara",
           "2005-07-06"
          ],
          [
           "1630 N MAIN ST, LOS ANGELES",
           "Los Angeles",
           "Los Angeles",
           "2013-01-01"
          ],
          [
           "22601 Voss Ave",
           "Cupertino",
           "Santa Clara",
           "2012-06-07"
          ],
          [
           "228 W. PALM AVE., BURBANK",
           "Burbank",
           "Los Angeles",
           "2010-02-15"
          ],
          [
           "3425 N FIRST ST, FRESNO",
           "Fresno",
           "Fresno",
           "2007-09-26"
          ],
          [
           "330A 12TH AVE., SAN DIEGO, CA. 92112",
           "San Diego",
           "San Diego",
           "2000-09-19"
          ],
          [
           "2425 Webster St., Long Beach, CA",
           "Long Beach",
           "Los Angeles",
           "2012-03-31"
          ],
          [
           "5888 MISSION BLVD., RUBIDOUX",
           "Rubidoux",
           "Riverside",
           "2013-04-18"
          ],
          [
           "1865 D RUMRILL BLVD, San Pablo",
           "San Pablo",
           "Contra Costa",
           "2012-10-01"
          ],
          [
           "5551 BETHEL ISLAND RD",
           "Bethel Island",
           "Contra Costa",
           "2007-03-08"
          ],
          [
           "7201 W. WESTCHESTER PARKWAY",
           "Los Angeles",
           "Los Angeles",
           "2010-09-09"
          ],
          [
           "1630 N MAIN ST, LOS ANGELES",
           "Los Angeles",
           "Los Angeles",
           "2004-06-12"
          ],
          [
           "304 TUOLUMNE ST.",
           "Vallejo",
           "Solano",
           "2004-03-30"
          ],
          [
           "14306 PARK AVE., VICTORVILLE, CA",
           "Victorville",
           "San Bernardino",
           "2000-03-13"
          ],
          [
           "717 SOUTH AVENUE",
           "Eureka",
           "Humboldt",
           "2013-09-14"
          ],
          [
           "2956-A TREAT BOULEVARD",
           "Concord",
           "Contra Costa",
           "2007-12-11"
          ],
          [
           "1865 D RUMRILL BLVD, San Pablo",
           "San Pablo",
           "Contra Costa",
           "2015-11-04"
          ],
          [
           "5551 BETHEL ISLAND RD",
           "Bethel Island",
           "Contra Costa",
           "2006-05-13"
          ],
          [
           "E SECOND ST, BENICIA",
           "Benicia",
           "Solano",
           "2007-09-12"
          ],
          [
           "LFC #1-LAS FLORES CANYON",
           "Capitan",
           "Santa Barbara",
           "2009-05-03"
          ],
          [
           "5551 BETHEL ISLAND RD",
           "Bethel Island",
           "Contra Costa",
           "2014-05-27"
          ],
          [
           "2850 MESA VERDE DR EAST, COSTA MESA",
           "Costa Mesa",
           "Orange",
           "2014-10-21"
          ],
          [
           "2956-A TREAT BOULEVARD",
           "Concord",
           "Contra Costa",
           "2015-09-21"
          ],
          [
           "1630 N MAIN ST, LOS ANGELES",
           "Los Angeles",
           "Los Angeles",
           "2011-09-27"
          ],
          [
           "2956-A TREAT BOULEVARD",
           "Concord",
           "Contra Costa",
           "2015-12-14"
          ],
          [
           "5551 BETHEL ISLAND RD",
           "Bethel Island",
           "Contra Costa",
           "2007-09-19"
          ],
          [
           "1630 N MAIN ST, LOS ANGELES",
           "Los Angeles",
           "Los Angeles",
           "2013-05-22"
          ],
          [
           "5888 MISSION BLVD., RUBIDOUX",
           "Rubidoux",
           "Riverside",
           "2014-04-03"
          ],
          [
           "1865 D RUMRILL BLVD, San Pablo",
           "San Pablo",
           "Contra Costa",
           "2003-04-05"
          ],
          [
           "LFC #1-LAS FLORES CANYON",
           "Capitan",
           "Santa Barbara",
           "2004-07-10"
          ],
          [
           "80 E. 'J' ST., CHULA VISTA",
           "Chula Vista",
           "San Diego",
           "2002-06-17"
          ],
          [
           "128 S 'H' ST, LOMPOC",
           "Lompoc",
           "Santa Barbara",
           "2002-02-04"
          ],
          [
           "1630 N MAIN ST, LOS ANGELES",
           "Los Angeles",
           "Los Angeles",
           "2001-09-14"
          ],
          [
           "380 N FAIRVIEW AVENUE, GOLETA",
           "Goleta",
           "Santa Barbara",
           "2003-10-17"
          ],
          [
           "1100 PASEO INTERNATIONAL, OTAY MESA, CA",
           "San Diego",
           "San Diego",
           "2009-01-26"
          ],
          [
           "330A 12TH AVE., SAN DIEGO, CA. 92112",
           "San Diego",
           "San Diego",
           "2004-01-15"
          ],
          [
           "3425 N FIRST ST, FRESNO",
           "Fresno",
           "Fresno",
           "2008-06-21"
          ],
          [
           "LFC #1-LAS FLORES CANYON",
           "Capitan",
           "Santa Barbara",
           "2014-09-27"
          ],
          [
           "304 TUOLUMNE ST.",
           "Vallejo",
           "Solano",
           "2012-03-06"
          ],
          [
           "DEL PASO-2701 AVALON DR, SACRAMENTO",
           "Arden-Arcade",
           "Sacramento",
           "2002-01-30"
          ],
          [
           "1110 BEARDSLEY STREET, SAN DIEGO, CA 92112",
           "San Diego",
           "San Diego",
           "2011-06-08"
          ],
          [
           "3727 N FIRST ST, FRESNO",
           "Fresno",
           "Fresno",
           "2012-12-14"
          ],
          [
           "DEL PASO-2701 AVALON DR, SACRAMENTO",
           "Arden-Arcade",
           "Sacramento",
           "2011-09-08"
          ],
          [
           "2956-A TREAT BOULEVARD",
           "Concord",
           "Contra Costa",
           "2009-05-07"
          ],
          [
           "1865 D RUMRILL BLVD, San Pablo",
           "San Pablo",
           "Contra Costa",
           "2005-07-09"
          ],
          [
           "1630 N MAIN ST, LOS ANGELES",
           "Los Angeles",
           "Los Angeles",
           "2011-02-26"
          ],
          [
           "LFC #1-LAS FLORES CANYON",
           "Capitan",
           "Santa Barbara",
           "2006-10-07"
          ],
          [
           "1630 N MAIN ST, LOS ANGELES",
           "Los Angeles",
           "Los Angeles",
           "2005-08-05"
          ],
          [
           "5551 BETHEL ISLAND RD",
           "Bethel Island",
           "Contra Costa",
           "2003-05-27"
          ],
          [
           "1630 N MAIN ST, LOS ANGELES",
           "Los Angeles",
           "Los Angeles",
           "2013-12-31"
          ],
          [
           "10 ARKANSAS ST.",
           "San Francisco",
           "San Francisco",
           "2004-03-13"
          ],
          [
           "304 TUOLUMNE ST.",
           "Vallejo",
           "Solano",
           "2005-03-27"
          ],
          [
           "380 N FAIRVIEW AVENUE, GOLETA",
           "Goleta",
           "Santa Barbara",
           "2003-06-06"
          ],
          [
           "10 ARKANSAS ST.",
           "San Francisco",
           "San Francisco",
           "2007-09-21"
          ],
          [
           "304 TUOLUMNE ST.",
           "Vallejo",
           "Solano",
           "2003-07-16"
          ],
          [
           "2850 MESA VERDE DR EAST, COSTA MESA",
           "Costa Mesa",
           "Orange",
           "2001-03-11"
          ],
          [
           "3648 N. LONG BEACH BLVD., LONG BEACH",
           "Long Beach",
           "Los Angeles",
           "2002-12-19"
          ],
          [
           "80 E. 'J' ST., CHULA VISTA",
           "Chula Vista",
           "San Diego",
           "2000-09-19"
          ],
          [
           "1630 N MAIN ST, LOS ANGELES",
           "Los Angeles",
           "Los Angeles",
           "2002-10-26"
          ],
          [
           "1100 21st Street",
           "Oakland",
           "Alameda",
           "2011-09-18"
          ],
          [
           "1630 N MAIN ST, LOS ANGELES",
           "Los Angeles",
           "Los Angeles",
           "2010-03-31"
          ],
          [
           "LFC #1-LAS FLORES CANYON",
           "Capitan",
           "Santa Barbara",
           "2010-09-15"
          ],
          [
           "LFC #1-LAS FLORES CANYON",
           "Capitan",
           "Santa Barbara",
           "2002-02-20"
          ],
          [
           "1865 D RUMRILL BLVD, San Pablo",
           "San Pablo",
           "Contra Costa",
           "2010-06-23"
          ],
          [
           "80 E. 'J' ST., CHULA VISTA",
           "Chula Vista",
           "San Diego",
           "2001-10-04"
          ],
          [
           "1865 D RUMRILL BLVD, San Pablo",
           "San Pablo",
           "Contra Costa",
           "2002-09-28"
          ],
          [
           "14306 PARK AVE., VICTORVILLE, CA",
           "Victorville",
           "San Bernardino",
           "2008-12-26"
          ],
          [
           "5888 MISSION BLVD., RUBIDOUX",
           "Rubidoux",
           "Riverside",
           "2011-11-19"
          ],
          [
           "1100 PASEO INTERNATIONAL, OTAY MESA, CA",
           "San Diego",
           "San Diego",
           "2000-12-12"
          ],
          [
           "228 W. PALM AVE., BURBANK",
           "Burbank",
           "Los Angeles",
           "2013-07-04"
          ],
          [
           "3648 N. LONG BEACH BLVD., LONG BEACH",
           "Long Beach",
           "Los Angeles",
           "2004-03-05"
          ],
          [
           "228 W. PALM AVE., BURBANK",
           "Burbank",
           "Los Angeles",
           "2010-01-31"
          ],
          [
           "3648 N. LONG BEACH BLVD., LONG BEACH",
           "Long Beach",
           "Los Angeles",
           "2006-08-03"
          ],
          [
           "5888 MISSION BLVD., RUBIDOUX",
           "Rubidoux",
           "Riverside",
           "2011-11-29"
          ],
          [
           "1029 ETHEL ST, CALEXICO HIGH SCHOOL",
           "Calexico",
           "Imperial",
           "2002-06-29"
          ],
          [
           "228 W. PALM AVE., BURBANK",
           "Burbank",
           "Los Angeles",
           "2000-11-24"
          ],
          [
           "2850 MESA VERDE DR EAST, COSTA MESA",
           "Costa Mesa",
           "Orange",
           "2014-08-14"
          ],
          [
           "380 N FAIRVIEW AVENUE, GOLETA",
           "Goleta",
           "Santa Barbara",
           "2006-11-15"
          ],
          [
           "7201 W. WESTCHESTER PARKWAY",
           "Los Angeles",
           "Los Angeles",
           "2015-11-05"
          ],
          [
           "3727 N FIRST ST, FRESNO",
           "Fresno",
           "Fresno",
           "2015-02-15"
          ],
          [
           " Center St",
           "Davenport",
           "Santa Cruz",
           "2001-03-27"
          ],
          [
           "5234 W. 120TH ST., HAWTHORNE",
           "Hawthorne",
           "Los Angeles",
           "2000-02-24"
          ],
          [
           "304 TUOLUMNE ST.",
           "Vallejo",
           "Solano",
           "2007-05-08"
          ],
          [
           "583 W. 10TH ST., PITTSBURG",
           "Pittsburg",
           "Contra Costa",
           "2003-03-29"
          ],
          [
           "5234 W. 120TH ST., HAWTHORNE",
           "Hawthorne",
           "Los Angeles",
           "2003-04-01"
          ],
          [
           "STS POWER PLANT, VANDENBERG AFB",
           "Vandenberg Air Force Base",
           "Santa Barbara",
           "2007-03-24"
          ],
          [
           "5888 MISSION BLVD., RUBIDOUX",
           "Rubidoux",
           "Riverside",
           "2003-01-15"
          ],
          [
           "228 W. PALM AVE., BURBANK",
           "Burbank",
           "Los Angeles",
           "2014-01-25"
          ],
          [
           "1100 21st Street",
           "Oakland",
           "Alameda",
           "2014-12-24"
          ],
          [
           "583 W. 10TH ST., PITTSBURG",
           "Pittsburg",
           "Contra Costa",
           "2005-10-14"
          ],
          [
           "2425 Webster St., Long Beach, CA",
           "Long Beach",
           "Los Angeles",
           "2012-10-03"
          ],
          [
           "2850 MESA VERDE DR EAST, COSTA MESA",
           "Costa Mesa",
           "Orange",
           "2002-01-18"
          ],
          [
           "LFC #1-LAS FLORES CANYON",
           "Capitan",
           "Santa Barbara",
           "2002-10-19"
          ],
          [
           "128 S 'H' ST, LOMPOC",
           "Lompoc",
           "Santa Barbara",
           "2013-03-07"
          ],
          [
           "2425 Webster St., Long Beach, CA",
           "Long Beach",
           "Los Angeles",
           "2015-11-12"
          ],
          [
           "380 N FAIRVIEW AVENUE, GOLETA",
           "Goleta",
           "Santa Barbara",
           "2004-12-04"
          ],
          [
           "1630 N MAIN ST, LOS ANGELES",
           "Los Angeles",
           "Los Angeles",
           "2012-11-24"
          ],
          [
           "5551 BETHEL ISLAND RD",
           "Bethel Island",
           "Contra Costa",
           "2004-02-20"
          ],
          [
           "6701 INTERNATIONAL BLVD",
           "Oakland",
           "Alameda",
           "2003-01-13"
          ],
          [
           "14306 PARK AVE., VICTORVILLE, CA",
           "Victorville",
           "San Bernardino",
           "2010-02-16"
          ],
          [
           "2956-A TREAT BOULEVARD",
           "Concord",
           "Contra Costa",
           "2001-04-14"
          ],
          [
           "1865 D RUMRILL BLVD, San Pablo",
           "San Pablo",
           "Contra Costa",
           "2006-08-12"
          ],
          [
           "STS POWER PLANT, VANDENBERG AFB",
           "Vandenberg Air Force Base",
           "Santa Barbara",
           "2000-02-18"
          ],
          [
           "1340 Sixth Street",
           "Berkeley",
           "Alameda",
           "2010-09-07"
          ],
          [
           "14360 ARROW BLVD., FONTANA",
           "Fontana",
           "San Bernardino",
           "2013-08-28"
          ],
          [
           "DEL PASO-2701 AVALON DR, SACRAMENTO",
           "Arden-Arcade",
           "Sacramento",
           "2009-06-08"
          ],
          [
           "LFC #1-LAS FLORES CANYON",
           "Capitan",
           "Santa Barbara",
           "2003-10-11"
          ],
          [
           "2956-A TREAT BOULEVARD",
           "Concord",
           "Contra Costa",
           "2000-08-19"
          ],
          [
           "14306 PARK AVE., VICTORVILLE, CA",
           "Victorville",
           "San Bernardino",
           "2016-01-04"
          ],
          [
           " Center St",
           "Davenport",
           "Santa Cruz",
           "2008-12-02"
          ],
          [
           "2425 Webster St., Long Beach, CA",
           "Long Beach",
           "Los Angeles",
           "2010-07-08"
          ],
          [
           "3425 N FIRST ST, FRESNO",
           "Fresno",
           "Fresno",
           "2008-10-27"
          ],
          [
           "158B JACKSON ST",
           "San Jose",
           "Santa Clara",
           "2013-06-01"
          ],
          [
           "158B JACKSON ST",
           "San Jose",
           "Santa Clara",
           "2010-05-16"
          ],
          [
           "STS POWER PLANT, VANDENBERG AFB",
           "Vandenberg Air Force Base",
           "Santa Barbara",
           "2005-12-21"
          ],
          [
           "STS POWER PLANT, VANDENBERG AFB",
           "Vandenberg Air Force Base",
           "Santa Barbara",
           "2005-12-13"
          ],
          [
           "80 E. 'J' ST., CHULA VISTA",
           "Chula Vista",
           "San Diego",
           "2000-06-07"
          ],
          [
           "304 TUOLUMNE ST.",
           "Vallejo",
           "Solano",
           "2009-03-18"
          ],
          [
           "158B JACKSON ST",
           "San Jose",
           "Santa Clara",
           "2011-03-03"
          ],
          [
           "1100 PASEO INTERNATIONAL, OTAY MESA, CA",
           "San Diego",
           "San Diego",
           "2000-02-14"
          ],
          [
           "10 ARKANSAS ST.",
           "San Francisco",
           "San Francisco",
           "2003-11-01"
          ],
          [
           "304 TUOLUMNE ST.",
           "Vallejo",
           "Solano",
           "2009-05-06"
          ],
          [
           "5888 MISSION BLVD., RUBIDOUX",
           "Rubidoux",
           "Riverside",
           "2007-03-27"
          ],
          [
           "1865 D RUMRILL BLVD, San Pablo",
           "San Pablo",
           "Contra Costa",
           "2011-08-06"
          ],
          [
           "7201 W. WESTCHESTER PARKWAY",
           "Los Angeles",
           "Los Angeles",
           "2013-02-25"
          ],
          [
           "DEL PASO-2701 AVALON DR, SACRAMENTO",
           "Arden-Arcade",
           "Sacramento",
           "2002-02-16"
          ],
          [
           "1029 ETHEL ST, CALEXICO HIGH SCHOOL",
           "Calexico",
           "Imperial",
           "2003-11-08"
          ],
          [
           "1630 N MAIN ST, LOS ANGELES",
           "Los Angeles",
           "Los Angeles",
           "2013-09-02"
          ],
          [
           "5888 MISSION BLVD., RUBIDOUX",
           "Rubidoux",
           "Riverside",
           "2006-05-27"
          ],
          [
           "2850 MESA VERDE DR EAST, COSTA MESA",
           "Costa Mesa",
           "Orange",
           "2014-08-30"
          ],
          [
           "304 TUOLUMNE ST.",
           "Vallejo",
           "Solano",
           "2003-03-17"
          ],
          [
           "1630 N MAIN ST, LOS ANGELES",
           "Los Angeles",
           "Los Angeles",
           "2010-01-05"
          ],
          [
           "3727 N FIRST ST, FRESNO",
           "Fresno",
           "Fresno",
           "2015-07-10"
          ],
          [
           "1865 D RUMRILL BLVD, San Pablo",
           "San Pablo",
           "Contra Costa",
           "2012-02-02"
          ],
          [
           "1865 D RUMRILL BLVD, San Pablo",
           "San Pablo",
           "Contra Costa",
           "2006-09-23"
          ],
          [
           "304 TUOLUMNE ST.",
           "Vallejo",
           "Solano",
           "2006-02-24"
          ],
          [
           "2956-A TREAT BOULEVARD",
           "Concord",
           "Contra Costa",
           "2002-08-14"
          ],
          [
           "5888 MISSION BLVD., RUBIDOUX",
           "Rubidoux",
           "Riverside",
           "2011-12-05"
          ],
          [
           "3648 N. LONG BEACH BLVD., LONG BEACH",
           "Long Beach",
           "Los Angeles",
           "2004-10-11"
          ],
          [
           "STS POWER PLANT, VANDENBERG AFB",
           "Vandenberg Air Force Base",
           "Santa Barbara",
           "2014-09-20"
          ],
          [
           "STS POWER PLANT, VANDENBERG AFB",
           "Vandenberg Air Force Base",
           "Santa Barbara",
           "2002-05-13"
          ],
          [
           "158B JACKSON ST",
           "San Jose",
           "Santa Clara",
           "2011-08-16"
          ],
          [
           "1630 N MAIN ST, LOS ANGELES",
           "Los Angeles",
           "Los Angeles",
           "2013-11-15"
          ],
          [
           "7201 W. WESTCHESTER PARKWAY",
           "Los Angeles",
           "Los Angeles",
           "2007-08-23"
          ],
          [
           "228 W. PALM AVE., BURBANK",
           "Burbank",
           "Los Angeles",
           "2001-09-27"
          ],
          [
           "5888 MISSION BLVD., RUBIDOUX",
           "Rubidoux",
           "Riverside",
           "2010-06-10"
          ],
          [
           " Center St",
           "Davenport",
           "Santa Cruz",
           "2005-08-01"
          ],
          [
           "2425 Webster St., Long Beach, CA",
           "Long Beach",
           "Los Angeles",
           "2015-08-19"
          ],
          [
           "228 W. PALM AVE., BURBANK",
           "Burbank",
           "Los Angeles",
           "2003-10-26"
          ],
          [
           "717 SOUTH AVENUE",
           "Eureka",
           "Humboldt",
           "2010-06-15"
          ],
          [
           "2956-A TREAT BOULEVARD",
           "Concord",
           "Contra Costa",
           "2009-07-18"
          ],
          [
           "1630 N MAIN ST, LOS ANGELES",
           "Los Angeles",
           "Los Angeles",
           "2014-08-17"
          ],
          [
           "2850 MESA VERDE DR EAST, COSTA MESA",
           "Costa Mesa",
           "Orange",
           "2002-02-06"
          ],
          [
           " Center St",
           "Davenport",
           "Santa Cruz",
           "2000-02-02"
          ],
          [
           "14306 PARK AVE., VICTORVILLE, CA",
           "Victorville",
           "San Bernardino",
           "2013-03-07"
          ],
          [
           "228 W. PALM AVE., BURBANK",
           "Burbank",
           "Los Angeles",
           "2006-07-07"
          ],
          [
           "380 N FAIRVIEW AVENUE, GOLETA",
           "Goleta",
           "Santa Barbara",
           "2007-03-24"
          ],
          [
           "1630 N MAIN ST, LOS ANGELES",
           "Los Angeles",
           "Los Angeles",
           "2011-12-23"
          ],
          [
           "1340 Sixth Street",
           "Berkeley",
           "Alameda",
           "2007-12-21"
          ],
          [
           "2850 MESA VERDE DR EAST, COSTA MESA",
           "Costa Mesa",
           "Orange",
           "2003-02-11"
          ],
          [
           "1100 PASEO INTERNATIONAL, OTAY MESA, CA",
           "San Diego",
           "San Diego",
           "2003-12-09"
          ],
          [
           "5551 BETHEL ISLAND RD",
           "Bethel Island",
           "Contra Costa",
           "2005-01-09"
          ],
          [
           "DEL PASO-2701 AVALON DR, SACRAMENTO",
           "Arden-Arcade",
           "Sacramento",
           "2010-03-05"
          ],
          [
           "LFC #1-LAS FLORES CANYON",
           "Capitan",
           "Santa Barbara",
           "2002-06-27"
          ],
          [
           "1100 21st Street",
           "Oakland",
           "Alameda",
           "2012-10-10"
          ],
          [
           "100 WHITNEY YOUNG CIRCLE, SAN FRANCISCO",
           "San Francisco",
           "San Francisco",
           "2005-04-24"
          ],
          [
           "3648 N. LONG BEACH BLVD., LONG BEACH",
           "Long Beach",
           "Los Angeles",
           "2001-03-16"
          ],
          [
           "1029 ETHEL ST, CALEXICO HIGH SCHOOL",
           "Calexico",
           "Imperial",
           "2006-09-25"
          ],
          [
           "1630 N MAIN ST, LOS ANGELES",
           "Los Angeles",
           "Los Angeles",
           "2003-02-06"
          ],
          [
           "717 SOUTH AVENUE",
           "Eureka",
           "Humboldt",
           "2008-08-15"
          ],
          [
           " Center St",
           "Davenport",
           "Santa Cruz",
           "2004-11-17"
          ],
          [
           "5888 MISSION BLVD., RUBIDOUX",
           "Rubidoux",
           "Riverside",
           "2006-03-09"
          ],
          [
           "228 W. PALM AVE., BURBANK",
           "Burbank",
           "Los Angeles",
           "2004-07-21"
          ],
          [
           "3425 N FIRST ST, FRESNO",
           "Fresno",
           "Fresno",
           "2011-05-24"
          ],
          [
           "UNIT 759 EL PORTAL SHOPPING CENTER, San Pablo",
           "San Pablo",
           "Contra Costa",
           "2002-03-29"
          ],
          [
           "1630 N MAIN ST, LOS ANGELES",
           "Los Angeles",
           "Los Angeles",
           "2005-01-01"
          ],
          [
           " Center St",
           "Davenport",
           "Santa Cruz",
           "2007-10-31"
          ],
          [
           "128 S 'H' ST, LOMPOC",
           "Lompoc",
           "Santa Barbara",
           "2011-03-25"
          ],
          [
           "STS POWER PLANT, VANDENBERG AFB",
           "Vandenberg Air Force Base",
           "Santa Barbara",
           "2005-10-25"
          ],
          [
           "5551 BETHEL ISLAND RD",
           "Bethel Island",
           "Contra Costa",
           "2010-07-27"
          ],
          [
           "304 TUOLUMNE ST.",
           "Vallejo",
           "Solano",
           "2014-01-09"
          ],
          [
           "DEL PASO-2701 AVALON DR, SACRAMENTO",
           "Arden-Arcade",
           "Sacramento",
           "2001-11-06"
          ],
          [
           "1100 PASEO INTERNATIONAL, OTAY MESA, CA",
           "San Diego",
           "San Diego",
           "2006-06-15"
          ],
          [
           "3425 N FIRST ST, FRESNO",
           "Fresno",
           "Fresno",
           "2009-05-28"
          ],
          [
           "5551 BETHEL ISLAND RD",
           "Bethel Island",
           "Contra Costa",
           "2005-09-02"
          ],
          [
           "304 TUOLUMNE ST.",
           "Vallejo",
           "Solano",
           "2004-03-12"
          ],
          [
           "304 TUOLUMNE ST.",
           "Vallejo",
           "Solano",
           "2010-06-14"
          ],
          [
           "717 SOUTH AVENUE",
           "Eureka",
           "Humboldt",
           "2010-04-24"
          ],
          [
           "100 WHITNEY YOUNG CIRCLE, SAN FRANCISCO",
           "San Francisco",
           "San Francisco",
           "2004-12-06"
          ],
          [
           "1100 PASEO INTERNATIONAL, OTAY MESA, CA",
           "San Diego",
           "San Diego",
           "2001-10-31"
          ],
          [
           "2850 MESA VERDE DR EAST, COSTA MESA",
           "Costa Mesa",
           "Orange",
           "2007-03-16"
          ],
          [
           "14306 PARK AVE., VICTORVILLE, CA",
           "Victorville",
           "San Bernardino",
           "2001-04-12"
          ],
          [
           "583 W. 10TH ST., PITTSBURG",
           "Pittsburg",
           "Contra Costa",
           "2003-09-25"
          ],
          [
           "LFC #1-LAS FLORES CANYON",
           "Capitan",
           "Santa Barbara",
           "2000-05-26"
          ],
          [
           "5551 BETHEL ISLAND RD",
           "Bethel Island",
           "Contra Costa",
           "2015-05-16"
          ],
          [
           "2956-A TREAT BOULEVARD",
           "Concord",
           "Contra Costa",
           "2004-06-04"
          ],
          [
           "DEL PASO-2701 AVALON DR, SACRAMENTO",
           "Arden-Arcade",
           "Sacramento",
           "2007-06-12"
          ],
          [
           "5551 BETHEL ISLAND RD",
           "Bethel Island",
           "Contra Costa",
           "2006-12-09"
          ],
          [
           "10537 FLOYD SMITH DRIVE",
           "El Cajon",
           "San Diego",
           "2015-04-08"
          ],
          [
           "228 W. PALM AVE., BURBANK",
           "Burbank",
           "Los Angeles",
           "2000-07-16"
          ],
          [
           "1630 N MAIN ST, LOS ANGELES",
           "Los Angeles",
           "Los Angeles",
           "2003-06-21"
          ],
          [
           "2956-A TREAT BOULEVARD",
           "Concord",
           "Contra Costa",
           "2005-01-22"
          ],
          [
           "380 N FAIRVIEW AVENUE, GOLETA",
           "Goleta",
           "Santa Barbara",
           "2003-08-03"
          ],
          [
           "LFC #1-LAS FLORES CANYON",
           "Capitan",
           "Santa Barbara",
           "2001-11-08"
          ],
          [
           "LFC #1-LAS FLORES CANYON",
           "Capitan",
           "Santa Barbara",
           "2011-01-09"
          ],
          [
           "3648 N. LONG BEACH BLVD., LONG BEACH",
           "Long Beach",
           "Los Angeles",
           "2010-10-17"
          ],
          [
           "E SECOND ST, BENICIA",
           "Benicia",
           "Solano",
           "2008-11-30"
          ],
          [
           "228 W. PALM AVE., BURBANK",
           "Burbank",
           "Los Angeles",
           "2001-01-14"
          ],
          [
           "2850 MESA VERDE DR EAST, COSTA MESA",
           "Costa Mesa",
           "Orange",
           "2007-01-08"
          ],
          [
           "228 W. PALM AVE., BURBANK",
           "Burbank",
           "Los Angeles",
           "2011-10-30"
          ],
          [
           "10 ARKANSAS ST.",
           "San Francisco",
           "San Francisco",
           "2000-11-30"
          ],
          [
           "80 E. 'J' ST., CHULA VISTA",
           "Chula Vista",
           "San Diego",
           "2009-12-13"
          ],
          [
           "1029 ETHEL ST, CALEXICO HIGH SCHOOL",
           "Calexico",
           "Imperial",
           "2012-12-04"
          ],
          [
           "10 ARKANSAS ST.",
           "San Francisco",
           "San Francisco",
           "2002-11-25"
          ],
          [
           "380 N FAIRVIEW AVENUE, GOLETA",
           "Goleta",
           "Santa Barbara",
           "2003-06-23"
          ],
          [
           "3425 N FIRST ST, FRESNO",
           "Fresno",
           "Fresno",
           "2008-05-13"
          ],
          [
           "STS POWER PLANT, VANDENBERG AFB",
           "Vandenberg Air Force Base",
           "Santa Barbara",
           "2003-11-30"
          ],
          [
           "2956-A TREAT BOULEVARD",
           "Concord",
           "Contra Costa",
           "2009-11-20"
          ],
          [
           "304 TUOLUMNE ST.",
           "Vallejo",
           "Solano",
           "2005-08-02"
          ],
          [
           "1100 PASEO INTERNATIONAL, OTAY MESA, CA",
           "San Diego",
           "San Diego",
           "2010-01-27"
          ],
          [
           "330A 12TH AVE., SAN DIEGO, CA. 92112",
           "San Diego",
           "San Diego",
           "2003-10-24"
          ],
          [
           "3648 N. LONG BEACH BLVD., LONG BEACH",
           "Long Beach",
           "Los Angeles",
           "2003-01-26"
          ],
          [
           "651 S. MOTT STREET (SB 25 TRAILER)",
           "Los Angeles",
           "Los Angeles",
           "2001-09-28"
          ],
          [
           "10 ARKANSAS ST.",
           "San Francisco",
           "San Francisco",
           "2002-04-17"
          ],
          [
           "2850 MESA VERDE DR EAST, COSTA MESA",
           "Costa Mesa",
           "Orange",
           "2010-05-17"
          ],
          [
           "228 W. PALM AVE., BURBANK",
           "Burbank",
           "Los Angeles",
           "2001-11-16"
          ],
          [
           "1630 N MAIN ST, LOS ANGELES",
           "Los Angeles",
           "Los Angeles",
           "2012-12-23"
          ],
          [
           "2850 MESA VERDE DR EAST, COSTA MESA",
           "Costa Mesa",
           "Orange",
           "2009-05-19"
          ],
          [
           "2956-A TREAT BOULEVARD",
           "Concord",
           "Contra Costa",
           "2000-08-08"
          ],
          [
           "14360 ARROW BLVD., FONTANA",
           "Fontana",
           "San Bernardino",
           "2011-02-13"
          ],
          [
           "2956-A TREAT BOULEVARD",
           "Concord",
           "Contra Costa",
           "2013-12-18"
          ],
          [
           "1110 BEARDSLEY STREET, SAN DIEGO, CA 92112",
           "San Diego",
           "San Diego",
           "2008-08-08"
          ],
          [
           "2425 Webster St., Long Beach, CA",
           "Long Beach",
           "Los Angeles",
           "2013-05-17"
          ],
          [
           "228 W. PALM AVE., BURBANK",
           "Burbank",
           "Los Angeles",
           "2000-10-13"
          ],
          [
           "14360 ARROW BLVD., FONTANA",
           "Fontana",
           "San Bernardino",
           "2010-03-05"
          ],
          [
           "158B JACKSON ST",
           "San Jose",
           "Santa Clara",
           "2012-06-25"
          ],
          [
           "1630 N MAIN ST, LOS ANGELES",
           "Los Angeles",
           "Los Angeles",
           "2001-12-18"
          ],
          [
           "14306 PARK AVE., VICTORVILLE, CA",
           "Victorville",
           "San Bernardino",
           "2010-09-12"
          ],
          [
           "STS POWER PLANT, VANDENBERG AFB",
           "Vandenberg Air Force Base",
           "Santa Barbara",
           "2014-07-04"
          ],
          [
           "1865 D RUMRILL BLVD, San Pablo",
           "San Pablo",
           "Contra Costa",
           "2004-06-02"
          ],
          [
           "LFC #1-LAS FLORES CANYON",
           "Capitan",
           "Santa Barbara",
           "2012-07-30"
          ],
          [
           "2956-A TREAT BOULEVARD",
           "Concord",
           "Contra Costa",
           "2002-09-21"
          ],
          [
           "228 W. PALM AVE., BURBANK",
           "Burbank",
           "Los Angeles",
           "2001-10-12"
          ],
          [
           "583 W. 10TH ST., PITTSBURG",
           "Pittsburg",
           "Contra Costa",
           "2000-05-16"
          ],
          [
           "2956-A TREAT BOULEVARD",
           "Concord",
           "Contra Costa",
           "2010-05-03"
          ],
          [
           " Center St",
           "Davenport",
           "Santa Cruz",
           "2006-04-22"
          ],
          [
           "LFC #1-LAS FLORES CANYON",
           "Capitan",
           "Santa Barbara",
           "2003-01-15"
          ],
          [
           "14306 PARK AVE., VICTORVILLE, CA",
           "Victorville",
           "San Bernardino",
           "2013-11-16"
          ],
          [
           "128 S 'H' ST, LOMPOC",
           "Lompoc",
           "Santa Barbara",
           "2006-08-14"
          ],
          [
           "5888 MISSION BLVD., RUBIDOUX",
           "Rubidoux",
           "Riverside",
           "2013-11-08"
          ],
          [
           "380 N FAIRVIEW AVENUE, GOLETA",
           "Goleta",
           "Santa Barbara",
           "2003-12-18"
          ],
          [
           "10 ARKANSAS ST.",
           "San Francisco",
           "San Francisco",
           "2002-01-08"
          ],
          [
           "2956-A TREAT BOULEVARD",
           "Concord",
           "Contra Costa",
           "2010-03-31"
          ],
          [
           "717 SOUTH AVENUE",
           "Eureka",
           "Humboldt",
           "2011-04-11"
          ],
          [
           "1630 N MAIN ST, LOS ANGELES",
           "Los Angeles",
           "Los Angeles",
           "2008-07-02"
          ],
          [
           "STS POWER PLANT, VANDENBERG AFB",
           "Vandenberg Air Force Base",
           "Santa Barbara",
           "2010-08-15"
          ],
          [
           "128 S 'H' ST, LOMPOC",
           "Lompoc",
           "Santa Barbara",
           "2001-04-06"
          ],
          [
           "7201 W. WESTCHESTER PARKWAY",
           "Los Angeles",
           "Los Angeles",
           "2009-05-30"
          ],
          [
           "128 S 'H' ST, LOMPOC",
           "Lompoc",
           "Santa Barbara",
           "2008-01-02"
          ],
          [
           "7201 W. WESTCHESTER PARKWAY",
           "Los Angeles",
           "Los Angeles",
           "2008-06-07"
          ],
          [
           "2956-A TREAT BOULEVARD",
           "Concord",
           "Contra Costa",
           "2015-04-08"
          ],
          [
           "1630 N MAIN ST, LOS ANGELES",
           "Los Angeles",
           "Los Angeles",
           "2015-03-05"
          ],
          [
           "DEL PASO-2701 AVALON DR, SACRAMENTO",
           "Arden-Arcade",
           "Sacramento",
           "2009-10-06"
          ],
          [
           "128 S 'H' ST, LOMPOC",
           "Lompoc",
           "Santa Barbara",
           "2015-02-04"
          ],
          [
           "1630 N MAIN ST, LOS ANGELES",
           "Los Angeles",
           "Los Angeles",
           "2010-09-13"
          ],
          [
           "1100 21st Street",
           "Oakland",
           "Alameda",
           "2013-08-26"
          ],
          [
           "5888 MISSION BLVD., RUBIDOUX",
           "Rubidoux",
           "Riverside",
           "2008-12-10"
          ],
          [
           "1100 PASEO INTERNATIONAL, OTAY MESA, CA",
           "San Diego",
           "San Diego",
           "2007-05-17"
          ],
          [
           "2425 Webster St., Long Beach, CA",
           "Long Beach",
           "Los Angeles",
           "2010-03-08"
          ],
          [
           "304 TUOLUMNE ST.",
           "Vallejo",
           "Solano",
           "2011-10-24"
          ],
          [
           "128 S 'H' ST, LOMPOC",
           "Lompoc",
           "Santa Barbara",
           "2015-03-17"
          ],
          [
           "228 W. PALM AVE., BURBANK",
           "Burbank",
           "Los Angeles",
           "2012-05-06"
          ],
          [
           "LFC #1-LAS FLORES CANYON",
           "Capitan",
           "Santa Barbara",
           "2008-11-03"
          ],
          [
           "7201 W. WESTCHESTER PARKWAY",
           "Los Angeles",
           "Los Angeles",
           "2011-01-04"
          ],
          [
           "14306 PARK AVE., VICTORVILLE, CA",
           "Victorville",
           "San Bernardino",
           "2000-06-06"
          ],
          [
           "158B JACKSON ST",
           "San Jose",
           "Santa Clara",
           "2011-12-15"
          ],
          [
           "1630 N MAIN ST, LOS ANGELES",
           "Los Angeles",
           "Los Angeles",
           "2012-09-05"
          ],
          [
           "1630 N MAIN ST, LOS ANGELES",
           "Los Angeles",
           "Los Angeles",
           "2001-10-09"
          ],
          [
           "583 W. 10TH ST., PITTSBURG",
           "Pittsburg",
           "Contra Costa",
           "2008-05-27"
          ],
          [
           "5888 MISSION BLVD., RUBIDOUX",
           "Rubidoux",
           "Riverside",
           "2013-10-06"
          ],
          [
           "228 W. PALM AVE., BURBANK",
           "Burbank",
           "Los Angeles",
           "2001-03-26"
          ],
          [
           "304 TUOLUMNE ST.",
           "Vallejo",
           "Solano",
           "2014-06-17"
          ],
          [
           "7201 W. WESTCHESTER PARKWAY",
           "Los Angeles",
           "Los Angeles",
           "2004-09-11"
          ],
          [
           "1865 D RUMRILL BLVD, San Pablo",
           "San Pablo",
           "Contra Costa",
           "2015-06-15"
          ],
          [
           "128 S 'H' ST, LOMPOC",
           "Lompoc",
           "Santa Barbara",
           "2010-07-08"
          ],
          [
           "1029 ETHEL ST, CALEXICO HIGH SCHOOL",
           "Calexico",
           "Imperial",
           "2011-07-08"
          ],
          [
           "5888 MISSION BLVD., RUBIDOUX",
           "Rubidoux",
           "Riverside",
           "2011-12-12"
          ],
          [
           "583 W. 10TH ST., PITTSBURG",
           "Pittsburg",
           "Contra Costa",
           "2006-05-14"
          ],
          [
           "14306 PARK AVE., VICTORVILLE, CA",
           "Victorville",
           "San Bernardino",
           "2003-11-07"
          ],
          [
           "7201 W. WESTCHESTER PARKWAY",
           "Los Angeles",
           "Los Angeles",
           "2009-09-06"
          ],
          [
           "STS POWER PLANT, VANDENBERG AFB",
           "Vandenberg Air Force Base",
           "Santa Barbara",
           "2010-12-12"
          ],
          [
           "1865 D RUMRILL BLVD, San Pablo",
           "San Pablo",
           "Contra Costa",
           "2007-08-08"
          ],
          [
           " Center St",
           "Davenport",
           "Santa Cruz",
           "2003-05-17"
          ],
          [
           "5888 MISSION BLVD., RUBIDOUX",
           "Rubidoux",
           "Riverside",
           "2000-06-08"
          ],
          [
           "1098 POMONA STREET",
           "Crockett",
           "Contra Costa",
           "2002-03-19"
          ],
          [
           "330A 12TH AVE., SAN DIEGO, CA. 92112",
           "San Diego",
           "San Diego",
           "2004-09-24"
          ],
          [
           "128 S 'H' ST, LOMPOC",
           "Lompoc",
           "Santa Barbara",
           "2003-11-12"
          ],
          [
           "14360 ARROW BLVD., FONTANA",
           "Fontana",
           "San Bernardino",
           "2013-02-01"
          ],
          [
           "380 N FAIRVIEW AVENUE, GOLETA",
           "Goleta",
           "Santa Barbara",
           "2000-10-21"
          ],
          [
           "380 N FAIRVIEW AVENUE, GOLETA",
           "Goleta",
           "Santa Barbara",
           "2002-09-07"
          ],
          [
           "5888 MISSION BLVD., RUBIDOUX",
           "Rubidoux",
           "Riverside",
           "2004-11-05"
          ],
          [
           "DEL PASO-2701 AVALON DR, SACRAMENTO",
           "Arden-Arcade",
           "Sacramento",
           "2004-09-23"
          ],
          [
           "3727 N FIRST ST, FRESNO",
           "Fresno",
           "Fresno",
           "2013-03-05"
          ],
          [
           "228 W. PALM AVE., BURBANK",
           "Burbank",
           "Los Angeles",
           "2009-06-22"
          ],
          [
           "228 W. PALM AVE., BURBANK",
           "Burbank",
           "Los Angeles",
           "2012-04-26"
          ],
          [
           "1029 ETHEL ST, CALEXICO HIGH SCHOOL",
           "Calexico",
           "Imperial",
           "2005-11-03"
          ],
          [
           "2850 MESA VERDE DR EAST, COSTA MESA",
           "Costa Mesa",
           "Orange",
           "2008-12-10"
          ],
          [
           "2956-A TREAT BOULEVARD",
           "Concord",
           "Contra Costa",
           "2004-07-09"
          ],
          [
           "228 W. PALM AVE., BURBANK",
           "Burbank",
           "Los Angeles",
           "2009-09-02"
          ],
          [
           "2425 Webster St., Long Beach, CA",
           "Long Beach",
           "Los Angeles",
           "2015-12-19"
          ],
          [
           "304 TUOLUMNE ST.",
           "Vallejo",
           "Solano",
           "2009-01-30"
          ],
          [
           "380 N FAIRVIEW AVENUE, GOLETA",
           "Goleta",
           "Santa Barbara",
           "2007-05-11"
          ],
          [
           "1865 D RUMRILL BLVD, San Pablo",
           "San Pablo",
           "Contra Costa",
           "2014-07-30"
          ],
          [
           "14306 PARK AVE., VICTORVILLE, CA",
           "Victorville",
           "San Bernardino",
           "2003-08-09"
          ],
          [
           "5551 BETHEL ISLAND RD",
           "Bethel Island",
           "Contra Costa",
           "2002-03-02"
          ],
          [
           "DEL PASO-2701 AVALON DR, SACRAMENTO",
           "Arden-Arcade",
           "Sacramento",
           "2014-03-20"
          ],
          [
           "DEL PASO-2701 AVALON DR, SACRAMENTO",
           "Arden-Arcade",
           "Sacramento",
           "2001-01-27"
          ],
          [
           "STS POWER PLANT, VANDENBERG AFB",
           "Vandenberg Air Force Base",
           "Santa Barbara",
           "2011-09-04"
          ],
          [
           "LFC #1-LAS FLORES CANYON",
           "Capitan",
           "Santa Barbara",
           "2001-04-25"
          ],
          [
           "228 W. PALM AVE., BURBANK",
           "Burbank",
           "Los Angeles",
           "2001-07-28"
          ],
          [
           "228 W. PALM AVE., BURBANK",
           "Burbank",
           "Los Angeles",
           "2009-04-06"
          ],
          [
           "STS POWER PLANT, VANDENBERG AFB",
           "Vandenberg Air Force Base",
           "Santa Barbara",
           "2009-10-13"
          ],
          [
           "3727 N FIRST ST, FRESNO",
           "Fresno",
           "Fresno",
           "2015-01-02"
          ],
          [
           "2956-A TREAT BOULEVARD",
           "Concord",
           "Contra Costa",
           "2011-10-18"
          ],
          [
           "10 ARKANSAS ST.",
           "San Francisco",
           "San Francisco",
           "2003-11-14"
          ],
          [
           "1630 N MAIN ST, LOS ANGELES",
           "Los Angeles",
           "Los Angeles",
           "2014-09-27"
          ],
          [
           "1100 21st Street",
           "Oakland",
           "Alameda",
           "2013-10-02"
          ],
          [
           " Center St",
           "Davenport",
           "Santa Cruz",
           "2001-08-24"
          ],
          [
           "10 ARKANSAS ST.",
           "San Francisco",
           "San Francisco",
           "2001-05-19"
          ],
          [
           "583 W. 10TH ST., PITTSBURG",
           "Pittsburg",
           "Contra Costa",
           "2004-10-29"
          ],
          [
           "LFC #1-LAS FLORES CANYON",
           "Capitan",
           "Santa Barbara",
           "2003-04-22"
          ],
          [
           "80 E. 'J' ST., CHULA VISTA",
           "Chula Vista",
           "San Diego",
           "2007-03-14"
          ],
          [
           "1029 ETHEL ST, CALEXICO HIGH SCHOOL",
           "Calexico",
           "Imperial",
           "2005-12-25"
          ],
          [
           "DEL PASO-2701 AVALON DR, SACRAMENTO",
           "Arden-Arcade",
           "Sacramento",
           "2010-04-13"
          ],
          [
           "717 SOUTH AVENUE",
           "Eureka",
           "Humboldt",
           "2013-05-10"
          ],
          [
           "2956-A TREAT BOULEVARD",
           "Concord",
           "Contra Costa",
           "2016-03-17"
          ],
          [
           "2850 MESA VERDE DR EAST, COSTA MESA",
           "Costa Mesa",
           "Orange",
           "2014-11-19"
          ],
          [
           "158B JACKSON ST",
           "San Jose",
           "Santa Clara",
           "2015-03-05"
          ],
          [
           "DEL PASO-2701 AVALON DR, SACRAMENTO",
           "Arden-Arcade",
           "Sacramento",
           "2002-05-10"
          ],
          [
           "DEL PASO-2701 AVALON DR, SACRAMENTO",
           "Arden-Arcade",
           "Sacramento",
           "2006-11-24"
          ],
          [
           "228 W. PALM AVE., BURBANK",
           "Burbank",
           "Los Angeles",
           "2002-03-19"
          ],
          [
           "7201 W. WESTCHESTER PARKWAY",
           "Los Angeles",
           "Los Angeles",
           "2011-03-23"
          ],
          [
           "330A 12TH AVE., SAN DIEGO, CA. 92112",
           "San Diego",
           "San Diego",
           "2002-04-19"
          ],
          [
           "1865 D RUMRILL BLVD, San Pablo",
           "San Pablo",
           "Contra Costa",
           "2003-02-07"
          ],
          [
           "3648 N. LONG BEACH BLVD., LONG BEACH",
           "Long Beach",
           "Los Angeles",
           "2001-06-24"
          ],
          [
           "3648 N. LONG BEACH BLVD., LONG BEACH",
           "Long Beach",
           "Los Angeles",
           "2008-10-04"
          ],
          [
           "3648 N. LONG BEACH BLVD., LONG BEACH",
           "Long Beach",
           "Los Angeles",
           "2002-07-15"
          ],
          [
           "583 W. 10TH ST., PITTSBURG",
           "Pittsburg",
           "Contra Costa",
           "2002-11-11"
          ],
          [
           "5888 MISSION BLVD., RUBIDOUX",
           "Rubidoux",
           "Riverside",
           "2004-03-01"
          ],
          [
           "304 TUOLUMNE ST.",
           "Vallejo",
           "Solano",
           "2014-08-14"
          ],
          [
           "583 W. 10TH ST., PITTSBURG",
           "Pittsburg",
           "Contra Costa",
           "2002-11-09"
          ],
          [
           "STS POWER PLANT, VANDENBERG AFB",
           "Vandenberg Air Force Base",
           "Santa Barbara",
           "2009-08-29"
          ],
          [
           "2425 Webster St., Long Beach, CA",
           "Long Beach",
           "Los Angeles",
           "2010-08-15"
          ],
          [
           "128 S 'H' ST, LOMPOC",
           "Lompoc",
           "Santa Barbara",
           "2005-12-23"
          ],
          [
           "5888 MISSION BLVD., RUBIDOUX",
           "Rubidoux",
           "Riverside",
           "2002-10-04"
          ],
          [
           "STS POWER PLANT, VANDENBERG AFB",
           "Vandenberg Air Force Base",
           "Santa Barbara",
           "2005-02-01"
          ],
          [
           "1100 PASEO INTERNATIONAL, OTAY MESA, CA",
           "San Diego",
           "San Diego",
           "2005-04-30"
          ],
          [
           "LFC #1-LAS FLORES CANYON",
           "Capitan",
           "Santa Barbara",
           "2008-01-28"
          ],
          [
           "2956-A TREAT BOULEVARD",
           "Concord",
           "Contra Costa",
           "2008-08-18"
          ],
          [
           "LFC #1-LAS FLORES CANYON",
           "Capitan",
           "Santa Barbara",
           "2016-03-14"
          ],
          [
           "2850 MESA VERDE DR EAST, COSTA MESA",
           "Costa Mesa",
           "Orange",
           "2008-05-06"
          ],
          [
           "2850 MESA VERDE DR EAST, COSTA MESA",
           "Costa Mesa",
           "Orange",
           "2007-01-19"
          ],
          [
           "5888 MISSION BLVD., RUBIDOUX",
           "Rubidoux",
           "Riverside",
           "2001-02-06"
          ],
          [
           "5888 MISSION BLVD., RUBIDOUX",
           "Rubidoux",
           "Riverside",
           "2001-07-22"
          ],
          [
           "3727 N FIRST ST, FRESNO",
           "Fresno",
           "Fresno",
           "2014-07-11"
          ],
          [
           "2850 MESA VERDE DR EAST, COSTA MESA",
           "Costa Mesa",
           "Orange",
           "2006-05-22"
          ],
          [
           "380 N FAIRVIEW AVENUE, GOLETA",
           "Goleta",
           "Santa Barbara",
           "2004-04-16"
          ],
          [
           "DEL PASO-2701 AVALON DR, SACRAMENTO",
           "Arden-Arcade",
           "Sacramento",
           "2000-12-04"
          ],
          [
           "STS POWER PLANT, VANDENBERG AFB",
           "Vandenberg Air Force Base",
           "Santa Barbara",
           "2004-09-30"
          ],
          [
           "5551 BETHEL ISLAND RD",
           "Bethel Island",
           "Contra Costa",
           "2003-04-19"
          ],
          [
           "1630 N MAIN ST, LOS ANGELES",
           "Los Angeles",
           "Los Angeles",
           "2002-10-06"
          ],
          [
           "2956-A TREAT BOULEVARD",
           "Concord",
           "Contra Costa",
           "2006-08-24"
          ],
          [
           "1865 D RUMRILL BLVD, San Pablo",
           "San Pablo",
           "Contra Costa",
           "2003-02-02"
          ],
          [
           "1155 REDWOOD AVE., EL CAJON",
           "El Cajon",
           "San Diego",
           "2013-03-18"
          ],
          [
           "5888 MISSION BLVD., RUBIDOUX",
           "Rubidoux",
           "Riverside",
           "2014-08-26"
          ],
          [
           "5888 MISSION BLVD., RUBIDOUX",
           "Rubidoux",
           "Riverside",
           "2006-04-11"
          ],
          [
           "LFC #1-LAS FLORES CANYON",
           "Capitan",
           "Santa Barbara",
           "2013-01-10"
          ],
          [
           "128 S 'H' ST, LOMPOC",
           "Lompoc",
           "Santa Barbara",
           "2003-05-27"
          ],
          [
           "330A 12TH AVE., SAN DIEGO, CA. 92112",
           "San Diego",
           "San Diego",
           "2000-04-25"
          ],
          [
           "228 W. PALM AVE., BURBANK",
           "Burbank",
           "Los Angeles",
           "2008-02-13"
          ],
          [
           "1630 N MAIN ST, LOS ANGELES",
           "Los Angeles",
           "Los Angeles",
           "2005-12-04"
          ],
          [
           "304 TUOLUMNE ST.",
           "Vallejo",
           "Solano",
           "2013-10-01"
          ],
          [
           "3648 N. LONG BEACH BLVD., LONG BEACH",
           "Long Beach",
           "Los Angeles",
           "2002-06-02"
          ],
          [
           "LFC #1-LAS FLORES CANYON",
           "Capitan",
           "Santa Barbara",
           "2013-12-11"
          ],
          [
           "5888 MISSION BLVD., RUBIDOUX",
           "Rubidoux",
           "Riverside",
           "2006-04-25"
          ],
          [
           "583 W. 10TH ST., PITTSBURG",
           "Pittsburg",
           "Contra Costa",
           "2003-05-02"
          ],
          [
           "1029 ETHEL ST, CALEXICO HIGH SCHOOL",
           "Calexico",
           "Imperial",
           "2008-02-18"
          ],
          [
           "128 S 'H' ST, LOMPOC",
           "Lompoc",
           "Santa Barbara",
           "2005-01-09"
          ],
          [
           "304 TUOLUMNE ST.",
           "Vallejo",
           "Solano",
           "2008-08-04"
          ],
          [
           "3727 N FIRST ST, FRESNO",
           "Fresno",
           "Fresno",
           "2012-02-10"
          ],
          [
           "LFC #1-LAS FLORES CANYON",
           "Capitan",
           "Santa Barbara",
           "2012-05-19"
          ],
          [
           "STS POWER PLANT, VANDENBERG AFB",
           "Vandenberg Air Force Base",
           "Santa Barbara",
           "2001-11-24"
          ],
          [
           "1630 N MAIN ST, LOS ANGELES",
           "Los Angeles",
           "Los Angeles",
           "2003-10-16"
          ],
          [
           "228 W. PALM AVE., BURBANK",
           "Burbank",
           "Los Angeles",
           "2004-02-07"
          ],
          [
           "330A 12TH AVE., SAN DIEGO, CA. 92112",
           "San Diego",
           "San Diego",
           "2000-12-09"
          ],
          [
           "1340 Sixth Street",
           "Berkeley",
           "Alameda",
           "2010-12-20"
          ],
          [
           "3648 N. LONG BEACH BLVD., LONG BEACH",
           "Long Beach",
           "Los Angeles",
           "2000-07-24"
          ],
          [
           "380 N FAIRVIEW AVENUE, GOLETA",
           "Goleta",
           "Santa Barbara",
           "2005-11-28"
          ],
          [
           "304 TUOLUMNE ST.",
           "Vallejo",
           "Solano",
           "2006-11-08"
          ],
          [
           "1865 D RUMRILL BLVD, San Pablo",
           "San Pablo",
           "Contra Costa",
           "2014-07-14"
          ],
          [
           "1865 D RUMRILL BLVD, San Pablo",
           "San Pablo",
           "Contra Costa",
           "2002-10-09"
          ],
          [
           "1865 D RUMRILL BLVD, San Pablo",
           "San Pablo",
           "Contra Costa",
           "2014-10-30"
          ],
          [
           "2956-A TREAT BOULEVARD",
           "Concord",
           "Contra Costa",
           "2008-05-18"
          ],
          [
           "LFC #1-LAS FLORES CANYON",
           "Capitan",
           "Santa Barbara",
           "2002-05-08"
          ],
          [
           " Center St",
           "Davenport",
           "Santa Cruz",
           "2000-01-01"
          ],
          [
           "1865 D RUMRILL BLVD, San Pablo",
           "San Pablo",
           "Contra Costa",
           "2013-03-30"
          ],
          [
           "1865 D RUMRILL BLVD, San Pablo",
           "San Pablo",
           "Contra Costa",
           "2013-04-12"
          ],
          [
           " Center St",
           "Davenport",
           "Santa Cruz",
           "2004-07-17"
          ],
          [
           "14360 ARROW BLVD., FONTANA",
           "Fontana",
           "San Bernardino",
           "2009-07-29"
          ],
          [
           "80 E. 'J' ST., CHULA VISTA",
           "Chula Vista",
           "San Diego",
           "2001-06-20"
          ],
          [
           "14306 PARK AVE., VICTORVILLE, CA",
           "Victorville",
           "San Bernardino",
           "2002-04-10"
          ],
          [
           "228 W. PALM AVE., BURBANK",
           "Burbank",
           "Los Angeles",
           "2013-04-08"
          ],
          [
           " Center St",
           "Davenport",
           "Santa Cruz",
           "2008-03-26"
          ],
          [
           "2956-A TREAT BOULEVARD",
           "Concord",
           "Contra Costa",
           "2002-07-23"
          ],
          [
           "2425 Webster St., Long Beach, CA",
           "Long Beach",
           "Los Angeles",
           "2015-10-21"
          ],
          [
           "304 TUOLUMNE ST.",
           "Vallejo",
           "Solano",
           "2011-03-16"
          ],
          [
           "380 N FAIRVIEW AVENUE, GOLETA",
           "Goleta",
           "Santa Barbara",
           "2007-04-16"
          ],
          [
           "STS POWER PLANT, VANDENBERG AFB",
           "Vandenberg Air Force Base",
           "Santa Barbara",
           "2012-06-30"
          ],
          [
           "380 N FAIRVIEW AVENUE, GOLETA",
           "Goleta",
           "Santa Barbara",
           "2000-08-23"
          ],
          [
           "80 E. 'J' ST., CHULA VISTA",
           "Chula Vista",
           "San Diego",
           "2009-11-11"
          ],
          [
           "UNIT 759 EL PORTAL SHOPPING CENTER, San Pablo",
           "San Pablo",
           "Contra Costa",
           "2001-03-02"
          ],
          [
           "583 W. 10TH ST., PITTSBURG",
           "Pittsburg",
           "Contra Costa",
           "2002-10-06"
          ],
          [
           "5234 W. 120TH ST., HAWTHORNE",
           "Hawthorne",
           "Los Angeles",
           "2003-04-24"
          ],
          [
           "583 W. 10TH ST., PITTSBURG",
           "Pittsburg",
           "Contra Costa",
           "2008-08-23"
          ],
          [
           "14306 PARK AVE., VICTORVILLE, CA",
           "Victorville",
           "San Bernardino",
           "2009-04-28"
          ],
          [
           "1630 N MAIN ST, LOS ANGELES",
           "Los Angeles",
           "Los Angeles",
           "2000-09-12"
          ],
          [
           "1865 D RUMRILL BLVD, San Pablo",
           "San Pablo",
           "Contra Costa",
           "2004-12-16"
          ],
          [
           "UNIT 759 EL PORTAL SHOPPING CENTER, San Pablo",
           "San Pablo",
           "Contra Costa",
           "2001-03-23"
          ],
          [
           "5888 MISSION BLVD., RUBIDOUX",
           "Rubidoux",
           "Riverside",
           "2011-01-04"
          ],
          [
           "1110 BEARDSLEY STREET, SAN DIEGO, CA 92112",
           "San Diego",
           "San Diego",
           "2010-06-05"
          ],
          [
           "1029 ETHEL ST, CALEXICO HIGH SCHOOL",
           "Calexico",
           "Imperial",
           "2009-08-14"
          ],
          [
           " Center St",
           "Davenport",
           "Santa Cruz",
           "2005-10-18"
          ],
          [
           "2956-A TREAT BOULEVARD",
           "Concord",
           "Contra Costa",
           "2004-06-23"
          ],
          [
           "STS POWER PLANT, VANDENBERG AFB",
           "Vandenberg Air Force Base",
           "Santa Barbara",
           "2009-07-30"
          ],
          [
           "STS POWER PLANT, VANDENBERG AFB",
           "Vandenberg Air Force Base",
           "Santa Barbara",
           "2012-12-31"
          ],
          [
           "2425 Webster St., Long Beach, CA",
           "Long Beach",
           "Los Angeles",
           "2012-10-30"
          ],
          [
           "2850 MESA VERDE DR EAST, COSTA MESA",
           "Costa Mesa",
           "Orange",
           "2014-02-02"
          ],
          [
           "1865 D RUMRILL BLVD, San Pablo",
           "San Pablo",
           "Contra Costa",
           "2005-03-28"
          ],
          [
           "5888 MISSION BLVD., RUBIDOUX",
           "Rubidoux",
           "Riverside",
           "2008-05-23"
          ],
          [
           "80 E. 'J' ST., CHULA VISTA",
           "Chula Vista",
           "San Diego",
           "2009-11-03"
          ],
          [
           "10 ARKANSAS ST.",
           "San Francisco",
           "San Francisco",
           "2000-10-20"
          ],
          [
           "5888 MISSION BLVD., RUBIDOUX",
           "Rubidoux",
           "Riverside",
           "2011-12-23"
          ],
          [
           "380 N FAIRVIEW AVENUE, GOLETA",
           "Goleta",
           "Santa Barbara",
           "2003-08-05"
          ],
          [
           "22601 Voss Ave",
           "Cupertino",
           "Santa Clara",
           "2012-05-18"
          ],
          [
           "2850 MESA VERDE DR EAST, COSTA MESA",
           "Costa Mesa",
           "Orange",
           "2002-06-23"
          ],
          [
           "304 TUOLUMNE ST.",
           "Vallejo",
           "Solano",
           "2005-08-07"
          ],
          [
           "7201 W. WESTCHESTER PARKWAY",
           "Los Angeles",
           "Los Angeles",
           "2008-04-21"
          ],
          [
           "1865 D RUMRILL BLVD, San Pablo",
           "San Pablo",
           "Contra Costa",
           "2004-05-15"
          ],
          [
           "2850 MESA VERDE DR EAST, COSTA MESA",
           "Costa Mesa",
           "Orange",
           "2010-08-15"
          ],
          [
           "228 W. PALM AVE., BURBANK",
           "Burbank",
           "Los Angeles",
           "2006-07-19"
          ],
          [
           "304 TUOLUMNE ST.",
           "Vallejo",
           "Solano",
           "2013-08-23"
          ],
          [
           "583 W. 10TH ST., PITTSBURG",
           "Pittsburg",
           "Contra Costa",
           "2000-03-03"
          ],
          [
           "1630 N MAIN ST, LOS ANGELES",
           "Los Angeles",
           "Los Angeles",
           "2002-09-07"
          ],
          [
           "1029 ETHEL ST, CALEXICO HIGH SCHOOL",
           "Calexico",
           "Imperial",
           "2010-02-12"
          ],
          [
           "14360 ARROW BLVD., FONTANA",
           "Fontana",
           "San Bernardino",
           "2015-06-12"
          ],
          [
           "1100 PASEO INTERNATIONAL, OTAY MESA, CA",
           "San Diego",
           "San Diego",
           "2000-06-24"
          ],
          [
           "1340 Sixth Street",
           "Berkeley",
           "Alameda",
           "2010-11-25"
          ],
          [
           "717 SOUTH AVENUE",
           "Eureka",
           "Humboldt",
           "2009-11-20"
          ],
          [
           "2956-A TREAT BOULEVARD",
           "Concord",
           "Contra Costa",
           "2005-11-26"
          ],
          [
           "5888 MISSION BLVD., RUBIDOUX",
           "Rubidoux",
           "Riverside",
           "2015-04-25"
          ],
          [
           "14306 PARK AVE., VICTORVILLE, CA",
           "Victorville",
           "San Bernardino",
           "2009-02-16"
          ],
          [
           "128 S 'H' ST, LOMPOC",
           "Lompoc",
           "Santa Barbara",
           "2015-11-04"
          ],
          [
           " Center St",
           "Davenport",
           "Santa Cruz",
           "2008-03-29"
          ],
          [
           "6701 INTERNATIONAL BLVD",
           "Oakland",
           "Alameda",
           "2002-04-27"
          ],
          [
           "1865 D RUMRILL BLVD, San Pablo",
           "San Pablo",
           "Contra Costa",
           "2014-01-13"
          ],
          [
           "583 W. 10TH ST., PITTSBURG",
           "Pittsburg",
           "Contra Costa",
           "2008-09-01"
          ],
          [
           "1865 D RUMRILL BLVD, San Pablo",
           "San Pablo",
           "Contra Costa",
           "2012-01-23"
          ],
          [
           " Center St",
           "Davenport",
           "Santa Cruz",
           "2004-11-05"
          ],
          [
           "STS POWER PLANT, VANDENBERG AFB",
           "Vandenberg Air Force Base",
           "Santa Barbara",
           "2014-08-05"
          ],
          [
           "DEL PASO-2701 AVALON DR, SACRAMENTO",
           "Arden-Arcade",
           "Sacramento",
           "2007-10-01"
          ],
          [
           "158B JACKSON ST",
           "San Jose",
           "Santa Clara",
           "2015-02-19"
          ],
          [
           "LFC #1-LAS FLORES CANYON",
           "Capitan",
           "Santa Barbara",
           "2009-08-30"
          ],
          [
           "1340 Sixth Street",
           "Berkeley",
           "Alameda",
           "2010-07-30"
          ],
          [
           " Center St",
           "Davenport",
           "Santa Cruz",
           "2003-11-13"
          ],
          [
           "3425 N FIRST ST, FRESNO",
           "Fresno",
           "Fresno",
           "2011-07-21"
          ],
          [
           "5888 MISSION BLVD., RUBIDOUX",
           "Rubidoux",
           "Riverside",
           "2010-12-22"
          ],
          [
           "330A 12TH AVE., SAN DIEGO, CA. 92112",
           "San Diego",
           "San Diego",
           "2000-12-23"
          ],
          [
           "380 N FAIRVIEW AVENUE, GOLETA",
           "Goleta",
           "Santa Barbara",
           "2009-01-11"
          ],
          [
           "2850 MESA VERDE DR EAST, COSTA MESA",
           "Costa Mesa",
           "Orange",
           "2010-01-29"
          ],
          [
           "228 W. PALM AVE., BURBANK",
           "Burbank",
           "Los Angeles",
           "2013-09-24"
          ],
          [
           "1100 21st Street",
           "Oakland",
           "Alameda",
           "2012-12-20"
          ],
          [
           "1029 ETHEL ST, CALEXICO HIGH SCHOOL",
           "Calexico",
           "Imperial",
           "2011-04-19"
          ],
          [
           "717 SOUTH AVENUE",
           "Eureka",
           "Humboldt",
           "2015-12-24"
          ],
          [
           "1630 N MAIN ST, LOS ANGELES",
           "Los Angeles",
           "Los Angeles",
           "2010-11-10"
          ],
          [
           "583 W. 10TH ST., PITTSBURG",
           "Pittsburg",
           "Contra Costa",
           "2008-12-23"
          ],
          [
           "583 W. 10TH ST., PITTSBURG",
           "Pittsburg",
           "Contra Costa",
           "2000-10-23"
          ],
          [
           "1630 N MAIN ST, LOS ANGELES",
           "Los Angeles",
           "Los Angeles",
           "2006-06-24"
          ],
          [
           "3727 N FIRST ST, FRESNO",
           "Fresno",
           "Fresno",
           "2014-06-24"
          ],
          [
           "1110 BEARDSLEY STREET, SAN DIEGO, CA 92112",
           "San Diego",
           "San Diego",
           "2008-06-20"
          ],
          [
           "DEL PASO-2701 AVALON DR, SACRAMENTO",
           "Arden-Arcade",
           "Sacramento",
           "2004-09-18"
          ],
          [
           "1865 D RUMRILL BLVD, San Pablo",
           "San Pablo",
           "Contra Costa",
           "2004-10-20"
          ],
          [
           "3425 N FIRST ST, FRESNO",
           "Fresno",
           "Fresno",
           "2009-09-16"
          ],
          [
           "3648 N. LONG BEACH BLVD., LONG BEACH",
           "Long Beach",
           "Los Angeles",
           "2001-06-27"
          ],
          [
           "LFC #1-LAS FLORES CANYON",
           "Capitan",
           "Santa Barbara",
           "2005-11-06"
          ],
          [
           "1029 ETHEL ST, CALEXICO HIGH SCHOOL",
           "Calexico",
           "Imperial",
           "2015-09-30"
          ],
          [
           "717 SOUTH AVENUE",
           "Eureka",
           "Humboldt",
           "2009-04-04"
          ],
          [
           "DEL PASO-2701 AVALON DR, SACRAMENTO",
           "Arden-Arcade",
           "Sacramento",
           "2015-08-30"
          ],
          [
           "1865 D RUMRILL BLVD, San Pablo",
           "San Pablo",
           "Contra Costa",
           "2016-01-04"
          ],
          [
           "1029 ETHEL ST, CALEXICO HIGH SCHOOL",
           "Calexico",
           "Imperial",
           "2004-02-20"
          ],
          [
           "LFC #1-LAS FLORES CANYON",
           "Capitan",
           "Santa Barbara",
           "2008-03-09"
          ],
          [
           "LFC #1-LAS FLORES CANYON",
           "Capitan",
           "Santa Barbara",
           "2012-04-16"
          ],
          [
           "1100 PASEO INTERNATIONAL, OTAY MESA, CA",
           "San Diego",
           "San Diego",
           "2009-06-20"
          ],
          [
           "583 W. 10TH ST., PITTSBURG",
           "Pittsburg",
           "Contra Costa",
           "2006-11-29"
          ],
          [
           "DEL PASO-2701 AVALON DR, SACRAMENTO",
           "Arden-Arcade",
           "Sacramento",
           "2008-05-04"
          ],
          [
           "5551 BETHEL ISLAND RD",
           "Bethel Island",
           "Contra Costa",
           "2015-06-11"
          ],
          [
           "1155 REDWOOD AVE., EL CAJON",
           "El Cajon",
           "San Diego",
           "2011-06-09"
          ],
          [
           "304 TUOLUMNE ST.",
           "Vallejo",
           "Solano",
           "2002-09-16"
          ],
          [
           "DEL PASO-2701 AVALON DR, SACRAMENTO",
           "Arden-Arcade",
           "Sacramento",
           "2007-06-06"
          ],
          [
           "1100 21st Street",
           "Oakland",
           "Alameda",
           "2012-05-22"
          ],
          [
           "228 W. PALM AVE., BURBANK",
           "Burbank",
           "Los Angeles",
           "2011-09-23"
          ],
          [
           "2425 Webster St., Long Beach, CA",
           "Long Beach",
           "Los Angeles",
           "2013-07-18"
          ],
          [
           "1630 N MAIN ST, LOS ANGELES",
           "Los Angeles",
           "Los Angeles",
           "2013-06-28"
          ],
          [
           "LFC #1-LAS FLORES CANYON",
           "Capitan",
           "Santa Barbara",
           "2004-12-15"
          ],
          [
           "1630 N MAIN ST, LOS ANGELES",
           "Los Angeles",
           "Los Angeles",
           "2004-10-13"
          ],
          [
           "128 S 'H' ST, LOMPOC",
           "Lompoc",
           "Santa Barbara",
           "2002-06-24"
          ],
          [
           "304 TUOLUMNE ST.",
           "Vallejo",
           "Solano",
           "2007-02-27"
          ],
          [
           "22601 Voss Ave",
           "Cupertino",
           "Santa Clara",
           "2013-06-17"
          ],
          [
           "1029 ETHEL ST, CALEXICO HIGH SCHOOL",
           "Calexico",
           "Imperial",
           "2004-08-22"
          ],
          [
           "7201 W. WESTCHESTER PARKWAY",
           "Los Angeles",
           "Los Angeles",
           "2007-02-28"
          ],
          [
           "128 S 'H' ST, LOMPOC",
           "Lompoc",
           "Santa Barbara",
           "2002-05-20"
          ],
          [
           "10 ARKANSAS ST.",
           "San Francisco",
           "San Francisco",
           "2002-12-16"
          ],
          [
           "DEL PASO-2701 AVALON DR, SACRAMENTO",
           "Arden-Arcade",
           "Sacramento",
           "2009-10-09"
          ],
          [
           "3648 N. LONG BEACH BLVD., LONG BEACH",
           "Long Beach",
           "Los Angeles",
           "2010-03-07"
          ],
          [
           "7201 W. WESTCHESTER PARKWAY",
           "Los Angeles",
           "Los Angeles",
           "2008-08-29"
          ],
          [
           "STS POWER PLANT, VANDENBERG AFB",
           "Vandenberg Air Force Base",
           "Santa Barbara",
           "2009-12-22"
          ],
          [
           "5888 MISSION BLVD., RUBIDOUX",
           "Rubidoux",
           "Riverside",
           "2009-10-04"
          ],
          [
           "158B JACKSON ST",
           "San Jose",
           "Santa Clara",
           "2010-10-02"
          ],
          [
           "5551 BETHEL ISLAND RD",
           "Bethel Island",
           "Contra Costa",
           "2016-04-11"
          ],
          [
           "5888 MISSION BLVD., RUBIDOUX",
           "Rubidoux",
           "Riverside",
           "2015-09-22"
          ],
          [
           "304 TUOLUMNE ST.",
           "Vallejo",
           "Solano",
           "2014-01-24"
          ],
          [
           "5888 MISSION BLVD., RUBIDOUX",
           "Rubidoux",
           "Riverside",
           "2000-02-01"
          ],
          [
           "3648 N. LONG BEACH BLVD., LONG BEACH",
           "Long Beach",
           "Los Angeles",
           "2009-08-07"
          ],
          [
           "1029 ETHEL ST, CALEXICO HIGH SCHOOL",
           "Calexico",
           "Imperial",
           "2004-07-11"
          ],
          [
           "STS POWER PLANT, VANDENBERG AFB",
           "Vandenberg Air Force Base",
           "Santa Barbara",
           "2000-11-17"
          ],
          [
           "STS POWER PLANT, VANDENBERG AFB",
           "Vandenberg Air Force Base",
           "Santa Barbara",
           "2011-06-24"
          ],
          [
           "5551 BETHEL ISLAND RD",
           "Bethel Island",
           "Contra Costa",
           "2002-06-17"
          ],
          [
           "10 ARKANSAS ST.",
           "San Francisco",
           "San Francisco",
           "2008-04-17"
          ],
          [
           "330A 12TH AVE., SAN DIEGO, CA. 92112",
           "San Diego",
           "San Diego",
           "2004-11-13"
          ],
          [
           "14306 PARK AVE., VICTORVILLE, CA",
           "Victorville",
           "San Bernardino",
           "2011-04-10"
          ],
          [
           "5888 MISSION BLVD., RUBIDOUX",
           "Rubidoux",
           "Riverside",
           "2011-08-09"
          ],
          [
           "304 TUOLUMNE ST.",
           "Vallejo",
           "Solano",
           "2014-03-22"
          ],
          [
           "2850 MESA VERDE DR EAST, COSTA MESA",
           "Costa Mesa",
           "Orange",
           "2009-05-23"
          ],
          [
           "1100 PASEO INTERNATIONAL, OTAY MESA, CA",
           "San Diego",
           "San Diego",
           "2009-06-09"
          ],
          [
           "2850 MESA VERDE DR EAST, COSTA MESA",
           "Costa Mesa",
           "Orange",
           "2000-08-18"
          ],
          [
           "LFC #1-LAS FLORES CANYON",
           "Capitan",
           "Santa Barbara",
           "2013-11-04"
          ],
          [
           "1865 D RUMRILL BLVD, San Pablo",
           "San Pablo",
           "Contra Costa",
           "2008-01-22"
          ],
          [
           "228 W. PALM AVE., BURBANK",
           "Burbank",
           "Los Angeles",
           "2000-01-25"
          ],
          [
           "2850 MESA VERDE DR EAST, COSTA MESA",
           "Costa Mesa",
           "Orange",
           "2006-02-26"
          ],
          [
           "1630 N MAIN ST, LOS ANGELES",
           "Los Angeles",
           "Los Angeles",
           "2012-09-15"
          ],
          [
           "3648 N. LONG BEACH BLVD., LONG BEACH",
           "Long Beach",
           "Los Angeles",
           "2004-02-22"
          ],
          [
           "5551 BETHEL ISLAND RD",
           "Bethel Island",
           "Contra Costa",
           "2008-05-04"
          ],
          [
           "3648 N. LONG BEACH BLVD., LONG BEACH",
           "Long Beach",
           "Los Angeles",
           "2000-09-11"
          ],
          [
           "LFC #1-LAS FLORES CANYON",
           "Capitan",
           "Santa Barbara",
           "2013-08-21"
          ],
          [
           "1100 PASEO INTERNATIONAL, OTAY MESA, CA",
           "San Diego",
           "San Diego",
           "2001-10-03"
          ],
          [
           "1098 POMONA STREET",
           "Crockett",
           "Contra Costa",
           "2003-04-22"
          ],
          [
           "10 ARKANSAS ST.",
           "San Francisco",
           "San Francisco",
           "2007-06-08"
          ],
          [
           "3727 N FIRST ST, FRESNO",
           "Fresno",
           "Fresno",
           "2014-06-19"
          ],
          [
           "7201 W. WESTCHESTER PARKWAY",
           "Los Angeles",
           "Los Angeles",
           "2005-08-24"
          ],
          [
           "228 W. PALM AVE., BURBANK",
           "Burbank",
           "Los Angeles",
           "2005-04-02"
          ],
          [
           "717 SOUTH AVENUE",
           "Eureka",
           "Humboldt",
           "2015-12-02"
          ],
          [
           "1100 PASEO INTERNATIONAL, OTAY MESA, CA",
           "San Diego",
           "San Diego",
           "2001-09-20"
          ],
          [
           "14306 PARK AVE., VICTORVILLE, CA",
           "Victorville",
           "San Bernardino",
           "2004-01-23"
          ],
          [
           "LFC #1-LAS FLORES CANYON",
           "Capitan",
           "Santa Barbara",
           "2010-10-26"
          ],
          [
           "5551 BETHEL ISLAND RD",
           "Bethel Island",
           "Contra Costa",
           "2006-11-15"
          ],
          [
           "1110 BEARDSLEY STREET, SAN DIEGO, CA 92112",
           "San Diego",
           "San Diego",
           "2006-04-02"
          ],
          [
           "5888 MISSION BLVD., RUBIDOUX",
           "Rubidoux",
           "Riverside",
           "2015-03-01"
          ],
          [
           "5888 MISSION BLVD., RUBIDOUX",
           "Rubidoux",
           "Riverside",
           "2002-02-04"
          ],
          [
           "1865 D RUMRILL BLVD, San Pablo",
           "San Pablo",
           "Contra Costa",
           "2006-03-28"
          ],
          [
           "22601 Voss Ave",
           "Cupertino",
           "Santa Clara",
           "2012-02-19"
          ],
          [
           "14306 PARK AVE., VICTORVILLE, CA",
           "Victorville",
           "San Bernardino",
           "2014-09-24"
          ],
          [
           "1100 21st Street",
           "Oakland",
           "Alameda",
           "2013-03-17"
          ],
          [
           "158B JACKSON ST",
           "San Jose",
           "Santa Clara",
           "2015-02-27"
          ],
          [
           "LFC #1-LAS FLORES CANYON",
           "Capitan",
           "Santa Barbara",
           "2009-05-25"
          ],
          [
           "2425 Webster St., Long Beach, CA",
           "Long Beach",
           "Los Angeles",
           "2010-10-01"
          ],
          [
           "2956-A TREAT BOULEVARD",
           "Concord",
           "Contra Costa",
           "2014-12-27"
          ],
          [
           "1100 21st Street",
           "Oakland",
           "Alameda",
           "2012-02-20"
          ],
          [
           "5234 W. 120TH ST., HAWTHORNE",
           "Hawthorne",
           "Los Angeles",
           "2001-07-26"
          ],
          [
           "DEL PASO-2701 AVALON DR, SACRAMENTO",
           "Arden-Arcade",
           "Sacramento",
           "2008-12-09"
          ],
          [
           "2956-A TREAT BOULEVARD",
           "Concord",
           "Contra Costa",
           "2004-05-17"
          ],
          [
           "STS POWER PLANT, VANDENBERG AFB",
           "Vandenberg Air Force Base",
           "Santa Barbara",
           "2015-08-30"
          ],
          [
           "128 S 'H' ST, LOMPOC",
           "Lompoc",
           "Santa Barbara",
           "2001-05-20"
          ],
          [
           "1340 Sixth Street",
           "Berkeley",
           "Alameda",
           "2008-10-02"
          ],
          [
           "1098 POMONA STREET",
           "Crockett",
           "Contra Costa",
           "2001-12-13"
          ],
          [
           "5551 BETHEL ISLAND RD",
           "Bethel Island",
           "Contra Costa",
           "2008-08-16"
          ],
          [
           "DEL PASO-2701 AVALON DR, SACRAMENTO",
           "Arden-Arcade",
           "Sacramento",
           "2010-04-02"
          ],
          [
           "304 TUOLUMNE ST.",
           "Vallejo",
           "Solano",
           "2008-01-20"
          ],
          [
           "128 S 'H' ST, LOMPOC",
           "Lompoc",
           "Santa Barbara",
           "2002-04-21"
          ],
          [
           "2850 MESA VERDE DR EAST, COSTA MESA",
           "Costa Mesa",
           "Orange",
           "2008-07-14"
          ],
          [
           "1630 N MAIN ST, LOS ANGELES",
           "Los Angeles",
           "Los Angeles",
           "2014-10-10"
          ],
          [
           "158B JACKSON ST",
           "San Jose",
           "Santa Clara",
           "2015-09-30"
          ],
          [
           "717 SOUTH AVENUE",
           "Eureka",
           "Humboldt",
           "2016-03-03"
          ],
          [
           "717 SOUTH AVENUE",
           "Eureka",
           "Humboldt",
           "2009-05-16"
          ],
          [
           "5888 MISSION BLVD., RUBIDOUX",
           "Rubidoux",
           "Riverside",
           "2013-10-29"
          ],
          [
           "80 E. 'J' ST., CHULA VISTA",
           "Chula Vista",
           "San Diego",
           "2003-02-22"
          ],
          [
           "22601 Voss Ave",
           "Cupertino",
           "Santa Clara",
           "2012-01-30"
          ],
          [
           "128 S 'H' ST, LOMPOC",
           "Lompoc",
           "Santa Barbara",
           "2014-03-04"
          ],
          [
           "228 W. PALM AVE., BURBANK",
           "Burbank",
           "Los Angeles",
           "2003-06-13"
          ],
          [
           "22601 Voss Ave",
           "Cupertino",
           "Santa Clara",
           "2012-01-25"
          ],
          [
           "STS POWER PLANT, VANDENBERG AFB",
           "Vandenberg Air Force Base",
           "Santa Barbara",
           "2014-03-20"
          ],
          [
           "158B JACKSON ST",
           "San Jose",
           "Santa Clara",
           "2011-08-11"
          ],
          [
           "14306 PARK AVE., VICTORVILLE, CA",
           "Victorville",
           "San Bernardino",
           "2010-12-11"
          ],
          [
           "1155 REDWOOD AVE., EL CAJON",
           "El Cajon",
           "San Diego",
           "2012-06-26"
          ],
          [
           " Center St",
           "Davenport",
           "Santa Cruz",
           "2007-05-10"
          ],
          [
           "128 S 'H' ST, LOMPOC",
           "Lompoc",
           "Santa Barbara",
           "2008-07-06"
          ],
          [
           "228 W. PALM AVE., BURBANK",
           "Burbank",
           "Los Angeles",
           "2013-03-21"
          ],
          [
           "1630 N MAIN ST, LOS ANGELES",
           "Los Angeles",
           "Los Angeles",
           "2012-01-26"
          ],
          [
           "5551 BETHEL ISLAND RD",
           "Bethel Island",
           "Contra Costa",
           "2004-02-18"
          ],
          [
           "3648 N. LONG BEACH BLVD., LONG BEACH",
           "Long Beach",
           "Los Angeles",
           "2006-09-23"
          ],
          [
           "1630 N MAIN ST, LOS ANGELES",
           "Los Angeles",
           "Los Angeles",
           "2014-05-07"
          ],
          [
           "3648 N. LONG BEACH BLVD., LONG BEACH",
           "Long Beach",
           "Los Angeles",
           "2002-03-25"
          ],
          [
           "1029 ETHEL ST, CALEXICO HIGH SCHOOL",
           "Calexico",
           "Imperial",
           "2004-03-31"
          ],
          [
           "128 S 'H' ST, LOMPOC",
           "Lompoc",
           "Santa Barbara",
           "2003-11-28"
          ],
          [
           "14306 PARK AVE., VICTORVILLE, CA",
           "Victorville",
           "San Bernardino",
           "2013-01-02"
          ],
          [
           "2956-A TREAT BOULEVARD",
           "Concord",
           "Contra Costa",
           "2001-07-08"
          ],
          [
           "583 W. 10TH ST., PITTSBURG",
           "Pittsburg",
           "Contra Costa",
           "2004-12-01"
          ],
          [
           "14306 PARK AVE., VICTORVILLE, CA",
           "Victorville",
           "San Bernardino",
           "2003-01-26"
          ],
          [
           "DEL PASO-2701 AVALON DR, SACRAMENTO",
           "Arden-Arcade",
           "Sacramento",
           "2006-11-28"
          ],
          [
           "1865 D RUMRILL BLVD, San Pablo",
           "San Pablo",
           "Contra Costa",
           "2007-04-24"
          ],
          [
           "1110 BEARDSLEY STREET, SAN DIEGO, CA 92112",
           "San Diego",
           "San Diego",
           "2006-08-25"
          ],
          [
           "2956-A TREAT BOULEVARD",
           "Concord",
           "Contra Costa",
           "2008-05-25"
          ],
          [
           "228 W. PALM AVE., BURBANK",
           "Burbank",
           "Los Angeles",
           "2005-10-13"
          ],
          [
           "128 S 'H' ST, LOMPOC",
           "Lompoc",
           "Santa Barbara",
           "2009-04-04"
          ],
          [
           "80 E. 'J' ST., CHULA VISTA",
           "Chula Vista",
           "San Diego",
           "2004-10-25"
          ],
          [
           "1029 ETHEL ST, CALEXICO HIGH SCHOOL",
           "Calexico",
           "Imperial",
           "2009-01-17"
          ],
          [
           "1865 D RUMRILL BLVD, San Pablo",
           "San Pablo",
           "Contra Costa",
           "2004-04-15"
          ],
          [
           "158B JACKSON ST",
           "San Jose",
           "Santa Clara",
           "2013-05-16"
          ],
          [
           "STS POWER PLANT, VANDENBERG AFB",
           "Vandenberg Air Force Base",
           "Santa Barbara",
           "2002-02-08"
          ],
          [
           "LFC #1-LAS FLORES CANYON",
           "Capitan",
           "Santa Barbara",
           "2003-11-27"
          ],
          [
           "128 S 'H' ST, LOMPOC",
           "Lompoc",
           "Santa Barbara",
           "2002-06-09"
          ],
          [
           "228 W. PALM AVE., BURBANK",
           "Burbank",
           "Los Angeles",
           "2003-01-24"
          ],
          [
           "1630 N MAIN ST, LOS ANGELES",
           "Los Angeles",
           "Los Angeles",
           "2010-03-30"
          ],
          [
           "14306 PARK AVE., VICTORVILLE, CA",
           "Victorville",
           "San Bernardino",
           "2001-04-16"
          ],
          [
           "LFC #1-LAS FLORES CANYON",
           "Capitan",
           "Santa Barbara",
           "2001-09-30"
          ],
          [
           "STS POWER PLANT, VANDENBERG AFB",
           "Vandenberg Air Force Base",
           "Santa Barbara",
           "2007-03-04"
          ],
          [
           "128 S 'H' ST, LOMPOC",
           "Lompoc",
           "Santa Barbara",
           "2000-10-11"
          ],
          [
           "14360 ARROW BLVD., FONTANA",
           "Fontana",
           "San Bernardino",
           "2012-07-16"
          ],
          [
           "5888 MISSION BLVD., RUBIDOUX",
           "Rubidoux",
           "Riverside",
           "2003-02-17"
          ],
          [
           "3425 N FIRST ST, FRESNO",
           "Fresno",
           "Fresno",
           "2009-04-16"
          ],
          [
           "MOBILE",
           "Fresno",
           "Fresno",
           "2003-01-05"
          ],
          [
           "14360 ARROW BLVD., FONTANA",
           "Fontana",
           "San Bernardino",
           "2015-09-27"
          ],
          [
           "6701 INTERNATIONAL BLVD",
           "Oakland",
           "Alameda",
           "2003-04-08"
          ],
          [
           "STS POWER PLANT, VANDENBERG AFB",
           "Vandenberg Air Force Base",
           "Santa Barbara",
           "2000-07-29"
          ],
          [
           "5551 BETHEL ISLAND RD",
           "Bethel Island",
           "Contra Costa",
           "2011-05-02"
          ],
          [
           "3727 N FIRST ST, FRESNO",
           "Fresno",
           "Fresno",
           "2015-10-21"
          ],
          [
           "5888 MISSION BLVD., RUBIDOUX",
           "Rubidoux",
           "Riverside",
           "2005-08-28"
          ],
          [
           "1340 Sixth Street",
           "Berkeley",
           "Alameda",
           "2010-07-12"
          ],
          [
           "14306 PARK AVE., VICTORVILLE, CA",
           "Victorville",
           "San Bernardino",
           "2007-09-17"
          ],
          [
           "583 W. 10TH ST., PITTSBURG",
           "Pittsburg",
           "Contra Costa",
           "2006-04-12"
          ],
          [
           "5551 BETHEL ISLAND RD",
           "Bethel Island",
           "Contra Costa",
           "2004-02-24"
          ],
          [
           "1100 PASEO INTERNATIONAL, OTAY MESA, CA",
           "San Diego",
           "San Diego",
           "2004-02-22"
          ],
          [
           "1100 PASEO INTERNATIONAL, OTAY MESA, CA",
           "San Diego",
           "San Diego",
           "2002-09-07"
          ],
          [
           "1865 D RUMRILL BLVD, San Pablo",
           "San Pablo",
           "Contra Costa",
           "2004-03-24"
          ],
          [
           "228 W. PALM AVE., BURBANK",
           "Burbank",
           "Los Angeles",
           "2007-11-18"
          ],
          [
           "14360 ARROW BLVD., FONTANA",
           "Fontana",
           "San Bernardino",
           "2012-05-06"
          ],
          [
           "3425 N FIRST ST, FRESNO",
           "Fresno",
           "Fresno",
           "2010-10-09"
          ],
          [
           "128 S 'H' ST, LOMPOC",
           "Lompoc",
           "Santa Barbara",
           "2008-08-16"
          ],
          [
           "2850 MESA VERDE DR EAST, COSTA MESA",
           "Costa Mesa",
           "Orange",
           "2009-05-22"
          ],
          [
           "1630 N MAIN ST, LOS ANGELES",
           "Los Angeles",
           "Los Angeles",
           "2004-12-02"
          ],
          [
           "STS POWER PLANT, VANDENBERG AFB",
           "Vandenberg Air Force Base",
           "Santa Barbara",
           "2004-08-21"
          ],
          [
           "5888 MISSION BLVD., RUBIDOUX",
           "Rubidoux",
           "Riverside",
           "2011-12-10"
          ],
          [
           "128 S 'H' ST, LOMPOC",
           "Lompoc",
           "Santa Barbara",
           "2013-06-02"
          ],
          [
           "5551 BETHEL ISLAND RD",
           "Bethel Island",
           "Contra Costa",
           "2011-09-02"
          ],
          [
           "304 TUOLUMNE ST.",
           "Vallejo",
           "Solano",
           "2016-03-30"
          ],
          [
           "2956-A TREAT BOULEVARD",
           "Concord",
           "Contra Costa",
           "2004-02-02"
          ],
          [
           "2956-A TREAT BOULEVARD",
           "Concord",
           "Contra Costa",
           "2003-11-27"
          ],
          [
           "128 S 'H' ST, LOMPOC",
           "Lompoc",
           "Santa Barbara",
           "2010-04-13"
          ],
          [
           "1630 N MAIN ST, LOS ANGELES",
           "Los Angeles",
           "Los Angeles",
           "2015-09-12"
          ],
          [
           "1029 ETHEL ST, CALEXICO HIGH SCHOOL",
           "Calexico",
           "Imperial",
           "2006-08-02"
          ],
          [
           "80 E. 'J' ST., CHULA VISTA",
           "Chula Vista",
           "San Diego",
           "2001-04-06"
          ],
          [
           "1100 21st Street",
           "Oakland",
           "Alameda",
           "2014-07-23"
          ],
          [
           "1100 21st Street",
           "Oakland",
           "Alameda",
           "2012-02-16"
          ],
          [
           "1630 N MAIN ST, LOS ANGELES",
           "Los Angeles",
           "Los Angeles",
           "2000-05-12"
          ],
          [
           "22601 Voss Ave",
           "Cupertino",
           "Santa Clara",
           "2012-02-08"
          ],
          [
           "STS POWER PLANT, VANDENBERG AFB",
           "Vandenberg Air Force Base",
           "Santa Barbara",
           "2005-12-07"
          ],
          [
           "5234 W. 120TH ST., HAWTHORNE",
           "Hawthorne",
           "Los Angeles",
           "2002-05-18"
          ],
          [
           "1029 ETHEL ST, CALEXICO HIGH SCHOOL",
           "Calexico",
           "Imperial",
           "2000-12-08"
          ],
          [
           "22601 Voss Ave",
           "Cupertino",
           "Santa Clara",
           "2013-01-05"
          ],
          [
           "LFC #1-LAS FLORES CANYON",
           "Capitan",
           "Santa Barbara",
           "2002-02-10"
          ],
          [
           "128 S 'H' ST, LOMPOC",
           "Lompoc",
           "Santa Barbara",
           "2002-04-02"
          ],
          [
           "LFC #1-LAS FLORES CANYON",
           "Capitan",
           "Santa Barbara",
           "2001-06-04"
          ],
          [
           "7201 W. WESTCHESTER PARKWAY",
           "Los Angeles",
           "Los Angeles",
           "2005-05-28"
          ],
          [
           "5888 MISSION BLVD., RUBIDOUX",
           "Rubidoux",
           "Riverside",
           "2013-12-17"
          ],
          [
           "7201 W. WESTCHESTER PARKWAY",
           "Los Angeles",
           "Los Angeles",
           "2012-02-24"
          ],
          [
           "228 W. PALM AVE., BURBANK",
           "Burbank",
           "Los Angeles",
           "2006-09-06"
          ],
          [
           "1865 D RUMRILL BLVD, San Pablo",
           "San Pablo",
           "Contra Costa",
           "2007-07-04"
          ],
          [
           "330A 12TH AVE., SAN DIEGO, CA. 92112",
           "San Diego",
           "San Diego",
           "2000-05-17"
          ],
          [
           "1110 BEARDSLEY STREET, SAN DIEGO, CA 92112",
           "San Diego",
           "San Diego",
           "2011-03-16"
          ],
          [
           "1029 ETHEL ST, CALEXICO HIGH SCHOOL",
           "Calexico",
           "Imperial",
           "2014-06-09"
          ],
          [
           "6701 INTERNATIONAL BLVD",
           "Oakland",
           "Alameda",
           "2002-09-28"
          ],
          [
           "128 S 'H' ST, LOMPOC",
           "Lompoc",
           "Santa Barbara",
           "2000-01-30"
          ],
          [
           "5234 W. 120TH ST., HAWTHORNE",
           "Hawthorne",
           "Los Angeles",
           "2002-11-04"
          ],
          [
           "14306 PARK AVE., VICTORVILLE, CA",
           "Victorville",
           "San Bernardino",
           "2013-01-18"
          ],
          [
           "304 TUOLUMNE ST.",
           "Vallejo",
           "Solano",
           "2012-08-25"
          ],
          [
           "1100 21st Street",
           "Oakland",
           "Alameda",
           "2015-10-15"
          ],
          [
           "STS POWER PLANT, VANDENBERG AFB",
           "Vandenberg Air Force Base",
           "Santa Barbara",
           "2000-03-28"
          ],
          [
           "7201 W. WESTCHESTER PARKWAY",
           "Los Angeles",
           "Los Angeles",
           "2010-03-11"
          ],
          [
           "14306 PARK AVE., VICTORVILLE, CA",
           "Victorville",
           "San Bernardino",
           "2012-11-02"
          ],
          [
           "5888 MISSION BLVD., RUBIDOUX",
           "Rubidoux",
           "Riverside",
           "2002-07-15"
          ],
          [
           "1630 N MAIN ST, LOS ANGELES",
           "Los Angeles",
           "Los Angeles",
           "2008-05-07"
          ],
          [
           "14306 PARK AVE., VICTORVILLE, CA",
           "Victorville",
           "San Bernardino",
           "2014-06-06"
          ],
          [
           "2425 Webster St., Long Beach, CA",
           "Long Beach",
           "Los Angeles",
           "2010-06-15"
          ],
          [
           "10537 FLOYD SMITH DRIVE",
           "El Cajon",
           "San Diego",
           "2014-12-16"
          ],
          [
           "2956-A TREAT BOULEVARD",
           "Concord",
           "Contra Costa",
           "2009-02-07"
          ],
          [
           "304 TUOLUMNE ST.",
           "Vallejo",
           "Solano",
           "2012-09-06"
          ],
          [
           "7201 W. WESTCHESTER PARKWAY",
           "Los Angeles",
           "Los Angeles",
           "2004-09-06"
          ],
          [
           "2956-A TREAT BOULEVARD",
           "Concord",
           "Contra Costa",
           "2014-06-03"
          ],
          [
           "STS POWER PLANT, VANDENBERG AFB",
           "Vandenberg Air Force Base",
           "Santa Barbara",
           "2015-08-03"
          ],
          [
           "14306 PARK AVE., VICTORVILLE, CA",
           "Victorville",
           "San Bernardino",
           "2012-08-11"
          ],
          [
           "3425 N FIRST ST, FRESNO",
           "Fresno",
           "Fresno",
           "2007-08-26"
          ],
          [
           "1110 BEARDSLEY STREET, SAN DIEGO, CA 92112",
           "San Diego",
           "San Diego",
           "2007-02-02"
          ],
          [
           "583 W. 10TH ST., PITTSBURG",
           "Pittsburg",
           "Contra Costa",
           "2006-12-14"
          ],
          [
           "3425 N FIRST ST, FRESNO",
           "Fresno",
           "Fresno",
           "2008-08-06"
          ],
          [
           "2956-A TREAT BOULEVARD",
           "Concord",
           "Contra Costa",
           "2011-02-15"
          ],
          [
           "583 W. 10TH ST., PITTSBURG",
           "Pittsburg",
           "Contra Costa",
           "2000-02-01"
          ],
          [
           "1865 D RUMRILL BLVD, San Pablo",
           "San Pablo",
           "Contra Costa",
           "2010-07-19"
          ],
          [
           "5888 MISSION BLVD., RUBIDOUX",
           "Rubidoux",
           "Riverside",
           "2004-04-13"
          ],
          [
           " Center St",
           "Davenport",
           "Santa Cruz",
           "2000-08-13"
          ],
          [
           "14306 PARK AVE., VICTORVILLE, CA",
           "Victorville",
           "San Bernardino",
           "2011-03-06"
          ],
          [
           "3648 N. LONG BEACH BLVD., LONG BEACH",
           "Long Beach",
           "Los Angeles",
           "2010-09-10"
          ],
          [
           "7201 W. WESTCHESTER PARKWAY",
           "Los Angeles",
           "Los Angeles",
           "2004-06-27"
          ],
          [
           "5551 BETHEL ISLAND RD",
           "Bethel Island",
           "Contra Costa",
           "2005-06-24"
          ],
          [
           "717 SOUTH AVENUE",
           "Eureka",
           "Humboldt",
           "2007-09-19"
          ],
          [
           "1340 Sixth Street",
           "Berkeley",
           "Alameda",
           "2008-08-10"
          ],
          [
           "STS POWER PLANT, VANDENBERG AFB",
           "Vandenberg Air Force Base",
           "Santa Barbara",
           "2009-07-17"
          ],
          [
           "158B JACKSON ST",
           "San Jose",
           "Santa Clara",
           "2009-08-20"
          ],
          [
           " Center St",
           "Davenport",
           "Santa Cruz",
           "2006-01-26"
          ],
          [
           "3425 N FIRST ST, FRESNO",
           "Fresno",
           "Fresno",
           "2011-02-05"
          ],
          [
           "3648 N. LONG BEACH BLVD., LONG BEACH",
           "Long Beach",
           "Los Angeles",
           "2004-05-06"
          ],
          [
           "1630 N MAIN ST, LOS ANGELES",
           "Los Angeles",
           "Los Angeles",
           "2003-05-25"
          ],
          [
           "1630 N MAIN ST, LOS ANGELES",
           "Los Angeles",
           "Los Angeles",
           "2008-06-25"
          ],
          [
           "5888 MISSION BLVD., RUBIDOUX",
           "Rubidoux",
           "Riverside",
           "2014-10-06"
          ],
          [
           "5551 BETHEL ISLAND RD",
           "Bethel Island",
           "Contra Costa",
           "2015-01-16"
          ],
          [
           "STS POWER PLANT, VANDENBERG AFB",
           "Vandenberg Air Force Base",
           "Santa Barbara",
           "2006-05-11"
          ],
          [
           "22601 Voss Ave",
           "Cupertino",
           "Santa Clara",
           "2011-11-16"
          ],
          [
           "2956-A TREAT BOULEVARD",
           "Concord",
           "Contra Costa",
           "2014-06-13"
          ],
          [
           "228 W. PALM AVE., BURBANK",
           "Burbank",
           "Los Angeles",
           "2003-04-09"
          ],
          [
           "2425 Webster St., Long Beach, CA",
           "Long Beach",
           "Los Angeles",
           "2014-04-05"
          ],
          [
           "3648 N. LONG BEACH BLVD., LONG BEACH",
           "Long Beach",
           "Los Angeles",
           "2002-10-12"
          ],
          [
           "3727 N FIRST ST, FRESNO",
           "Fresno",
           "Fresno",
           "2015-07-25"
          ],
          [
           "583 W. 10TH ST., PITTSBURG",
           "Pittsburg",
           "Contra Costa",
           "2008-08-20"
          ],
          [
           "1110 BEARDSLEY STREET, SAN DIEGO, CA 92112",
           "San Diego",
           "San Diego",
           "2010-08-18"
          ],
          [
           "128 S 'H' ST, LOMPOC",
           "Lompoc",
           "Santa Barbara",
           "2009-05-06"
          ],
          [
           "5551 BETHEL ISLAND RD",
           "Bethel Island",
           "Contra Costa",
           "2014-03-06"
          ],
          [
           "2956-A TREAT BOULEVARD",
           "Concord",
           "Contra Costa",
           "2009-03-04"
          ],
          [
           "7201 W. WESTCHESTER PARKWAY",
           "Los Angeles",
           "Los Angeles",
           "2012-12-02"
          ],
          [
           "380 N FAIRVIEW AVENUE, GOLETA",
           "Goleta",
           "Santa Barbara",
           "2003-07-13"
          ],
          [
           "14306 PARK AVE., VICTORVILLE, CA",
           "Victorville",
           "San Bernardino",
           "2000-04-27"
          ],
          [
           "E SECOND ST, BENICIA",
           "Benicia",
           "Solano",
           "2008-03-16"
          ],
          [
           " Center St",
           "Davenport",
           "Santa Cruz",
           "2007-12-07"
          ],
          [
           "1630 N MAIN ST, LOS ANGELES",
           "Los Angeles",
           "Los Angeles",
           "2014-07-08"
          ],
          [
           "LFC #1-LAS FLORES CANYON",
           "Capitan",
           "Santa Barbara",
           "2000-10-27"
          ],
          [
           "2956-A TREAT BOULEVARD",
           "Concord",
           "Contra Costa",
           "2011-03-22"
          ],
          [
           "158B JACKSON ST",
           "San Jose",
           "Santa Clara",
           "2011-11-26"
          ],
          [
           "10 ARKANSAS ST.",
           "San Francisco",
           "San Francisco",
           "2005-05-15"
          ],
          [
           "1029 ETHEL ST, CALEXICO HIGH SCHOOL",
           "Calexico",
           "Imperial",
           "2006-03-12"
          ],
          [
           "3648 N. LONG BEACH BLVD., LONG BEACH",
           "Long Beach",
           "Los Angeles",
           "2013-03-26"
          ],
          [
           "2956-A TREAT BOULEVARD",
           "Concord",
           "Contra Costa",
           "2012-10-01"
          ],
          [
           "STS POWER PLANT, VANDENBERG AFB",
           "Vandenberg Air Force Base",
           "Santa Barbara",
           "2012-09-06"
          ],
          [
           "228 W. PALM AVE., BURBANK",
           "Burbank",
           "Los Angeles",
           "2008-09-02"
          ],
          [
           "7201 W. WESTCHESTER PARKWAY",
           "Los Angeles",
           "Los Angeles",
           "2005-12-01"
          ],
          [
           " Center St",
           "Davenport",
           "Santa Cruz",
           "2007-11-24"
          ],
          [
           "1155 REDWOOD AVE., EL CAJON",
           "El Cajon",
           "San Diego",
           "2011-12-03"
          ],
          [
           " Center St",
           "Davenport",
           "Santa Cruz",
           "2000-12-28"
          ],
          [
           "10 ARKANSAS ST.",
           "San Francisco",
           "San Francisco",
           "2008-02-19"
          ],
          [
           "80 E. 'J' ST., CHULA VISTA",
           "Chula Vista",
           "San Diego",
           "2008-05-30"
          ],
          [
           "304 TUOLUMNE ST.",
           "Vallejo",
           "Solano",
           "2004-05-14"
          ],
          [
           "1100 21st Street",
           "Oakland",
           "Alameda",
           "2012-07-17"
          ],
          [
           "10 ARKANSAS ST.",
           "San Francisco",
           "San Francisco",
           "2000-07-14"
          ],
          [
           "14306 PARK AVE., VICTORVILLE, CA",
           "Victorville",
           "San Bernardino",
           "2007-11-22"
          ],
          [
           "583 W. 10TH ST., PITTSBURG",
           "Pittsburg",
           "Contra Costa",
           "2005-01-22"
          ],
          [
           "2850 MESA VERDE DR EAST, COSTA MESA",
           "Costa Mesa",
           "Orange",
           "2000-07-15"
          ],
          [
           "2425 Webster St., Long Beach, CA",
           "Long Beach",
           "Los Angeles",
           "2010-02-17"
          ],
          [
           "128 S 'H' ST, LOMPOC",
           "Lompoc",
           "Santa Barbara",
           "2011-05-09"
          ],
          [
           "STS POWER PLANT, VANDENBERG AFB",
           "Vandenberg Air Force Base",
           "Santa Barbara",
           "2006-01-05"
          ],
          [
           "80 E. 'J' ST., CHULA VISTA",
           "Chula Vista",
           "San Diego",
           "2001-10-22"
          ],
          [
           "2956-A TREAT BOULEVARD",
           "Concord",
           "Contra Costa",
           "2010-01-22"
          ],
          [
           "2425 Webster St., Long Beach, CA",
           "Long Beach",
           "Los Angeles",
           "2013-02-13"
          ],
          [
           "5551 BETHEL ISLAND RD",
           "Bethel Island",
           "Contra Costa",
           "2012-11-14"
          ],
          [
           " Center St",
           "Davenport",
           "Santa Cruz",
           "2004-02-02"
          ],
          [
           "LFC #1-LAS FLORES CANYON",
           "Capitan",
           "Santa Barbara",
           "2011-07-02"
          ],
          [
           "22601 Voss Ave",
           "Cupertino",
           "Santa Clara",
           "2012-03-29"
          ],
          [
           "1110 BEARDSLEY STREET, SAN DIEGO, CA 92112",
           "San Diego",
           "San Diego",
           "2010-08-13"
          ],
          [
           "1865 D RUMRILL BLVD, San Pablo",
           "San Pablo",
           "Contra Costa",
           "2016-02-09"
          ],
          [
           "STS POWER PLANT, VANDENBERG AFB",
           "Vandenberg Air Force Base",
           "Santa Barbara",
           "2005-07-18"
          ],
          [
           "DEL PASO-2701 AVALON DR, SACRAMENTO",
           "Arden-Arcade",
           "Sacramento",
           "2006-11-19"
          ],
          [
           "5551 BETHEL ISLAND RD",
           "Bethel Island",
           "Contra Costa",
           "2015-11-20"
          ],
          [
           "583 W. 10TH ST., PITTSBURG",
           "Pittsburg",
           "Contra Costa",
           "2002-03-11"
          ],
          [
           "1029 ETHEL ST, CALEXICO HIGH SCHOOL",
           "Calexico",
           "Imperial",
           "2008-03-25"
          ],
          [
           "7201 W. WESTCHESTER PARKWAY",
           "Los Angeles",
           "Los Angeles",
           "2008-02-17"
          ],
          [
           "14306 PARK AVE., VICTORVILLE, CA",
           "Victorville",
           "San Bernardino",
           "2014-03-16"
          ],
          [
           "1029 ETHEL ST, CALEXICO HIGH SCHOOL",
           "Calexico",
           "Imperial",
           "2011-05-21"
          ],
          [
           "5888 MISSION BLVD., RUBIDOUX",
           "Rubidoux",
           "Riverside",
           "2009-02-15"
          ],
          [
           "1865 D RUMRILL BLVD, San Pablo",
           "San Pablo",
           "Contra Costa",
           "2013-08-25"
          ],
          [
           "3425 N FIRST ST, FRESNO",
           "Fresno",
           "Fresno",
           "2007-05-18"
          ],
          [
           "1115 N. MAHAR AVENUE WILMINGTON, CA",
           "West Los Angeles",
           "Los Angeles",
           "2002-03-25"
          ],
          [
           "158B JACKSON ST",
           "San Jose",
           "Santa Clara",
           "2009-03-08"
          ],
          [
           "7201 W. WESTCHESTER PARKWAY",
           "Los Angeles",
           "Los Angeles",
           "2010-05-04"
          ],
          [
           "DEL PASO-2701 AVALON DR, SACRAMENTO",
           "Arden-Arcade",
           "Sacramento",
           "2007-10-30"
          ],
          [
           "1029 ETHEL ST, CALEXICO HIGH SCHOOL",
           "Calexico",
           "Imperial",
           "2009-12-02"
          ],
          [
           "7201 W. WESTCHESTER PARKWAY",
           "Los Angeles",
           "Los Angeles",
           "2012-01-06"
          ],
          [
           "80 E. 'J' ST., CHULA VISTA",
           "Chula Vista",
           "San Diego",
           "2002-05-30"
          ],
          [
           "1110 BEARDSLEY STREET, SAN DIEGO, CA 92112",
           "San Diego",
           "San Diego",
           "2006-10-12"
          ],
          [
           "3425 N FIRST ST, FRESNO",
           "Fresno",
           "Fresno",
           "2009-08-03"
          ],
          [
           "DEL PASO-2701 AVALON DR, SACRAMENTO",
           "Arden-Arcade",
           "Sacramento",
           "2006-01-16"
          ],
          [
           "158B JACKSON ST",
           "San Jose",
           "Santa Clara",
           "2013-05-03"
          ],
          [
           "304 TUOLUMNE ST.",
           "Vallejo",
           "Solano",
           "2004-08-15"
          ],
          [
           "1865 D RUMRILL BLVD, San Pablo",
           "San Pablo",
           "Contra Costa",
           "2014-07-01"
          ],
          [
           "5551 BETHEL ISLAND RD",
           "Bethel Island",
           "Contra Costa",
           "2003-04-27"
          ],
          [
           "1630 N MAIN ST, LOS ANGELES",
           "Los Angeles",
           "Los Angeles",
           "2009-10-08"
          ],
          [
           "14306 PARK AVE., VICTORVILLE, CA",
           "Victorville",
           "San Bernardino",
           "2012-09-06"
          ],
          [
           "5551 BETHEL ISLAND RD",
           "Bethel Island",
           "Contra Costa",
           "2012-10-04"
          ],
          [
           "5888 MISSION BLVD., RUBIDOUX",
           "Rubidoux",
           "Riverside",
           "2012-07-28"
          ],
          [
           "1630 N MAIN ST, LOS ANGELES",
           "Los Angeles",
           "Los Angeles",
           "2004-08-30"
          ],
          [
           "304 TUOLUMNE ST.",
           "Vallejo",
           "Solano",
           "2008-04-13"
          ],
          [
           "STS POWER PLANT, VANDENBERG AFB",
           "Vandenberg Air Force Base",
           "Santa Barbara",
           "2004-11-25"
          ],
          [
           "1029 ETHEL ST, CALEXICO HIGH SCHOOL",
           "Calexico",
           "Imperial",
           "2004-12-22"
          ],
          [
           "DEL PASO-2701 AVALON DR, SACRAMENTO",
           "Arden-Arcade",
           "Sacramento",
           "2003-03-31"
          ],
          [
           "5888 MISSION BLVD., RUBIDOUX",
           "Rubidoux",
           "Riverside",
           "2004-02-12"
          ],
          [
           "14306 PARK AVE., VICTORVILLE, CA",
           "Victorville",
           "San Bernardino",
           "2015-05-07"
          ],
          [
           "1630 N MAIN ST, LOS ANGELES",
           "Los Angeles",
           "Los Angeles",
           "2013-07-01"
          ],
          [
           "14306 PARK AVE., VICTORVILLE, CA",
           "Victorville",
           "San Bernardino",
           "2014-09-23"
          ],
          [
           "1630 N MAIN ST, LOS ANGELES",
           "Los Angeles",
           "Los Angeles",
           "2005-12-16"
          ],
          [
           "380 N FAIRVIEW AVENUE, GOLETA",
           "Goleta",
           "Santa Barbara",
           "2002-02-07"
          ],
          [
           "228 W. PALM AVE., BURBANK",
           "Burbank",
           "Los Angeles",
           "2010-03-07"
          ],
          [
           "10 ARKANSAS ST.",
           "San Francisco",
           "San Francisco",
           "2008-01-10"
          ],
          [
           "STS POWER PLANT, VANDENBERG AFB",
           "Vandenberg Air Force Base",
           "Santa Barbara",
           "2005-05-16"
          ],
          [
           "14360 ARROW BLVD., FONTANA",
           "Fontana",
           "San Bernardino",
           "2012-08-07"
          ],
          [
           "228 W. PALM AVE., BURBANK",
           "Burbank",
           "Los Angeles",
           "2002-01-19"
          ],
          [
           "DEL PASO-2701 AVALON DR, SACRAMENTO",
           "Arden-Arcade",
           "Sacramento",
           "2013-11-12"
          ],
          [
           "128 S 'H' ST, LOMPOC",
           "Lompoc",
           "Santa Barbara",
           "2002-08-22"
          ],
          [
           "1340 Sixth Street",
           "Berkeley",
           "Alameda",
           "2009-04-13"
          ],
          [
           "5888 MISSION BLVD., RUBIDOUX",
           "Rubidoux",
           "Riverside",
           "2005-05-28"
          ],
          [
           "1005 W. WELDON AVENUE",
           "Fresno",
           "Fresno",
           "2003-04-18"
          ],
          [
           "1098 POMONA STREET",
           "Crockett",
           "Contra Costa",
           "2002-03-09"
          ],
          [
           "330A 12TH AVE., SAN DIEGO, CA. 92112",
           "San Diego",
           "San Diego",
           "2003-06-14"
          ],
          [
           "1340 Sixth Street",
           "Berkeley",
           "Alameda",
           "2010-07-27"
          ],
          [
           "228 W. PALM AVE., BURBANK",
           "Burbank",
           "Los Angeles",
           "2002-10-22"
          ],
          [
           "1029 ETHEL ST, CALEXICO HIGH SCHOOL",
           "Calexico",
           "Imperial",
           "2000-06-17"
          ],
          [
           "STS POWER PLANT, VANDENBERG AFB",
           "Vandenberg Air Force Base",
           "Santa Barbara",
           "2005-07-17"
          ],
          [
           "7201 W. WESTCHESTER PARKWAY",
           "Los Angeles",
           "Los Angeles",
           "2010-08-31"
          ],
          [
           "5234 W. 120TH ST., HAWTHORNE",
           "Hawthorne",
           "Los Angeles",
           "2003-05-20"
          ],
          [
           "1630 N MAIN ST, LOS ANGELES",
           "Los Angeles",
           "Los Angeles",
           "2006-10-22"
          ],
          [
           "5551 BETHEL ISLAND RD",
           "Bethel Island",
           "Contra Costa",
           "2008-07-24"
          ],
          [
           "1100 PASEO INTERNATIONAL, OTAY MESA, CA",
           "San Diego",
           "San Diego",
           "2003-12-21"
          ],
          [
           "380 N FAIRVIEW AVENUE, GOLETA",
           "Goleta",
           "Santa Barbara",
           "2008-05-19"
          ],
          [
           "1029 ETHEL ST, CALEXICO HIGH SCHOOL",
           "Calexico",
           "Imperial",
           "2006-07-19"
          ],
          [
           "STS POWER PLANT, VANDENBERG AFB",
           "Vandenberg Air Force Base",
           "Santa Barbara",
           "2009-05-16"
          ],
          [
           "1630 N MAIN ST, LOS ANGELES",
           "Los Angeles",
           "Los Angeles",
           "2008-05-09"
          ],
          [
           "2850 MESA VERDE DR EAST, COSTA MESA",
           "Costa Mesa",
           "Orange",
           "2005-12-02"
          ],
          [
           "228 W. PALM AVE., BURBANK",
           "Burbank",
           "Los Angeles",
           "2004-07-01"
          ],
          [
           "14360 ARROW BLVD., FONTANA",
           "Fontana",
           "San Bernardino",
           "2010-08-03"
          ],
          [
           "1098 POMONA STREET",
           "Crockett",
           "Contra Costa",
           "2002-01-13"
          ],
          [
           "1100 PASEO INTERNATIONAL, OTAY MESA, CA",
           "San Diego",
           "San Diego",
           "2007-03-13"
          ],
          [
           "1155 REDWOOD AVE., EL CAJON",
           "El Cajon",
           "San Diego",
           "2011-04-06"
          ],
          [
           "STS POWER PLANT, VANDENBERG AFB",
           "Vandenberg Air Force Base",
           "Santa Barbara",
           "2006-06-21"
          ],
          [
           "DEL PASO-2701 AVALON DR, SACRAMENTO",
           "Arden-Arcade",
           "Sacramento",
           "2005-08-13"
          ],
          [
           "330A 12TH AVE., SAN DIEGO, CA. 92112",
           "San Diego",
           "San Diego",
           "2003-06-23"
          ],
          [
           "5888 MISSION BLVD., RUBIDOUX",
           "Rubidoux",
           "Riverside",
           "2013-08-22"
          ],
          [
           "1865 D RUMRILL BLVD, San Pablo",
           "San Pablo",
           "Contra Costa",
           "2003-10-23"
          ],
          [
           "380 N FAIRVIEW AVENUE, GOLETA",
           "Goleta",
           "Santa Barbara",
           "2004-08-03"
          ],
          [
           "2956-A TREAT BOULEVARD",
           "Concord",
           "Contra Costa",
           "2013-08-29"
          ],
          [
           "304 TUOLUMNE ST.",
           "Vallejo",
           "Solano",
           "2007-09-08"
          ],
          [
           "158B JACKSON ST",
           "San Jose",
           "Santa Clara",
           "2011-01-05"
          ],
          [
           "1865 D RUMRILL BLVD, San Pablo",
           "San Pablo",
           "Contra Costa",
           "2007-07-20"
          ],
          [
           "304 TUOLUMNE ST.",
           "Vallejo",
           "Solano",
           "2001-11-08"
          ],
          [
           "2956-A TREAT BOULEVARD",
           "Concord",
           "Contra Costa",
           "2000-01-28"
          ],
          [
           "1029 ETHEL ST, CALEXICO HIGH SCHOOL",
           "Calexico",
           "Imperial",
           "2013-04-12"
          ],
          [
           "1110 BEARDSLEY STREET, SAN DIEGO, CA 92112",
           "San Diego",
           "San Diego",
           "2006-12-09"
          ],
          [
           "3648 N. LONG BEACH BLVD., LONG BEACH",
           "Long Beach",
           "Los Angeles",
           "2008-02-09"
          ],
          [
           "10 ARKANSAS ST.",
           "San Francisco",
           "San Francisco",
           "2003-08-24"
          ],
          [
           "3425 N FIRST ST, FRESNO",
           "Fresno",
           "Fresno",
           "2009-12-06"
          ],
          [
           "3648 N. LONG BEACH BLVD., LONG BEACH",
           "Long Beach",
           "Los Angeles",
           "2008-03-08"
          ],
          [
           "1865 D RUMRILL BLVD, San Pablo",
           "San Pablo",
           "Contra Costa",
           "2014-03-25"
          ],
          [
           "1110 BEARDSLEY STREET, SAN DIEGO, CA 92112",
           "San Diego",
           "San Diego",
           "2009-09-29"
          ],
          [
           "158B JACKSON ST",
           "San Jose",
           "Santa Clara",
           "2009-05-19"
          ],
          [
           "5551 BETHEL ISLAND RD",
           "Bethel Island",
           "Contra Costa",
           "2009-04-08"
          ],
          [
           "304 TUOLUMNE ST.",
           "Vallejo",
           "Solano",
           "2004-12-20"
          ],
          [
           "3648 N. LONG BEACH BLVD., LONG BEACH",
           "Long Beach",
           "Los Angeles",
           "2013-07-16"
          ],
          [
           "1865 D RUMRILL BLVD, San Pablo",
           "San Pablo",
           "Contra Costa",
           "2009-02-14"
          ],
          [
           "10 ARKANSAS ST.",
           "San Francisco",
           "San Francisco",
           "2006-07-13"
          ],
          [
           "2425 Webster St., Long Beach, CA",
           "Long Beach",
           "Los Angeles",
           "2014-08-25"
          ],
          [
           "5888 MISSION BLVD., RUBIDOUX",
           "Rubidoux",
           "Riverside",
           "2004-03-05"
          ],
          [
           "1100 PASEO INTERNATIONAL, OTAY MESA, CA",
           "San Diego",
           "San Diego",
           "2006-11-05"
          ],
          [
           "5888 MISSION BLVD., RUBIDOUX",
           "Rubidoux",
           "Riverside",
           "2013-03-30"
          ],
          [
           "STS POWER PLANT, VANDENBERG AFB",
           "Vandenberg Air Force Base",
           "Santa Barbara",
           "2001-08-14"
          ],
          [
           "1340 Sixth Street",
           "Berkeley",
           "Alameda",
           "2010-10-21"
          ],
          [
           "UNIT 759 EL PORTAL SHOPPING CENTER, San Pablo",
           "San Pablo",
           "Contra Costa",
           "2000-11-05"
          ],
          [
           "1100 21st Street",
           "Oakland",
           "Alameda",
           "2012-04-17"
          ],
          [
           "LFC #1-LAS FLORES CANYON",
           "Capitan",
           "Santa Barbara",
           "2001-09-08"
          ],
          [
           "5888 MISSION BLVD., RUBIDOUX",
           "Rubidoux",
           "Riverside",
           "2000-08-31"
          ],
          [
           "2850 MESA VERDE DR EAST, COSTA MESA",
           "Costa Mesa",
           "Orange",
           "2014-11-28"
          ],
          [
           "5234 W. 120TH ST., HAWTHORNE",
           "Hawthorne",
           "Los Angeles",
           "2002-10-11"
          ],
          [
           "E SECOND ST, BENICIA",
           "Benicia",
           "Solano",
           "2007-06-01"
          ],
          [
           "583 W. 10TH ST., PITTSBURG",
           "Pittsburg",
           "Contra Costa",
           "2002-07-10"
          ],
          [
           "3648 N. LONG BEACH BLVD., LONG BEACH",
           "Long Beach",
           "Los Angeles",
           "2001-08-26"
          ],
          [
           "STS POWER PLANT, VANDENBERG AFB",
           "Vandenberg Air Force Base",
           "Santa Barbara",
           "2011-02-03"
          ],
          [
           "5551 BETHEL ISLAND RD",
           "Bethel Island",
           "Contra Costa",
           "2004-10-13"
          ],
          [
           "5888 MISSION BLVD., RUBIDOUX",
           "Rubidoux",
           "Riverside",
           "2010-04-01"
          ],
          [
           "LFC #1-LAS FLORES CANYON",
           "Capitan",
           "Santa Barbara",
           "2012-01-20"
          ],
          [
           "2850 MESA VERDE DR EAST, COSTA MESA",
           "Costa Mesa",
           "Orange",
           "2002-06-10"
          ],
          [
           "1029 ETHEL ST, CALEXICO HIGH SCHOOL",
           "Calexico",
           "Imperial",
           "2015-08-24"
          ],
          [
           "583 W. 10TH ST., PITTSBURG",
           "Pittsburg",
           "Contra Costa",
           "2001-11-14"
          ],
          [
           "158B JACKSON ST",
           "San Jose",
           "Santa Clara",
           "2010-01-20"
          ],
          [
           "128 S 'H' ST, LOMPOC",
           "Lompoc",
           "Santa Barbara",
           "2005-03-15"
          ],
          [
           "LFC #1-LAS FLORES CANYON",
           "Capitan",
           "Santa Barbara",
           "2013-07-26"
          ],
          [
           "304 TUOLUMNE ST.",
           "Vallejo",
           "Solano",
           "2009-12-26"
          ],
          [
           "1630 N MAIN ST, LOS ANGELES",
           "Los Angeles",
           "Los Angeles",
           "2000-09-13"
          ],
          [
           "380 N FAIRVIEW AVENUE, GOLETA",
           "Goleta",
           "Santa Barbara",
           "2008-08-13"
          ],
          [
           "5888 MISSION BLVD., RUBIDOUX",
           "Rubidoux",
           "Riverside",
           "2007-01-23"
          ],
          [
           "10 ARKANSAS ST.",
           "San Francisco",
           "San Francisco",
           "2005-05-12"
          ],
          [
           "128 S 'H' ST, LOMPOC",
           "Lompoc",
           "Santa Barbara",
           "2004-05-21"
          ],
          [
           "330A 12TH AVE., SAN DIEGO, CA. 92112",
           "San Diego",
           "San Diego",
           "2000-09-16"
          ],
          [
           "1155 REDWOOD AVE., EL CAJON",
           "El Cajon",
           "San Diego",
           "2013-02-16"
          ],
          [
           "LFC #1-LAS FLORES CANYON",
           "Capitan",
           "Santa Barbara",
           "2009-03-23"
          ],
          [
           "1630 N MAIN ST, LOS ANGELES",
           "Los Angeles",
           "Los Angeles",
           "2005-06-18"
          ],
          [
           "STS POWER PLANT, VANDENBERG AFB",
           "Vandenberg Air Force Base",
           "Santa Barbara",
           "2008-12-01"
          ],
          [
           "304 TUOLUMNE ST.",
           "Vallejo",
           "Solano",
           "2005-11-24"
          ],
          [
           "2425 Webster St., Long Beach, CA",
           "Long Beach",
           "Los Angeles",
           "2013-11-13"
          ],
          [
           "STS POWER PLANT, VANDENBERG AFB",
           "Vandenberg Air Force Base",
           "Santa Barbara",
           "2005-10-20"
          ],
          [
           "1029 ETHEL ST, CALEXICO HIGH SCHOOL",
           "Calexico",
           "Imperial",
           "2009-03-29"
          ],
          [
           "3648 N. LONG BEACH BLVD., LONG BEACH",
           "Long Beach",
           "Los Angeles",
           "2011-09-27"
          ],
          [
           "80 E. 'J' ST., CHULA VISTA",
           "Chula Vista",
           "San Diego",
           "2003-07-16"
          ],
          [
           "DEL PASO-2701 AVALON DR, SACRAMENTO",
           "Arden-Arcade",
           "Sacramento",
           "2004-07-29"
          ],
          [
           "5888 MISSION BLVD., RUBIDOUX",
           "Rubidoux",
           "Riverside",
           "2006-06-06"
          ],
          [
           "304 TUOLUMNE ST.",
           "Vallejo",
           "Solano",
           "2015-04-02"
          ],
          [
           "1100 PASEO INTERNATIONAL, OTAY MESA, CA",
           "San Diego",
           "San Diego",
           "2004-10-15"
          ],
          [
           "5888 MISSION BLVD., RUBIDOUX",
           "Rubidoux",
           "Riverside",
           "2008-12-16"
          ],
          [
           "DEL PASO-2701 AVALON DR, SACRAMENTO",
           "Arden-Arcade",
           "Sacramento",
           "2011-06-29"
          ],
          [
           "7201 W. WESTCHESTER PARKWAY",
           "Los Angeles",
           "Los Angeles",
           "2005-11-26"
          ],
          [
           "14306 PARK AVE., VICTORVILLE, CA",
           "Victorville",
           "San Bernardino",
           "2002-12-07"
          ],
          [
           "80 E. 'J' ST., CHULA VISTA",
           "Chula Vista",
           "San Diego",
           "2001-07-23"
          ],
          [
           "330A 12TH AVE., SAN DIEGO, CA. 92112",
           "San Diego",
           "San Diego",
           "2003-02-23"
          ],
          [
           "330A 12TH AVE., SAN DIEGO, CA. 92112",
           "San Diego",
           "San Diego",
           "2001-03-16"
          ],
          [
           "1005 W. WELDON AVENUE",
           "Fresno",
           "Fresno",
           "2003-06-13"
          ],
          [
           "5551 BETHEL ISLAND RD",
           "Bethel Island",
           "Contra Costa",
           "2014-10-24"
          ],
          [
           "2956-A TREAT BOULEVARD",
           "Concord",
           "Contra Costa",
           "2015-09-27"
          ],
          [
           "380 N FAIRVIEW AVENUE, GOLETA",
           "Goleta",
           "Santa Barbara",
           "2001-01-24"
          ],
          [
           "LFC #1-LAS FLORES CANYON",
           "Capitan",
           "Santa Barbara",
           "2014-04-10"
          ],
          [
           "158B JACKSON ST",
           "San Jose",
           "Santa Clara",
           "2012-09-29"
          ],
          [
           "2956-A TREAT BOULEVARD",
           "Concord",
           "Contra Costa",
           "2004-12-15"
          ],
          [
           "1865 D RUMRILL BLVD, San Pablo",
           "San Pablo",
           "Contra Costa",
           "2014-05-20"
          ],
          [
           "2956-A TREAT BOULEVARD",
           "Concord",
           "Contra Costa",
           "2000-01-17"
          ],
          [
           "1630 N MAIN ST, LOS ANGELES",
           "Los Angeles",
           "Los Angeles",
           "2014-10-18"
          ],
          [
           "STS POWER PLANT, VANDENBERG AFB",
           "Vandenberg Air Force Base",
           "Santa Barbara",
           "2000-08-18"
          ],
          [
           "1630 N MAIN ST, LOS ANGELES",
           "Los Angeles",
           "Los Angeles",
           "2003-11-06"
          ],
          [
           "583 W. 10TH ST., PITTSBURG",
           "Pittsburg",
           "Contra Costa",
           "2000-06-03"
          ],
          [
           "5234 W. 120TH ST., HAWTHORNE",
           "Hawthorne",
           "Los Angeles",
           "2001-11-21"
          ],
          [
           "10 ARKANSAS ST.",
           "San Francisco",
           "San Francisco",
           "2003-03-03"
          ],
          [
           "380 N FAIRVIEW AVENUE, GOLETA",
           "Goleta",
           "Santa Barbara",
           "2006-11-06"
          ],
          [
           "UNIT 759 EL PORTAL SHOPPING CENTER, San Pablo",
           "San Pablo",
           "Contra Costa",
           "2001-12-30"
          ],
          [
           "14306 PARK AVE., VICTORVILLE, CA",
           "Victorville",
           "San Bernardino",
           "2004-02-12"
          ],
          [
           "1340 Sixth Street",
           "Berkeley",
           "Alameda",
           "2010-01-04"
          ],
          [
           "1630 N MAIN ST, LOS ANGELES",
           "Los Angeles",
           "Los Angeles",
           "2002-09-21"
          ],
          [
           "UNIT 759 EL PORTAL SHOPPING CENTER, San Pablo",
           "San Pablo",
           "Contra Costa",
           "2000-12-23"
          ],
          [
           "1100 PASEO INTERNATIONAL, OTAY MESA, CA",
           "San Diego",
           "San Diego",
           "2001-04-28"
          ],
          [
           "2956-A TREAT BOULEVARD",
           "Concord",
           "Contra Costa",
           "2003-02-16"
          ],
          [
           "228 W. PALM AVE., BURBANK",
           "Burbank",
           "Los Angeles",
           "2003-08-16"
          ],
          [
           "304 TUOLUMNE ST.",
           "Vallejo",
           "Solano",
           "2001-10-01"
          ],
          [
           "2425 Webster St., Long Beach, CA",
           "Long Beach",
           "Los Angeles",
           "2013-02-16"
          ],
          [
           "1630 N MAIN ST, LOS ANGELES",
           "Los Angeles",
           "Los Angeles",
           "2005-08-09"
          ],
          [
           "3425 N FIRST ST, FRESNO",
           "Fresno",
           "Fresno",
           "2011-09-26"
          ],
          [
           "1340 Sixth Street",
           "Berkeley",
           "Alameda",
           "2009-12-02"
          ],
          [
           "583 W. 10TH ST., PITTSBURG",
           "Pittsburg",
           "Contra Costa",
           "2004-05-04"
          ],
          [
           "80 E. 'J' ST., CHULA VISTA",
           "Chula Vista",
           "San Diego",
           "2005-07-13"
          ],
          [
           "5888 MISSION BLVD., RUBIDOUX",
           "Rubidoux",
           "Riverside",
           "2012-01-01"
          ],
          [
           "5551 BETHEL ISLAND RD",
           "Bethel Island",
           "Contra Costa",
           "2013-08-06"
          ],
          [
           "228 W. PALM AVE., BURBANK",
           "Burbank",
           "Los Angeles",
           "2003-06-14"
          ],
          [
           "STS POWER PLANT, VANDENBERG AFB",
           "Vandenberg Air Force Base",
           "Santa Barbara",
           "2011-04-29"
          ],
          [
           "2425 Webster St., Long Beach, CA",
           "Long Beach",
           "Los Angeles",
           "2010-06-09"
          ],
          [
           "5888 MISSION BLVD., RUBIDOUX",
           "Rubidoux",
           "Riverside",
           "2011-05-09"
          ],
          [
           "330A 12TH AVE., SAN DIEGO, CA. 92112",
           "San Diego",
           "San Diego",
           "2002-05-10"
          ],
          [
           "1340 Sixth Street",
           "Berkeley",
           "Alameda",
           "2010-12-10"
          ],
          [
           "1029 ETHEL ST, CALEXICO HIGH SCHOOL",
           "Calexico",
           "Imperial",
           "2004-01-08"
          ],
          [
           "6701 INTERNATIONAL BLVD",
           "Oakland",
           "Alameda",
           "2001-12-31"
          ],
          [
           "STS POWER PLANT, VANDENBERG AFB",
           "Vandenberg Air Force Base",
           "Santa Barbara",
           "2007-07-09"
          ],
          [
           "228 W. PALM AVE., BURBANK",
           "Burbank",
           "Los Angeles",
           "2012-06-04"
          ],
          [
           "1029 ETHEL ST, CALEXICO HIGH SCHOOL",
           "Calexico",
           "Imperial",
           "2011-06-11"
          ],
          [
           "1098 POMONA STREET",
           "Crockett",
           "Contra Costa",
           "2002-06-20"
          ],
          [
           "2956-A TREAT BOULEVARD",
           "Concord",
           "Contra Costa",
           "2008-07-21"
          ],
          [
           "2850 MESA VERDE DR EAST, COSTA MESA",
           "Costa Mesa",
           "Orange",
           "2004-01-14"
          ],
          [
           "10 ARKANSAS ST.",
           "San Francisco",
           "San Francisco",
           "2007-11-30"
          ],
          [
           "14306 PARK AVE., VICTORVILLE, CA",
           "Victorville",
           "San Bernardino",
           "2007-09-25"
          ],
          [
           "7201 W. WESTCHESTER PARKWAY",
           "Los Angeles",
           "Los Angeles",
           "2006-02-15"
          ],
          [
           "1029 ETHEL ST, CALEXICO HIGH SCHOOL",
           "Calexico",
           "Imperial",
           "2013-03-01"
          ],
          [
           "128 S 'H' ST, LOMPOC",
           "Lompoc",
           "Santa Barbara",
           "2004-04-25"
          ],
          [
           "228 W. PALM AVE., BURBANK",
           "Burbank",
           "Los Angeles",
           "2008-08-04"
          ],
          [
           "LFC #1-LAS FLORES CANYON",
           "Capitan",
           "Santa Barbara",
           "2006-08-30"
          ],
          [
           "14306 PARK AVE., VICTORVILLE, CA",
           "Victorville",
           "San Bernardino",
           "2011-06-14"
          ],
          [
           "228 W. PALM AVE., BURBANK",
           "Burbank",
           "Los Angeles",
           "2011-02-25"
          ],
          [
           "1630 N MAIN ST, LOS ANGELES",
           "Los Angeles",
           "Los Angeles",
           "2008-02-28"
          ],
          [
           "1630 N MAIN ST, LOS ANGELES",
           "Los Angeles",
           "Los Angeles",
           "2002-02-19"
          ],
          [
           "128 S 'H' ST, LOMPOC",
           "Lompoc",
           "Santa Barbara",
           "2014-02-23"
          ],
          [
           "2956-A TREAT BOULEVARD",
           "Concord",
           "Contra Costa",
           "2008-07-25"
          ],
          [
           "304 TUOLUMNE ST.",
           "Vallejo",
           "Solano",
           "2009-10-24"
          ],
          [
           "3425 N FIRST ST, FRESNO",
           "Fresno",
           "Fresno",
           "2009-06-03"
          ],
          [
           "STS POWER PLANT, VANDENBERG AFB",
           "Vandenberg Air Force Base",
           "Santa Barbara",
           "2003-12-09"
          ],
          [
           "2956-A TREAT BOULEVARD",
           "Concord",
           "Contra Costa",
           "2007-02-10"
          ],
          [
           "LFC #1-LAS FLORES CANYON",
           "Capitan",
           "Santa Barbara",
           "2005-10-09"
          ],
          [
           "MOBILE",
           "Fresno",
           "Fresno",
           "2003-07-22"
          ],
          [
           "14306 PARK AVE., VICTORVILLE, CA",
           "Victorville",
           "San Bernardino",
           "2004-10-07"
          ],
          [
           "2850 MESA VERDE DR EAST, COSTA MESA",
           "Costa Mesa",
           "Orange",
           "2002-08-14"
          ],
          [
           "1100 PASEO INTERNATIONAL, OTAY MESA, CA",
           "San Diego",
           "San Diego",
           "2009-02-27"
          ],
          [
           "1110 BEARDSLEY STREET, SAN DIEGO, CA 92112",
           "San Diego",
           "San Diego",
           "2006-02-11"
          ],
          [
           "10 ARKANSAS ST.",
           "San Francisco",
           "San Francisco",
           "2005-06-28"
          ],
          [
           "1110 BEARDSLEY STREET, SAN DIEGO, CA 92112",
           "San Diego",
           "San Diego",
           "2006-11-08"
          ],
          [
           " Center St",
           "Davenport",
           "Santa Cruz",
           "2001-07-07"
          ],
          [
           "304 TUOLUMNE ST.",
           "Vallejo",
           "Solano",
           "2009-02-11"
          ],
          [
           "1630 N MAIN ST, LOS ANGELES",
           "Los Angeles",
           "Los Angeles",
           "2009-10-27"
          ],
          [
           "1110 BEARDSLEY STREET, SAN DIEGO, CA 92112",
           "San Diego",
           "San Diego",
           "2009-07-26"
          ],
          [
           "7201 W. WESTCHESTER PARKWAY",
           "Los Angeles",
           "Los Angeles",
           "2009-12-26"
          ],
          [
           "1100 PASEO INTERNATIONAL, OTAY MESA, CA",
           "San Diego",
           "San Diego",
           "2004-05-27"
          ],
          [
           "2956-A TREAT BOULEVARD",
           "Concord",
           "Contra Costa",
           "2006-12-03"
          ],
          [
           "22601 Voss Ave",
           "Cupertino",
           "Santa Clara",
           "2012-03-13"
          ],
          [
           "228 W. PALM AVE., BURBANK",
           "Burbank",
           "Los Angeles",
           "2012-04-30"
          ],
          [
           "1110 BEARDSLEY STREET, SAN DIEGO, CA 92112",
           "San Diego",
           "San Diego",
           "2011-02-02"
          ],
          [
           "7201 W. WESTCHESTER PARKWAY",
           "Los Angeles",
           "Los Angeles",
           "2006-08-20"
          ],
          [
           "2850 MESA VERDE DR EAST, COSTA MESA",
           "Costa Mesa",
           "Orange",
           "2000-02-03"
          ],
          [
           "228 W. PALM AVE., BURBANK",
           "Burbank",
           "Los Angeles",
           "2005-04-01"
          ],
          [
           "128 S 'H' ST, LOMPOC",
           "Lompoc",
           "Santa Barbara",
           "2005-04-30"
          ],
          [
           "380 N FAIRVIEW AVENUE, GOLETA",
           "Goleta",
           "Santa Barbara",
           "2007-06-24"
          ],
          [
           "3727 N FIRST ST, FRESNO",
           "Fresno",
           "Fresno",
           "2013-09-21"
          ],
          [
           "1630 N MAIN ST, LOS ANGELES",
           "Los Angeles",
           "Los Angeles",
           "2009-09-11"
          ],
          [
           "2956-A TREAT BOULEVARD",
           "Concord",
           "Contra Costa",
           "2012-01-01"
          ],
          [
           "2425 Webster St., Long Beach, CA",
           "Long Beach",
           "Los Angeles",
           "2011-08-18"
          ],
          [
           "158B JACKSON ST",
           "San Jose",
           "Santa Clara",
           "2012-12-16"
          ],
          [
           "228 W. PALM AVE., BURBANK",
           "Burbank",
           "Los Angeles",
           "2006-01-30"
          ],
          [
           "330A 12TH AVE., SAN DIEGO, CA. 92112",
           "San Diego",
           "San Diego",
           "2004-02-03"
          ],
          [
           "1029 ETHEL ST, CALEXICO HIGH SCHOOL",
           "Calexico",
           "Imperial",
           "2004-05-01"
          ],
          [
           "1115 N. MAHAR AVENUE WILMINGTON, CA",
           "West Los Angeles",
           "Los Angeles",
           "2002-06-25"
          ],
          [
           "1110 BEARDSLEY STREET, SAN DIEGO, CA 92112",
           "San Diego",
           "San Diego",
           "2008-11-04"
          ],
          [
           "2850 MESA VERDE DR EAST, COSTA MESA",
           "Costa Mesa",
           "Orange",
           "2009-03-06"
          ],
          [
           "304 TUOLUMNE ST.",
           "Vallejo",
           "Solano",
           "2014-07-12"
          ],
          [
           "14306 PARK AVE., VICTORVILLE, CA",
           "Victorville",
           "San Bernardino",
           "2008-02-26"
          ],
          [
           "5888 MISSION BLVD., RUBIDOUX",
           "Rubidoux",
           "Riverside",
           "2013-09-14"
          ],
          [
           "80 E. 'J' ST., CHULA VISTA",
           "Chula Vista",
           "San Diego",
           "2000-04-14"
          ],
          [
           "7201 W. WESTCHESTER PARKWAY",
           "Los Angeles",
           "Los Angeles",
           "2007-07-22"
          ],
          [
           "5888 MISSION BLVD., RUBIDOUX",
           "Rubidoux",
           "Riverside",
           "2011-09-17"
          ],
          [
           "128 S 'H' ST, LOMPOC",
           "Lompoc",
           "Santa Barbara",
           "2005-08-01"
          ],
          [
           "3648 N. LONG BEACH BLVD., LONG BEACH",
           "Long Beach",
           "Los Angeles",
           "2009-04-28"
          ],
          [
           "1029 ETHEL ST, CALEXICO HIGH SCHOOL",
           "Calexico",
           "Imperial",
           "2011-01-14"
          ],
          [
           "158B JACKSON ST",
           "San Jose",
           "Santa Clara",
           "2013-09-29"
          ],
          [
           "1100 PASEO INTERNATIONAL, OTAY MESA, CA",
           "San Diego",
           "San Diego",
           "2000-01-24"
          ],
          [
           "1029 ETHEL ST, CALEXICO HIGH SCHOOL",
           "Calexico",
           "Imperial",
           "2011-11-26"
          ],
          [
           "10 ARKANSAS ST.",
           "San Francisco",
           "San Francisco",
           "2001-12-15"
          ],
          [
           "1029 ETHEL ST, CALEXICO HIGH SCHOOL",
           "Calexico",
           "Imperial",
           "2004-12-09"
          ],
          [
           "STS POWER PLANT, VANDENBERG AFB",
           "Vandenberg Air Force Base",
           "Santa Barbara",
           "2000-09-13"
          ],
          [
           "717 SOUTH AVENUE",
           "Eureka",
           "Humboldt",
           "2011-08-27"
          ],
          [
           "3648 N. LONG BEACH BLVD., LONG BEACH",
           "Long Beach",
           "Los Angeles",
           "2004-01-31"
          ],
          [
           "5551 BETHEL ISLAND RD",
           "Bethel Island",
           "Contra Costa",
           "2005-08-13"
          ],
          [
           "80 E. 'J' ST., CHULA VISTA",
           "Chula Vista",
           "San Diego",
           "2004-12-06"
          ],
          [
           "1110 BEARDSLEY STREET, SAN DIEGO, CA 92112",
           "San Diego",
           "San Diego",
           "2010-01-24"
          ],
          [
           "1155 REDWOOD AVE., EL CAJON",
           "El Cajon",
           "San Diego",
           "2011-04-29"
          ],
          [
           "304 TUOLUMNE ST.",
           "Vallejo",
           "Solano",
           "2006-02-11"
          ],
          [
           "10537 FLOYD SMITH DRIVE",
           "El Cajon",
           "San Diego",
           "2015-09-11"
          ],
          [
           "14306 PARK AVE., VICTORVILLE, CA",
           "Victorville",
           "San Bernardino",
           "2005-01-26"
          ],
          [
           "14306 PARK AVE., VICTORVILLE, CA",
           "Victorville",
           "San Bernardino",
           "2013-09-10"
          ],
          [
           "1098 POMONA STREET",
           "Crockett",
           "Contra Costa",
           "2001-10-08"
          ],
          [
           "2425 Webster St., Long Beach, CA",
           "Long Beach",
           "Los Angeles",
           "2010-07-28"
          ],
          [
           "100 WHITNEY YOUNG CIRCLE, SAN FRANCISCO",
           "San Francisco",
           "San Francisco",
           "2005-06-10"
          ],
          [
           "128 S 'H' ST, LOMPOC",
           "Lompoc",
           "Santa Barbara",
           "2013-11-27"
          ],
          [
           "5888 MISSION BLVD., RUBIDOUX",
           "Rubidoux",
           "Riverside",
           "2010-03-02"
          ],
          [
           "2956-A TREAT BOULEVARD",
           "Concord",
           "Contra Costa",
           "2013-09-22"
          ],
          [
           "10 ARKANSAS ST.",
           "San Francisco",
           "San Francisco",
           "2003-03-11"
          ],
          [
           "5551 BETHEL ISLAND RD",
           "Bethel Island",
           "Contra Costa",
           "2012-04-04"
          ],
          [
           "1110 BEARDSLEY STREET, SAN DIEGO, CA 92112",
           "San Diego",
           "San Diego",
           "2006-08-21"
          ],
          [
           "2850 MESA VERDE DR EAST, COSTA MESA",
           "Costa Mesa",
           "Orange",
           "2002-03-18"
          ],
          [
           "304 TUOLUMNE ST.",
           "Vallejo",
           "Solano",
           "2009-04-19"
          ],
          [
           "304 TUOLUMNE ST.",
           "Vallejo",
           "Solano",
           "2004-09-26"
          ],
          [
           "DEL PASO-2701 AVALON DR, SACRAMENTO",
           "Arden-Arcade",
           "Sacramento",
           "2001-06-01"
          ],
          [
           "1110 BEARDSLEY STREET, SAN DIEGO, CA 92112",
           "San Diego",
           "San Diego",
           "2009-01-16"
          ],
          [
           "3425 N FIRST ST, FRESNO",
           "Fresno",
           "Fresno",
           "2011-09-20"
          ],
          [
           "1865 D RUMRILL BLVD, San Pablo",
           "San Pablo",
           "Contra Costa",
           "2012-08-05"
          ],
          [
           "5551 BETHEL ISLAND RD",
           "Bethel Island",
           "Contra Costa",
           "2005-11-26"
          ],
          [
           "DEL PASO-2701 AVALON DR, SACRAMENTO",
           "Arden-Arcade",
           "Sacramento",
           "2004-07-21"
          ],
          [
           "DEL PASO-2701 AVALON DR, SACRAMENTO",
           "Arden-Arcade",
           "Sacramento",
           "2005-03-09"
          ],
          [
           "1630 N MAIN ST, LOS ANGELES",
           "Los Angeles",
           "Los Angeles",
           "2004-01-06"
          ],
          [
           "14306 PARK AVE., VICTORVILLE, CA",
           "Victorville",
           "San Bernardino",
           "2013-05-10"
          ],
          [
           "7201 W. WESTCHESTER PARKWAY",
           "Los Angeles",
           "Los Angeles",
           "2007-09-17"
          ],
          [
           "3648 N. LONG BEACH BLVD., LONG BEACH",
           "Long Beach",
           "Los Angeles",
           "2012-08-04"
          ],
          [
           "3648 N. LONG BEACH BLVD., LONG BEACH",
           "Long Beach",
           "Los Angeles",
           "2010-09-13"
          ],
          [
           "1630 N MAIN ST, LOS ANGELES",
           "Los Angeles",
           "Los Angeles",
           "2013-09-05"
          ],
          [
           "2850 MESA VERDE DR EAST, COSTA MESA",
           "Costa Mesa",
           "Orange",
           "2013-04-28"
          ],
          [
           " Center St",
           "Davenport",
           "Santa Cruz",
           "2001-08-27"
          ],
          [
           "228 W. PALM AVE., BURBANK",
           "Burbank",
           "Los Angeles",
           "2012-03-13"
          ],
          [
           "304 TUOLUMNE ST.",
           "Vallejo",
           "Solano",
           "2009-09-16"
          ],
          [
           "2956-A TREAT BOULEVARD",
           "Concord",
           "Contra Costa",
           "2008-04-18"
          ],
          [
           "3727 N FIRST ST, FRESNO",
           "Fresno",
           "Fresno",
           "2015-06-12"
          ],
          [
           " Center St",
           "Davenport",
           "Santa Cruz",
           "2002-06-09"
          ],
          [
           "STS POWER PLANT, VANDENBERG AFB",
           "Vandenberg Air Force Base",
           "Santa Barbara",
           "2002-10-01"
          ],
          [
           "1110 BEARDSLEY STREET, SAN DIEGO, CA 92112",
           "San Diego",
           "San Diego",
           "2008-10-09"
          ],
          [
           "1155 REDWOOD AVE., EL CAJON",
           "El Cajon",
           "San Diego",
           "2011-11-05"
          ],
          [
           "583 W. 10TH ST., PITTSBURG",
           "Pittsburg",
           "Contra Costa",
           "2004-10-24"
          ],
          [
           "2425 Webster St., Long Beach, CA",
           "Long Beach",
           "Los Angeles",
           "2014-02-06"
          ],
          [
           "2850 MESA VERDE DR EAST, COSTA MESA",
           "Costa Mesa",
           "Orange",
           "2013-10-27"
          ],
          [
           "5551 BETHEL ISLAND RD",
           "Bethel Island",
           "Contra Costa",
           "2003-06-04"
          ],
          [
           "LFC #1-LAS FLORES CANYON",
           "Capitan",
           "Santa Barbara",
           "2015-11-12"
          ],
          [
           "80 E. 'J' ST., CHULA VISTA",
           "Chula Vista",
           "San Diego",
           "2007-09-08"
          ],
          [
           "1029 ETHEL ST, CALEXICO HIGH SCHOOL",
           "Calexico",
           "Imperial",
           "2010-12-04"
          ],
          [
           "14360 ARROW BLVD., FONTANA",
           "Fontana",
           "San Bernardino",
           "2015-08-23"
          ],
          [
           "717 SOUTH AVENUE",
           "Eureka",
           "Humboldt",
           "2008-09-14"
          ],
          [
           "304 TUOLUMNE ST.",
           "Vallejo",
           "Solano",
           "2012-08-09"
          ],
          [
           "5551 BETHEL ISLAND RD",
           "Bethel Island",
           "Contra Costa",
           "2014-07-21"
          ],
          [
           "304 TUOLUMNE ST.",
           "Vallejo",
           "Solano",
           "2013-09-22"
          ],
          [
           "128 S 'H' ST, LOMPOC",
           "Lompoc",
           "Santa Barbara",
           "2000-11-30"
          ],
          [
           "7201 W. WESTCHESTER PARKWAY",
           "Los Angeles",
           "Los Angeles",
           "2004-10-22"
          ],
          [
           "1155 REDWOOD AVE., EL CAJON",
           "El Cajon",
           "San Diego",
           "2012-11-04"
          ],
          [
           "80 E. 'J' ST., CHULA VISTA",
           "Chula Vista",
           "San Diego",
           "2001-05-22"
          ],
          [
           "2850 MESA VERDE DR EAST, COSTA MESA",
           "Costa Mesa",
           "Orange",
           "2012-12-13"
          ],
          [
           "1155 REDWOOD AVE., EL CAJON",
           "El Cajon",
           "San Diego",
           "2013-03-07"
          ],
          [
           "5888 MISSION BLVD., RUBIDOUX",
           "Rubidoux",
           "Riverside",
           "2001-03-20"
          ],
          [
           "380 N FAIRVIEW AVENUE, GOLETA",
           "Goleta",
           "Santa Barbara",
           "2004-04-03"
          ],
          [
           "7201 W. WESTCHESTER PARKWAY",
           "Los Angeles",
           "Los Angeles",
           "2012-05-07"
          ],
          [
           "LFC #1-LAS FLORES CANYON",
           "Capitan",
           "Santa Barbara",
           "2002-01-08"
          ],
          [
           "128 S 'H' ST, LOMPOC",
           "Lompoc",
           "Santa Barbara",
           "2005-09-22"
          ],
          [
           "7201 W. WESTCHESTER PARKWAY",
           "Los Angeles",
           "Los Angeles",
           "2015-12-28"
          ],
          [
           "583 W. 10TH ST., PITTSBURG",
           "Pittsburg",
           "Contra Costa",
           "2006-03-22"
          ],
          [
           "304 TUOLUMNE ST.",
           "Vallejo",
           "Solano",
           "2011-12-21"
          ],
          [
           "5551 BETHEL ISLAND RD",
           "Bethel Island",
           "Contra Costa",
           "2012-12-06"
          ],
          [
           "LFC #1-LAS FLORES CANYON",
           "Capitan",
           "Santa Barbara",
           "2010-12-26"
          ],
          [
           " Center St",
           "Davenport",
           "Santa Cruz",
           "2003-12-17"
          ],
          [
           "7201 W. WESTCHESTER PARKWAY",
           "Los Angeles",
           "Los Angeles",
           "2004-08-15"
          ],
          [
           "2425 Webster St., Long Beach, CA",
           "Long Beach",
           "Los Angeles",
           "2011-01-14"
          ],
          [
           "14360 ARROW BLVD., FONTANA",
           "Fontana",
           "San Bernardino",
           "2013-09-30"
          ],
          [
           "7201 W. WESTCHESTER PARKWAY",
           "Los Angeles",
           "Los Angeles",
           "2014-11-13"
          ],
          [
           "80 E. 'J' ST., CHULA VISTA",
           "Chula Vista",
           "San Diego",
           "2007-07-07"
          ],
          [
           "10 ARKANSAS ST.",
           "San Francisco",
           "San Francisco",
           "2001-02-07"
          ],
          [
           "80 E. 'J' ST., CHULA VISTA",
           "Chula Vista",
           "San Diego",
           "2000-08-06"
          ],
          [
           "1630 N MAIN ST, LOS ANGELES",
           "Los Angeles",
           "Los Angeles",
           "2012-11-29"
          ],
          [
           "583 W. 10TH ST., PITTSBURG",
           "Pittsburg",
           "Contra Costa",
           "2003-07-06"
          ],
          [
           "304 TUOLUMNE ST.",
           "Vallejo",
           "Solano",
           "2011-10-08"
          ]
         ],
         "hovertemplate": "NO2 AQI=%{x}<br>O3 AQI=%{y}<br>SO2 AQI=%{z}<br>CO AQI=%{marker.color}<br>Address=%{customdata[0]}<br>City=%{customdata[1]}<br>County=%{customdata[2]}<br>Date=%{customdata[3]}<extra></extra>",
         "legendgroup": "",
         "marker": {
          "color": {
           "bdata": "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",
           "dtype": "f8"
          },
          "coloraxis": "coloraxis",
          "size": {
           "bdata": "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",
           "dtype": "f8"
          },
          "sizemode": "area",
          "sizeref": 0.2,
          "symbol": "circle"
         },
         "mode": "markers",
         "name": "",
         "scene": "scene",
         "showlegend": false,
         "type": "scatter3d",
         "x": {
          "bdata": "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",
          "dtype": "i1"
         },
         "y": {
          "bdata": "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",
          "dtype": "i2"
         },
         "z": {
          "bdata": "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",
          "dtype": "f8"
         }
        }
       ],
       "layout": {
        "coloraxis": {
         "colorbar": {
          "title": {
           "text": "CO AQI"
          }
         },
         "colorscale": [
          [
           0,
           "#0d0887"
          ],
          [
           0.1111111111111111,
           "#46039f"
          ],
          [
           0.2222222222222222,
           "#7201a8"
          ],
          [
           0.3333333333333333,
           "#9c179e"
          ],
          [
           0.4444444444444444,
           "#bd3786"
          ],
          [
           0.5555555555555556,
           "#d8576b"
          ],
          [
           0.6666666666666666,
           "#ed7953"
          ],
          [
           0.7777777777777778,
           "#fb9f3a"
          ],
          [
           0.8888888888888888,
           "#fdca26"
          ],
          [
           1,
           "#f0f921"
          ]
         ]
        },
        "legend": {
         "itemsizing": "constant",
         "tracegroupgap": 0
        },
        "margin": {
         "b": 0,
         "l": 0,
         "r": 0,
         "t": 40
        },
        "scene": {
         "camera": {
          "eye": {
           "x": 1.5,
           "y": 1.5,
           "z": 1.5
          }
         },
         "domain": {
          "x": [
           0,
           1
          ],
          "y": [
           0,
           1
          ]
         },
         "dragmode": "orbit",
         "xaxis": {
          "range": [
           0,
           107
          ],
          "title": {
           "text": "NO2 AQI"
          }
         },
         "yaxis": {
          "range": [
           0,
           206
          ],
          "title": {
           "text": "O3 AQI"
          }
         },
         "zaxis": {
          "range": [
           0,
           116
          ],
          "title": {
           "text": "SO2 AQI"
          }
         }
        },
        "template": {
         "data": {
          "bar": [
           {
            "error_x": {
             "color": "#2a3f5f"
            },
            "error_y": {
             "color": "#2a3f5f"
            },
            "marker": {
             "line": {
              "color": "#E5ECF6",
              "width": 0.5
             },
             "pattern": {
              "fillmode": "overlay",
              "size": 10,
              "solidity": 0.2
             }
            },
            "type": "bar"
           }
          ],
          "barpolar": [
           {
            "marker": {
             "line": {
              "color": "#E5ECF6",
              "width": 0.5
             },
             "pattern": {
              "fillmode": "overlay",
              "size": 10,
              "solidity": 0.2
             }
            },
            "type": "barpolar"
           }
          ],
          "carpet": [
           {
            "aaxis": {
             "endlinecolor": "#2a3f5f",
             "gridcolor": "white",
             "linecolor": "white",
             "minorgridcolor": "white",
             "startlinecolor": "#2a3f5f"
            },
            "baxis": {
             "endlinecolor": "#2a3f5f",
             "gridcolor": "white",
             "linecolor": "white",
             "minorgridcolor": "white",
             "startlinecolor": "#2a3f5f"
            },
            "type": "carpet"
           }
          ],
          "choropleth": [
           {
            "colorbar": {
             "outlinewidth": 0,
             "ticks": ""
            },
            "type": "choropleth"
           }
          ],
          "contour": [
           {
            "colorbar": {
             "outlinewidth": 0,
             "ticks": ""
            },
            "colorscale": [
             [
              0,
              "#0d0887"
             ],
             [
              0.1111111111111111,
              "#46039f"
             ],
             [
              0.2222222222222222,
              "#7201a8"
             ],
             [
              0.3333333333333333,
              "#9c179e"
             ],
             [
              0.4444444444444444,
              "#bd3786"
             ],
             [
              0.5555555555555556,
              "#d8576b"
             ],
             [
              0.6666666666666666,
              "#ed7953"
             ],
             [
              0.7777777777777778,
              "#fb9f3a"
             ],
             [
              0.8888888888888888,
              "#fdca26"
             ],
             [
              1,
              "#f0f921"
             ]
            ],
            "type": "contour"
           }
          ],
          "contourcarpet": [
           {
            "colorbar": {
             "outlinewidth": 0,
             "ticks": ""
            },
            "type": "contourcarpet"
           }
          ],
          "heatmap": [
           {
            "colorbar": {
             "outlinewidth": 0,
             "ticks": ""
            },
            "colorscale": [
             [
              0,
              "#0d0887"
             ],
             [
              0.1111111111111111,
              "#46039f"
             ],
             [
              0.2222222222222222,
              "#7201a8"
             ],
             [
              0.3333333333333333,
              "#9c179e"
             ],
             [
              0.4444444444444444,
              "#bd3786"
             ],
             [
              0.5555555555555556,
              "#d8576b"
             ],
             [
              0.6666666666666666,
              "#ed7953"
             ],
             [
              0.7777777777777778,
              "#fb9f3a"
             ],
             [
              0.8888888888888888,
              "#fdca26"
             ],
             [
              1,
              "#f0f921"
             ]
            ],
            "type": "heatmap"
           }
          ],
          "histogram": [
           {
            "marker": {
             "pattern": {
              "fillmode": "overlay",
              "size": 10,
              "solidity": 0.2
             }
            },
            "type": "histogram"
           }
          ],
          "histogram2d": [
           {
            "colorbar": {
             "outlinewidth": 0,
             "ticks": ""
            },
            "colorscale": [
             [
              0,
              "#0d0887"
             ],
             [
              0.1111111111111111,
              "#46039f"
             ],
             [
              0.2222222222222222,
              "#7201a8"
             ],
             [
              0.3333333333333333,
              "#9c179e"
             ],
             [
              0.4444444444444444,
              "#bd3786"
             ],
             [
              0.5555555555555556,
              "#d8576b"
             ],
             [
              0.6666666666666666,
              "#ed7953"
             ],
             [
              0.7777777777777778,
              "#fb9f3a"
             ],
             [
              0.8888888888888888,
              "#fdca26"
             ],
             [
              1,
              "#f0f921"
             ]
            ],
            "type": "histogram2d"
           }
          ],
          "histogram2dcontour": [
           {
            "colorbar": {
             "outlinewidth": 0,
             "ticks": ""
            },
            "colorscale": [
             [
              0,
              "#0d0887"
             ],
             [
              0.1111111111111111,
              "#46039f"
             ],
             [
              0.2222222222222222,
              "#7201a8"
             ],
             [
              0.3333333333333333,
              "#9c179e"
             ],
             [
              0.4444444444444444,
              "#bd3786"
             ],
             [
              0.5555555555555556,
              "#d8576b"
             ],
             [
              0.6666666666666666,
              "#ed7953"
             ],
             [
              0.7777777777777778,
              "#fb9f3a"
             ],
             [
              0.8888888888888888,
              "#fdca26"
             ],
             [
              1,
              "#f0f921"
             ]
            ],
            "type": "histogram2dcontour"
           }
          ],
          "mesh3d": [
           {
            "colorbar": {
             "outlinewidth": 0,
             "ticks": ""
            },
            "type": "mesh3d"
           }
          ],
          "parcoords": [
           {
            "line": {
             "colorbar": {
              "outlinewidth": 0,
              "ticks": ""
             }
            },
            "type": "parcoords"
           }
          ],
          "pie": [
           {
            "automargin": true,
            "type": "pie"
           }
          ],
          "scatter": [
           {
            "fillpattern": {
             "fillmode": "overlay",
             "size": 10,
             "solidity": 0.2
            },
            "type": "scatter"
           }
          ],
          "scatter3d": [
           {
            "line": {
             "colorbar": {
              "outlinewidth": 0,
              "ticks": ""
             }
            },
            "marker": {
             "colorbar": {
              "outlinewidth": 0,
              "ticks": ""
             }
            },
            "type": "scatter3d"
           }
          ],
          "scattercarpet": [
           {
            "marker": {
             "colorbar": {
              "outlinewidth": 0,
              "ticks": ""
             }
            },
            "type": "scattercarpet"
           }
          ],
          "scattergeo": [
           {
            "marker": {
             "colorbar": {
              "outlinewidth": 0,
              "ticks": ""
             }
            },
            "type": "scattergeo"
           }
          ],
          "scattergl": [
           {
            "marker": {
             "colorbar": {
              "outlinewidth": 0,
              "ticks": ""
             }
            },
            "type": "scattergl"
           }
          ],
          "scattermap": [
           {
            "marker": {
             "colorbar": {
              "outlinewidth": 0,
              "ticks": ""
             }
            },
            "type": "scattermap"
           }
          ],
          "scattermapbox": [
           {
            "marker": {
             "colorbar": {
              "outlinewidth": 0,
              "ticks": ""
             }
            },
            "type": "scattermapbox"
           }
          ],
          "scatterpolar": [
           {
            "marker": {
             "colorbar": {
              "outlinewidth": 0,
              "ticks": ""
             }
            },
            "type": "scatterpolar"
           }
          ],
          "scatterpolargl": [
           {
            "marker": {
             "colorbar": {
              "outlinewidth": 0,
              "ticks": ""
             }
            },
            "type": "scatterpolargl"
           }
          ],
          "scatterternary": [
           {
            "marker": {
             "colorbar": {
              "outlinewidth": 0,
              "ticks": ""
             }
            },
            "type": "scatterternary"
           }
          ],
          "surface": [
           {
            "colorbar": {
             "outlinewidth": 0,
             "ticks": ""
            },
            "colorscale": [
             [
              0,
              "#0d0887"
             ],
             [
              0.1111111111111111,
              "#46039f"
             ],
             [
              0.2222222222222222,
              "#7201a8"
             ],
             [
              0.3333333333333333,
              "#9c179e"
             ],
             [
              0.4444444444444444,
              "#bd3786"
             ],
             [
              0.5555555555555556,
              "#d8576b"
             ],
             [
              0.6666666666666666,
              "#ed7953"
             ],
             [
              0.7777777777777778,
              "#fb9f3a"
             ],
             [
              0.8888888888888888,
              "#fdca26"
             ],
             [
              1,
              "#f0f921"
             ]
            ],
            "type": "surface"
           }
          ],
          "table": [
           {
            "cells": {
             "fill": {
              "color": "#EBF0F8"
             },
             "line": {
              "color": "white"
             }
            },
            "header": {
             "fill": {
              "color": "#C8D4E3"
             },
             "line": {
              "color": "white"
             }
            },
            "type": "table"
           }
          ]
         },
         "layout": {
          "annotationdefaults": {
           "arrowcolor": "#2a3f5f",
           "arrowhead": 0,
           "arrowwidth": 1
          },
          "autotypenumbers": "strict",
          "coloraxis": {
           "colorbar": {
            "outlinewidth": 0,
            "ticks": ""
           }
          },
          "colorscale": {
           "diverging": [
            [
             0,
             "#8e0152"
            ],
            [
             0.1,
             "#c51b7d"
            ],
            [
             0.2,
             "#de77ae"
            ],
            [
             0.3,
             "#f1b6da"
            ],
            [
             0.4,
             "#fde0ef"
            ],
            [
             0.5,
             "#f7f7f7"
            ],
            [
             0.6,
             "#e6f5d0"
            ],
            [
             0.7,
             "#b8e186"
            ],
            [
             0.8,
             "#7fbc41"
            ],
            [
             0.9,
             "#4d9221"
            ],
            [
             1,
             "#276419"
            ]
           ],
           "sequential": [
            [
             0,
             "#0d0887"
            ],
            [
             0.1111111111111111,
             "#46039f"
            ],
            [
             0.2222222222222222,
             "#7201a8"
            ],
            [
             0.3333333333333333,
             "#9c179e"
            ],
            [
             0.4444444444444444,
             "#bd3786"
            ],
            [
             0.5555555555555556,
             "#d8576b"
            ],
            [
             0.6666666666666666,
             "#ed7953"
            ],
            [
             0.7777777777777778,
             "#fb9f3a"
            ],
            [
             0.8888888888888888,
             "#fdca26"
            ],
            [
             1,
             "#f0f921"
            ]
           ],
           "sequentialminus": [
            [
             0,
             "#0d0887"
            ],
            [
             0.1111111111111111,
             "#46039f"
            ],
            [
             0.2222222222222222,
             "#7201a8"
            ],
            [
             0.3333333333333333,
             "#9c179e"
            ],
            [
             0.4444444444444444,
             "#bd3786"
            ],
            [
             0.5555555555555556,
             "#d8576b"
            ],
            [
             0.6666666666666666,
             "#ed7953"
            ],
            [
             0.7777777777777778,
             "#fb9f3a"
            ],
            [
             0.8888888888888888,
             "#fdca26"
            ],
            [
             1,
             "#f0f921"
            ]
           ]
          },
          "colorway": [
           "#636efa",
           "#EF553B",
           "#00cc96",
           "#ab63fa",
           "#FFA15A",
           "#19d3f3",
           "#FF6692",
           "#B6E880",
           "#FF97FF",
           "#FECB52"
          ],
          "font": {
           "color": "#2a3f5f"
          },
          "geo": {
           "bgcolor": "white",
           "lakecolor": "white",
           "landcolor": "#E5ECF6",
           "showlakes": true,
           "showland": true,
           "subunitcolor": "white"
          },
          "hoverlabel": {
           "align": "left"
          },
          "hovermode": "closest",
          "mapbox": {
           "style": "light"
          },
          "paper_bgcolor": "white",
          "plot_bgcolor": "#E5ECF6",
          "polar": {
           "angularaxis": {
            "gridcolor": "white",
            "linecolor": "white",
            "ticks": ""
           },
           "bgcolor": "#E5ECF6",
           "radialaxis": {
            "gridcolor": "white",
            "linecolor": "white",
            "ticks": ""
           }
          },
          "scene": {
           "xaxis": {
            "backgroundcolor": "#E5ECF6",
            "gridcolor": "white",
            "gridwidth": 2,
            "linecolor": "white",
            "showbackground": true,
            "ticks": "",
            "zerolinecolor": "white"
           },
           "yaxis": {
            "backgroundcolor": "#E5ECF6",
            "gridcolor": "white",
            "gridwidth": 2,
            "linecolor": "white",
            "showbackground": true,
            "ticks": "",
            "zerolinecolor": "white"
           },
           "zaxis": {
            "backgroundcolor": "#E5ECF6",
            "gridcolor": "white",
            "gridwidth": 2,
            "linecolor": "white",
            "showbackground": true,
            "ticks": "",
            "zerolinecolor": "white"
           }
          },
          "shapedefaults": {
           "line": {
            "color": "#2a3f5f"
           }
          },
          "ternary": {
           "aaxis": {
            "gridcolor": "white",
            "linecolor": "white",
            "ticks": ""
           },
           "baxis": {
            "gridcolor": "white",
            "linecolor": "white",
            "ticks": ""
           },
           "bgcolor": "#E5ECF6",
           "caxis": {
            "gridcolor": "white",
            "linecolor": "white",
            "ticks": ""
           }
          },
          "title": {
           "x": 0.05
          },
          "xaxis": {
           "automargin": true,
           "gridcolor": "white",
           "linecolor": "white",
           "ticks": "",
           "title": {
            "standoff": 15
           },
           "zerolinecolor": "white",
           "zerolinewidth": 2
          },
          "yaxis": {
           "automargin": true,
           "gridcolor": "white",
           "linecolor": "white",
           "ticks": "",
           "title": {
            "standoff": 15
           },
           "zerolinecolor": "white",
           "zerolinewidth": 2
          }
         }
        },
        "title": {
         "text": "California: 3D Scatter Plot of All AQI Pollutants (Zoomed)"
        }
       }
      }
     },
     "metadata": {},
     "output_type": "display_data"
    },
    {
     "data": {
      "application/vnd.plotly.v1+json": {
       "config": {
        "plotlyServerURL": "https://plot.ly"
       },
       "data": [
        {
         "customdata": [
          [
           "MORRIS BLVD.",
           "Winter Park",
           "Orange",
           "2007-07-03"
          ],
          [
           "MORRIS BLVD.",
           "Winter Park",
           "Orange",
           "2003-01-21"
          ],
          [
           "1167 NORTH DOVER ROAD",
           "Valrico",
           "Hillsborough",
           "2007-04-05"
          ],
          [
           "MORRIS BLVD.",
           "Winter Park",
           "Orange",
           "2012-03-11"
          ],
          [
           "MORRIS BLVD.",
           "Winter Park",
           "Orange",
           "2011-11-23"
          ],
          [
           "MORRIS BLVD.",
           "Winter Park",
           "Orange",
           "2014-08-14"
          ],
          [
           "MORRIS BLVD.",
           "Winter Park",
           "Orange",
           "2008-04-23"
          ],
          [
           "1167 NORTH DOVER ROAD",
           "Valrico",
           "Hillsborough",
           "2007-04-27"
          ],
          [
           "MORRIS BLVD.",
           "Winter Park",
           "Orange",
           "2009-01-26"
          ],
          [
           "MORRIS BLVD.",
           "Winter Park",
           "Orange",
           "2001-12-14"
          ],
          [
           "MORRIS BLVD.",
           "Winter Park",
           "Orange",
           "2008-03-03"
          ],
          [
           "MORRIS BLVD.",
           "Winter Park",
           "Orange",
           "2000-05-12"
          ],
          [
           "MORRIS BLVD.",
           "Winter Park",
           "Orange",
           "2000-05-24"
          ],
          [
           "MORRIS BLVD.",
           "Winter Park",
           "Orange",
           "2004-03-06"
          ],
          [
           "1167 NORTH DOVER ROAD",
           "Valrico",
           "Hillsborough",
           "2008-08-05"
          ],
          [
           "MORRIS BLVD.",
           "Winter Park",
           "Orange",
           "2015-04-25"
          ],
          [
           "MORRIS BLVD.",
           "Winter Park",
           "Orange",
           "2012-06-20"
          ],
          [
           "MORRIS BLVD.",
           "Winter Park",
           "Orange",
           "2013-03-01"
          ],
          [
           "MORRIS BLVD.",
           "Winter Park",
           "Orange",
           "2003-11-03"
          ],
          [
           "MORRIS BLVD.",
           "Winter Park",
           "Orange",
           "2006-01-01"
          ],
          [
           "MORRIS BLVD.",
           "Winter Park",
           "Orange",
           "2012-03-09"
          ],
          [
           "MORRIS BLVD.",
           "Winter Park",
           "Orange",
           "2002-10-08"
          ],
          [
           "MORRIS BLVD.",
           "Winter Park",
           "Orange",
           "2013-06-22"
          ],
          [
           "MORRIS BLVD.",
           "Winter Park",
           "Orange",
           "2006-09-19"
          ],
          [
           "MORRIS BLVD.",
           "Winter Park",
           "Orange",
           "2006-09-22"
          ],
          [
           "MORRIS BLVD.",
           "Winter Park",
           "Orange",
           "2013-02-12"
          ],
          [
           "MORRIS BLVD.",
           "Winter Park",
           "Orange",
           "2001-04-30"
          ],
          [
           "MORRIS BLVD.",
           "Winter Park",
           "Orange",
           "2012-09-24"
          ],
          [
           "MORRIS BLVD.",
           "Winter Park",
           "Orange",
           "2003-01-05"
          ],
          [
           "1167 NORTH DOVER ROAD",
           "Valrico",
           "Hillsborough",
           "2008-04-22"
          ],
          [
           "MORRIS BLVD.",
           "Winter Park",
           "Orange",
           "2008-12-23"
          ],
          [
           "MORRIS BLVD.",
           "Winter Park",
           "Orange",
           "2005-03-18"
          ],
          [
           "MORRIS BLVD.",
           "Winter Park",
           "Orange",
           "2012-08-29"
          ],
          [
           "MORRIS BLVD.",
           "Winter Park",
           "Orange",
           "2007-01-13"
          ],
          [
           "MORRIS BLVD.",
           "Winter Park",
           "Orange",
           "2000-11-26"
          ],
          [
           "MORRIS BLVD.",
           "Winter Park",
           "Orange",
           "2010-01-01"
          ],
          [
           "MORRIS BLVD.",
           "Winter Park",
           "Orange",
           "2014-12-01"
          ],
          [
           "MORRIS BLVD.",
           "Winter Park",
           "Orange",
           "2005-08-10"
          ],
          [
           "MORRIS BLVD.",
           "Winter Park",
           "Orange",
           "2007-07-28"
          ],
          [
           "MORRIS BLVD.",
           "Winter Park",
           "Orange",
           "2013-05-31"
          ],
          [
           "1167 NORTH DOVER ROAD",
           "Valrico",
           "Hillsborough",
           "2008-05-09"
          ],
          [
           "MORRIS BLVD.",
           "Winter Park",
           "Orange",
           "2016-03-28"
          ],
          [
           "1167 NORTH DOVER ROAD",
           "Valrico",
           "Hillsborough",
           "2007-03-23"
          ],
          [
           "MORRIS BLVD.",
           "Winter Park",
           "Orange",
           "2014-12-12"
          ],
          [
           "MORRIS BLVD.",
           "Winter Park",
           "Orange",
           "2014-04-10"
          ],
          [
           "MORRIS BLVD.",
           "Winter Park",
           "Orange",
           "2015-04-24"
          ],
          [
           "MORRIS BLVD.",
           "Winter Park",
           "Orange",
           "2014-07-24"
          ],
          [
           "MORRIS BLVD.",
           "Winter Park",
           "Orange",
           "2001-08-17"
          ],
          [
           "MORRIS BLVD.",
           "Winter Park",
           "Orange",
           "2006-11-10"
          ],
          [
           "MORRIS BLVD.",
           "Winter Park",
           "Orange",
           "2000-08-02"
          ],
          [
           "MORRIS BLVD.",
           "Winter Park",
           "Orange",
           "2006-04-01"
          ],
          [
           "MORRIS BLVD.",
           "Winter Park",
           "Orange",
           "2011-05-15"
          ],
          [
           "MORRIS BLVD.",
           "Winter Park",
           "Orange",
           "2001-05-08"
          ],
          [
           "MORRIS BLVD.",
           "Winter Park",
           "Orange",
           "2011-12-29"
          ],
          [
           "MORRIS BLVD.",
           "Winter Park",
           "Orange",
           "2012-01-06"
          ],
          [
           "1167 NORTH DOVER ROAD",
           "Valrico",
           "Hillsborough",
           "2007-01-05"
          ],
          [
           "MORRIS BLVD.",
           "Winter Park",
           "Orange",
           "2004-01-02"
          ],
          [
           "MORRIS BLVD.",
           "Winter Park",
           "Orange",
           "2000-09-23"
          ],
          [
           "MORRIS BLVD.",
           "Winter Park",
           "Orange",
           "2015-03-30"
          ],
          [
           "MORRIS BLVD.",
           "Winter Park",
           "Orange",
           "2003-02-24"
          ],
          [
           "MORRIS BLVD.",
           "Winter Park",
           "Orange",
           "2008-02-07"
          ],
          [
           "MORRIS BLVD.",
           "Winter Park",
           "Orange",
           "2002-10-06"
          ],
          [
           "MORRIS BLVD.",
           "Winter Park",
           "Orange",
           "2005-02-13"
          ],
          [
           "1167 NORTH DOVER ROAD",
           "Valrico",
           "Hillsborough",
           "2007-05-16"
          ],
          [
           "MORRIS BLVD.",
           "Winter Park",
           "Orange",
           "2010-11-24"
          ],
          [
           "1167 NORTH DOVER ROAD",
           "Valrico",
           "Hillsborough",
           "2008-03-29"
          ],
          [
           "MORRIS BLVD.",
           "Winter Park",
           "Orange",
           "2004-09-10"
          ],
          [
           "MORRIS BLVD.",
           "Winter Park",
           "Orange",
           "2004-06-17"
          ],
          [
           "1167 NORTH DOVER ROAD",
           "Valrico",
           "Hillsborough",
           "2007-01-29"
          ],
          [
           "MORRIS BLVD.",
           "Winter Park",
           "Orange",
           "2002-11-30"
          ],
          [
           "MORRIS BLVD.",
           "Winter Park",
           "Orange",
           "2007-01-26"
          ],
          [
           "MORRIS BLVD.",
           "Winter Park",
           "Orange",
           "2014-06-02"
          ],
          [
           "MORRIS BLVD.",
           "Winter Park",
           "Orange",
           "2003-02-09"
          ],
          [
           "MORRIS BLVD.",
           "Winter Park",
           "Orange",
           "2003-07-29"
          ],
          [
           "MORRIS BLVD.",
           "Winter Park",
           "Orange",
           "2015-01-16"
          ]
         ],
         "hovertemplate": "NO2 AQI=%{x}<br>O3 AQI=%{y}<br>SO2 AQI=%{z}<br>CO AQI=%{marker.color}<br>Address=%{customdata[0]}<br>City=%{customdata[1]}<br>County=%{customdata[2]}<br>Date=%{customdata[3]}<extra></extra>",
         "legendgroup": "",
         "marker": {
          "color": {
           "bdata": "AAAAAAAAGEAAAAAAAAAsQAAAAAAAAAhAAAAAAAAACEAAAAAAAAAcQAAAAAAAACBAAAAAAAAAAAAAAAAAAAAAQAAAAAAAABhAAAAAAAAAIEAAAAAAAAAAQAAAAAAAACJAAAAAAAAANEAAAAAAAAAkQAAAAAAAAABAAAAAAAAAFEAAAAAAAAAIQAAAAAAAAPA/AAAAAAAAGEAAAAAAAAAxQAAAAAAAAAhAAAAAAAAAJEAAAAAAAADwPwAAAAAAABhAAAAAAAAAHEAAAAAAAAAcQAAAAAAAABxAAAAAAAAAFEAAAAAAAAAxQAAAAAAAAAhAAAAAAAAAAAAAAAAAAAAcQAAAAAAAAAhAAAAAAAAAHEAAAAAAAAAqQAAAAAAAABxAAAAAAAAAHEAAAAAAAAAgQAAAAAAAABRAAAAAAAAA8D8AAAAAAAAAQAAAAAAAACBAAAAAAAAAAEAAAAAAAAAuQAAAAAAAACZAAAAAAAAAFEAAAAAAAAAYQAAAAAAAACJAAAAAAAAAIEAAAAAAAAAiQAAAAAAAABxAAAAAAAAAFEAAAAAAAAAkQAAAAAAAACBAAAAAAAAAIEAAAAAAAAAIQAAAAAAAACJAAAAAAAAAKkAAAAAAAAAkQAAAAAAAACBAAAAAAAAA8D8AAAAAAAAiQAAAAAAAACBAAAAAAAAAAEAAAAAAAAAYQAAAAAAAAABAAAAAAAAAHEAAAAAAAAAUQAAAAAAAAAhAAAAAAAAAIEAAAAAAAAAUQAAAAAAAAABAAAAAAAAAGEAAAAAAAAAYQAAAAAAAABhA",
           "dtype": "f8"
          },
          "coloraxis": "coloraxis",
          "size": {
           "bdata": "AAAAAAAAGEAAAAAAAAAsQAAAAAAAAAhAAAAAAAAACEAAAAAAAAAcQAAAAAAAACBAAAAAAAAAAAAAAAAAAAAAQAAAAAAAABhAAAAAAAAAIEAAAAAAAAAAQAAAAAAAACJAAAAAAAAANEAAAAAAAAAkQAAAAAAAAABAAAAAAAAAFEAAAAAAAAAIQAAAAAAAAPA/AAAAAAAAGEAAAAAAAAAxQAAAAAAAAAhAAAAAAAAAJEAAAAAAAADwPwAAAAAAABhAAAAAAAAAHEAAAAAAAAAcQAAAAAAAABxAAAAAAAAAFEAAAAAAAAAxQAAAAAAAAAhAAAAAAAAAAAAAAAAAAAAcQAAAAAAAAAhAAAAAAAAAHEAAAAAAAAAqQAAAAAAAABxAAAAAAAAAHEAAAAAAAAAgQAAAAAAAABRAAAAAAAAA8D8AAAAAAAAAQAAAAAAAACBAAAAAAAAAAEAAAAAAAAAuQAAAAAAAACZAAAAAAAAAFEAAAAAAAAAYQAAAAAAAACJAAAAAAAAAIEAAAAAAAAAiQAAAAAAAABxAAAAAAAAAFEAAAAAAAAAkQAAAAAAAACBAAAAAAAAAIEAAAAAAAAAIQAAAAAAAACJAAAAAAAAAKkAAAAAAAAAkQAAAAAAAACBAAAAAAAAA8D8AAAAAAAAiQAAAAAAAACBAAAAAAAAAAEAAAAAAAAAYQAAAAAAAAABAAAAAAAAAHEAAAAAAAAAUQAAAAAAAAAhAAAAAAAAAIEAAAAAAAAAUQAAAAAAAAABAAAAAAAAAGEAAAAAAAAAYQAAAAAAAABhA",
           "dtype": "f8"
          },
          "sizemode": "area",
          "sizeref": 0.05,
          "symbol": "circle"
         },
         "mode": "markers",
         "name": "",
         "scene": "scene",
         "showlegend": false,
         "type": "scatter3d",
         "x": {
          "bdata": "CjESAg8LCwUbHBYYDhsQBQMQCRoLFQgQGA4MCicUCgsJERkUCxUUAQYIDSAaBA1tHhkgBBgiKAUYDg8dEBYkCg8IFQcZHQ4DFRkI",
          "dtype": "i1"
         },
         "y": {
          "bdata": "LyIwIhgXLh8qEyFAICEcJhYsGRgfJBgZMyEqKh9dIh8XHhQZHzMcGRkbJBY9NisuMycxKiseJxUbH0AqEyQxNiEvEx4eJCAkEy8a",
          "dtype": "i1"
         },
         "z": {
          "bdata": "AAAAAAAAAAAAAAAAAAA4QAAAAAAAADBAAAAAAAAAAAAAAAAAAADwPwAAAAAAABhAAAAAAAAAAAAAAAAAAAAqQAAAAAAAAPA/AAAAAAAAAAAAAAAAAAAcQAAAAAAAADBAAAAAAAAACEAAAAAAAADwPwAAAAAAADNAAAAAAAAAAAAAAAAAAAAAAAAAAAAAAPA/AAAAAAAA8D8AAAAAAAAYQAAAAAAAAAAAAAAAAAAAAAAAAAAAAAAAAAAAAAAAAPA/AAAAAAAAGEAAAAAAAAAAAAAAAAAAAPA/AAAAAAAAAAAAAAAAAAAmQAAAAAAAABBAAAAAAAAAAAAAAAAAAAAAAAAAAAAAAAAAAAAAAAAA8D8AAAAAAAAcQAAAAAAAABBAAAAAAAAAAAAAAAAAAAAQQAAAAAAAAAhAAAAAAAAAAAAAAAAAAAAIQAAAAAAAAAAAAAAAAAAAGEAAAAAAAADwPwAAAAAAAAAAAAAAAAAA8D8AAAAAAAAAAAAAAAAAAAAAAAAAAAAAHEAAAAAAAAAYQAAAAAAAADBAAAAAAAAAAAAAAAAAAAAiQAAAAAAAAPA/AAAAAAAA8D8AAAAAAAAIQAAAAAAAABhAAAAAAAAAHEAAAAAAAAAAAAAAAAAAAPA/AAAAAAAA8D8AAAAAAAAkQAAAAAAAACJAAAAAAAAAGEAAAAAAAAAAAAAAAAAAACJAAAAAAAAAIkAAAAAAAAAAAAAAAAAAABhAAAAAAAAAJEAAAAAAAAAYQAAAAAAAAAAAAAAAAAAAAAAAAAAAAAAkQAAAAAAAAPA/",
          "dtype": "f8"
         }
        }
       ],
       "layout": {
        "coloraxis": {
         "colorbar": {
          "title": {
           "text": "CO AQI"
          }
         },
         "colorscale": [
          [
           0,
           "#0d0887"
          ],
          [
           0.1111111111111111,
           "#46039f"
          ],
          [
           0.2222222222222222,
           "#7201a8"
          ],
          [
           0.3333333333333333,
           "#9c179e"
          ],
          [
           0.4444444444444444,
           "#bd3786"
          ],
          [
           0.5555555555555556,
           "#d8576b"
          ],
          [
           0.6666666666666666,
           "#ed7953"
          ],
          [
           0.7777777777777778,
           "#fb9f3a"
          ],
          [
           0.8888888888888888,
           "#fdca26"
          ],
          [
           1,
           "#f0f921"
          ]
         ]
        },
        "legend": {
         "itemsizing": "constant",
         "tracegroupgap": 0
        },
        "margin": {
         "b": 0,
         "l": 0,
         "r": 0,
         "t": 40
        },
        "scene": {
         "domain": {
          "x": [
           0,
           1
          ],
          "y": [
           0,
           1
          ]
         },
         "dragmode": "orbit",
         "xaxis": {
          "title": {
           "text": "NO2 AQI"
          }
         },
         "yaxis": {
          "title": {
           "text": "O3 AQI"
          }
         },
         "zaxis": {
          "title": {
           "text": "SO2 AQI"
          }
         }
        },
        "template": {
         "data": {
          "bar": [
           {
            "error_x": {
             "color": "#2a3f5f"
            },
            "error_y": {
             "color": "#2a3f5f"
            },
            "marker": {
             "line": {
              "color": "#E5ECF6",
              "width": 0.5
             },
             "pattern": {
              "fillmode": "overlay",
              "size": 10,
              "solidity": 0.2
             }
            },
            "type": "bar"
           }
          ],
          "barpolar": [
           {
            "marker": {
             "line": {
              "color": "#E5ECF6",
              "width": 0.5
             },
             "pattern": {
              "fillmode": "overlay",
              "size": 10,
              "solidity": 0.2
             }
            },
            "type": "barpolar"
           }
          ],
          "carpet": [
           {
            "aaxis": {
             "endlinecolor": "#2a3f5f",
             "gridcolor": "white",
             "linecolor": "white",
             "minorgridcolor": "white",
             "startlinecolor": "#2a3f5f"
            },
            "baxis": {
             "endlinecolor": "#2a3f5f",
             "gridcolor": "white",
             "linecolor": "white",
             "minorgridcolor": "white",
             "startlinecolor": "#2a3f5f"
            },
            "type": "carpet"
           }
          ],
          "choropleth": [
           {
            "colorbar": {
             "outlinewidth": 0,
             "ticks": ""
            },
            "type": "choropleth"
           }
          ],
          "contour": [
           {
            "colorbar": {
             "outlinewidth": 0,
             "ticks": ""
            },
            "colorscale": [
             [
              0,
              "#0d0887"
             ],
             [
              0.1111111111111111,
              "#46039f"
             ],
             [
              0.2222222222222222,
              "#7201a8"
             ],
             [
              0.3333333333333333,
              "#9c179e"
             ],
             [
              0.4444444444444444,
              "#bd3786"
             ],
             [
              0.5555555555555556,
              "#d8576b"
             ],
             [
              0.6666666666666666,
              "#ed7953"
             ],
             [
              0.7777777777777778,
              "#fb9f3a"
             ],
             [
              0.8888888888888888,
              "#fdca26"
             ],
             [
              1,
              "#f0f921"
             ]
            ],
            "type": "contour"
           }
          ],
          "contourcarpet": [
           {
            "colorbar": {
             "outlinewidth": 0,
             "ticks": ""
            },
            "type": "contourcarpet"
           }
          ],
          "heatmap": [
           {
            "colorbar": {
             "outlinewidth": 0,
             "ticks": ""
            },
            "colorscale": [
             [
              0,
              "#0d0887"
             ],
             [
              0.1111111111111111,
              "#46039f"
             ],
             [
              0.2222222222222222,
              "#7201a8"
             ],
             [
              0.3333333333333333,
              "#9c179e"
             ],
             [
              0.4444444444444444,
              "#bd3786"
             ],
             [
              0.5555555555555556,
              "#d8576b"
             ],
             [
              0.6666666666666666,
              "#ed7953"
             ],
             [
              0.7777777777777778,
              "#fb9f3a"
             ],
             [
              0.8888888888888888,
              "#fdca26"
             ],
             [
              1,
              "#f0f921"
             ]
            ],
            "type": "heatmap"
           }
          ],
          "histogram": [
           {
            "marker": {
             "pattern": {
              "fillmode": "overlay",
              "size": 10,
              "solidity": 0.2
             }
            },
            "type": "histogram"
           }
          ],
          "histogram2d": [
           {
            "colorbar": {
             "outlinewidth": 0,
             "ticks": ""
            },
            "colorscale": [
             [
              0,
              "#0d0887"
             ],
             [
              0.1111111111111111,
              "#46039f"
             ],
             [
              0.2222222222222222,
              "#7201a8"
             ],
             [
              0.3333333333333333,
              "#9c179e"
             ],
             [
              0.4444444444444444,
              "#bd3786"
             ],
             [
              0.5555555555555556,
              "#d8576b"
             ],
             [
              0.6666666666666666,
              "#ed7953"
             ],
             [
              0.7777777777777778,
              "#fb9f3a"
             ],
             [
              0.8888888888888888,
              "#fdca26"
             ],
             [
              1,
              "#f0f921"
             ]
            ],
            "type": "histogram2d"
           }
          ],
          "histogram2dcontour": [
           {
            "colorbar": {
             "outlinewidth": 0,
             "ticks": ""
            },
            "colorscale": [
             [
              0,
              "#0d0887"
             ],
             [
              0.1111111111111111,
              "#46039f"
             ],
             [
              0.2222222222222222,
              "#7201a8"
             ],
             [
              0.3333333333333333,
              "#9c179e"
             ],
             [
              0.4444444444444444,
              "#bd3786"
             ],
             [
              0.5555555555555556,
              "#d8576b"
             ],
             [
              0.6666666666666666,
              "#ed7953"
             ],
             [
              0.7777777777777778,
              "#fb9f3a"
             ],
             [
              0.8888888888888888,
              "#fdca26"
             ],
             [
              1,
              "#f0f921"
             ]
            ],
            "type": "histogram2dcontour"
           }
          ],
          "mesh3d": [
           {
            "colorbar": {
             "outlinewidth": 0,
             "ticks": ""
            },
            "type": "mesh3d"
           }
          ],
          "parcoords": [
           {
            "line": {
             "colorbar": {
              "outlinewidth": 0,
              "ticks": ""
             }
            },
            "type": "parcoords"
           }
          ],
          "pie": [
           {
            "automargin": true,
            "type": "pie"
           }
          ],
          "scatter": [
           {
            "fillpattern": {
             "fillmode": "overlay",
             "size": 10,
             "solidity": 0.2
            },
            "type": "scatter"
           }
          ],
          "scatter3d": [
           {
            "line": {
             "colorbar": {
              "outlinewidth": 0,
              "ticks": ""
             }
            },
            "marker": {
             "colorbar": {
              "outlinewidth": 0,
              "ticks": ""
             }
            },
            "type": "scatter3d"
           }
          ],
          "scattercarpet": [
           {
            "marker": {
             "colorbar": {
              "outlinewidth": 0,
              "ticks": ""
             }
            },
            "type": "scattercarpet"
           }
          ],
          "scattergeo": [
           {
            "marker": {
             "colorbar": {
              "outlinewidth": 0,
              "ticks": ""
             }
            },
            "type": "scattergeo"
           }
          ],
          "scattergl": [
           {
            "marker": {
             "colorbar": {
              "outlinewidth": 0,
              "ticks": ""
             }
            },
            "type": "scattergl"
           }
          ],
          "scattermap": [
           {
            "marker": {
             "colorbar": {
              "outlinewidth": 0,
              "ticks": ""
             }
            },
            "type": "scattermap"
           }
          ],
          "scattermapbox": [
           {
            "marker": {
             "colorbar": {
              "outlinewidth": 0,
              "ticks": ""
             }
            },
            "type": "scattermapbox"
           }
          ],
          "scatterpolar": [
           {
            "marker": {
             "colorbar": {
              "outlinewidth": 0,
              "ticks": ""
             }
            },
            "type": "scatterpolar"
           }
          ],
          "scatterpolargl": [
           {
            "marker": {
             "colorbar": {
              "outlinewidth": 0,
              "ticks": ""
             }
            },
            "type": "scatterpolargl"
           }
          ],
          "scatterternary": [
           {
            "marker": {
             "colorbar": {
              "outlinewidth": 0,
              "ticks": ""
             }
            },
            "type": "scatterternary"
           }
          ],
          "surface": [
           {
            "colorbar": {
             "outlinewidth": 0,
             "ticks": ""
            },
            "colorscale": [
             [
              0,
              "#0d0887"
             ],
             [
              0.1111111111111111,
              "#46039f"
             ],
             [
              0.2222222222222222,
              "#7201a8"
             ],
             [
              0.3333333333333333,
              "#9c179e"
             ],
             [
              0.4444444444444444,
              "#bd3786"
             ],
             [
              0.5555555555555556,
              "#d8576b"
             ],
             [
              0.6666666666666666,
              "#ed7953"
             ],
             [
              0.7777777777777778,
              "#fb9f3a"
             ],
             [
              0.8888888888888888,
              "#fdca26"
             ],
             [
              1,
              "#f0f921"
             ]
            ],
            "type": "surface"
           }
          ],
          "table": [
           {
            "cells": {
             "fill": {
              "color": "#EBF0F8"
             },
             "line": {
              "color": "white"
             }
            },
            "header": {
             "fill": {
              "color": "#C8D4E3"
             },
             "line": {
              "color": "white"
             }
            },
            "type": "table"
           }
          ]
         },
         "layout": {
          "annotationdefaults": {
           "arrowcolor": "#2a3f5f",
           "arrowhead": 0,
           "arrowwidth": 1
          },
          "autotypenumbers": "strict",
          "coloraxis": {
           "colorbar": {
            "outlinewidth": 0,
            "ticks": ""
           }
          },
          "colorscale": {
           "diverging": [
            [
             0,
             "#8e0152"
            ],
            [
             0.1,
             "#c51b7d"
            ],
            [
             0.2,
             "#de77ae"
            ],
            [
             0.3,
             "#f1b6da"
            ],
            [
             0.4,
             "#fde0ef"
            ],
            [
             0.5,
             "#f7f7f7"
            ],
            [
             0.6,
             "#e6f5d0"
            ],
            [
             0.7,
             "#b8e186"
            ],
            [
             0.8,
             "#7fbc41"
            ],
            [
             0.9,
             "#4d9221"
            ],
            [
             1,
             "#276419"
            ]
           ],
           "sequential": [
            [
             0,
             "#0d0887"
            ],
            [
             0.1111111111111111,
             "#46039f"
            ],
            [
             0.2222222222222222,
             "#7201a8"
            ],
            [
             0.3333333333333333,
             "#9c179e"
            ],
            [
             0.4444444444444444,
             "#bd3786"
            ],
            [
             0.5555555555555556,
             "#d8576b"
            ],
            [
             0.6666666666666666,
             "#ed7953"
            ],
            [
             0.7777777777777778,
             "#fb9f3a"
            ],
            [
             0.8888888888888888,
             "#fdca26"
            ],
            [
             1,
             "#f0f921"
            ]
           ],
           "sequentialminus": [
            [
             0,
             "#0d0887"
            ],
            [
             0.1111111111111111,
             "#46039f"
            ],
            [
             0.2222222222222222,
             "#7201a8"
            ],
            [
             0.3333333333333333,
             "#9c179e"
            ],
            [
             0.4444444444444444,
             "#bd3786"
            ],
            [
             0.5555555555555556,
             "#d8576b"
            ],
            [
             0.6666666666666666,
             "#ed7953"
            ],
            [
             0.7777777777777778,
             "#fb9f3a"
            ],
            [
             0.8888888888888888,
             "#fdca26"
            ],
            [
             1,
             "#f0f921"
            ]
           ]
          },
          "colorway": [
           "#636efa",
           "#EF553B",
           "#00cc96",
           "#ab63fa",
           "#FFA15A",
           "#19d3f3",
           "#FF6692",
           "#B6E880",
           "#FF97FF",
           "#FECB52"
          ],
          "font": {
           "color": "#2a3f5f"
          },
          "geo": {
           "bgcolor": "white",
           "lakecolor": "white",
           "landcolor": "#E5ECF6",
           "showlakes": true,
           "showland": true,
           "subunitcolor": "white"
          },
          "hoverlabel": {
           "align": "left"
          },
          "hovermode": "closest",
          "mapbox": {
           "style": "light"
          },
          "paper_bgcolor": "white",
          "plot_bgcolor": "#E5ECF6",
          "polar": {
           "angularaxis": {
            "gridcolor": "white",
            "linecolor": "white",
            "ticks": ""
           },
           "bgcolor": "#E5ECF6",
           "radialaxis": {
            "gridcolor": "white",
            "linecolor": "white",
            "ticks": ""
           }
          },
          "scene": {
           "xaxis": {
            "backgroundcolor": "#E5ECF6",
            "gridcolor": "white",
            "gridwidth": 2,
            "linecolor": "white",
            "showbackground": true,
            "ticks": "",
            "zerolinecolor": "white"
           },
           "yaxis": {
            "backgroundcolor": "#E5ECF6",
            "gridcolor": "white",
            "gridwidth": 2,
            "linecolor": "white",
            "showbackground": true,
            "ticks": "",
            "zerolinecolor": "white"
           },
           "zaxis": {
            "backgroundcolor": "#E5ECF6",
            "gridcolor": "white",
            "gridwidth": 2,
            "linecolor": "white",
            "showbackground": true,
            "ticks": "",
            "zerolinecolor": "white"
           }
          },
          "shapedefaults": {
           "line": {
            "color": "#2a3f5f"
           }
          },
          "ternary": {
           "aaxis": {
            "gridcolor": "white",
            "linecolor": "white",
            "ticks": ""
           },
           "baxis": {
            "gridcolor": "white",
            "linecolor": "white",
            "ticks": ""
           },
           "bgcolor": "#E5ECF6",
           "caxis": {
            "gridcolor": "white",
            "linecolor": "white",
            "ticks": ""
           }
          },
          "title": {
           "x": 0.05
          },
          "xaxis": {
           "automargin": true,
           "gridcolor": "white",
           "linecolor": "white",
           "ticks": "",
           "title": {
            "standoff": 15
           },
           "zerolinecolor": "white",
           "zerolinewidth": 2
          },
          "yaxis": {
           "automargin": true,
           "gridcolor": "white",
           "linecolor": "white",
           "ticks": "",
           "title": {
            "standoff": 15
           },
           "zerolinecolor": "white",
           "zerolinewidth": 2
          }
         }
        },
        "title": {
         "text": "Florida: 3D Scatter Plot of All AQI Pollutants"
        }
       }
      }
     },
     "metadata": {},
     "output_type": "display_data"
    }
   ],
   "source": [
    "# Interactive 3D scatter plot for California: All AQI\n",
    "import plotly.express as px\n",
    "df_ca = df[df['State'] == 'California']\n",
    "fig_ca = px.scatter_3d(\n",
    "    df_ca,\n",
    "    x=\"NO2 AQI\",\n",
    "    y=\"O3 AQI\",\n",
    "    z=\"SO2 AQI\",\n",
    "    color=\"CO AQI\",\n",
    "    size=\"CO AQI\",\n",
    "    hover_data=[\"Address\", \"City\", \"County\", \"Date\"],\n",
    "    title=\"California: 3D Scatter Plot of All AQI\"\n",
    " )\n",
    "fig_ca.update_layout(\n",
    "    margin=dict(l=0, r=0, b=0, t=40),\n",
    "    scene_dragmode='orbit',\n",
    "    scene={\n",
    "        'xaxis': {'title': 'NO2 AQI', 'range': [df_ca['NO2 AQI'].min(), df_ca['NO2 AQI'].max()]},\n",
    "        'yaxis': {'title': 'O3 AQI', 'range': [df_ca['O3 AQI'].min(), df_ca['O3 AQI'].max()]},\n",
    "        'zaxis': {'title': 'SO2 AQI', 'range': [df_ca['SO2 AQI'].min(), df_ca['SO2 AQI'].max()]},\n",
    "        'camera': {'eye': {'x': 1.5, 'y': 1.5, 'z': 1.5}}\n",
    "    }\n",
    " )\n",
    "fig_ca.show()\n",
    "\n",
    "# Interactive 3D scatter plot for Florida: All AQI\n",
    "df_fl = df[df['State'] == 'Florida']\n",
    "fig_fl = px.scatter_3d(\n",
    "    df_fl,\n",
    "    x=\"NO2 AQI\",\n",
    "    y=\"O3 AQI\",\n",
    "    z=\"SO2 AQI\",\n",
    "    color=\"CO AQI\",\n",
    "    size=\"CO AQI\",\n",
    "    hover_data=[\"Address\", \"City\", \"County\", \"Date\"],\n",
    "    title=\"Florida: 3D Scatter Plot of All AQI\"\n",
    " )\n",
    "fig_fl.update_layout(margin=dict(l=0, r=0, b=0, t=40), scene_dragmode='orbit')\n",
    "fig_fl.show()"
   ]
  },
  {
   "cell_type": "markdown",
   "id": "3f48ef8e",
   "metadata": {},
   "source": [
    "The Plotly scatter plots about allow us to gauge air quality indidecs of different locations (sites) across different dates. We look to observe AQI pollutants for California and Florida, using NO2 AQI, O3 AQI, SO2 AQI as axes, CO AQI as color, and CO AQI as size.\n",
    "\n",
    "With these graphs, we can better determine on which sepcifc dates was a particular index value served at a location, which may give us further insights into the pollution levels at there particular area and their main pollutants. "
   ]
  },
  {
   "cell_type": "markdown",
   "id": "bcfa39b0",
   "metadata": {},
   "source": [
    "---\n",
    "---"
   ]
  },
  {
   "cell_type": "markdown",
   "id": "0d0a73f9",
   "metadata": {},
   "source": [
    "## Insights\n",
    "\n",
    "Here are a few insights from the notebook:\n",
    "\n",
    "* The air pollution visualisations allow us to determine which area faced highest levels of pollution from a particular pollutant.\n",
    "* 6 graphs were generated, each for each package/library.\n",
    "* Ranges were very varied, with some lying at 0 and others far beyond this."
   ]
  },
  {
   "cell_type": "markdown",
   "id": "2d4049fa",
   "metadata": {},
   "source": [
    "**NOTE**\n",
    "\n",
    "* The dataset allowed for a view of pollution across different dates and different locations, but was only applicable to the US.\n",
    "* Further there were skewered values that drew questions of whether or not the data was accurate due to potential entry error or sensor error, for instance."
   ]
  },
  {
   "cell_type": "markdown",
   "id": "4cd6d1eb",
   "metadata": {},
   "source": [
    "---"
   ]
  },
  {
   "cell_type": "markdown",
   "id": "207025fd",
   "metadata": {},
   "source": [
    "## Conclusion\n",
    "\n",
    "In conclusion, the dataset affords the opportunity to better deduce pollution levels across dfferent regions within a country to draw insights from these that may be applied in different settings, such as for research or medical purposes."
   ]
  }
 ],
 "metadata": {
  "kernelspec": {
   "display_name": "Python 3",
   "language": "python",
   "name": "python3"
  },
  "language_info": {
   "codemirror_mode": {
    "name": "ipython",
    "version": 3
   },
   "file_extension": ".py",
   "mimetype": "text/x-python",
   "name": "python",
   "nbconvert_exporter": "python",
   "pygments_lexer": "ipython3",
   "version": "3.12.8"
  }
 },
 "nbformat": 4,
 "nbformat_minor": 5
}
